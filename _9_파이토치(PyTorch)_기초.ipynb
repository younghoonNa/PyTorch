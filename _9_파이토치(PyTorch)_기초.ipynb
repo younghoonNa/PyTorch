{
  "nbformat": 4,
  "nbformat_minor": 0,
  "metadata": {
    "colab": {
      "name": "_9 파이토치(PyTorch) 기초.ipynb",
      "provenance": [],
      "collapsed_sections": []
    },
    "kernelspec": {
      "name": "python3",
      "display_name": "Python 3"
    },
    "accelerator": "GPU",
    "widgets": {
      "application/vnd.jupyter.widget-state+json": {
        "09f875f1f66f4928a8e3e2c80d7f2af6": {
          "model_module": "@jupyter-widgets/controls",
          "model_name": "HBoxModel",
          "model_module_version": "1.5.0",
          "state": {
            "_view_name": "HBoxView",
            "_dom_classes": [],
            "_model_name": "HBoxModel",
            "_view_module": "@jupyter-widgets/controls",
            "_model_module_version": "1.5.0",
            "_view_count": null,
            "_view_module_version": "1.5.0",
            "box_style": "",
            "layout": "IPY_MODEL_f169e0f11e59425ba0f50998eb6f71a2",
            "_model_module": "@jupyter-widgets/controls",
            "children": [
              "IPY_MODEL_debc7cc06dc7426593c70e68d0f1eacc",
              "IPY_MODEL_c23c664f070d4433826d71e458da1fce",
              "IPY_MODEL_38545048d9734583ade4afcb927da586"
            ]
          }
        },
        "f169e0f11e59425ba0f50998eb6f71a2": {
          "model_module": "@jupyter-widgets/base",
          "model_name": "LayoutModel",
          "model_module_version": "1.2.0",
          "state": {
            "_view_name": "LayoutView",
            "grid_template_rows": null,
            "right": null,
            "justify_content": null,
            "_view_module": "@jupyter-widgets/base",
            "overflow": null,
            "_model_module_version": "1.2.0",
            "_view_count": null,
            "flex_flow": null,
            "width": null,
            "min_width": null,
            "border": null,
            "align_items": null,
            "bottom": null,
            "_model_module": "@jupyter-widgets/base",
            "top": null,
            "grid_column": null,
            "overflow_y": null,
            "overflow_x": null,
            "grid_auto_flow": null,
            "grid_area": null,
            "grid_template_columns": null,
            "flex": null,
            "_model_name": "LayoutModel",
            "justify_items": null,
            "grid_row": null,
            "max_height": null,
            "align_content": null,
            "visibility": null,
            "align_self": null,
            "height": null,
            "min_height": null,
            "padding": null,
            "grid_auto_rows": null,
            "grid_gap": null,
            "max_width": null,
            "order": null,
            "_view_module_version": "1.2.0",
            "grid_template_areas": null,
            "object_position": null,
            "object_fit": null,
            "grid_auto_columns": null,
            "margin": null,
            "display": null,
            "left": null
          }
        },
        "debc7cc06dc7426593c70e68d0f1eacc": {
          "model_module": "@jupyter-widgets/controls",
          "model_name": "HTMLModel",
          "model_module_version": "1.5.0",
          "state": {
            "_view_name": "HTMLView",
            "style": "IPY_MODEL_b46abcb6ef5342c7a965f70a6b133dd6",
            "_dom_classes": [],
            "description": "",
            "_model_name": "HTMLModel",
            "placeholder": "​",
            "_view_module": "@jupyter-widgets/controls",
            "_model_module_version": "1.5.0",
            "value": "",
            "_view_count": null,
            "_view_module_version": "1.5.0",
            "description_tooltip": null,
            "_model_module": "@jupyter-widgets/controls",
            "layout": "IPY_MODEL_92c883a8900b48dbb0acf4e495c559bd"
          }
        },
        "c23c664f070d4433826d71e458da1fce": {
          "model_module": "@jupyter-widgets/controls",
          "model_name": "FloatProgressModel",
          "model_module_version": "1.5.0",
          "state": {
            "_view_name": "ProgressView",
            "style": "IPY_MODEL_199d833adb0c451585f09a4b2428c1ed",
            "_dom_classes": [],
            "description": "",
            "_model_name": "FloatProgressModel",
            "bar_style": "success",
            "max": 9912422,
            "_view_module": "@jupyter-widgets/controls",
            "_model_module_version": "1.5.0",
            "value": 9912422,
            "_view_count": null,
            "_view_module_version": "1.5.0",
            "orientation": "horizontal",
            "min": 0,
            "description_tooltip": null,
            "_model_module": "@jupyter-widgets/controls",
            "layout": "IPY_MODEL_636f0744b20c4a66ab20df7015b0653c"
          }
        },
        "38545048d9734583ade4afcb927da586": {
          "model_module": "@jupyter-widgets/controls",
          "model_name": "HTMLModel",
          "model_module_version": "1.5.0",
          "state": {
            "_view_name": "HTMLView",
            "style": "IPY_MODEL_1be63a17bb9a4ad2b2ccdd9ea38b91bc",
            "_dom_classes": [],
            "description": "",
            "_model_name": "HTMLModel",
            "placeholder": "​",
            "_view_module": "@jupyter-widgets/controls",
            "_model_module_version": "1.5.0",
            "value": " 9913344/? [00:00&lt;00:00, 35963686.63it/s]",
            "_view_count": null,
            "_view_module_version": "1.5.0",
            "description_tooltip": null,
            "_model_module": "@jupyter-widgets/controls",
            "layout": "IPY_MODEL_ae1077b5305946c887ed69c010bed0bc"
          }
        },
        "b46abcb6ef5342c7a965f70a6b133dd6": {
          "model_module": "@jupyter-widgets/controls",
          "model_name": "DescriptionStyleModel",
          "model_module_version": "1.5.0",
          "state": {
            "_view_name": "StyleView",
            "_model_name": "DescriptionStyleModel",
            "description_width": "",
            "_view_module": "@jupyter-widgets/base",
            "_model_module_version": "1.5.0",
            "_view_count": null,
            "_view_module_version": "1.2.0",
            "_model_module": "@jupyter-widgets/controls"
          }
        },
        "92c883a8900b48dbb0acf4e495c559bd": {
          "model_module": "@jupyter-widgets/base",
          "model_name": "LayoutModel",
          "model_module_version": "1.2.0",
          "state": {
            "_view_name": "LayoutView",
            "grid_template_rows": null,
            "right": null,
            "justify_content": null,
            "_view_module": "@jupyter-widgets/base",
            "overflow": null,
            "_model_module_version": "1.2.0",
            "_view_count": null,
            "flex_flow": null,
            "width": null,
            "min_width": null,
            "border": null,
            "align_items": null,
            "bottom": null,
            "_model_module": "@jupyter-widgets/base",
            "top": null,
            "grid_column": null,
            "overflow_y": null,
            "overflow_x": null,
            "grid_auto_flow": null,
            "grid_area": null,
            "grid_template_columns": null,
            "flex": null,
            "_model_name": "LayoutModel",
            "justify_items": null,
            "grid_row": null,
            "max_height": null,
            "align_content": null,
            "visibility": null,
            "align_self": null,
            "height": null,
            "min_height": null,
            "padding": null,
            "grid_auto_rows": null,
            "grid_gap": null,
            "max_width": null,
            "order": null,
            "_view_module_version": "1.2.0",
            "grid_template_areas": null,
            "object_position": null,
            "object_fit": null,
            "grid_auto_columns": null,
            "margin": null,
            "display": null,
            "left": null
          }
        },
        "199d833adb0c451585f09a4b2428c1ed": {
          "model_module": "@jupyter-widgets/controls",
          "model_name": "ProgressStyleModel",
          "model_module_version": "1.5.0",
          "state": {
            "_view_name": "StyleView",
            "_model_name": "ProgressStyleModel",
            "description_width": "",
            "_view_module": "@jupyter-widgets/base",
            "_model_module_version": "1.5.0",
            "_view_count": null,
            "_view_module_version": "1.2.0",
            "bar_color": null,
            "_model_module": "@jupyter-widgets/controls"
          }
        },
        "636f0744b20c4a66ab20df7015b0653c": {
          "model_module": "@jupyter-widgets/base",
          "model_name": "LayoutModel",
          "model_module_version": "1.2.0",
          "state": {
            "_view_name": "LayoutView",
            "grid_template_rows": null,
            "right": null,
            "justify_content": null,
            "_view_module": "@jupyter-widgets/base",
            "overflow": null,
            "_model_module_version": "1.2.0",
            "_view_count": null,
            "flex_flow": null,
            "width": null,
            "min_width": null,
            "border": null,
            "align_items": null,
            "bottom": null,
            "_model_module": "@jupyter-widgets/base",
            "top": null,
            "grid_column": null,
            "overflow_y": null,
            "overflow_x": null,
            "grid_auto_flow": null,
            "grid_area": null,
            "grid_template_columns": null,
            "flex": null,
            "_model_name": "LayoutModel",
            "justify_items": null,
            "grid_row": null,
            "max_height": null,
            "align_content": null,
            "visibility": null,
            "align_self": null,
            "height": null,
            "min_height": null,
            "padding": null,
            "grid_auto_rows": null,
            "grid_gap": null,
            "max_width": null,
            "order": null,
            "_view_module_version": "1.2.0",
            "grid_template_areas": null,
            "object_position": null,
            "object_fit": null,
            "grid_auto_columns": null,
            "margin": null,
            "display": null,
            "left": null
          }
        },
        "1be63a17bb9a4ad2b2ccdd9ea38b91bc": {
          "model_module": "@jupyter-widgets/controls",
          "model_name": "DescriptionStyleModel",
          "model_module_version": "1.5.0",
          "state": {
            "_view_name": "StyleView",
            "_model_name": "DescriptionStyleModel",
            "description_width": "",
            "_view_module": "@jupyter-widgets/base",
            "_model_module_version": "1.5.0",
            "_view_count": null,
            "_view_module_version": "1.2.0",
            "_model_module": "@jupyter-widgets/controls"
          }
        },
        "ae1077b5305946c887ed69c010bed0bc": {
          "model_module": "@jupyter-widgets/base",
          "model_name": "LayoutModel",
          "model_module_version": "1.2.0",
          "state": {
            "_view_name": "LayoutView",
            "grid_template_rows": null,
            "right": null,
            "justify_content": null,
            "_view_module": "@jupyter-widgets/base",
            "overflow": null,
            "_model_module_version": "1.2.0",
            "_view_count": null,
            "flex_flow": null,
            "width": null,
            "min_width": null,
            "border": null,
            "align_items": null,
            "bottom": null,
            "_model_module": "@jupyter-widgets/base",
            "top": null,
            "grid_column": null,
            "overflow_y": null,
            "overflow_x": null,
            "grid_auto_flow": null,
            "grid_area": null,
            "grid_template_columns": null,
            "flex": null,
            "_model_name": "LayoutModel",
            "justify_items": null,
            "grid_row": null,
            "max_height": null,
            "align_content": null,
            "visibility": null,
            "align_self": null,
            "height": null,
            "min_height": null,
            "padding": null,
            "grid_auto_rows": null,
            "grid_gap": null,
            "max_width": null,
            "order": null,
            "_view_module_version": "1.2.0",
            "grid_template_areas": null,
            "object_position": null,
            "object_fit": null,
            "grid_auto_columns": null,
            "margin": null,
            "display": null,
            "left": null
          }
        },
        "7f6b8a0090f544eeb7ce655f864a17be": {
          "model_module": "@jupyter-widgets/controls",
          "model_name": "HBoxModel",
          "model_module_version": "1.5.0",
          "state": {
            "_view_name": "HBoxView",
            "_dom_classes": [],
            "_model_name": "HBoxModel",
            "_view_module": "@jupyter-widgets/controls",
            "_model_module_version": "1.5.0",
            "_view_count": null,
            "_view_module_version": "1.5.0",
            "box_style": "",
            "layout": "IPY_MODEL_859e895bb628488a94fe744e3cce2200",
            "_model_module": "@jupyter-widgets/controls",
            "children": [
              "IPY_MODEL_85380c64b2854f8c9d6cd7a06c4ef92b",
              "IPY_MODEL_c367e5e704ed41b884d854614c31cc56",
              "IPY_MODEL_ee61b842f34f41fab271bd1d9be4f8e0"
            ]
          }
        },
        "859e895bb628488a94fe744e3cce2200": {
          "model_module": "@jupyter-widgets/base",
          "model_name": "LayoutModel",
          "model_module_version": "1.2.0",
          "state": {
            "_view_name": "LayoutView",
            "grid_template_rows": null,
            "right": null,
            "justify_content": null,
            "_view_module": "@jupyter-widgets/base",
            "overflow": null,
            "_model_module_version": "1.2.0",
            "_view_count": null,
            "flex_flow": null,
            "width": null,
            "min_width": null,
            "border": null,
            "align_items": null,
            "bottom": null,
            "_model_module": "@jupyter-widgets/base",
            "top": null,
            "grid_column": null,
            "overflow_y": null,
            "overflow_x": null,
            "grid_auto_flow": null,
            "grid_area": null,
            "grid_template_columns": null,
            "flex": null,
            "_model_name": "LayoutModel",
            "justify_items": null,
            "grid_row": null,
            "max_height": null,
            "align_content": null,
            "visibility": null,
            "align_self": null,
            "height": null,
            "min_height": null,
            "padding": null,
            "grid_auto_rows": null,
            "grid_gap": null,
            "max_width": null,
            "order": null,
            "_view_module_version": "1.2.0",
            "grid_template_areas": null,
            "object_position": null,
            "object_fit": null,
            "grid_auto_columns": null,
            "margin": null,
            "display": null,
            "left": null
          }
        },
        "85380c64b2854f8c9d6cd7a06c4ef92b": {
          "model_module": "@jupyter-widgets/controls",
          "model_name": "HTMLModel",
          "model_module_version": "1.5.0",
          "state": {
            "_view_name": "HTMLView",
            "style": "IPY_MODEL_42d6069d312348bbbb6b04baefc80da6",
            "_dom_classes": [],
            "description": "",
            "_model_name": "HTMLModel",
            "placeholder": "​",
            "_view_module": "@jupyter-widgets/controls",
            "_model_module_version": "1.5.0",
            "value": "",
            "_view_count": null,
            "_view_module_version": "1.5.0",
            "description_tooltip": null,
            "_model_module": "@jupyter-widgets/controls",
            "layout": "IPY_MODEL_8d9df57b0af0434295f55bdd50b7b84b"
          }
        },
        "c367e5e704ed41b884d854614c31cc56": {
          "model_module": "@jupyter-widgets/controls",
          "model_name": "FloatProgressModel",
          "model_module_version": "1.5.0",
          "state": {
            "_view_name": "ProgressView",
            "style": "IPY_MODEL_1dd8d3dc01e74d3e9ac31be02f07301d",
            "_dom_classes": [],
            "description": "",
            "_model_name": "FloatProgressModel",
            "bar_style": "success",
            "max": 28881,
            "_view_module": "@jupyter-widgets/controls",
            "_model_module_version": "1.5.0",
            "value": 28881,
            "_view_count": null,
            "_view_module_version": "1.5.0",
            "orientation": "horizontal",
            "min": 0,
            "description_tooltip": null,
            "_model_module": "@jupyter-widgets/controls",
            "layout": "IPY_MODEL_4b5e7b5f17e7403d83f903aa3414d0b1"
          }
        },
        "ee61b842f34f41fab271bd1d9be4f8e0": {
          "model_module": "@jupyter-widgets/controls",
          "model_name": "HTMLModel",
          "model_module_version": "1.5.0",
          "state": {
            "_view_name": "HTMLView",
            "style": "IPY_MODEL_9ab06fc136144a35bb075d737ad66f51",
            "_dom_classes": [],
            "description": "",
            "_model_name": "HTMLModel",
            "placeholder": "​",
            "_view_module": "@jupyter-widgets/controls",
            "_model_module_version": "1.5.0",
            "value": " 29696/? [00:00&lt;00:00, 779451.75it/s]",
            "_view_count": null,
            "_view_module_version": "1.5.0",
            "description_tooltip": null,
            "_model_module": "@jupyter-widgets/controls",
            "layout": "IPY_MODEL_fc3044e801d347f4af5388c88478e2f9"
          }
        },
        "42d6069d312348bbbb6b04baefc80da6": {
          "model_module": "@jupyter-widgets/controls",
          "model_name": "DescriptionStyleModel",
          "model_module_version": "1.5.0",
          "state": {
            "_view_name": "StyleView",
            "_model_name": "DescriptionStyleModel",
            "description_width": "",
            "_view_module": "@jupyter-widgets/base",
            "_model_module_version": "1.5.0",
            "_view_count": null,
            "_view_module_version": "1.2.0",
            "_model_module": "@jupyter-widgets/controls"
          }
        },
        "8d9df57b0af0434295f55bdd50b7b84b": {
          "model_module": "@jupyter-widgets/base",
          "model_name": "LayoutModel",
          "model_module_version": "1.2.0",
          "state": {
            "_view_name": "LayoutView",
            "grid_template_rows": null,
            "right": null,
            "justify_content": null,
            "_view_module": "@jupyter-widgets/base",
            "overflow": null,
            "_model_module_version": "1.2.0",
            "_view_count": null,
            "flex_flow": null,
            "width": null,
            "min_width": null,
            "border": null,
            "align_items": null,
            "bottom": null,
            "_model_module": "@jupyter-widgets/base",
            "top": null,
            "grid_column": null,
            "overflow_y": null,
            "overflow_x": null,
            "grid_auto_flow": null,
            "grid_area": null,
            "grid_template_columns": null,
            "flex": null,
            "_model_name": "LayoutModel",
            "justify_items": null,
            "grid_row": null,
            "max_height": null,
            "align_content": null,
            "visibility": null,
            "align_self": null,
            "height": null,
            "min_height": null,
            "padding": null,
            "grid_auto_rows": null,
            "grid_gap": null,
            "max_width": null,
            "order": null,
            "_view_module_version": "1.2.0",
            "grid_template_areas": null,
            "object_position": null,
            "object_fit": null,
            "grid_auto_columns": null,
            "margin": null,
            "display": null,
            "left": null
          }
        },
        "1dd8d3dc01e74d3e9ac31be02f07301d": {
          "model_module": "@jupyter-widgets/controls",
          "model_name": "ProgressStyleModel",
          "model_module_version": "1.5.0",
          "state": {
            "_view_name": "StyleView",
            "_model_name": "ProgressStyleModel",
            "description_width": "",
            "_view_module": "@jupyter-widgets/base",
            "_model_module_version": "1.5.0",
            "_view_count": null,
            "_view_module_version": "1.2.0",
            "bar_color": null,
            "_model_module": "@jupyter-widgets/controls"
          }
        },
        "4b5e7b5f17e7403d83f903aa3414d0b1": {
          "model_module": "@jupyter-widgets/base",
          "model_name": "LayoutModel",
          "model_module_version": "1.2.0",
          "state": {
            "_view_name": "LayoutView",
            "grid_template_rows": null,
            "right": null,
            "justify_content": null,
            "_view_module": "@jupyter-widgets/base",
            "overflow": null,
            "_model_module_version": "1.2.0",
            "_view_count": null,
            "flex_flow": null,
            "width": null,
            "min_width": null,
            "border": null,
            "align_items": null,
            "bottom": null,
            "_model_module": "@jupyter-widgets/base",
            "top": null,
            "grid_column": null,
            "overflow_y": null,
            "overflow_x": null,
            "grid_auto_flow": null,
            "grid_area": null,
            "grid_template_columns": null,
            "flex": null,
            "_model_name": "LayoutModel",
            "justify_items": null,
            "grid_row": null,
            "max_height": null,
            "align_content": null,
            "visibility": null,
            "align_self": null,
            "height": null,
            "min_height": null,
            "padding": null,
            "grid_auto_rows": null,
            "grid_gap": null,
            "max_width": null,
            "order": null,
            "_view_module_version": "1.2.0",
            "grid_template_areas": null,
            "object_position": null,
            "object_fit": null,
            "grid_auto_columns": null,
            "margin": null,
            "display": null,
            "left": null
          }
        },
        "9ab06fc136144a35bb075d737ad66f51": {
          "model_module": "@jupyter-widgets/controls",
          "model_name": "DescriptionStyleModel",
          "model_module_version": "1.5.0",
          "state": {
            "_view_name": "StyleView",
            "_model_name": "DescriptionStyleModel",
            "description_width": "",
            "_view_module": "@jupyter-widgets/base",
            "_model_module_version": "1.5.0",
            "_view_count": null,
            "_view_module_version": "1.2.0",
            "_model_module": "@jupyter-widgets/controls"
          }
        },
        "fc3044e801d347f4af5388c88478e2f9": {
          "model_module": "@jupyter-widgets/base",
          "model_name": "LayoutModel",
          "model_module_version": "1.2.0",
          "state": {
            "_view_name": "LayoutView",
            "grid_template_rows": null,
            "right": null,
            "justify_content": null,
            "_view_module": "@jupyter-widgets/base",
            "overflow": null,
            "_model_module_version": "1.2.0",
            "_view_count": null,
            "flex_flow": null,
            "width": null,
            "min_width": null,
            "border": null,
            "align_items": null,
            "bottom": null,
            "_model_module": "@jupyter-widgets/base",
            "top": null,
            "grid_column": null,
            "overflow_y": null,
            "overflow_x": null,
            "grid_auto_flow": null,
            "grid_area": null,
            "grid_template_columns": null,
            "flex": null,
            "_model_name": "LayoutModel",
            "justify_items": null,
            "grid_row": null,
            "max_height": null,
            "align_content": null,
            "visibility": null,
            "align_self": null,
            "height": null,
            "min_height": null,
            "padding": null,
            "grid_auto_rows": null,
            "grid_gap": null,
            "max_width": null,
            "order": null,
            "_view_module_version": "1.2.0",
            "grid_template_areas": null,
            "object_position": null,
            "object_fit": null,
            "grid_auto_columns": null,
            "margin": null,
            "display": null,
            "left": null
          }
        },
        "400f85c07727425baa02f5e6098b71ef": {
          "model_module": "@jupyter-widgets/controls",
          "model_name": "HBoxModel",
          "model_module_version": "1.5.0",
          "state": {
            "_view_name": "HBoxView",
            "_dom_classes": [],
            "_model_name": "HBoxModel",
            "_view_module": "@jupyter-widgets/controls",
            "_model_module_version": "1.5.0",
            "_view_count": null,
            "_view_module_version": "1.5.0",
            "box_style": "",
            "layout": "IPY_MODEL_64511aac07994f90903603e098902fe3",
            "_model_module": "@jupyter-widgets/controls",
            "children": [
              "IPY_MODEL_eaebb86d7ed24803aa6685592046f216",
              "IPY_MODEL_f3e08b3afc4144f48c83ab45787d53c2",
              "IPY_MODEL_42ebd41cd404446cb7e5b0b34c997180"
            ]
          }
        },
        "64511aac07994f90903603e098902fe3": {
          "model_module": "@jupyter-widgets/base",
          "model_name": "LayoutModel",
          "model_module_version": "1.2.0",
          "state": {
            "_view_name": "LayoutView",
            "grid_template_rows": null,
            "right": null,
            "justify_content": null,
            "_view_module": "@jupyter-widgets/base",
            "overflow": null,
            "_model_module_version": "1.2.0",
            "_view_count": null,
            "flex_flow": null,
            "width": null,
            "min_width": null,
            "border": null,
            "align_items": null,
            "bottom": null,
            "_model_module": "@jupyter-widgets/base",
            "top": null,
            "grid_column": null,
            "overflow_y": null,
            "overflow_x": null,
            "grid_auto_flow": null,
            "grid_area": null,
            "grid_template_columns": null,
            "flex": null,
            "_model_name": "LayoutModel",
            "justify_items": null,
            "grid_row": null,
            "max_height": null,
            "align_content": null,
            "visibility": null,
            "align_self": null,
            "height": null,
            "min_height": null,
            "padding": null,
            "grid_auto_rows": null,
            "grid_gap": null,
            "max_width": null,
            "order": null,
            "_view_module_version": "1.2.0",
            "grid_template_areas": null,
            "object_position": null,
            "object_fit": null,
            "grid_auto_columns": null,
            "margin": null,
            "display": null,
            "left": null
          }
        },
        "eaebb86d7ed24803aa6685592046f216": {
          "model_module": "@jupyter-widgets/controls",
          "model_name": "HTMLModel",
          "model_module_version": "1.5.0",
          "state": {
            "_view_name": "HTMLView",
            "style": "IPY_MODEL_bc17b46c073c46e399c155ee9532ac0b",
            "_dom_classes": [],
            "description": "",
            "_model_name": "HTMLModel",
            "placeholder": "​",
            "_view_module": "@jupyter-widgets/controls",
            "_model_module_version": "1.5.0",
            "value": "",
            "_view_count": null,
            "_view_module_version": "1.5.0",
            "description_tooltip": null,
            "_model_module": "@jupyter-widgets/controls",
            "layout": "IPY_MODEL_5d815947d3154ebb98f65da9550d9dcc"
          }
        },
        "f3e08b3afc4144f48c83ab45787d53c2": {
          "model_module": "@jupyter-widgets/controls",
          "model_name": "FloatProgressModel",
          "model_module_version": "1.5.0",
          "state": {
            "_view_name": "ProgressView",
            "style": "IPY_MODEL_e0efdecbcf5243b99f5460a68ad0c30a",
            "_dom_classes": [],
            "description": "",
            "_model_name": "FloatProgressModel",
            "bar_style": "success",
            "max": 1648877,
            "_view_module": "@jupyter-widgets/controls",
            "_model_module_version": "1.5.0",
            "value": 1648877,
            "_view_count": null,
            "_view_module_version": "1.5.0",
            "orientation": "horizontal",
            "min": 0,
            "description_tooltip": null,
            "_model_module": "@jupyter-widgets/controls",
            "layout": "IPY_MODEL_5a9e8345fe0c461fb982913f9f46f1ad"
          }
        },
        "42ebd41cd404446cb7e5b0b34c997180": {
          "model_module": "@jupyter-widgets/controls",
          "model_name": "HTMLModel",
          "model_module_version": "1.5.0",
          "state": {
            "_view_name": "HTMLView",
            "style": "IPY_MODEL_9c098dac585b4a6f82dd0325263248d6",
            "_dom_classes": [],
            "description": "",
            "_model_name": "HTMLModel",
            "placeholder": "​",
            "_view_module": "@jupyter-widgets/controls",
            "_model_module_version": "1.5.0",
            "value": " 1649664/? [00:00&lt;00:00, 17052467.88it/s]",
            "_view_count": null,
            "_view_module_version": "1.5.0",
            "description_tooltip": null,
            "_model_module": "@jupyter-widgets/controls",
            "layout": "IPY_MODEL_bc07bd5e7d77413b9e04189178cd63e7"
          }
        },
        "bc17b46c073c46e399c155ee9532ac0b": {
          "model_module": "@jupyter-widgets/controls",
          "model_name": "DescriptionStyleModel",
          "model_module_version": "1.5.0",
          "state": {
            "_view_name": "StyleView",
            "_model_name": "DescriptionStyleModel",
            "description_width": "",
            "_view_module": "@jupyter-widgets/base",
            "_model_module_version": "1.5.0",
            "_view_count": null,
            "_view_module_version": "1.2.0",
            "_model_module": "@jupyter-widgets/controls"
          }
        },
        "5d815947d3154ebb98f65da9550d9dcc": {
          "model_module": "@jupyter-widgets/base",
          "model_name": "LayoutModel",
          "model_module_version": "1.2.0",
          "state": {
            "_view_name": "LayoutView",
            "grid_template_rows": null,
            "right": null,
            "justify_content": null,
            "_view_module": "@jupyter-widgets/base",
            "overflow": null,
            "_model_module_version": "1.2.0",
            "_view_count": null,
            "flex_flow": null,
            "width": null,
            "min_width": null,
            "border": null,
            "align_items": null,
            "bottom": null,
            "_model_module": "@jupyter-widgets/base",
            "top": null,
            "grid_column": null,
            "overflow_y": null,
            "overflow_x": null,
            "grid_auto_flow": null,
            "grid_area": null,
            "grid_template_columns": null,
            "flex": null,
            "_model_name": "LayoutModel",
            "justify_items": null,
            "grid_row": null,
            "max_height": null,
            "align_content": null,
            "visibility": null,
            "align_self": null,
            "height": null,
            "min_height": null,
            "padding": null,
            "grid_auto_rows": null,
            "grid_gap": null,
            "max_width": null,
            "order": null,
            "_view_module_version": "1.2.0",
            "grid_template_areas": null,
            "object_position": null,
            "object_fit": null,
            "grid_auto_columns": null,
            "margin": null,
            "display": null,
            "left": null
          }
        },
        "e0efdecbcf5243b99f5460a68ad0c30a": {
          "model_module": "@jupyter-widgets/controls",
          "model_name": "ProgressStyleModel",
          "model_module_version": "1.5.0",
          "state": {
            "_view_name": "StyleView",
            "_model_name": "ProgressStyleModel",
            "description_width": "",
            "_view_module": "@jupyter-widgets/base",
            "_model_module_version": "1.5.0",
            "_view_count": null,
            "_view_module_version": "1.2.0",
            "bar_color": null,
            "_model_module": "@jupyter-widgets/controls"
          }
        },
        "5a9e8345fe0c461fb982913f9f46f1ad": {
          "model_module": "@jupyter-widgets/base",
          "model_name": "LayoutModel",
          "model_module_version": "1.2.0",
          "state": {
            "_view_name": "LayoutView",
            "grid_template_rows": null,
            "right": null,
            "justify_content": null,
            "_view_module": "@jupyter-widgets/base",
            "overflow": null,
            "_model_module_version": "1.2.0",
            "_view_count": null,
            "flex_flow": null,
            "width": null,
            "min_width": null,
            "border": null,
            "align_items": null,
            "bottom": null,
            "_model_module": "@jupyter-widgets/base",
            "top": null,
            "grid_column": null,
            "overflow_y": null,
            "overflow_x": null,
            "grid_auto_flow": null,
            "grid_area": null,
            "grid_template_columns": null,
            "flex": null,
            "_model_name": "LayoutModel",
            "justify_items": null,
            "grid_row": null,
            "max_height": null,
            "align_content": null,
            "visibility": null,
            "align_self": null,
            "height": null,
            "min_height": null,
            "padding": null,
            "grid_auto_rows": null,
            "grid_gap": null,
            "max_width": null,
            "order": null,
            "_view_module_version": "1.2.0",
            "grid_template_areas": null,
            "object_position": null,
            "object_fit": null,
            "grid_auto_columns": null,
            "margin": null,
            "display": null,
            "left": null
          }
        },
        "9c098dac585b4a6f82dd0325263248d6": {
          "model_module": "@jupyter-widgets/controls",
          "model_name": "DescriptionStyleModel",
          "model_module_version": "1.5.0",
          "state": {
            "_view_name": "StyleView",
            "_model_name": "DescriptionStyleModel",
            "description_width": "",
            "_view_module": "@jupyter-widgets/base",
            "_model_module_version": "1.5.0",
            "_view_count": null,
            "_view_module_version": "1.2.0",
            "_model_module": "@jupyter-widgets/controls"
          }
        },
        "bc07bd5e7d77413b9e04189178cd63e7": {
          "model_module": "@jupyter-widgets/base",
          "model_name": "LayoutModel",
          "model_module_version": "1.2.0",
          "state": {
            "_view_name": "LayoutView",
            "grid_template_rows": null,
            "right": null,
            "justify_content": null,
            "_view_module": "@jupyter-widgets/base",
            "overflow": null,
            "_model_module_version": "1.2.0",
            "_view_count": null,
            "flex_flow": null,
            "width": null,
            "min_width": null,
            "border": null,
            "align_items": null,
            "bottom": null,
            "_model_module": "@jupyter-widgets/base",
            "top": null,
            "grid_column": null,
            "overflow_y": null,
            "overflow_x": null,
            "grid_auto_flow": null,
            "grid_area": null,
            "grid_template_columns": null,
            "flex": null,
            "_model_name": "LayoutModel",
            "justify_items": null,
            "grid_row": null,
            "max_height": null,
            "align_content": null,
            "visibility": null,
            "align_self": null,
            "height": null,
            "min_height": null,
            "padding": null,
            "grid_auto_rows": null,
            "grid_gap": null,
            "max_width": null,
            "order": null,
            "_view_module_version": "1.2.0",
            "grid_template_areas": null,
            "object_position": null,
            "object_fit": null,
            "grid_auto_columns": null,
            "margin": null,
            "display": null,
            "left": null
          }
        },
        "a68c1a52d3eb46cea87aa3611e15a9b6": {
          "model_module": "@jupyter-widgets/controls",
          "model_name": "HBoxModel",
          "model_module_version": "1.5.0",
          "state": {
            "_view_name": "HBoxView",
            "_dom_classes": [],
            "_model_name": "HBoxModel",
            "_view_module": "@jupyter-widgets/controls",
            "_model_module_version": "1.5.0",
            "_view_count": null,
            "_view_module_version": "1.5.0",
            "box_style": "",
            "layout": "IPY_MODEL_174fb4e596ae4b368609e57822263bc8",
            "_model_module": "@jupyter-widgets/controls",
            "children": [
              "IPY_MODEL_e58a740b15904bcdb27cd8767f98b2ff",
              "IPY_MODEL_9bcffda91779426f96b09a57fa46c7bb",
              "IPY_MODEL_28b00f962b6849ae95f8ebda89cca9ce"
            ]
          }
        },
        "174fb4e596ae4b368609e57822263bc8": {
          "model_module": "@jupyter-widgets/base",
          "model_name": "LayoutModel",
          "model_module_version": "1.2.0",
          "state": {
            "_view_name": "LayoutView",
            "grid_template_rows": null,
            "right": null,
            "justify_content": null,
            "_view_module": "@jupyter-widgets/base",
            "overflow": null,
            "_model_module_version": "1.2.0",
            "_view_count": null,
            "flex_flow": null,
            "width": null,
            "min_width": null,
            "border": null,
            "align_items": null,
            "bottom": null,
            "_model_module": "@jupyter-widgets/base",
            "top": null,
            "grid_column": null,
            "overflow_y": null,
            "overflow_x": null,
            "grid_auto_flow": null,
            "grid_area": null,
            "grid_template_columns": null,
            "flex": null,
            "_model_name": "LayoutModel",
            "justify_items": null,
            "grid_row": null,
            "max_height": null,
            "align_content": null,
            "visibility": null,
            "align_self": null,
            "height": null,
            "min_height": null,
            "padding": null,
            "grid_auto_rows": null,
            "grid_gap": null,
            "max_width": null,
            "order": null,
            "_view_module_version": "1.2.0",
            "grid_template_areas": null,
            "object_position": null,
            "object_fit": null,
            "grid_auto_columns": null,
            "margin": null,
            "display": null,
            "left": null
          }
        },
        "e58a740b15904bcdb27cd8767f98b2ff": {
          "model_module": "@jupyter-widgets/controls",
          "model_name": "HTMLModel",
          "model_module_version": "1.5.0",
          "state": {
            "_view_name": "HTMLView",
            "style": "IPY_MODEL_2f6f36735b4f4a8f9a44ebe22d3e656c",
            "_dom_classes": [],
            "description": "",
            "_model_name": "HTMLModel",
            "placeholder": "​",
            "_view_module": "@jupyter-widgets/controls",
            "_model_module_version": "1.5.0",
            "value": "",
            "_view_count": null,
            "_view_module_version": "1.5.0",
            "description_tooltip": null,
            "_model_module": "@jupyter-widgets/controls",
            "layout": "IPY_MODEL_73402c476b004b4c9b76395401ad8310"
          }
        },
        "9bcffda91779426f96b09a57fa46c7bb": {
          "model_module": "@jupyter-widgets/controls",
          "model_name": "FloatProgressModel",
          "model_module_version": "1.5.0",
          "state": {
            "_view_name": "ProgressView",
            "style": "IPY_MODEL_8d8253abe4e747f580e8522587a66bc6",
            "_dom_classes": [],
            "description": "",
            "_model_name": "FloatProgressModel",
            "bar_style": "success",
            "max": 4542,
            "_view_module": "@jupyter-widgets/controls",
            "_model_module_version": "1.5.0",
            "value": 4542,
            "_view_count": null,
            "_view_module_version": "1.5.0",
            "orientation": "horizontal",
            "min": 0,
            "description_tooltip": null,
            "_model_module": "@jupyter-widgets/controls",
            "layout": "IPY_MODEL_b7ce94b8903b4a81b6f4037ad531d736"
          }
        },
        "28b00f962b6849ae95f8ebda89cca9ce": {
          "model_module": "@jupyter-widgets/controls",
          "model_name": "HTMLModel",
          "model_module_version": "1.5.0",
          "state": {
            "_view_name": "HTMLView",
            "style": "IPY_MODEL_0531b2fc34b44213842a0ae946c89e6a",
            "_dom_classes": [],
            "description": "",
            "_model_name": "HTMLModel",
            "placeholder": "​",
            "_view_module": "@jupyter-widgets/controls",
            "_model_module_version": "1.5.0",
            "value": " 5120/? [00:00&lt;00:00, 63518.11it/s]",
            "_view_count": null,
            "_view_module_version": "1.5.0",
            "description_tooltip": null,
            "_model_module": "@jupyter-widgets/controls",
            "layout": "IPY_MODEL_3f925b76f6604b5297969509dab5519e"
          }
        },
        "2f6f36735b4f4a8f9a44ebe22d3e656c": {
          "model_module": "@jupyter-widgets/controls",
          "model_name": "DescriptionStyleModel",
          "model_module_version": "1.5.0",
          "state": {
            "_view_name": "StyleView",
            "_model_name": "DescriptionStyleModel",
            "description_width": "",
            "_view_module": "@jupyter-widgets/base",
            "_model_module_version": "1.5.0",
            "_view_count": null,
            "_view_module_version": "1.2.0",
            "_model_module": "@jupyter-widgets/controls"
          }
        },
        "73402c476b004b4c9b76395401ad8310": {
          "model_module": "@jupyter-widgets/base",
          "model_name": "LayoutModel",
          "model_module_version": "1.2.0",
          "state": {
            "_view_name": "LayoutView",
            "grid_template_rows": null,
            "right": null,
            "justify_content": null,
            "_view_module": "@jupyter-widgets/base",
            "overflow": null,
            "_model_module_version": "1.2.0",
            "_view_count": null,
            "flex_flow": null,
            "width": null,
            "min_width": null,
            "border": null,
            "align_items": null,
            "bottom": null,
            "_model_module": "@jupyter-widgets/base",
            "top": null,
            "grid_column": null,
            "overflow_y": null,
            "overflow_x": null,
            "grid_auto_flow": null,
            "grid_area": null,
            "grid_template_columns": null,
            "flex": null,
            "_model_name": "LayoutModel",
            "justify_items": null,
            "grid_row": null,
            "max_height": null,
            "align_content": null,
            "visibility": null,
            "align_self": null,
            "height": null,
            "min_height": null,
            "padding": null,
            "grid_auto_rows": null,
            "grid_gap": null,
            "max_width": null,
            "order": null,
            "_view_module_version": "1.2.0",
            "grid_template_areas": null,
            "object_position": null,
            "object_fit": null,
            "grid_auto_columns": null,
            "margin": null,
            "display": null,
            "left": null
          }
        },
        "8d8253abe4e747f580e8522587a66bc6": {
          "model_module": "@jupyter-widgets/controls",
          "model_name": "ProgressStyleModel",
          "model_module_version": "1.5.0",
          "state": {
            "_view_name": "StyleView",
            "_model_name": "ProgressStyleModel",
            "description_width": "",
            "_view_module": "@jupyter-widgets/base",
            "_model_module_version": "1.5.0",
            "_view_count": null,
            "_view_module_version": "1.2.0",
            "bar_color": null,
            "_model_module": "@jupyter-widgets/controls"
          }
        },
        "b7ce94b8903b4a81b6f4037ad531d736": {
          "model_module": "@jupyter-widgets/base",
          "model_name": "LayoutModel",
          "model_module_version": "1.2.0",
          "state": {
            "_view_name": "LayoutView",
            "grid_template_rows": null,
            "right": null,
            "justify_content": null,
            "_view_module": "@jupyter-widgets/base",
            "overflow": null,
            "_model_module_version": "1.2.0",
            "_view_count": null,
            "flex_flow": null,
            "width": null,
            "min_width": null,
            "border": null,
            "align_items": null,
            "bottom": null,
            "_model_module": "@jupyter-widgets/base",
            "top": null,
            "grid_column": null,
            "overflow_y": null,
            "overflow_x": null,
            "grid_auto_flow": null,
            "grid_area": null,
            "grid_template_columns": null,
            "flex": null,
            "_model_name": "LayoutModel",
            "justify_items": null,
            "grid_row": null,
            "max_height": null,
            "align_content": null,
            "visibility": null,
            "align_self": null,
            "height": null,
            "min_height": null,
            "padding": null,
            "grid_auto_rows": null,
            "grid_gap": null,
            "max_width": null,
            "order": null,
            "_view_module_version": "1.2.0",
            "grid_template_areas": null,
            "object_position": null,
            "object_fit": null,
            "grid_auto_columns": null,
            "margin": null,
            "display": null,
            "left": null
          }
        },
        "0531b2fc34b44213842a0ae946c89e6a": {
          "model_module": "@jupyter-widgets/controls",
          "model_name": "DescriptionStyleModel",
          "model_module_version": "1.5.0",
          "state": {
            "_view_name": "StyleView",
            "_model_name": "DescriptionStyleModel",
            "description_width": "",
            "_view_module": "@jupyter-widgets/base",
            "_model_module_version": "1.5.0",
            "_view_count": null,
            "_view_module_version": "1.2.0",
            "_model_module": "@jupyter-widgets/controls"
          }
        },
        "3f925b76f6604b5297969509dab5519e": {
          "model_module": "@jupyter-widgets/base",
          "model_name": "LayoutModel",
          "model_module_version": "1.2.0",
          "state": {
            "_view_name": "LayoutView",
            "grid_template_rows": null,
            "right": null,
            "justify_content": null,
            "_view_module": "@jupyter-widgets/base",
            "overflow": null,
            "_model_module_version": "1.2.0",
            "_view_count": null,
            "flex_flow": null,
            "width": null,
            "min_width": null,
            "border": null,
            "align_items": null,
            "bottom": null,
            "_model_module": "@jupyter-widgets/base",
            "top": null,
            "grid_column": null,
            "overflow_y": null,
            "overflow_x": null,
            "grid_auto_flow": null,
            "grid_area": null,
            "grid_template_columns": null,
            "flex": null,
            "_model_name": "LayoutModel",
            "justify_items": null,
            "grid_row": null,
            "max_height": null,
            "align_content": null,
            "visibility": null,
            "align_self": null,
            "height": null,
            "min_height": null,
            "padding": null,
            "grid_auto_rows": null,
            "grid_gap": null,
            "max_width": null,
            "order": null,
            "_view_module_version": "1.2.0",
            "grid_template_areas": null,
            "object_position": null,
            "object_fit": null,
            "grid_auto_columns": null,
            "margin": null,
            "display": null,
            "left": null
          }
        }
      }
    }
  },
  "cells": [
    {
      "cell_type": "markdown",
      "metadata": {
        "id": "f9Xx-jP92OgP"
      },
      "source": [
        "# 파이토치(PyTorch)\n",
        "\n",
        "<img src=\"https://img1.daumcdn.net/thumb/R800x0/?scode=mtistory2&fname=https%3A%2F%2Fblog.kakaocdn.net%2Fdn%2FbuUgoV%2FbtqwWZvcHHX%2Fd6XzIFBEfiuFb0UvyV4A50%2Fimg.jpg\" width=\"300\">\n",
        "\n",
        "- 코드 출처: https://pytorch.org/tutorials/"
      ]
    },
    {
      "cell_type": "markdown",
      "metadata": {
        "id": "3cxreguz2sL0"
      },
      "source": [
        "## 파이토치의 구성요소\n",
        "\n",
        "- `torch`: 텐서를 생성하는 라이브러리\n",
        "\n",
        "- `torch.autograd`: 자동미분 기능을 제공하는 라이브러리\n",
        "\n",
        "- `torch.nn`: 신경망을 생성하는 라이브러리\n",
        "\n",
        "- `torch.multiprocessing`: 병럴처리 기능을 제공하는 라이브러리\n",
        "\n",
        "- `torch.utils`: 데이터 조작 등 유틸리티 기능 제공\n",
        "\n",
        "- `torch.legacy`(./nn/.optim): Torch로부터 포팅해온 코드\n",
        "\n",
        "- `torch.onnx`: ONNX(Open Neural Network Exchange)\n",
        "\n",
        "  - 서로 다른 프레임워크 간의 모델을 공유할 때 사용"
      ]
    },
    {
      "cell_type": "markdown",
      "metadata": {
        "id": "gb5O_aSvtHvb"
      },
      "source": [
        "## 텐서(Tensors)\n",
        "- 넘파이(NumPy)의 ndarray와 유사\n",
        "\n",
        "- GPU를 사용한 연산 가속도 가능"
      ]
    },
    {
      "cell_type": "code",
      "metadata": {
        "id": "CmKIvnx0s8G6"
      },
      "source": [
        "import torch"
      ],
      "execution_count": 1,
      "outputs": []
    },
    {
      "cell_type": "code",
      "metadata": {
        "id": "49IHV-qJE5FI",
        "colab": {
          "base_uri": "https://localhost:8080/",
          "height": 36
        },
        "outputId": "1c4684f8-0564-4472-8386-5df714399348"
      },
      "source": [
        "torch.__version__"
      ],
      "execution_count": 2,
      "outputs": [
        {
          "output_type": "execute_result",
          "data": {
            "application/vnd.google.colaboratory.intrinsic+json": {
              "type": "string"
            },
            "text/plain": [
              "'1.10.0+cu111'"
            ]
          },
          "metadata": {},
          "execution_count": 2
        }
      ]
    },
    {
      "cell_type": "markdown",
      "metadata": {
        "id": "isUHVy-gtZeT"
      },
      "source": [
        "### 초기화 되지 않은 행렬 "
      ]
    },
    {
      "cell_type": "code",
      "metadata": {
        "id": "3PqY3cZatU0D",
        "colab": {
          "base_uri": "https://localhost:8080/"
        },
        "outputId": "fcaeea65-9081-4d54-92cb-49b78cccdb68"
      },
      "source": [
        "x = torch.empty(4,2)\n",
        "print(x)"
      ],
      "execution_count": 3,
      "outputs": [
        {
          "output_type": "stream",
          "name": "stdout",
          "text": [
            "tensor([[2.2785e-08, 3.0892e-41],\n",
            "        [3.3631e-44, 0.0000e+00],\n",
            "        [       nan, 3.0892e-41],\n",
            "        [1.1578e+27, 1.1362e+30]])\n"
          ]
        }
      ]
    },
    {
      "cell_type": "code",
      "source": [
        "x.shape"
      ],
      "metadata": {
        "colab": {
          "base_uri": "https://localhost:8080/"
        },
        "id": "UyKRL8ktrV2P",
        "outputId": "e388c9f2-29b7-48a3-ab79-94a34f05b70f"
      },
      "execution_count": 4,
      "outputs": [
        {
          "output_type": "execute_result",
          "data": {
            "text/plain": [
              "torch.Size([4, 2])"
            ]
          },
          "metadata": {},
          "execution_count": 4
        }
      ]
    },
    {
      "cell_type": "markdown",
      "metadata": {
        "id": "zPCIJ2pNteZv"
      },
      "source": [
        "### 무작위로 초기화된 행렬"
      ]
    },
    {
      "cell_type": "code",
      "metadata": {
        "id": "h6oPj2Q9tdYx",
        "colab": {
          "base_uri": "https://localhost:8080/"
        },
        "outputId": "9d3d0a33-347f-4d68-d4d2-2da2dfb40fe5"
      },
      "source": [
        "x = torch.rand(4,2)\n",
        "print(x)"
      ],
      "execution_count": 5,
      "outputs": [
        {
          "output_type": "stream",
          "name": "stdout",
          "text": [
            "tensor([[0.1022, 0.7555],\n",
            "        [0.4304, 0.2046],\n",
            "        [0.2702, 0.2075],\n",
            "        [0.3359, 0.2857]])\n"
          ]
        }
      ]
    },
    {
      "cell_type": "markdown",
      "metadata": {
        "id": "A5aHphIHtiJk"
      },
      "source": [
        "### dtype이 long, 0으로 채워진 텐서"
      ]
    },
    {
      "cell_type": "code",
      "metadata": {
        "id": "4zykN8aMthXk",
        "colab": {
          "base_uri": "https://localhost:8080/"
        },
        "outputId": "ff8f9ee3-f982-4f61-9a94-8c198abedd43"
      },
      "source": [
        "x = torch.zeros(4,2, dtype=torch.long)\n",
        "print(x)"
      ],
      "execution_count": 6,
      "outputs": [
        {
          "output_type": "stream",
          "name": "stdout",
          "text": [
            "tensor([[0, 0],\n",
            "        [0, 0],\n",
            "        [0, 0],\n",
            "        [0, 0]])\n"
          ]
        }
      ]
    },
    {
      "cell_type": "code",
      "metadata": {
        "id": "W4VL8C_ctu8b",
        "colab": {
          "base_uri": "https://localhost:8080/"
        },
        "outputId": "2371fa1a-6836-41d9-88a6-a800adc8ebf8"
      },
      "source": [
        "x = torch.tensor([3,2.3])\n",
        "print(x)"
      ],
      "execution_count": 7,
      "outputs": [
        {
          "output_type": "stream",
          "name": "stdout",
          "text": [
            "tensor([3.0000, 2.3000])\n"
          ]
        }
      ]
    },
    {
      "cell_type": "code",
      "metadata": {
        "id": "4RmVBVtIt46M",
        "colab": {
          "base_uri": "https://localhost:8080/"
        },
        "outputId": "339ecdb9-a34d-428e-becc-933ff147ab84"
      },
      "source": [
        "x = x.new_ones(2,4, dtype=torch.double)\n",
        "print(x)"
      ],
      "execution_count": 8,
      "outputs": [
        {
          "output_type": "stream",
          "name": "stdout",
          "text": [
            "tensor([[1., 1., 1., 1.],\n",
            "        [1., 1., 1., 1.]], dtype=torch.float64)\n"
          ]
        }
      ]
    },
    {
      "cell_type": "code",
      "metadata": {
        "id": "xxskTUfGuPUe",
        "colab": {
          "base_uri": "https://localhost:8080/"
        },
        "outputId": "14a2f01c-3926-4a73-dc22-e7e6ee682aca"
      },
      "source": [
        "x = torch.randn_like(x, dtype=torch.float)\n",
        "print(x)"
      ],
      "execution_count": 9,
      "outputs": [
        {
          "output_type": "stream",
          "name": "stdout",
          "text": [
            "tensor([[-0.4902, -0.6781,  0.1252,  1.7268],\n",
            "        [ 0.6634,  1.4317, -0.3425,  0.6732]])\n"
          ]
        }
      ]
    },
    {
      "cell_type": "markdown",
      "metadata": {
        "id": "7j5sGxGvucpH"
      },
      "source": [
        "### 텐서의 크기"
      ]
    },
    {
      "cell_type": "code",
      "metadata": {
        "id": "yy-JbqKEuYIR",
        "colab": {
          "base_uri": "https://localhost:8080/"
        },
        "outputId": "2627fa1e-822a-4f2b-c462-a28c696606bc"
      },
      "source": [
        "print(x.size())"
      ],
      "execution_count": 10,
      "outputs": [
        {
          "output_type": "stream",
          "name": "stdout",
          "text": [
            "torch.Size([2, 4])\n"
          ]
        }
      ]
    },
    {
      "cell_type": "markdown",
      "metadata": {
        "id": "ehOg0eDwufru"
      },
      "source": [
        "## 텐서의 연산(operations)"
      ]
    },
    {
      "cell_type": "markdown",
      "metadata": {
        "id": "j8Doc_37uh3G"
      },
      "source": [
        "### 덧셈 1"
      ]
    },
    {
      "cell_type": "code",
      "metadata": {
        "id": "Rw4JCYkYuef9",
        "colab": {
          "base_uri": "https://localhost:8080/"
        },
        "outputId": "ed4839aa-7f0f-461c-84f4-03fa02f91f06"
      },
      "source": [
        "print(x)"
      ],
      "execution_count": 11,
      "outputs": [
        {
          "output_type": "stream",
          "name": "stdout",
          "text": [
            "tensor([[-0.4902, -0.6781,  0.1252,  1.7268],\n",
            "        [ 0.6634,  1.4317, -0.3425,  0.6732]])\n"
          ]
        }
      ]
    },
    {
      "cell_type": "code",
      "metadata": {
        "id": "Wa44ur1Nuj5U",
        "colab": {
          "base_uri": "https://localhost:8080/"
        },
        "outputId": "a247da42-425a-438e-effa-337ed7eb08f4"
      },
      "source": [
        "y = torch.rand(2,4)\n",
        "print(y)\n",
        "print(x+y)"
      ],
      "execution_count": 12,
      "outputs": [
        {
          "output_type": "stream",
          "name": "stdout",
          "text": [
            "tensor([[0.0855, 0.2226, 0.8556, 0.2117],\n",
            "        [0.0438, 0.9734, 0.5424, 0.0146]])\n",
            "tensor([[-0.4046, -0.4555,  0.9807,  1.9385],\n",
            "        [ 0.7072,  2.4051,  0.1999,  0.6877]])\n"
          ]
        }
      ]
    },
    {
      "cell_type": "markdown",
      "metadata": {
        "id": "E5gcOo-Ouo9B"
      },
      "source": [
        "### 덧셈2"
      ]
    },
    {
      "cell_type": "code",
      "metadata": {
        "id": "Qx-NzJhhumZx",
        "colab": {
          "base_uri": "https://localhost:8080/"
        },
        "outputId": "0fe755a7-f0ab-4a2a-83ea-1be9f4acbb0b"
      },
      "source": [
        "print(torch.add(x,y))"
      ],
      "execution_count": 13,
      "outputs": [
        {
          "output_type": "stream",
          "name": "stdout",
          "text": [
            "tensor([[-0.4046, -0.4555,  0.9807,  1.9385],\n",
            "        [ 0.7072,  2.4051,  0.1999,  0.6877]])\n"
          ]
        }
      ]
    },
    {
      "cell_type": "markdown",
      "metadata": {
        "id": "RlvrQhLuuuIr"
      },
      "source": [
        "### 덧셈3\n",
        "- 결과 텐서를 인자로 제공"
      ]
    },
    {
      "cell_type": "code",
      "metadata": {
        "id": "lUsLAOTcur1-",
        "colab": {
          "base_uri": "https://localhost:8080/"
        },
        "outputId": "39e8cb3c-5d69-4a59-ad4f-dda63f1f4a14"
      },
      "source": [
        "result = torch.empty(2,4)\n",
        "torch.add(x,y, out = result)\n",
        "print(result)"
      ],
      "execution_count": 14,
      "outputs": [
        {
          "output_type": "stream",
          "name": "stdout",
          "text": [
            "tensor([[-0.4046, -0.4555,  0.9807,  1.9385],\n",
            "        [ 0.7072,  2.4051,  0.1999,  0.6877]])\n"
          ]
        }
      ]
    },
    {
      "cell_type": "markdown",
      "metadata": {
        "id": "V6BdyZFSu2Ei"
      },
      "source": [
        "### 덧셈4\n",
        "- `in-place` 방식\n",
        "\n",
        "- (참고) in-place 방식\n",
        "  - in-place방식으로 텐서의 값을 변경하는 연산 뒤에는 _''가 붙음\n",
        "  - `x.copy_(y), x.t_()`"
      ]
    },
    {
      "cell_type": "markdown",
      "source": [
        "- inplace -> add_ -> y값을 대체 해버림"
      ],
      "metadata": {
        "id": "9J_-UbgtsiRI"
      }
    },
    {
      "cell_type": "code",
      "metadata": {
        "id": "lu8rR4WVu0wQ",
        "colab": {
          "base_uri": "https://localhost:8080/"
        },
        "outputId": "96f1a3e4-1077-49c0-a176-cc8d76641b1e"
      },
      "source": [
        "print(x)\n",
        "print(y)\n",
        "y.add_(x)\n",
        "print(y)"
      ],
      "execution_count": 15,
      "outputs": [
        {
          "output_type": "stream",
          "name": "stdout",
          "text": [
            "tensor([[-0.4902, -0.6781,  0.1252,  1.7268],\n",
            "        [ 0.6634,  1.4317, -0.3425,  0.6732]])\n",
            "tensor([[0.0855, 0.2226, 0.8556, 0.2117],\n",
            "        [0.0438, 0.9734, 0.5424, 0.0146]])\n",
            "tensor([[-0.4046, -0.4555,  0.9807,  1.9385],\n",
            "        [ 0.7072,  2.4051,  0.1999,  0.6877]])\n"
          ]
        }
      ]
    },
    {
      "cell_type": "markdown",
      "metadata": {
        "id": "Uo8nsrGjOw6W"
      },
      "source": [
        "### 그 외의 연산\n",
        "- `torch.sub` : 뺄셈\n",
        "\n",
        "- `torch.mul` : 곱셉\n",
        "\n",
        "- `torch.div` : 나눗셈\n",
        "\n",
        "- `torch.mm` : 내적(dot product)"
      ]
    },
    {
      "cell_type": "code",
      "metadata": {
        "id": "S51kxzPTO1ER",
        "colab": {
          "base_uri": "https://localhost:8080/"
        },
        "outputId": "56298380-31b4-496c-ba5b-0fd692f1d79c"
      },
      "source": [
        "x = torch.Tensor([[1,3], \n",
        "                  [5,7]])\n",
        "\n",
        "y = torch.Tensor([[2,4],\n",
        "                  [6,8]])\n",
        "\n",
        "print(x-y)\n",
        "print(torch.sub(x,y))\n",
        "print(x.sub(y))"
      ],
      "execution_count": 16,
      "outputs": [
        {
          "output_type": "stream",
          "name": "stdout",
          "text": [
            "tensor([[-1., -1.],\n",
            "        [-1., -1.]])\n",
            "tensor([[-1., -1.],\n",
            "        [-1., -1.]])\n",
            "tensor([[-1., -1.],\n",
            "        [-1., -1.]])\n"
          ]
        }
      ]
    },
    {
      "cell_type": "code",
      "metadata": {
        "id": "ou0dY8mkPR24",
        "colab": {
          "base_uri": "https://localhost:8080/"
        },
        "outputId": "6a7884ee-5470-4715-95ff-a67e1b7a4638"
      },
      "source": [
        "x = torch.Tensor([[1,3], \n",
        "                  [5,7]])\n",
        "\n",
        "y = torch.Tensor([[2,4],\n",
        "                  [6,8]])\n",
        "\n",
        "print(x*y)\n",
        "print(torch.mul(x,y))\n",
        "print(x.mul(y))"
      ],
      "execution_count": 17,
      "outputs": [
        {
          "output_type": "stream",
          "name": "stdout",
          "text": [
            "tensor([[ 2., 12.],\n",
            "        [30., 56.]])\n",
            "tensor([[ 2., 12.],\n",
            "        [30., 56.]])\n",
            "tensor([[ 2., 12.],\n",
            "        [30., 56.]])\n"
          ]
        }
      ]
    },
    {
      "cell_type": "code",
      "metadata": {
        "id": "6RlZZBp3PbE4",
        "colab": {
          "base_uri": "https://localhost:8080/"
        },
        "outputId": "7622dcce-de46-4426-dbb8-9dfa33bf9a55"
      },
      "source": [
        "x = torch.Tensor([[1,3], \n",
        "                  [5,7]])\n",
        "\n",
        "y = torch.Tensor([[2,4],\n",
        "                  [6,8]])\n",
        "\n",
        "print(x/y)\n",
        "print(torch.div(x,y))\n",
        "print(x.div(y))"
      ],
      "execution_count": 18,
      "outputs": [
        {
          "output_type": "stream",
          "name": "stdout",
          "text": [
            "tensor([[0.5000, 0.7500],\n",
            "        [0.8333, 0.8750]])\n",
            "tensor([[0.5000, 0.7500],\n",
            "        [0.8333, 0.8750]])\n",
            "tensor([[0.5000, 0.7500],\n",
            "        [0.8333, 0.8750]])\n"
          ]
        }
      ]
    },
    {
      "cell_type": "code",
      "metadata": {
        "id": "7MR-ofE5P7VC",
        "colab": {
          "base_uri": "https://localhost:8080/"
        },
        "outputId": "c2279aab-1081-4a74-a97e-f00d588f063a"
      },
      "source": [
        "x = torch.Tensor([[1,3], \n",
        "                  [5,7]])\n",
        "\n",
        "y = torch.Tensor([[2,4],\n",
        "                  [6,8]])\n",
        "\n",
        "print(torch.mm(x,y))"
      ],
      "execution_count": 19,
      "outputs": [
        {
          "output_type": "stream",
          "name": "stdout",
          "text": [
            "tensor([[20., 28.],\n",
            "        [52., 76.]])\n"
          ]
        }
      ]
    },
    {
      "cell_type": "markdown",
      "metadata": {
        "id": "8URGwHE_NjDi"
      },
      "source": [
        "## 텐서의 조작(manipulations)"
      ]
    },
    {
      "cell_type": "markdown",
      "metadata": {
        "id": "uCsdZIPTvG53"
      },
      "source": [
        "### 인덱싱\n",
        "- 넘파이처럼 인덱싱 사용가능"
      ]
    },
    {
      "cell_type": "code",
      "metadata": {
        "id": "jF2DE8kzvOs3",
        "colab": {
          "base_uri": "https://localhost:8080/"
        },
        "outputId": "71b98a1f-de5e-41ee-b67c-358e48be4899"
      },
      "source": [
        "print(x)"
      ],
      "execution_count": 20,
      "outputs": [
        {
          "output_type": "stream",
          "name": "stdout",
          "text": [
            "tensor([[1., 3.],\n",
            "        [5., 7.]])\n"
          ]
        }
      ]
    },
    {
      "cell_type": "code",
      "metadata": {
        "id": "GQtBH3r3u7c3",
        "colab": {
          "base_uri": "https://localhost:8080/"
        },
        "outputId": "70d15fd9-67c5-4e01-94c6-f2075f7e5201"
      },
      "source": [
        "print(x[:,1])"
      ],
      "execution_count": 21,
      "outputs": [
        {
          "output_type": "stream",
          "name": "stdout",
          "text": [
            "tensor([3., 7.])\n"
          ]
        }
      ]
    },
    {
      "cell_type": "markdown",
      "metadata": {
        "id": "jEscXddKvQ5l"
      },
      "source": [
        "### view\n",
        "- 텐서의 크기(size)나 모양(shape)을 변경"
      ]
    },
    {
      "cell_type": "code",
      "metadata": {
        "id": "xwhWeqhLvKKj",
        "colab": {
          "base_uri": "https://localhost:8080/"
        },
        "outputId": "1cdd59bc-dce7-425b-9776-105c3317d3b1"
      },
      "source": [
        "x = torch.randn(4,5)\n",
        "y = x.view(20)\n",
        "z = x.view(5,-1)\n",
        "\n",
        "print(x.size())\n",
        "print(y.size())\n",
        "print(z.size())"
      ],
      "execution_count": 22,
      "outputs": [
        {
          "output_type": "stream",
          "name": "stdout",
          "text": [
            "torch.Size([4, 5])\n",
            "torch.Size([20])\n",
            "torch.Size([5, 4])\n"
          ]
        }
      ]
    },
    {
      "cell_type": "code",
      "source": [
        "print(x)\n",
        "print(y)\n",
        "print(z)"
      ],
      "metadata": {
        "colab": {
          "base_uri": "https://localhost:8080/"
        },
        "id": "2dff9Gxkt461",
        "outputId": "66580f1d-2569-4f4a-b2d3-5a24efd75553"
      },
      "execution_count": 23,
      "outputs": [
        {
          "output_type": "stream",
          "name": "stdout",
          "text": [
            "tensor([[ 0.7698,  0.2754,  0.2320, -0.8702, -0.0634],\n",
            "        [ 0.0891, -0.4303, -0.3206,  0.0263, -0.3109],\n",
            "        [ 0.0676,  0.8692, -0.9383,  2.0667, -0.5463],\n",
            "        [-0.5750,  0.2749, -0.1204,  0.3635, -0.3783]])\n",
            "tensor([ 0.7698,  0.2754,  0.2320, -0.8702, -0.0634,  0.0891, -0.4303, -0.3206,\n",
            "         0.0263, -0.3109,  0.0676,  0.8692, -0.9383,  2.0667, -0.5463, -0.5750,\n",
            "         0.2749, -0.1204,  0.3635, -0.3783])\n",
            "tensor([[ 0.7698,  0.2754,  0.2320, -0.8702],\n",
            "        [-0.0634,  0.0891, -0.4303, -0.3206],\n",
            "        [ 0.0263, -0.3109,  0.0676,  0.8692],\n",
            "        [-0.9383,  2.0667, -0.5463, -0.5750],\n",
            "        [ 0.2749, -0.1204,  0.3635, -0.3783]])\n"
          ]
        }
      ]
    },
    {
      "cell_type": "markdown",
      "metadata": {
        "id": "iBY_wuIRvf5j"
      },
      "source": [
        "### item\n",
        "- 텐서에 값이 단 하나라도 존재하면 숫자값을 얻을 수 있음\n"
      ]
    },
    {
      "cell_type": "code",
      "metadata": {
        "id": "E0W24QqpvcmV",
        "colab": {
          "base_uri": "https://localhost:8080/"
        },
        "outputId": "78ad558a-f144-40ad-fe5f-cd6a60150652"
      },
      "source": [
        "x = torch.randn(1)\n",
        "print(x)\n",
        "print(x.item())\n",
        "print(x.dtype)"
      ],
      "execution_count": 24,
      "outputs": [
        {
          "output_type": "stream",
          "name": "stdout",
          "text": [
            "tensor([-0.7771])\n",
            "-0.7770899534225464\n",
            "torch.float32\n"
          ]
        }
      ]
    },
    {
      "cell_type": "markdown",
      "metadata": {
        "id": "V1sCUVwC3Nua"
      },
      "source": [
        "- 스칼라값 하나만 존재해야함 -> 2개 이상의 값을 받았을 때 Error "
      ]
    },
    {
      "cell_type": "code",
      "metadata": {
        "id": "jl4_FAgd3Lt9",
        "colab": {
          "base_uri": "https://localhost:8080/"
        },
        "outputId": "33d0cc01-909a-414f-e08c-19ba65c5b4b9"
      },
      "source": [
        "x = torch.randn(2)\n",
        "print(x)\n",
        "# print(x.item()) -> error\n",
        "print(x.dtype)"
      ],
      "execution_count": 25,
      "outputs": [
        {
          "output_type": "stream",
          "name": "stdout",
          "text": [
            "tensor([ 0.0995, -1.8199])\n",
            "torch.float32\n"
          ]
        }
      ]
    },
    {
      "cell_type": "markdown",
      "metadata": {
        "id": "uThndsy5M6wM"
      },
      "source": [
        "### squeeze \n",
        "- 차원을 축소(제거)"
      ]
    },
    {
      "cell_type": "code",
      "source": [
        "tensor = torch.rand(1,3,3)\n",
        "tensor.shape"
      ],
      "metadata": {
        "colab": {
          "base_uri": "https://localhost:8080/"
        },
        "id": "h78rIIayuxv0",
        "outputId": "07e90e2b-f301-403b-ec96-8a1131391e77"
      },
      "execution_count": 26,
      "outputs": [
        {
          "output_type": "execute_result",
          "data": {
            "text/plain": [
              "torch.Size([1, 3, 3])"
            ]
          },
          "metadata": {},
          "execution_count": 26
        }
      ]
    },
    {
      "cell_type": "code",
      "metadata": {
        "id": "OF3rOavnRxgM",
        "colab": {
          "base_uri": "https://localhost:8080/"
        },
        "outputId": "352f7e51-b02a-47bd-db9d-3e494f3c5415"
      },
      "source": [
        "print(tensor.shape)\n",
        "print(tensor)"
      ],
      "execution_count": 27,
      "outputs": [
        {
          "output_type": "stream",
          "name": "stdout",
          "text": [
            "torch.Size([1, 3, 3])\n",
            "tensor([[[0.4889, 0.0193, 0.7165],\n",
            "         [0.5439, 0.3752, 0.2770],\n",
            "         [0.1626, 0.1961, 0.9177]]])\n"
          ]
        }
      ]
    },
    {
      "cell_type": "code",
      "metadata": {
        "id": "Y2jq0jHJR5Jw",
        "colab": {
          "base_uri": "https://localhost:8080/"
        },
        "outputId": "d18e7245-2207-425c-cd43-c3316338ce56"
      },
      "source": [
        "t = tensor.squeeze()\n",
        "print(t)\n",
        "print(t.shape)"
      ],
      "execution_count": 28,
      "outputs": [
        {
          "output_type": "stream",
          "name": "stdout",
          "text": [
            "tensor([[0.4889, 0.0193, 0.7165],\n",
            "        [0.5439, 0.3752, 0.2770],\n",
            "        [0.1626, 0.1961, 0.9177]])\n",
            "torch.Size([3, 3])\n"
          ]
        }
      ]
    },
    {
      "cell_type": "markdown",
      "metadata": {
        "id": "COv-dnTYNJ8Z"
      },
      "source": [
        "### unsqueeze\n",
        "- 차원을 증가(생성)"
      ]
    },
    {
      "cell_type": "code",
      "metadata": {
        "id": "PFxaHGY1NOBo",
        "colab": {
          "base_uri": "https://localhost:8080/"
        },
        "outputId": "cf2144c5-08fd-4c5f-b5ed-cc96cf28f358"
      },
      "source": [
        "tensor = torch.rand(1,3,3)\n",
        "print(tensor)\n",
        "print(tensor.shape)"
      ],
      "execution_count": 29,
      "outputs": [
        {
          "output_type": "stream",
          "name": "stdout",
          "text": [
            "tensor([[[0.5151, 0.1580, 0.8121],\n",
            "         [0.8447, 0.8263, 0.1190],\n",
            "         [0.5940, 0.8828, 0.9351]]])\n",
            "torch.Size([1, 3, 3])\n"
          ]
        }
      ]
    },
    {
      "cell_type": "code",
      "metadata": {
        "id": "b6sa4tJ7SA8G",
        "colab": {
          "base_uri": "https://localhost:8080/"
        },
        "outputId": "ea54eebf-7145-4096-e848-eb636e544a47"
      },
      "source": [
        "t= tensor.unsqueeze(dim =0)\n",
        "\n",
        "print(t)\n",
        "print(t.shape)"
      ],
      "execution_count": 30,
      "outputs": [
        {
          "output_type": "stream",
          "name": "stdout",
          "text": [
            "tensor([[[[0.5151, 0.1580, 0.8121],\n",
            "          [0.8447, 0.8263, 0.1190],\n",
            "          [0.5940, 0.8828, 0.9351]]]])\n",
            "torch.Size([1, 1, 3, 3])\n"
          ]
        }
      ]
    },
    {
      "cell_type": "markdown",
      "metadata": {
        "id": "_C_oa9JANOa6"
      },
      "source": [
        "### stack\n",
        "- 텐서간 결합"
      ]
    },
    {
      "cell_type": "code",
      "metadata": {
        "id": "f3x_XaUYNOuc",
        "colab": {
          "base_uri": "https://localhost:8080/"
        },
        "outputId": "9fa9fa05-accd-46f7-cacb-b7c7afaac52a"
      },
      "source": [
        "x = torch.FloatTensor([1,4])\n",
        "y = torch.FloatTensor([2,5])\n",
        "z = torch.FloatTensor([3,6])\n",
        "w = torch.FloatTensor([4,8])\n",
        "\n",
        "print(torch.stack([x,y,z,w])) "
      ],
      "execution_count": 31,
      "outputs": [
        {
          "output_type": "stream",
          "name": "stdout",
          "text": [
            "tensor([[1., 4.],\n",
            "        [2., 5.],\n",
            "        [3., 6.],\n",
            "        [4., 8.]])\n"
          ]
        }
      ]
    },
    {
      "cell_type": "markdown",
      "metadata": {
        "id": "XmJscbfg35-c"
      },
      "source": [
        "### cat\n",
        "- 텐서를 결합하는 메소드(concatenate)\n",
        "\n",
        "- 넘파이의 `stack`과 유사하지만, 쌓을 dim이 존재해야함\n",
        "  - 예를 들어, 해당 차원을 늘려준 후 결합\n"
      ]
    },
    {
      "cell_type": "code",
      "metadata": {
        "id": "Mv3zlaNm37P1",
        "colab": {
          "base_uri": "https://localhost:8080/"
        },
        "outputId": "65eb37c5-5190-450a-84f4-126323254a7d"
      },
      "source": [
        "a = torch.randn(1,1,3,3)\n",
        "b = torch.randn(1,1,3,3)\n",
        "c = torch.cat((a,b), dim =0)\n",
        "\n",
        "print(c)\n",
        "print(c.size())"
      ],
      "execution_count": 32,
      "outputs": [
        {
          "output_type": "stream",
          "name": "stdout",
          "text": [
            "tensor([[[[-0.2878,  0.3742, -1.2014],\n",
            "          [ 0.1206,  0.6575, -0.4711],\n",
            "          [-0.3500,  0.3515,  0.7505]]],\n",
            "\n",
            "\n",
            "        [[[ 0.6161,  1.1415, -0.9022],\n",
            "          [-0.7327, -0.1736,  0.3621],\n",
            "          [-0.4635, -0.7155,  0.3336]]]])\n",
            "torch.Size([2, 1, 3, 3])\n"
          ]
        }
      ]
    },
    {
      "cell_type": "code",
      "metadata": {
        "id": "69M5jY60S7Mi",
        "colab": {
          "base_uri": "https://localhost:8080/"
        },
        "outputId": "d6e47384-aa68-4ba8-af9b-6be479ceefe4"
      },
      "source": [
        "a = torch.randn(1,3,3)\n",
        "b = torch.randn(1,3,3)\n",
        "c = torch.cat((a,b), dim =1)\n",
        "\n",
        "#dim 값에 따라 Concatenate 방향이 달라짐. 0 은 1번쨰, // 1은 2번째 // 2는 3번째 행을 기준으로 함.\n",
        "\n",
        "print(c)\n",
        "print(c.size())"
      ],
      "execution_count": 33,
      "outputs": [
        {
          "output_type": "stream",
          "name": "stdout",
          "text": [
            "tensor([[[-0.3886, -0.0915, -0.2724],\n",
            "         [-1.4803, -1.0425, -1.8304],\n",
            "         [ 1.5345, -0.0838,  1.4548],\n",
            "         [-1.1327, -1.0461,  0.1004],\n",
            "         [ 1.7786, -0.4406,  0.8130],\n",
            "         [-1.3304,  0.9874, -0.0486]]])\n",
            "torch.Size([1, 6, 3])\n"
          ]
        }
      ]
    },
    {
      "cell_type": "markdown",
      "metadata": {
        "id": "7gGXnOAqQTmG"
      },
      "source": [
        "### chuck\n",
        "- 텐서를 여러 개로 나눌 때 사용\n",
        "\n",
        "- 몇 개의 텐서로 나눌 것이냐"
      ]
    },
    {
      "cell_type": "code",
      "metadata": {
        "id": "pNV80VzPQZgG",
        "colab": {
          "base_uri": "https://localhost:8080/"
        },
        "outputId": "6e666013-1399-44d4-be7a-446937afd6ff"
      },
      "source": [
        "tensor = torch.rand(3,6)\n",
        "t1, t2, t3 = torch.chunk(tensor,3, dim=1)\n",
        "\n",
        "print(tensor)\n",
        "print(t1)\n",
        "print(t2)\n",
        "print(t3)"
      ],
      "execution_count": 34,
      "outputs": [
        {
          "output_type": "stream",
          "name": "stdout",
          "text": [
            "tensor([[0.6640, 0.0065, 0.3180, 0.5997, 0.4884, 0.7481],\n",
            "        [0.8297, 0.8267, 0.8751, 0.2611, 0.5410, 0.6984],\n",
            "        [0.0552, 0.2487, 0.2484, 0.2893, 0.2742, 0.7861]])\n",
            "tensor([[0.6640, 0.0065],\n",
            "        [0.8297, 0.8267],\n",
            "        [0.0552, 0.2487]])\n",
            "tensor([[0.3180, 0.5997],\n",
            "        [0.8751, 0.2611],\n",
            "        [0.2484, 0.2893]])\n",
            "tensor([[0.4884, 0.7481],\n",
            "        [0.5410, 0.6984],\n",
            "        [0.2742, 0.7861]])\n"
          ]
        }
      ]
    },
    {
      "cell_type": "markdown",
      "metadata": {
        "id": "7U0Qb0jWQgm-"
      },
      "source": [
        "### split\n",
        "- `chunck`와 동일한 기능이지만 조금 다름\n",
        "\n",
        "- 하나의 텐서당 크기가 얼마이냐"
      ]
    },
    {
      "cell_type": "code",
      "metadata": {
        "id": "1V6DDnLVQqxz",
        "colab": {
          "base_uri": "https://localhost:8080/"
        },
        "outputId": "d65f3bbc-d11c-4320-89d9-6f30aaf1633a"
      },
      "source": [
        "tensor = torch.rand(3,6)\n",
        "t1, t2 = torch.split(tensor, 3, dim=1)\n",
        "\n",
        "print(tensor)\n",
        "print(t1)\n",
        "print(t2)\n"
      ],
      "execution_count": 35,
      "outputs": [
        {
          "output_type": "stream",
          "name": "stdout",
          "text": [
            "tensor([[0.4688, 0.3569, 0.0133, 0.4591, 0.9293, 0.0461],\n",
            "        [0.5881, 0.5549, 0.2414, 0.2139, 0.5224, 0.4205],\n",
            "        [0.1375, 0.3513, 0.5702, 0.0400, 0.8352, 0.3259]])\n",
            "tensor([[0.4688, 0.3569, 0.0133],\n",
            "        [0.5881, 0.5549, 0.2414],\n",
            "        [0.1375, 0.3513, 0.5702]])\n",
            "tensor([[0.4591, 0.9293, 0.0461],\n",
            "        [0.2139, 0.5224, 0.4205],\n",
            "        [0.0400, 0.8352, 0.3259]])\n"
          ]
        }
      ]
    },
    {
      "cell_type": "markdown",
      "metadata": {
        "id": "estSwhCgvta6"
      },
      "source": [
        "### torch ↔ numpy\n",
        "- Torch Tensor(텐서)를 Numpy array(배열)로 변환 가능\n",
        "\n",
        "  - `numpy()`\n",
        "  - `from_numpy()`\n",
        "\n",
        "- (참고)\n",
        "  - Tensor가 CPU상에 있다면 Numpy 배열은 메모리 공간을 공유하므로 하나가 변하면, 다른 하나도 변함"
      ]
    },
    {
      "cell_type": "code",
      "metadata": {
        "id": "VxHI7c_yvmAT",
        "colab": {
          "base_uri": "https://localhost:8080/"
        },
        "outputId": "851b7a8f-50b7-4438-f816-40f10089249f"
      },
      "source": [
        "a = torch.ones(7)\n",
        "print(a)"
      ],
      "execution_count": 36,
      "outputs": [
        {
          "output_type": "stream",
          "name": "stdout",
          "text": [
            "tensor([1., 1., 1., 1., 1., 1., 1.])\n"
          ]
        }
      ]
    },
    {
      "cell_type": "code",
      "metadata": {
        "id": "whbrhokHwJ3A",
        "colab": {
          "base_uri": "https://localhost:8080/"
        },
        "outputId": "4cb2c50c-ef57-49b4-9c84-96b6713da36c"
      },
      "source": [
        "b = a.numpy()\n",
        "print(b)"
      ],
      "execution_count": 37,
      "outputs": [
        {
          "output_type": "stream",
          "name": "stdout",
          "text": [
            "[1. 1. 1. 1. 1. 1. 1.]\n"
          ]
        }
      ]
    },
    {
      "cell_type": "code",
      "metadata": {
        "id": "5StIhUWDwQjA",
        "colab": {
          "base_uri": "https://localhost:8080/"
        },
        "outputId": "45beb6c9-056e-438d-e7c3-89eac14ac435"
      },
      "source": [
        "## 메모리 공유 때문에 a만 값을 더해줘도 b에도 값이 들어감.\n",
        "a.add_(1)\n",
        "print(a)\n",
        "print(b)"
      ],
      "execution_count": 38,
      "outputs": [
        {
          "output_type": "stream",
          "name": "stdout",
          "text": [
            "tensor([2., 2., 2., 2., 2., 2., 2.])\n",
            "[2. 2. 2. 2. 2. 2. 2.]\n"
          ]
        }
      ]
    },
    {
      "cell_type": "code",
      "metadata": {
        "id": "3RNS5-cRwTt8",
        "colab": {
          "base_uri": "https://localhost:8080/"
        },
        "outputId": "b77e8aaa-a266-4e09-e63e-2c3714a9216e"
      },
      "source": [
        "import numpy as np\n",
        "\n",
        "a = np.ones(7)\n",
        "b = torch.from_numpy(a)\n",
        "\n",
        "np.add(a,1,out = a)\n",
        "print(a)\n",
        "print(b)"
      ],
      "execution_count": 39,
      "outputs": [
        {
          "output_type": "stream",
          "name": "stdout",
          "text": [
            "[2. 2. 2. 2. 2. 2. 2.]\n",
            "tensor([2., 2., 2., 2., 2., 2., 2.], dtype=torch.float64)\n"
          ]
        }
      ]
    },
    {
      "cell_type": "markdown",
      "metadata": {
        "id": "v-ZaxSvLxEej"
      },
      "source": [
        "## CUDA Tensors\n",
        "- `.to` 메소드를 사용하여 텐서를 어떠한 장치로도 옮길 수 있음\n",
        "  - 예) cpu, gpu"
      ]
    },
    {
      "cell_type": "code",
      "metadata": {
        "id": "xkaQznCRxpUj"
      },
      "source": [
        "import torch"
      ],
      "execution_count": 40,
      "outputs": []
    },
    {
      "cell_type": "code",
      "metadata": {
        "id": "SCnC0x2Rxpbk",
        "colab": {
          "base_uri": "https://localhost:8080/"
        },
        "outputId": "c87aaf3c-138e-4e8a-98e6-4911b96e1c82"
      },
      "source": [
        "x = torch.randn(1)\n",
        "print(x)\n",
        "print(x.item())\n",
        "print(x.dtype)"
      ],
      "execution_count": 41,
      "outputs": [
        {
          "output_type": "stream",
          "name": "stdout",
          "text": [
            "tensor([0.1633])\n",
            "0.16334418952465057\n",
            "torch.float32\n"
          ]
        }
      ]
    },
    {
      "cell_type": "code",
      "metadata": {
        "id": "GcSsFLkDw-nI",
        "colab": {
          "base_uri": "https://localhost:8080/"
        },
        "outputId": "21c3254e-36c4-4ca8-812c-020b646708e1"
      },
      "source": [
        "device = torch.device(\"cuda\" if torch.cuda.is_available() else \"cpu\")\n",
        "\n",
        "y = torch.ones_like(x, device = device)\n",
        "x = x.to(device)\n",
        "z = x+y\n",
        "\n",
        "print(device)\n",
        "print(z)\n",
        "print(z.to(\"cpu\", torch.double))\n"
      ],
      "execution_count": 42,
      "outputs": [
        {
          "output_type": "stream",
          "name": "stdout",
          "text": [
            "cuda\n",
            "tensor([1.1633], device='cuda:0')\n",
            "tensor([1.1633], dtype=torch.float64)\n"
          ]
        }
      ]
    },
    {
      "cell_type": "markdown",
      "metadata": {
        "id": "NKqiGvLWx2nk"
      },
      "source": [
        "## AUTOGRAD (자동미분)\n",
        "- autograd 패키지는 Tensor의 모든 연산에 대해 **자동 미분** 제공\n",
        "\n",
        "- 이는 코드를 어떻게 작성하여 실행하느냐에 따라 역전파가 정의된다는 뜻\n",
        "\n",
        "- backprop를 위한 미분값을 자동으로 계산"
      ]
    },
    {
      "cell_type": "markdown",
      "metadata": {
        "id": "0zH41l-MyMHi"
      },
      "source": [
        "### Tensor\n",
        "\n",
        "- data: tensor형태의 데이터\n",
        "\n",
        "- grad: data가 겨쳐온 layer에 대한 미분값 저장\n",
        "\n",
        "- grad_fn: 미분값을 계산한 함수에 대한 정보 저장 (어떤 함수에 대해서 backprop 했는지)\n",
        "\n",
        "- `requires_grad` 속성을 `True`로 설정하면, 해당 텐서에서 이루어지는 모든 연산들을 추적하기 시작\n",
        "\n",
        "- 계산이 완료된 후, `.backward()`를 호출하면 자동으로 `gradient`를 계산할 수 있으며, `.grad` 속성에 누적됨\n",
        "\n",
        "- 기록을 추적하는 것을 중단하게 하려면, `.detach()`를 호출하여 연산기록으로부터 분리\n",
        "\n",
        "- 기록을 추적하는 것을 방지하기 위해 코드 블럭을 `with torch.no_grad():`로 감싸면 `gradient`는 필요없지만, `requires_grad=True`로 설정되어 학습 가능한 매개변수를 갖는 모델을 평가(evaluate)할 때 유용\n",
        "\n",
        "- Autograd 구현에서 매우 중요한 클래스 : `Function` 클래스"
      ]
    },
    {
      "cell_type": "code",
      "metadata": {
        "id": "ipdk_1jfx47I"
      },
      "source": [
        "import torch"
      ],
      "execution_count": 43,
      "outputs": []
    },
    {
      "cell_type": "code",
      "metadata": {
        "id": "ljNU-r9p0Rpo",
        "colab": {
          "base_uri": "https://localhost:8080/"
        },
        "outputId": "f91f1b1d-6ec8-4670-9547-6bc1e1db4d29"
      },
      "source": [
        "x = torch.ones(3,3, requires_grad=True)\n",
        "print(x)"
      ],
      "execution_count": 44,
      "outputs": [
        {
          "output_type": "stream",
          "name": "stdout",
          "text": [
            "tensor([[1., 1., 1.],\n",
            "        [1., 1., 1.],\n",
            "        [1., 1., 1.]], requires_grad=True)\n"
          ]
        }
      ]
    },
    {
      "cell_type": "code",
      "metadata": {
        "id": "or6sQ4EB0UYz",
        "colab": {
          "base_uri": "https://localhost:8080/"
        },
        "outputId": "06af5bd6-5d18-4009-944a-bf8bc64e882a"
      },
      "source": [
        "y = x+5\n",
        "print(y)"
      ],
      "execution_count": 45,
      "outputs": [
        {
          "output_type": "stream",
          "name": "stdout",
          "text": [
            "tensor([[6., 6., 6.],\n",
            "        [6., 6., 6.],\n",
            "        [6., 6., 6.]], grad_fn=<AddBackward0>)\n"
          ]
        }
      ]
    },
    {
      "cell_type": "code",
      "metadata": {
        "id": "PuQ7xDmu0Wpj",
        "colab": {
          "base_uri": "https://localhost:8080/"
        },
        "outputId": "fbdae9c5-2a72-4cde-db82-7083e8c3364f"
      },
      "source": [
        "print(y.grad_fn)"
      ],
      "execution_count": 46,
      "outputs": [
        {
          "output_type": "stream",
          "name": "stdout",
          "text": [
            "<AddBackward0 object at 0x7f86ee1ed2d0>\n"
          ]
        }
      ]
    },
    {
      "cell_type": "code",
      "metadata": {
        "id": "6_2iM-Zq0ZdG",
        "colab": {
          "base_uri": "https://localhost:8080/"
        },
        "outputId": "6c83ce50-c218-4ce9-f6c8-13451d5ac58d"
      },
      "source": [
        "z = y * y * 2\n",
        "out = z.mean()\n",
        "\n",
        "print(z, out)"
      ],
      "execution_count": 47,
      "outputs": [
        {
          "output_type": "stream",
          "name": "stdout",
          "text": [
            "tensor([[72., 72., 72.],\n",
            "        [72., 72., 72.],\n",
            "        [72., 72., 72.]], grad_fn=<MulBackward0>) tensor(72., grad_fn=<MeanBackward0>)\n"
          ]
        }
      ]
    },
    {
      "cell_type": "markdown",
      "metadata": {
        "id": "2aZ8SWn_0nqt"
      },
      "source": [
        "- `requires_grad_(...)`는 기존 텐서의 `requires_grad`값을 바꿔치기(`in-place`)하여 변경"
      ]
    },
    {
      "cell_type": "code",
      "metadata": {
        "id": "mHGROgrM0ebO",
        "colab": {
          "base_uri": "https://localhost:8080/"
        },
        "outputId": "ec446673-d6e5-46a2-dbe5-fac2e51ebb61"
      },
      "source": [
        "a = torch.randn(3,3)\n",
        "a = ((a*3)/(a-1))\n",
        "\n",
        "print(a.requires_grad)\n",
        "\n",
        "a.requires_grad_(True)\n",
        "print(a.requires_grad)\n",
        "\n",
        "b = (a*a).sum()\n",
        "print(b)\n",
        "print(b.grad_fn)"
      ],
      "execution_count": 48,
      "outputs": [
        {
          "output_type": "stream",
          "name": "stdout",
          "text": [
            "False\n",
            "True\n",
            "tensor(423.7033, grad_fn=<SumBackward0>)\n",
            "<SumBackward0 object at 0x7f86ee253390>\n"
          ]
        }
      ]
    },
    {
      "cell_type": "markdown",
      "metadata": {
        "id": "KiEn_stZ1VgU"
      },
      "source": [
        "### 기울기(Gradient)\n",
        "- 역전파: `.backward()`를 통해 역전파 계산 가능"
      ]
    },
    {
      "cell_type": "code",
      "metadata": {
        "id": "1tdoN9p-1kn4"
      },
      "source": [
        "out.backward()"
      ],
      "execution_count": 49,
      "outputs": []
    },
    {
      "cell_type": "code",
      "metadata": {
        "id": "CixGTXbV1B9p",
        "colab": {
          "base_uri": "https://localhost:8080/"
        },
        "outputId": "9a628312-4dc6-45cb-ad88-0a7a640a6a49"
      },
      "source": [
        "print(x.grad)\n",
        "print(x)"
      ],
      "execution_count": 50,
      "outputs": [
        {
          "output_type": "stream",
          "name": "stdout",
          "text": [
            "tensor([[2.6667, 2.6667, 2.6667],\n",
            "        [2.6667, 2.6667, 2.6667],\n",
            "        [2.6667, 2.6667, 2.6667]])\n",
            "tensor([[1., 1., 1.],\n",
            "        [1., 1., 1.],\n",
            "        [1., 1., 1.]], requires_grad=True)\n"
          ]
        }
      ]
    },
    {
      "cell_type": "code",
      "metadata": {
        "id": "SY63Mcc-1iNI",
        "colab": {
          "base_uri": "https://localhost:8080/"
        },
        "outputId": "6f396eb0-94e7-4d83-9617-90e11937c96a"
      },
      "source": [
        "x = torch.randn(3, requires_grad=True)\n",
        "\n",
        "y = x*2\n",
        "while y.data.norm() < 1000:\n",
        "  y = y*2\n",
        "\n",
        "  print(y)"
      ],
      "execution_count": 51,
      "outputs": [
        {
          "output_type": "stream",
          "name": "stdout",
          "text": [
            "tensor([ 5.5218, -1.4096,  3.7013], grad_fn=<MulBackward0>)\n",
            "tensor([11.0437, -2.8193,  7.4026], grad_fn=<MulBackward0>)\n",
            "tensor([22.0874, -5.6385, 14.8052], grad_fn=<MulBackward0>)\n",
            "tensor([ 44.1747, -11.2770,  29.6104], grad_fn=<MulBackward0>)\n",
            "tensor([ 88.3494, -22.5540,  59.2207], grad_fn=<MulBackward0>)\n",
            "tensor([176.6988, -45.1081, 118.4414], grad_fn=<MulBackward0>)\n",
            "tensor([353.3976, -90.2161, 236.8829], grad_fn=<MulBackward0>)\n",
            "tensor([ 706.7953, -180.4323,  473.7657], grad_fn=<MulBackward0>)\n",
            "tensor([1413.5906, -360.8646,  947.5314], grad_fn=<MulBackward0>)\n"
          ]
        }
      ]
    },
    {
      "cell_type": "code",
      "metadata": {
        "id": "YPaVAbIT3gx_",
        "colab": {
          "base_uri": "https://localhost:8080/"
        },
        "outputId": "4d225641-f552-4c0a-8019-ba93dd9a2ac8"
      },
      "source": [
        "v = torch.tensor([0.1, 1.0, 0.00001], dtype=torch.float)\n",
        "y.backward(v)\n",
        "\n",
        "print(x.grad)"
      ],
      "execution_count": 52,
      "outputs": [
        {
          "output_type": "stream",
          "name": "stdout",
          "text": [
            "tensor([1.0240e+02, 1.0240e+03, 1.0240e-02])\n"
          ]
        }
      ]
    },
    {
      "cell_type": "markdown",
      "metadata": {
        "id": "0b9amArPXtcX"
      },
      "source": [
        "- `with torch.no_grad()`를 사용하여 gradient의 업데이트를 하지 않음"
      ]
    },
    {
      "cell_type": "code",
      "metadata": {
        "id": "weeIe5_Z3jVe",
        "colab": {
          "base_uri": "https://localhost:8080/"
        },
        "outputId": "ee30f28c-92de-4cb7-873c-3c051a017b6e"
      },
      "source": [
        "print(x.requires_grad)\n",
        "print((x**2).requires_grad)\n",
        "\n",
        "with torch.no_grad():\n",
        "  print((x**2).requires_grad)"
      ],
      "execution_count": 53,
      "outputs": [
        {
          "output_type": "stream",
          "name": "stdout",
          "text": [
            "True\n",
            "True\n",
            "False\n"
          ]
        }
      ]
    },
    {
      "cell_type": "markdown",
      "metadata": {
        "id": "bLcTLVRSmCdH"
      },
      "source": [
        "- `detach()`: 내용물(content)은 같지만 require_grad가 다른 새로운 Tensor를 가져올 때"
      ]
    },
    {
      "cell_type": "code",
      "metadata": {
        "id": "ALcth7Ew3l7H",
        "colab": {
          "base_uri": "https://localhost:8080/"
        },
        "outputId": "45309ed5-c77c-4eb6-81d2-1c7a57c5282e"
      },
      "source": [
        "print(x.requires_grad)\n",
        "y = x.detach()\n",
        "print(y.requires_grad)\n",
        "print(x.eq(y).all())"
      ],
      "execution_count": 54,
      "outputs": [
        {
          "output_type": "stream",
          "name": "stdout",
          "text": [
            "True\n",
            "False\n",
            "tensor(True)\n"
          ]
        }
      ]
    },
    {
      "cell_type": "markdown",
      "metadata": {
        "id": "NSarysrqBh9D"
      },
      "source": [
        "### 자동 미분 흐름 다시 보기(1)\n",
        "- 계산 흐름  \n",
        "  $a \\rightarrow b  \\rightarrow c  \\rightarrow out $\n",
        "\n",
        "<br>\n",
        "\n",
        "## $\\quad \\frac{\\partial out}{\\partial a} = ?$\n",
        "- `backward()`를 통해  \n",
        "  $a \\leftarrow b  \\leftarrow c  \\leftarrow out $을 계산하면  \n",
        "    $\\frac{\\partial out}{\\partial a}$값이 `a.grad`에 채워짐\n"
      ]
    },
    {
      "cell_type": "code",
      "metadata": {
        "id": "NUAc1etP3oBc"
      },
      "source": [
        "import torch"
      ],
      "execution_count": 55,
      "outputs": []
    },
    {
      "cell_type": "code",
      "metadata": {
        "id": "tCW7dq9uB89T",
        "colab": {
          "base_uri": "https://localhost:8080/"
        },
        "outputId": "f17f8c4e-97c8-4f96-e3cc-c0933b9738d1"
      },
      "source": [
        "a = torch.ones(2,2)\n",
        "print(a)"
      ],
      "execution_count": 56,
      "outputs": [
        {
          "output_type": "stream",
          "name": "stdout",
          "text": [
            "tensor([[1., 1.],\n",
            "        [1., 1.]])\n"
          ]
        }
      ]
    },
    {
      "cell_type": "code",
      "metadata": {
        "id": "-AyyGy49FLz9",
        "colab": {
          "base_uri": "https://localhost:8080/"
        },
        "outputId": "04b11777-29c7-42f0-94f4-9f7db9743b12"
      },
      "source": [
        "a = torch.ones(2,2, requires_grad=True)\n",
        "print(a)"
      ],
      "execution_count": 57,
      "outputs": [
        {
          "output_type": "stream",
          "name": "stdout",
          "text": [
            "tensor([[1., 1.],\n",
            "        [1., 1.]], requires_grad=True)\n"
          ]
        }
      ]
    },
    {
      "cell_type": "code",
      "metadata": {
        "id": "SmmJa-hvFPGH",
        "colab": {
          "base_uri": "https://localhost:8080/"
        },
        "outputId": "96974a45-877f-4eeb-a238-1baef73b769a"
      },
      "source": [
        "print(\"a.data:\", a)\n",
        "print(\"a.grad:\", a.grad)\n",
        "print(\"a.grad_fn\", a.grad_fn)"
      ],
      "execution_count": 58,
      "outputs": [
        {
          "output_type": "stream",
          "name": "stdout",
          "text": [
            "a.data: tensor([[1., 1.],\n",
            "        [1., 1.]], requires_grad=True)\n",
            "a.grad: None\n",
            "a.grad_fn None\n"
          ]
        }
      ]
    },
    {
      "cell_type": "markdown",
      "metadata": {
        "id": "BCwhTsiHGCmG"
      },
      "source": [
        "- $b = a + 2$"
      ]
    },
    {
      "cell_type": "code",
      "metadata": {
        "id": "iUPt042iF9V1",
        "colab": {
          "base_uri": "https://localhost:8080/"
        },
        "outputId": "d3401cc0-7466-4040-957f-8e5da8620efe"
      },
      "source": [
        "b = a+2\n",
        "print(b)"
      ],
      "execution_count": 59,
      "outputs": [
        {
          "output_type": "stream",
          "name": "stdout",
          "text": [
            "tensor([[3., 3.],\n",
            "        [3., 3.]], grad_fn=<AddBackward0>)\n"
          ]
        }
      ]
    },
    {
      "cell_type": "markdown",
      "metadata": {
        "id": "6cw2zoq9GHLF"
      },
      "source": [
        "- $c = b^2$ "
      ]
    },
    {
      "cell_type": "code",
      "metadata": {
        "id": "FRDS6gP0GFZG",
        "colab": {
          "base_uri": "https://localhost:8080/"
        },
        "outputId": "8b782b80-bee1-4247-ec7c-1928b25df0b4"
      },
      "source": [
        "c = b**2\n",
        "print(c)"
      ],
      "execution_count": 60,
      "outputs": [
        {
          "output_type": "stream",
          "name": "stdout",
          "text": [
            "tensor([[9., 9.],\n",
            "        [9., 9.]], grad_fn=<PowBackward0>)\n"
          ]
        }
      ]
    },
    {
      "cell_type": "code",
      "metadata": {
        "id": "VynoiUywGSwh",
        "colab": {
          "base_uri": "https://localhost:8080/"
        },
        "outputId": "094a01eb-03a9-41dc-b20e-3af3389fdc3d"
      },
      "source": [
        "out = c.sum()\n",
        "print(out)"
      ],
      "execution_count": 61,
      "outputs": [
        {
          "output_type": "stream",
          "name": "stdout",
          "text": [
            "tensor(36., grad_fn=<SumBackward0>)\n"
          ]
        }
      ]
    },
    {
      "cell_type": "code",
      "metadata": {
        "id": "v3ryJon9GeMn",
        "colab": {
          "base_uri": "https://localhost:8080/"
        },
        "outputId": "4b6dfd05-5d7c-48ff-c4e8-f972afb6ae02"
      },
      "source": [
        "print(out)\n",
        "out.backward()"
      ],
      "execution_count": 62,
      "outputs": [
        {
          "output_type": "stream",
          "name": "stdout",
          "text": [
            "tensor(36., grad_fn=<SumBackward0>)\n"
          ]
        }
      ]
    },
    {
      "cell_type": "markdown",
      "metadata": {
        "id": "f0aoNsPDHsoG"
      },
      "source": [
        "- a의 `grad_fn`이 None인 이유  \n",
        "  직접적으로 계산한 부분이 없었기 때문"
      ]
    },
    {
      "cell_type": "code",
      "metadata": {
        "id": "bccI4vIWGgqj",
        "colab": {
          "base_uri": "https://localhost:8080/"
        },
        "outputId": "26c119a5-10cd-48ea-ebc0-d69ff9d72d41"
      },
      "source": [
        "print(\"a.data:\" ,a.data)\n",
        "print(\"a.grad:\", a.grad)\n",
        "print(\"a.grad_fn\", a.grad_fn)"
      ],
      "execution_count": 63,
      "outputs": [
        {
          "output_type": "stream",
          "name": "stdout",
          "text": [
            "a.data: tensor([[1., 1.],\n",
            "        [1., 1.]])\n",
            "a.grad: tensor([[6., 6.],\n",
            "        [6., 6.]])\n",
            "a.grad_fn None\n"
          ]
        }
      ]
    },
    {
      "cell_type": "code",
      "metadata": {
        "id": "oka1mkadHq-N",
        "colab": {
          "base_uri": "https://localhost:8080/"
        },
        "outputId": "964ef678-4355-413e-e984-2deb65644154"
      },
      "source": [
        "print(\"b.data:\" ,b.data)\n",
        "print(\"b.grad:\", b.grad)\n",
        "print(\"b.grad_fn\", b.grad_fn)"
      ],
      "execution_count": 64,
      "outputs": [
        {
          "output_type": "stream",
          "name": "stdout",
          "text": [
            "b.data: tensor([[3., 3.],\n",
            "        [3., 3.]])\n",
            "b.grad: None\n",
            "b.grad_fn <AddBackward0 object at 0x7f86ee1f4d90>\n"
          ]
        },
        {
          "output_type": "stream",
          "name": "stderr",
          "text": [
            "/usr/local/lib/python3.7/dist-packages/torch/_tensor.py:1013: UserWarning: The .grad attribute of a Tensor that is not a leaf Tensor is being accessed. Its .grad attribute won't be populated during autograd.backward(). If you indeed want the .grad field to be populated for a non-leaf Tensor, use .retain_grad() on the non-leaf Tensor. If you access the non-leaf Tensor by mistake, make sure you access the leaf Tensor instead. See github.com/pytorch/pytorch/pull/30531 for more informations. (Triggered internally at  aten/src/ATen/core/TensorBody.h:417.)\n",
            "  return self._grad\n"
          ]
        }
      ]
    },
    {
      "cell_type": "code",
      "metadata": {
        "id": "ZiYNajdLccUF",
        "colab": {
          "base_uri": "https://localhost:8080/"
        },
        "outputId": "a7f42105-0305-418e-def5-c8ea276b04e3"
      },
      "source": [
        "print(\"c.data:\" ,c.data)\n",
        "print(\"c.grad:\", c.grad)\n",
        "print(\"c.grad_fn\", c.grad_fn)"
      ],
      "execution_count": 65,
      "outputs": [
        {
          "output_type": "stream",
          "name": "stdout",
          "text": [
            "c.data: tensor([[9., 9.],\n",
            "        [9., 9.]])\n",
            "c.grad: None\n",
            "c.grad_fn <PowBackward0 object at 0x7f86ee21d4d0>\n"
          ]
        },
        {
          "output_type": "stream",
          "name": "stderr",
          "text": [
            "/usr/local/lib/python3.7/dist-packages/torch/_tensor.py:1013: UserWarning: The .grad attribute of a Tensor that is not a leaf Tensor is being accessed. Its .grad attribute won't be populated during autograd.backward(). If you indeed want the .grad field to be populated for a non-leaf Tensor, use .retain_grad() on the non-leaf Tensor. If you access the non-leaf Tensor by mistake, make sure you access the leaf Tensor instead. See github.com/pytorch/pytorch/pull/30531 for more informations. (Triggered internally at  aten/src/ATen/core/TensorBody.h:417.)\n",
            "  return self._grad\n"
          ]
        }
      ]
    },
    {
      "cell_type": "code",
      "metadata": {
        "id": "BcLoMYite0vU",
        "colab": {
          "base_uri": "https://localhost:8080/"
        },
        "outputId": "572081f0-24b9-4b3b-cc31-44f0dc1d3ac1"
      },
      "source": [
        "print(\"out.data:\" ,out.data)\n",
        "print(\"out.grad:\", out.grad)\n",
        "print(\"out.grad_fn\", out.grad_fn)"
      ],
      "execution_count": 66,
      "outputs": [
        {
          "output_type": "stream",
          "name": "stdout",
          "text": [
            "out.data: tensor(36.)\n",
            "out.grad: None\n",
            "out.grad_fn <SumBackward0 object at 0x7f86ee21cb50>\n"
          ]
        },
        {
          "output_type": "stream",
          "name": "stderr",
          "text": [
            "/usr/local/lib/python3.7/dist-packages/torch/_tensor.py:1013: UserWarning: The .grad attribute of a Tensor that is not a leaf Tensor is being accessed. Its .grad attribute won't be populated during autograd.backward(). If you indeed want the .grad field to be populated for a non-leaf Tensor, use .retain_grad() on the non-leaf Tensor. If you access the non-leaf Tensor by mistake, make sure you access the leaf Tensor instead. See github.com/pytorch/pytorch/pull/30531 for more informations. (Triggered internally at  aten/src/ATen/core/TensorBody.h:417.)\n",
            "  return self._grad\n"
          ]
        }
      ]
    },
    {
      "cell_type": "markdown",
      "metadata": {
        "id": "qZXgwviHfovj"
      },
      "source": [
        "### 자동 미분 흐름 다시 보기(2)\n",
        "- `grad`값을 넣어서 `backward`\n",
        "\n",
        "- 아래의 코드에서 `.grad`값이 None은 gradient값이 필요하지 않기 때문"
      ]
    },
    {
      "cell_type": "code",
      "metadata": {
        "id": "bB6DCYXRfcI_",
        "colab": {
          "base_uri": "https://localhost:8080/"
        },
        "outputId": "7d59c410-9af9-4bea-d116-dea252af3465"
      },
      "source": [
        "x = torch.ones(3, requires_grad=True)\n",
        "y = (x**2)\n",
        "z = y**2 + x\n",
        "out = z.sum()\n",
        "print(out)"
      ],
      "execution_count": 67,
      "outputs": [
        {
          "output_type": "stream",
          "name": "stdout",
          "text": [
            "tensor(6., grad_fn=<SumBackward0>)\n"
          ]
        }
      ]
    },
    {
      "cell_type": "code",
      "metadata": {
        "id": "AVo-glm8fvFv"
      },
      "source": [
        "grad = torch.Tensor([0.1, 1, 100])\n",
        "z.backward(grad)"
      ],
      "execution_count": 68,
      "outputs": []
    },
    {
      "cell_type": "code",
      "metadata": {
        "id": "tdBklrepf2qq",
        "colab": {
          "base_uri": "https://localhost:8080/"
        },
        "outputId": "890aa773-1314-4cc6-be3d-ac137d3f37ec"
      },
      "source": [
        "print(\"x.data:\" ,x.data)\n",
        "print(\"x.grad:\", x.grad)\n",
        "print(\"x.grad_fn\", x.grad_fn)"
      ],
      "execution_count": 69,
      "outputs": [
        {
          "output_type": "stream",
          "name": "stdout",
          "text": [
            "x.data: tensor([1., 1., 1.])\n",
            "x.grad: tensor([  0.5000,   5.0000, 500.0000])\n",
            "x.grad_fn None\n"
          ]
        }
      ]
    },
    {
      "cell_type": "code",
      "metadata": {
        "id": "HQvUGlfRf7jU",
        "colab": {
          "base_uri": "https://localhost:8080/"
        },
        "outputId": "507c1b37-67ed-4b32-f9dc-eb9b5e1ad3a6"
      },
      "source": [
        "print(\"y.data:\" ,y.data)\n",
        "print(\"y.grad:\", y.grad)\n",
        "#y의 grad값이 None인 이유는 ??\n",
        "print(\"y.grad_fn\", y.grad_fn)"
      ],
      "execution_count": 70,
      "outputs": [
        {
          "output_type": "stream",
          "name": "stdout",
          "text": [
            "y.data: tensor([1., 1., 1.])\n",
            "y.grad: None\n",
            "y.grad_fn <PowBackward0 object at 0x7f87efc69f50>\n"
          ]
        },
        {
          "output_type": "stream",
          "name": "stderr",
          "text": [
            "/usr/local/lib/python3.7/dist-packages/torch/_tensor.py:1013: UserWarning: The .grad attribute of a Tensor that is not a leaf Tensor is being accessed. Its .grad attribute won't be populated during autograd.backward(). If you indeed want the .grad field to be populated for a non-leaf Tensor, use .retain_grad() on the non-leaf Tensor. If you access the non-leaf Tensor by mistake, make sure you access the leaf Tensor instead. See github.com/pytorch/pytorch/pull/30531 for more informations. (Triggered internally at  aten/src/ATen/core/TensorBody.h:417.)\n",
            "  return self._grad\n"
          ]
        }
      ]
    },
    {
      "cell_type": "code",
      "metadata": {
        "id": "h7TFHdMfgxvW",
        "colab": {
          "base_uri": "https://localhost:8080/"
        },
        "outputId": "147da0c4-f2de-411d-8395-b973565a59b8"
      },
      "source": [
        "print(\"z.data:\" ,z.data)\n",
        "print(\"z.grad:\", z.grad)\n",
        "print(\"z.grad_fn\", z.grad_fn)"
      ],
      "execution_count": 71,
      "outputs": [
        {
          "output_type": "stream",
          "name": "stdout",
          "text": [
            "z.data: tensor([2., 2., 2.])\n",
            "z.grad: None\n",
            "z.grad_fn <AddBackward0 object at 0x7f86ee229e90>\n"
          ]
        },
        {
          "output_type": "stream",
          "name": "stderr",
          "text": [
            "/usr/local/lib/python3.7/dist-packages/torch/_tensor.py:1013: UserWarning: The .grad attribute of a Tensor that is not a leaf Tensor is being accessed. Its .grad attribute won't be populated during autograd.backward(). If you indeed want the .grad field to be populated for a non-leaf Tensor, use .retain_grad() on the non-leaf Tensor. If you access the non-leaf Tensor by mistake, make sure you access the leaf Tensor instead. See github.com/pytorch/pytorch/pull/30531 for more informations. (Triggered internally at  aten/src/ATen/core/TensorBody.h:417.)\n",
            "  return self._grad\n"
          ]
        }
      ]
    },
    {
      "cell_type": "markdown",
      "metadata": {
        "id": "DKv-osmNmWiA"
      },
      "source": [
        "## nn & nn.functional\n",
        "\n",
        "- 두 패키지가 같은 기능이지만 방식이 조금 다름\n",
        "\n",
        "- 위의 `autograd` 관련 작업들을 두 패키지를 통해 진행할 수 있음\n",
        "\n",
        "- 텐서를 직접 다룰 때 `requires_grad`와 같은 방식으로 진행할 수 있음\n",
        "\n",
        "- 결론적으로, `torch.nn`은 attribute를 활용해 state를 저장하고 활용하고,  \n",
        "  `torch.nn.functional`로 구현한 함수의 경우에는 인스턴스화 시킬 필요 없이 사용이 가능\n",
        " \n"
      ]
    },
    {
      "cell_type": "markdown",
      "metadata": {
        "id": "jk8fkKq3nWP1"
      },
      "source": [
        "### nn 패키지\n",
        "\n",
        "- 주로 가중치(weights), 편향(bias)값들이 내부에서 자동으로 생성되는 레이어들을 사용할 때  \n",
        "  - 따라서, `weight`값들을 직접 선언 안함\n",
        "\n",
        "- 예시\n",
        "  - Containers\n",
        "\n",
        "  - Convolution Layers\n",
        "\n",
        "  - Pooling layers\n",
        "\n",
        "  - Padding Layers\n",
        "\n",
        "  - Non-linear Activations (weighted sum, nonlinearity)\n",
        "\n",
        "  - Non-linear Activations (other)\n",
        "\n",
        "  - Normalization Layers\n",
        "\n",
        "  - Recurrent Layers\n",
        "\n",
        "  - Transformer Layers\n",
        "\n",
        "  - Linear Layers\n",
        "\n",
        "  - Dropout Layers\n",
        "\n",
        "  - Sparse Layers\n",
        "\n",
        "  - Distance Functions\n",
        "\n",
        "  - Loss Functions\n",
        "\n",
        "  - ..\n",
        "- https://pytorch.org/docs/stable/nn.html\n",
        "\n"
      ]
    },
    {
      "cell_type": "code",
      "metadata": {
        "id": "8tEtWHAsmZMy"
      },
      "source": [
        "import torch\n",
        "import torch.nn as nn"
      ],
      "execution_count": 72,
      "outputs": []
    },
    {
      "cell_type": "markdown",
      "metadata": {
        "id": "NcjCbeEQqPSI"
      },
      "source": [
        "- Convolution Layer 예시 (1)\n"
      ]
    },
    {
      "cell_type": "code",
      "metadata": {
        "id": "NQ7Y0tCOpkhM",
        "colab": {
          "base_uri": "https://localhost:8080/"
        },
        "outputId": "3991a3c4-8508-4c9b-d7ba-4ad5236178a6"
      },
      "source": [
        "m = nn.Conv2d(16, 33, 3, stride=2)\n",
        "#stride란 Convolution에서 filter를 몇 칸씩 이동시킬 것인가.\n",
        "\n",
        "m = nn.Conv2d(16, 33, (3,5), stride=(2,1), padding=(4,2))\n",
        "#padding 여백. \n",
        "\n",
        "m = nn.Conv2d(16, 33, (3,5), stride=(2,1), padding=(4,2), dilation=(3,1))\n",
        "#dilation이란 패딩 사이의 간격.\n",
        "\n",
        "input = torch.randn(20,16,50,100)\n",
        "print(input)\n",
        "output = m(input)\n",
        "print(output)"
      ],
      "execution_count": 73,
      "outputs": [
        {
          "output_type": "stream",
          "name": "stdout",
          "text": [
            "tensor([[[[-9.1811e-01,  1.5053e+00,  1.1642e+00,  ..., -1.5644e+00,\n",
            "            1.1955e+00,  2.9912e-01],\n",
            "          [-2.4238e-01, -1.0006e+00,  2.6096e-01,  ..., -9.2702e-01,\n",
            "           -1.2764e+00,  7.6219e-01],\n",
            "          [-3.2788e+00, -4.0332e-01,  3.8311e-01,  ..., -4.2029e-01,\n",
            "           -3.6672e-01, -7.6104e-01],\n",
            "          ...,\n",
            "          [-3.9409e-01,  3.2110e-01,  2.6017e-01,  ...,  4.7180e-01,\n",
            "           -4.3589e-01,  2.7477e-02],\n",
            "          [ 1.8915e+00,  1.1266e+00,  8.1311e-01,  ...,  4.2224e-01,\n",
            "            4.3922e-01,  8.2806e-02],\n",
            "          [-1.4316e+00, -5.5390e-01,  5.6123e-01,  ...,  1.8529e+00,\n",
            "            2.7331e-01, -2.1590e-01]],\n",
            "\n",
            "         [[ 6.5263e-01, -6.7737e-01,  5.5406e-01,  ...,  4.3784e-01,\n",
            "            1.9357e-01,  1.2094e+00],\n",
            "          [-3.5918e-01,  4.0651e-01, -7.1941e-01,  ...,  2.5542e-01,\n",
            "           -5.3903e-01, -2.1508e-01],\n",
            "          [-4.7597e-01,  1.5491e+00, -2.2660e+00,  ...,  1.3434e+00,\n",
            "            1.5262e+00,  6.9774e-01],\n",
            "          ...,\n",
            "          [-1.7718e-01,  8.1741e-01, -2.1416e+00,  ...,  9.1710e-01,\n",
            "           -4.8633e-01,  1.7387e-01],\n",
            "          [ 6.8346e-01,  1.7170e+00,  4.3268e-01,  ...,  8.2625e-01,\n",
            "           -1.5575e-01,  8.4298e-01],\n",
            "          [-6.8760e-01,  5.5661e-01,  6.8615e-01,  ...,  3.8456e-01,\n",
            "           -4.7653e-01, -1.4019e+00]],\n",
            "\n",
            "         [[ 3.9878e-01, -1.2812e+00, -6.5687e-01,  ...,  2.5317e+00,\n",
            "           -1.2006e+00,  1.0094e+00],\n",
            "          [ 2.1631e+00,  1.6121e-01,  1.7319e-01,  ..., -1.6870e+00,\n",
            "            8.8250e-01,  7.4500e-01],\n",
            "          [ 6.0954e-01,  1.5981e+00, -1.9859e-01,  ..., -6.7350e-01,\n",
            "           -1.5234e+00,  9.2260e-01],\n",
            "          ...,\n",
            "          [ 7.1261e-01, -5.9391e-01, -9.0760e-01,  ..., -9.6017e-01,\n",
            "            2.9120e-01, -7.9257e-01],\n",
            "          [-1.2941e+00,  9.6402e-02, -3.4160e-01,  ...,  1.1068e+00,\n",
            "           -1.1603e+00,  6.6747e-01],\n",
            "          [-1.3797e-01,  2.5398e-01,  1.4536e-01,  ...,  4.2844e-01,\n",
            "            1.2623e+00,  1.3380e+00]],\n",
            "\n",
            "         ...,\n",
            "\n",
            "         [[-2.4421e-01, -5.5521e-01, -4.5753e-01,  ...,  3.8456e-01,\n",
            "            1.8191e-01, -2.7658e-01],\n",
            "          [-1.0308e+00,  2.0038e+00,  9.3421e-01,  ...,  7.8029e-01,\n",
            "            5.3789e-01,  3.8464e-01],\n",
            "          [ 1.8349e+00,  1.5317e+00, -2.5619e-01,  ..., -1.6935e-01,\n",
            "           -9.4774e-01, -6.8815e-02],\n",
            "          ...,\n",
            "          [-1.0616e+00, -9.4765e-01, -6.4321e-01,  ...,  1.6323e+00,\n",
            "            1.7760e+00, -6.1069e-01],\n",
            "          [ 5.9118e-01, -7.7899e-01,  9.6340e-01,  ...,  2.1612e-01,\n",
            "            1.5358e-02, -1.9371e-01],\n",
            "          [ 3.2287e-01, -4.7274e-02, -4.0697e-01,  ..., -5.1978e-01,\n",
            "            6.9984e-01,  7.1227e-01]],\n",
            "\n",
            "         [[-3.0672e+00, -1.3370e+00, -8.0911e-01,  ..., -9.6792e-03,\n",
            "           -8.5902e-01, -1.6808e+00],\n",
            "          [ 1.4543e+00,  1.1446e+00, -6.0105e-01,  ...,  2.2990e-01,\n",
            "            5.5838e-01,  5.8833e-01],\n",
            "          [-1.2937e+00, -6.3173e-01,  9.3630e-01,  ..., -2.3733e+00,\n",
            "           -7.4652e-02,  3.1540e-01],\n",
            "          ...,\n",
            "          [ 5.1885e-01, -1.2155e-01,  1.2954e+00,  ...,  1.1681e-01,\n",
            "           -6.9913e-01,  1.6934e+00],\n",
            "          [ 7.4681e-01, -1.2521e+00, -5.0567e-01,  ...,  8.5198e-02,\n",
            "            3.8518e-01,  1.6933e+00],\n",
            "          [-1.4969e+00,  1.0872e+00,  4.6487e-01,  ..., -1.7238e+00,\n",
            "            1.0424e+00,  4.4827e-01]],\n",
            "\n",
            "         [[ 6.4290e-02, -4.7606e-01,  4.3596e-01,  ..., -1.9741e+00,\n",
            "            3.4294e-01,  2.3473e-01],\n",
            "          [-1.9522e-01,  4.4520e-01,  1.4586e+00,  ..., -2.0684e+00,\n",
            "            3.7035e-01,  1.7450e+00],\n",
            "          [ 3.8012e-01, -1.6584e+00,  1.1250e+00,  ...,  1.9348e+00,\n",
            "           -8.8681e-01, -2.0645e-02],\n",
            "          ...,\n",
            "          [ 9.7211e-01,  9.1514e-02,  1.3647e+00,  ...,  2.0901e-01,\n",
            "            2.6511e+00, -7.3090e-01],\n",
            "          [ 8.3308e-01, -2.8425e-01, -1.0775e+00,  ...,  2.7678e-01,\n",
            "            1.0871e+00,  1.8866e+00],\n",
            "          [ 9.6465e-01, -7.5459e-01, -6.7463e-01,  ...,  6.4085e-01,\n",
            "           -1.0797e+00, -1.1073e-01]]],\n",
            "\n",
            "\n",
            "        [[[ 9.6891e-01,  7.9379e-01,  3.7672e-01,  ..., -1.9002e+00,\n",
            "           -1.0752e-01, -5.8842e-01],\n",
            "          [-1.0559e-01, -1.0847e+00,  2.5653e+00,  ...,  6.2821e-02,\n",
            "           -1.8214e+00,  1.6059e+00],\n",
            "          [-6.3228e-01, -1.2900e+00, -1.7944e+00,  ..., -6.5543e-01,\n",
            "           -2.8333e-02,  9.3028e-01],\n",
            "          ...,\n",
            "          [-9.5956e-01, -1.1361e+00, -1.8276e-01,  ...,  1.3283e+00,\n",
            "            6.5503e-01,  1.7139e-01],\n",
            "          [ 9.7524e-01,  4.5023e-01,  8.9525e-01,  ...,  1.1661e+00,\n",
            "            8.1788e-01, -2.8198e-01],\n",
            "          [ 1.2768e+00,  4.0352e-01,  4.6141e-01,  ...,  6.8478e-01,\n",
            "           -3.6000e-01, -4.7267e-01]],\n",
            "\n",
            "         [[ 1.9578e+00, -7.4668e-01,  3.8536e-01,  ..., -6.0963e-01,\n",
            "           -9.1781e-01, -8.5904e-01],\n",
            "          [ 2.9711e-01, -3.9113e-01, -1.6800e+00,  ..., -9.4817e-01,\n",
            "            1.9804e+00, -6.6521e-01],\n",
            "          [-8.3082e-01,  6.1031e-01, -1.5997e-01,  ..., -8.8251e-01,\n",
            "            3.0084e-01,  4.0013e-01],\n",
            "          ...,\n",
            "          [-1.8852e-01,  2.0012e-02, -8.9865e-01,  ..., -3.5357e-01,\n",
            "            1.2241e+00, -2.4053e+00],\n",
            "          [-3.5509e-01,  1.8041e-01, -1.4169e+00,  ...,  1.1278e+00,\n",
            "            2.2070e-01,  1.6984e-01],\n",
            "          [ 8.2070e-01,  5.7980e-01, -2.8824e+00,  ..., -4.4284e-01,\n",
            "           -1.1761e+00, -3.6078e-01]],\n",
            "\n",
            "         [[ 2.2216e+00,  2.1530e+00, -2.1632e+00,  ..., -1.0602e+00,\n",
            "            9.1957e-01,  1.7530e-01],\n",
            "          [-1.3915e+00, -7.8966e-01,  1.6803e-01,  ..., -2.9218e-01,\n",
            "           -1.1546e-01,  2.3471e-01],\n",
            "          [ 3.4971e-01,  2.1861e-01, -4.3269e-01,  ...,  1.4877e+00,\n",
            "           -9.5560e-01,  8.7734e-01],\n",
            "          ...,\n",
            "          [ 2.5677e+00,  9.0558e-01,  1.3054e+00,  ..., -1.3064e+00,\n",
            "           -2.8571e-01, -1.9601e-01],\n",
            "          [ 2.4196e+00,  9.0287e-01,  6.1081e-01,  ..., -9.6544e-01,\n",
            "            1.0952e+00, -2.7112e-01],\n",
            "          [ 9.8872e-01, -1.1411e+00,  8.6962e-01,  ..., -2.2261e-01,\n",
            "            1.9308e-01, -4.3925e-01]],\n",
            "\n",
            "         ...,\n",
            "\n",
            "         [[-1.6002e+00, -5.5669e-01,  8.2179e-01,  ...,  7.5861e-02,\n",
            "           -1.3704e+00,  1.8135e+00],\n",
            "          [-1.2822e+00, -5.6834e-01, -1.0493e+00,  ...,  8.0152e-02,\n",
            "           -1.3688e+00, -2.3900e-01],\n",
            "          [-1.0047e+00, -4.5507e-01,  4.8958e-01,  ..., -3.7411e-02,\n",
            "            3.8906e-02, -3.2959e-01],\n",
            "          ...,\n",
            "          [ 1.2749e+00, -1.7386e+00, -1.4294e-01,  ..., -2.2539e+00,\n",
            "            3.5778e-01,  1.1069e+00],\n",
            "          [-9.3016e-01, -2.8456e-01, -2.0931e+00,  ...,  1.9434e+00,\n",
            "           -1.2763e+00, -2.9818e-01],\n",
            "          [-9.6627e-02,  1.1805e+00, -7.9005e-01,  ..., -8.2240e-01,\n",
            "            5.0040e-01,  1.0804e+00]],\n",
            "\n",
            "         [[ 3.1212e-01,  9.3430e-02, -2.4296e-01,  ...,  6.1074e-01,\n",
            "            9.3518e-01, -3.7939e-01],\n",
            "          [ 1.8894e+00,  1.0326e+00, -5.7964e-01,  ..., -4.4750e-01,\n",
            "           -1.5027e+00,  8.7150e-03],\n",
            "          [ 2.2164e-01, -2.4412e-02, -9.4649e-01,  ..., -9.2753e-01,\n",
            "           -1.0145e+00, -9.4853e-02],\n",
            "          ...,\n",
            "          [ 5.7129e-01,  3.8197e-01,  6.4132e-01,  ..., -1.0918e+00,\n",
            "            8.0848e-01,  2.5718e-02],\n",
            "          [ 1.5032e+00,  6.4736e-01, -3.5440e-01,  ..., -1.1382e+00,\n",
            "           -9.7846e-01, -7.1326e-01],\n",
            "          [-1.2533e+00,  1.0119e+00,  9.5223e-01,  ...,  9.6422e-01,\n",
            "            1.7692e-01,  7.9933e-01]],\n",
            "\n",
            "         [[-2.1041e-01,  9.8704e-01, -1.8923e+00,  ...,  1.5315e+00,\n",
            "           -2.1491e+00,  2.0024e-02],\n",
            "          [ 1.9055e-01,  3.3267e-01, -1.2129e-01,  ..., -6.1361e-01,\n",
            "            1.7805e-01, -9.1803e-01],\n",
            "          [ 1.1966e+00,  1.1165e+00,  7.1265e-01,  ..., -6.0711e-01,\n",
            "            3.5146e-01, -1.9930e-01],\n",
            "          ...,\n",
            "          [-3.2570e-02, -3.8505e-01,  4.6071e-01,  ...,  3.9062e-01,\n",
            "            2.6546e-01,  4.4039e-01],\n",
            "          [ 9.6853e-01,  2.8137e+00, -1.5896e+00,  ..., -1.7614e+00,\n",
            "            3.0297e-01,  2.2936e-01],\n",
            "          [ 2.1217e+00, -1.4670e+00,  4.6533e-01,  ..., -9.8404e-01,\n",
            "            8.5926e-03, -1.6478e-01]]],\n",
            "\n",
            "\n",
            "        [[[ 4.8296e-01, -2.1424e-02,  2.9468e-01,  ...,  2.1870e-02,\n",
            "            1.0430e+00, -4.1954e-01],\n",
            "          [-1.5826e-01, -5.8755e-01,  7.6984e-01,  ..., -5.0262e-01,\n",
            "           -5.6331e-01, -7.5272e-01],\n",
            "          [-7.2105e-01,  4.7297e-01,  1.9402e+00,  ...,  5.6816e-01,\n",
            "           -1.2435e-01, -4.8486e-01],\n",
            "          ...,\n",
            "          [-1.7263e-01,  1.3547e+00,  3.5751e-01,  ..., -1.0329e+00,\n",
            "           -1.5937e+00, -9.7062e-01],\n",
            "          [ 8.8381e-02,  6.0847e-01,  8.0418e-01,  ..., -4.2852e-01,\n",
            "           -2.6105e-01, -3.6944e-01],\n",
            "          [-3.7388e-01,  6.3141e-01,  3.1323e-01,  ...,  7.6031e-01,\n",
            "           -7.3257e-01, -1.7774e+00]],\n",
            "\n",
            "         [[ 7.1173e-01,  2.3317e+00, -2.2094e-01,  ..., -1.3759e+00,\n",
            "           -9.2826e-01, -8.0829e-01],\n",
            "          [-3.4361e-01, -2.3896e-01,  1.4069e-01,  ..., -4.4318e-01,\n",
            "           -1.8796e-01,  1.6111e+00],\n",
            "          [ 1.3615e+00,  4.0309e-01,  9.7959e-02,  ..., -3.1072e-01,\n",
            "            1.8597e+00,  3.4450e-01],\n",
            "          ...,\n",
            "          [ 1.8038e+00, -1.0560e+00,  2.1048e-01,  ...,  1.6229e-01,\n",
            "           -5.6789e-02, -1.9538e-01],\n",
            "          [-9.0782e-01,  7.6894e-01, -2.4033e-01,  ...,  1.9345e+00,\n",
            "           -8.5218e-01, -1.2985e+00],\n",
            "          [ 1.0825e+00, -1.0732e+00,  1.6139e+00,  ..., -5.3858e-01,\n",
            "            1.0157e+00, -4.8120e-01]],\n",
            "\n",
            "         [[-1.0902e+00,  1.1951e+00, -9.7806e-01,  ...,  2.4600e-01,\n",
            "           -8.1684e-01, -1.5022e+00],\n",
            "          [ 2.0038e-02,  7.7235e-01, -1.0547e+00,  ..., -1.3534e+00,\n",
            "            5.4774e-01, -2.1506e+00],\n",
            "          [-1.0871e+00, -1.7159e+00, -3.1139e-01,  ..., -7.8927e-01,\n",
            "            7.5841e-01,  3.4022e-01],\n",
            "          ...,\n",
            "          [ 1.6870e+00, -2.1501e-01, -1.1483e+00,  ..., -3.8625e-01,\n",
            "            8.8056e-01,  2.6543e-01],\n",
            "          [-8.3760e-01, -2.9890e-01, -3.9805e-02,  ..., -1.3149e+00,\n",
            "           -4.5079e-01,  4.0830e-01],\n",
            "          [ 3.7205e-01, -1.3790e+00, -1.1441e+00,  ...,  1.0457e-01,\n",
            "           -6.3220e-01, -1.2532e+00]],\n",
            "\n",
            "         ...,\n",
            "\n",
            "         [[-5.9148e-01,  1.4993e-01, -5.7304e-02,  ...,  3.9489e-01,\n",
            "            1.2872e+00,  1.2060e+00],\n",
            "          [-1.3524e+00,  6.5218e-01,  1.3828e+00,  ..., -3.3379e-01,\n",
            "            9.8033e-01, -6.4068e-01],\n",
            "          [ 1.1297e+00, -3.3098e-01, -1.7452e-01,  ..., -1.0459e+00,\n",
            "           -9.5427e-01, -1.3661e+00],\n",
            "          ...,\n",
            "          [-4.4063e-01,  8.6405e-02, -3.2145e-01,  ..., -7.6871e-01,\n",
            "           -1.5505e-01, -2.0372e-01],\n",
            "          [ 6.1547e-01, -1.3666e+00,  9.1171e-01,  ..., -7.6447e-01,\n",
            "            1.9785e+00,  3.2633e+00],\n",
            "          [-5.7173e-01, -1.2283e+00,  1.4540e-01,  ..., -3.6206e-01,\n",
            "            1.9081e+00,  3.7080e-01]],\n",
            "\n",
            "         [[ 1.4715e+00, -1.1767e+00, -1.4724e+00,  ..., -9.6037e-01,\n",
            "           -1.2110e+00, -1.0288e+00],\n",
            "          [-4.1585e-01,  8.1632e-02,  5.3497e-01,  ...,  1.0847e+00,\n",
            "            8.0549e-02,  5.7914e-01],\n",
            "          [-2.0803e-01,  8.6129e-01,  2.4509e-02,  ...,  1.3042e+00,\n",
            "            5.0781e-01, -8.9300e-02],\n",
            "          ...,\n",
            "          [-1.7018e-01,  7.1721e-01, -1.3464e+00,  ..., -1.0526e+00,\n",
            "           -1.0094e+00,  9.3370e-01],\n",
            "          [ 6.5423e-01, -6.9886e-01, -1.9955e-02,  ..., -4.4504e-02,\n",
            "           -2.2518e-02,  6.1818e-01],\n",
            "          [-5.8683e-01, -1.1294e+00, -1.8806e+00,  ...,  2.5580e-01,\n",
            "           -5.7121e-01,  2.0499e-01]],\n",
            "\n",
            "         [[ 5.7539e-03, -5.0835e-01, -3.3336e-01,  ..., -4.1216e-01,\n",
            "           -4.3895e-02, -9.9643e-01],\n",
            "          [ 4.8160e-01,  1.5218e+00, -1.3837e+00,  ..., -1.0399e+00,\n",
            "           -5.8503e-01, -1.1027e+00],\n",
            "          [-9.2564e-01,  1.4671e+00,  2.5877e+00,  ..., -3.5639e-01,\n",
            "            5.4169e-01,  4.8818e-01],\n",
            "          ...,\n",
            "          [ 8.0446e-01,  8.6608e-03,  2.0296e-01,  ..., -8.1469e-01,\n",
            "           -3.3960e-01, -1.1426e+00],\n",
            "          [-1.0980e-01,  2.6273e+00,  1.1763e+00,  ..., -1.0212e+00,\n",
            "            1.8183e-01, -8.7750e-03],\n",
            "          [ 9.1912e-01, -1.1800e+00, -3.3394e-01,  ...,  7.3292e-01,\n",
            "            6.7890e-02, -5.8194e-01]]],\n",
            "\n",
            "\n",
            "        ...,\n",
            "\n",
            "\n",
            "        [[[ 1.3464e+00, -1.2250e+00,  2.0137e+00,  ..., -5.8990e-01,\n",
            "           -1.7186e+00,  1.8212e+00],\n",
            "          [ 4.4066e-01,  8.8956e-01, -3.6406e-01,  ..., -2.5068e-01,\n",
            "           -1.5695e-01, -1.8053e+00],\n",
            "          [-3.3257e-01, -1.3751e+00, -9.6580e-01,  ...,  5.7611e-01,\n",
            "            1.0659e+00, -1.3245e+00],\n",
            "          ...,\n",
            "          [ 1.7049e+00, -9.0612e-01,  1.7306e+00,  ..., -1.0681e+00,\n",
            "           -6.6495e-01,  4.1184e-01],\n",
            "          [ 6.7197e-01,  4.1930e-02,  1.5526e+00,  ..., -1.7679e-01,\n",
            "           -6.5515e-01, -1.8320e-01],\n",
            "          [-2.3741e+00, -2.8065e-01, -8.8148e-03,  ..., -1.7067e-01,\n",
            "            7.4216e-01,  5.3233e-01]],\n",
            "\n",
            "         [[ 2.4315e-01,  2.0075e-01, -7.8606e-01,  ..., -6.7470e-01,\n",
            "            1.3169e+00, -8.2777e-01],\n",
            "          [ 9.4651e-01,  2.5764e+00, -4.5026e-01,  ...,  1.5579e+00,\n",
            "            1.8557e-01, -6.7767e-01],\n",
            "          [-2.1023e+00,  6.5034e-02,  1.6103e-01,  ...,  5.5629e-01,\n",
            "           -8.6479e-01, -1.2186e-01],\n",
            "          ...,\n",
            "          [ 5.5518e-01, -1.4114e-01,  3.6673e-01,  ...,  4.0278e-02,\n",
            "           -1.4862e+00, -6.1499e-01],\n",
            "          [ 1.7371e+00, -1.2880e+00, -1.4787e-01,  ..., -1.1318e+00,\n",
            "            2.6301e-01, -5.3496e-01],\n",
            "          [-1.0835e+00, -5.7280e-02,  1.0872e+00,  ..., -8.8416e-01,\n",
            "            1.2817e-01, -1.6001e+00]],\n",
            "\n",
            "         [[ 7.0859e-01, -1.1925e-02, -9.6915e-01,  ...,  1.5689e-02,\n",
            "            1.5071e+00,  3.4099e-01],\n",
            "          [-2.3116e-01,  1.0642e+00,  7.7265e-01,  ..., -8.0827e-01,\n",
            "            3.7525e-01, -9.0936e-01],\n",
            "          [-1.1480e+00, -5.0959e-01, -3.2857e-01,  ...,  9.8605e-01,\n",
            "            1.1893e-01, -1.7931e+00],\n",
            "          ...,\n",
            "          [ 3.6735e-01,  4.2408e-01,  1.8834e+00,  ...,  8.7214e-01,\n",
            "            1.7844e+00, -1.9555e+00],\n",
            "          [ 1.7898e+00, -4.2680e-01, -4.0902e-01,  ..., -2.3869e-01,\n",
            "           -1.2841e+00, -2.8862e-01],\n",
            "          [ 1.2311e-01,  1.3253e-01, -2.5978e-01,  ...,  2.5384e-01,\n",
            "            4.8102e-01, -3.3243e-01]],\n",
            "\n",
            "         ...,\n",
            "\n",
            "         [[-5.4619e-01, -1.9061e+00,  9.9033e-01,  ..., -3.0797e-01,\n",
            "            8.2957e-01, -1.1900e+00],\n",
            "          [-8.0639e-02,  2.2852e-01,  2.1046e-01,  ..., -6.3487e-01,\n",
            "           -4.5504e-01,  1.6297e+00],\n",
            "          [-3.3825e-01, -1.6080e-02, -8.9819e-01,  ..., -5.2820e-01,\n",
            "           -1.8922e-01,  8.2487e-02],\n",
            "          ...,\n",
            "          [ 1.1184e+00,  4.2401e-01,  6.1609e-01,  ...,  1.5586e+00,\n",
            "           -1.6768e-01,  9.7766e-01],\n",
            "          [-5.0962e-02,  6.0049e-01, -2.1443e+00,  ...,  9.3556e-02,\n",
            "           -1.0281e+00,  6.5251e-01],\n",
            "          [ 6.5437e-01, -1.5188e+00,  1.1839e+00,  ..., -9.1824e-01,\n",
            "            1.2181e-01,  1.1841e+00]],\n",
            "\n",
            "         [[-2.4852e-01,  4.6190e-01,  7.7926e-02,  ...,  6.1454e-01,\n",
            "           -1.3036e+00,  1.0497e+00],\n",
            "          [-1.8674e+00,  3.8920e-01, -2.6573e-01,  ..., -5.2622e-01,\n",
            "            1.0185e+00, -1.3743e+00],\n",
            "          [-1.8517e+00, -3.5831e-01,  4.3283e-01,  ..., -6.8277e-01,\n",
            "            7.7420e-01,  7.3028e-01],\n",
            "          ...,\n",
            "          [ 8.3343e-01,  2.5191e+00, -5.0811e-01,  ...,  3.5933e-01,\n",
            "           -1.0350e-01,  3.2631e-01],\n",
            "          [-1.9072e-01, -3.5351e-01, -2.8499e-01,  ..., -7.0676e-01,\n",
            "           -1.6171e+00,  2.6763e-01],\n",
            "          [ 4.3888e-01,  4.9104e-01,  2.3364e-01,  ..., -4.3858e-02,\n",
            "            5.5271e-01, -1.5066e-01]],\n",
            "\n",
            "         [[-1.5293e+00,  8.5054e-01,  6.8857e-01,  ..., -2.7361e+00,\n",
            "           -5.2312e-01,  3.0621e-01],\n",
            "          [ 7.9498e-01, -3.7224e-01,  1.9269e-01,  ..., -1.3618e-01,\n",
            "            8.7633e-01, -1.2288e+00],\n",
            "          [-3.4541e-01, -8.8565e-01,  3.0063e-01,  ..., -1.5589e-01,\n",
            "            2.0802e-01,  1.5901e-01],\n",
            "          ...,\n",
            "          [-4.0877e-01, -4.7907e-01,  1.2274e+00,  ...,  4.4588e-01,\n",
            "           -3.1818e-02, -1.0185e-01],\n",
            "          [-2.6424e+00,  2.5750e-01,  2.0785e-01,  ..., -1.3476e-01,\n",
            "            2.6060e-01,  1.6267e+00],\n",
            "          [-3.3810e-01,  5.5320e-01,  2.5937e+00,  ..., -5.2115e-01,\n",
            "           -1.3948e+00, -7.6182e-01]]],\n",
            "\n",
            "\n",
            "        [[[ 1.2542e+00,  4.2029e-01,  1.2684e+00,  ..., -7.4363e-01,\n",
            "            1.4260e+00,  4.6592e-01],\n",
            "          [-1.3099e+00, -1.9210e+00, -1.4583e+00,  ..., -1.0860e+00,\n",
            "           -1.5943e+00, -1.2335e+00],\n",
            "          [ 1.6579e+00, -1.6573e-01, -1.8379e-01,  ...,  2.0276e-01,\n",
            "            9.2306e-01,  7.8857e-01],\n",
            "          ...,\n",
            "          [-1.1668e+00, -8.1680e-01,  6.3742e-01,  ...,  1.2864e+00,\n",
            "           -1.9393e-01, -1.4803e+00],\n",
            "          [ 2.2101e-01, -1.0135e+00, -7.8982e-01,  ...,  5.7321e-01,\n",
            "            1.0839e+00,  1.0853e+00],\n",
            "          [-6.1641e-01, -2.0725e+00, -1.0636e-01,  ...,  9.8352e-01,\n",
            "            1.1929e+00, -1.9950e-01]],\n",
            "\n",
            "         [[ 6.0468e-01,  2.2095e-01,  1.0015e-02,  ..., -9.7167e-02,\n",
            "            5.7063e-01,  6.8275e-03],\n",
            "          [-2.2502e-01,  3.4611e-02, -1.2421e+00,  ..., -4.3997e-01,\n",
            "            5.4042e-01, -8.1351e-01],\n",
            "          [ 1.4744e-01,  9.5708e-01, -8.2789e-01,  ..., -6.7328e-01,\n",
            "           -1.2126e+00,  8.2636e-01],\n",
            "          ...,\n",
            "          [ 3.0891e-01, -2.1821e-01,  9.7440e-01,  ..., -1.2923e+00,\n",
            "            1.4437e+00, -4.6874e-01],\n",
            "          [-1.5430e+00,  4.5403e-01,  7.8959e-02,  ...,  5.8691e-01,\n",
            "            2.4978e-01,  1.4644e-03],\n",
            "          [-3.3211e-01, -1.3408e-01,  2.9235e-01,  ..., -4.2238e-01,\n",
            "           -5.9878e-01, -4.5635e-01]],\n",
            "\n",
            "         [[-6.0290e-01,  4.5530e-01,  1.2560e+00,  ..., -1.1969e+00,\n",
            "            4.7741e-01, -1.4746e+00],\n",
            "          [-8.0655e-01,  1.3161e-01, -1.7757e+00,  ...,  8.7434e-01,\n",
            "            1.2199e+00, -6.9983e-01],\n",
            "          [-4.8317e-01,  2.5901e-01,  1.3576e+00,  ..., -5.1063e-01,\n",
            "           -8.5916e-01, -2.8679e-02],\n",
            "          ...,\n",
            "          [ 5.4643e-01,  6.0179e-01, -1.2361e-01,  ..., -3.8780e-01,\n",
            "           -1.1862e+00,  4.3848e-01],\n",
            "          [-2.8155e-01, -1.0349e+00, -6.0492e-01,  ..., -5.2833e-01,\n",
            "            1.6081e-01,  2.1445e+00],\n",
            "          [ 1.7760e+00, -4.1950e-01, -1.5223e+00,  ..., -4.7113e-01,\n",
            "            8.9464e-01,  5.3375e-01]],\n",
            "\n",
            "         ...,\n",
            "\n",
            "         [[-2.4116e+00,  5.5200e-01,  6.7203e-01,  ..., -7.2915e-01,\n",
            "           -1.2849e+00, -7.5503e-02],\n",
            "          [ 3.8593e-01, -1.2755e+00, -2.0360e-01,  ..., -2.0166e-01,\n",
            "           -4.9612e-01,  2.2151e-01],\n",
            "          [ 1.3652e+00,  8.9472e-02, -1.3549e+00,  ...,  9.3265e-01,\n",
            "           -1.9773e+00, -7.2493e-01],\n",
            "          ...,\n",
            "          [-6.1503e-01, -7.1696e-01,  5.9120e-01,  ..., -1.2048e+00,\n",
            "           -7.7847e-02, -1.3136e+00],\n",
            "          [-8.5610e-01,  3.6239e-01,  1.8111e+00,  ...,  1.5939e-01,\n",
            "           -1.1410e+00, -1.3562e-01],\n",
            "          [ 1.4458e-02,  2.4470e-01,  1.0915e+00,  ..., -7.6937e-01,\n",
            "            8.5291e-02, -5.6997e-01]],\n",
            "\n",
            "         [[-2.0247e+00,  1.6795e+00, -2.9543e-01,  ..., -7.2556e-01,\n",
            "           -7.3809e-01, -1.9404e+00],\n",
            "          [-1.0207e+00, -2.0448e+00, -2.2721e-01,  ...,  5.7923e-01,\n",
            "            2.1717e+00,  1.2500e-01],\n",
            "          [-1.1414e-01, -3.6522e-01,  2.7454e-01,  ..., -1.0389e-01,\n",
            "           -1.4271e+00, -2.8026e+00],\n",
            "          ...,\n",
            "          [ 3.2550e-01, -1.6628e+00, -1.0458e+00,  ..., -1.6605e-01,\n",
            "            1.6500e+00, -7.2366e-01],\n",
            "          [ 6.6850e-02, -6.3814e-01, -2.6766e+00,  ...,  1.9372e-01,\n",
            "            1.1233e+00,  4.6943e-01],\n",
            "          [-5.9386e-01, -5.1375e-01,  5.7576e-01,  ...,  5.6643e-01,\n",
            "            1.1987e-01,  2.0527e+00]],\n",
            "\n",
            "         [[ 2.2141e-01, -1.2218e+00,  9.4913e-01,  ...,  1.9835e-01,\n",
            "            1.7331e-01, -9.2054e-01],\n",
            "          [-1.2578e+00,  1.3429e+00,  1.1260e+00,  ...,  1.3066e+00,\n",
            "            1.0822e+00, -1.2264e+00],\n",
            "          [-1.3899e+00,  1.9044e-01, -1.2453e+00,  ...,  8.8325e-01,\n",
            "            1.3618e-01, -1.8234e+00],\n",
            "          ...,\n",
            "          [ 1.0899e-01,  3.2829e-01,  5.0044e-01,  ..., -1.2522e+00,\n",
            "            4.6803e-01, -2.0023e+00],\n",
            "          [ 7.3810e-01,  4.1921e-01, -1.6657e+00,  ..., -6.2483e-01,\n",
            "            7.1272e-01,  6.3205e-01],\n",
            "          [-1.0370e+00,  2.0219e+00,  5.0421e-01,  ..., -2.6671e+00,\n",
            "           -4.0716e-01,  6.0459e-01]]],\n",
            "\n",
            "\n",
            "        [[[ 6.5361e-01, -8.8548e-01,  2.9509e-01,  ..., -1.0844e+00,\n",
            "            9.4770e-01, -1.9691e+00],\n",
            "          [-1.4621e+00,  5.6829e-01, -1.5717e-01,  ...,  2.3431e+00,\n",
            "            1.1248e+00,  1.4311e-01],\n",
            "          [-8.3678e-02,  1.1857e+00, -5.4345e-01,  ...,  1.0743e+00,\n",
            "           -3.9651e-01,  1.9669e+00],\n",
            "          ...,\n",
            "          [ 2.9784e-01, -9.0409e-01,  1.5397e-01,  ...,  1.0953e+00,\n",
            "           -2.0591e-01,  1.5076e+00],\n",
            "          [-4.7443e-01,  9.1540e-02, -1.2809e+00,  ...,  2.6485e-01,\n",
            "            4.3746e-01, -9.7119e-03],\n",
            "          [-8.6429e-01, -4.9858e-01, -4.2218e-01,  ..., -1.9655e+00,\n",
            "            1.0030e+00,  1.4348e-01]],\n",
            "\n",
            "         [[-8.7340e-01,  1.0834e+00, -1.9466e-01,  ...,  8.2700e-01,\n",
            "            1.1680e+00, -1.8392e-01],\n",
            "          [ 1.2223e+00, -4.2697e-01,  8.8449e-01,  ..., -1.8783e+00,\n",
            "            1.7958e+00,  1.2378e-01],\n",
            "          [-1.7453e+00, -1.2404e+00,  8.2750e-01,  ..., -4.4932e-01,\n",
            "           -8.5315e-01, -5.6161e-01],\n",
            "          ...,\n",
            "          [-8.5479e-01, -2.2733e-01, -8.2292e-01,  ..., -3.0024e-01,\n",
            "            1.8449e+00,  1.6317e-02],\n",
            "          [ 2.1125e+00,  1.0615e-01, -1.0945e+00,  ..., -1.1810e-02,\n",
            "           -1.1478e+00, -1.1426e+00],\n",
            "          [-1.1260e-01,  4.6434e-01,  1.1008e+00,  ..., -2.6149e+00,\n",
            "            1.2341e+00, -1.2536e-01]],\n",
            "\n",
            "         [[-7.9567e-01, -4.4317e-02, -6.0470e-01,  ..., -4.3671e-01,\n",
            "           -3.6849e-01, -1.8993e+00],\n",
            "          [ 8.3130e-01,  6.2371e-02, -8.9579e-01,  ...,  1.1778e+00,\n",
            "            3.7954e-02, -5.5912e-01],\n",
            "          [ 5.9148e-02,  2.2666e+00, -2.6418e-01,  ..., -7.9841e-01,\n",
            "            6.9858e-01,  4.9750e-01],\n",
            "          ...,\n",
            "          [ 4.8341e-01, -9.6340e-01, -2.8499e-01,  ..., -4.6995e-01,\n",
            "           -9.3905e-02, -5.9710e-01],\n",
            "          [ 9.0861e-01, -3.5407e-01,  2.9001e-01,  ..., -1.6935e+00,\n",
            "           -4.0909e-01,  5.5819e-01],\n",
            "          [ 4.8169e-01,  7.1074e-01, -1.3043e+00,  ..., -6.9439e-01,\n",
            "           -1.4924e+00, -1.1147e+00]],\n",
            "\n",
            "         ...,\n",
            "\n",
            "         [[-1.1493e+00,  7.6921e-02, -1.3017e+00,  ...,  5.9733e-01,\n",
            "           -4.1272e-01, -1.2903e-01],\n",
            "          [ 3.2950e-01,  8.9106e-01,  1.0631e+00,  ..., -7.8680e-01,\n",
            "            8.3087e-01,  3.3610e-01],\n",
            "          [-3.5489e-01, -1.9953e+00,  5.2560e-01,  ...,  2.0130e+00,\n",
            "           -4.0560e-01,  3.3963e-01],\n",
            "          ...,\n",
            "          [ 7.0671e-01,  5.6613e-01, -1.4968e+00,  ..., -1.7771e+00,\n",
            "           -1.0716e+00, -1.0512e-01],\n",
            "          [ 1.1384e-01,  1.3147e+00, -1.1319e-01,  ...,  1.1006e+00,\n",
            "           -9.6621e-01,  5.8741e-02],\n",
            "          [ 1.3520e+00, -7.1515e-01,  1.3966e+00,  ...,  9.5096e-02,\n",
            "            7.2344e-01,  1.7021e-02]],\n",
            "\n",
            "         [[-3.4317e-01, -1.2613e+00, -1.4974e+00,  ..., -7.3028e-01,\n",
            "            2.9329e-01, -2.1433e-01],\n",
            "          [ 8.4156e-01, -3.1969e-01,  4.0148e-01,  ...,  1.1479e-01,\n",
            "            1.7412e+00,  3.6600e-01],\n",
            "          [ 1.1755e+00,  4.8054e-01,  8.5628e-01,  ..., -9.9684e-02,\n",
            "           -1.1176e-01,  6.3057e-01],\n",
            "          ...,\n",
            "          [-3.5200e-01,  1.4899e+00,  1.7749e-01,  ..., -1.2326e+00,\n",
            "           -1.9288e-01,  7.7100e-01],\n",
            "          [ 1.4665e+00, -7.1575e-01, -1.7570e-01,  ...,  1.6669e-01,\n",
            "           -1.3836e-01,  1.1894e+00],\n",
            "          [-9.1718e-01, -5.1707e-01,  6.0166e-01,  ...,  1.0230e+00,\n",
            "           -2.1336e-01,  1.6609e+00]],\n",
            "\n",
            "         [[-4.0791e-01, -1.2797e-02,  6.1770e-01,  ..., -9.8938e-01,\n",
            "           -7.4198e-02,  2.0281e+00],\n",
            "          [ 7.6332e-01, -4.5816e-01, -7.3367e-01,  ..., -3.4253e-01,\n",
            "            7.5252e-01, -1.2876e+00],\n",
            "          [-8.3160e-01, -8.3851e-02,  1.1771e-01,  ...,  5.9318e-01,\n",
            "           -2.9117e-01,  1.5104e+00],\n",
            "          ...,\n",
            "          [-1.4602e-01,  1.6062e+00,  9.3022e-01,  ...,  3.9784e-01,\n",
            "           -8.2271e-01,  1.0130e+00],\n",
            "          [ 1.3829e+00,  2.6975e+00, -4.8395e-02,  ..., -7.0462e-02,\n",
            "           -7.3020e-02,  1.0661e+00],\n",
            "          [-2.0195e+00,  7.9833e-02, -8.5632e-02,  ...,  1.4670e+00,\n",
            "           -6.3796e-01, -1.5758e+00]]]])\n",
            "tensor([[[[ 5.2846e-01,  2.4975e-01, -3.4354e-01,  ...,  3.0255e-01,\n",
            "            3.1527e-01, -8.3949e-02],\n",
            "          [ 4.6691e-02, -3.2642e-01, -2.6035e-01,  ...,  5.5644e-01,\n",
            "            4.7922e-01,  2.1673e-01],\n",
            "          [-3.3410e-01, -3.8051e-01, -2.5303e-02,  ..., -5.7211e-01,\n",
            "           -4.2613e-01,  4.0571e-01],\n",
            "          ...,\n",
            "          [-5.2243e-01,  8.5711e-02,  6.5666e-01,  ...,  5.1283e-01,\n",
            "            7.7110e-01,  1.9786e-01],\n",
            "          [-1.9690e-02,  1.6840e-01,  5.0744e-01,  ...,  5.6387e-01,\n",
            "           -6.0893e-01, -3.7045e-01],\n",
            "          [-4.6543e-01,  1.5189e-01,  6.5704e-01,  ...,  2.9883e-02,\n",
            "           -6.8633e-01, -3.8539e-01]],\n",
            "\n",
            "         [[ 2.0114e-01,  6.2196e-02, -2.2483e-02,  ..., -2.3711e-01,\n",
            "            3.2392e-01, -2.2525e-01],\n",
            "          [ 2.5473e-01, -4.8110e-02, -6.4732e-01,  ...,  1.3652e-01,\n",
            "           -3.3595e-01, -1.0283e-01],\n",
            "          [ 3.3101e-01,  3.5497e-01,  5.0384e-01,  ..., -2.0874e-01,\n",
            "           -6.6813e-01,  5.1576e-02],\n",
            "          ...,\n",
            "          [-3.3028e-01,  7.3834e-01,  1.4951e-01,  ...,  2.4066e-01,\n",
            "            6.5205e-01,  4.8215e-01],\n",
            "          [ 2.9739e-01,  1.3872e-01, -3.7371e-01,  ...,  4.3399e-01,\n",
            "            2.0301e-01,  2.2735e-01],\n",
            "          [-3.4045e-02,  5.0654e-01, -2.0508e-02,  ...,  3.9989e-01,\n",
            "            2.0839e-01, -2.2959e-01]],\n",
            "\n",
            "         [[-2.7489e-01,  3.8703e-01, -1.8029e-01,  ..., -3.2832e-02,\n",
            "            2.4049e-01,  1.7576e-01],\n",
            "          [-5.4933e-01,  2.2504e-02,  1.1480e-01,  ..., -1.3287e-01,\n",
            "            1.8672e-01, -5.0073e-01],\n",
            "          [-1.8026e-01, -2.0190e-02,  1.4001e+00,  ...,  1.0571e-01,\n",
            "            9.1520e-01, -3.8280e-01],\n",
            "          ...,\n",
            "          [-1.6427e-01, -6.0451e-01,  1.1504e-01,  ..., -1.3291e+00,\n",
            "           -1.7740e-01, -5.4693e-01],\n",
            "          [-5.5174e-01, -1.6051e-01, -4.9222e-01,  ..., -6.0058e-01,\n",
            "           -2.6900e-01, -5.4719e-01],\n",
            "          [ 2.2500e-02, -2.8412e-01,  3.2000e-02,  ..., -7.2190e-01,\n",
            "            2.4881e-01, -4.6290e-01]],\n",
            "\n",
            "         ...,\n",
            "\n",
            "         [[ 3.2016e-02, -3.4259e-01, -2.6848e-01,  ...,  4.2378e-02,\n",
            "           -3.6175e-01, -5.4202e-01],\n",
            "          [ 4.9427e-02,  1.6697e-01,  7.3116e-01,  ...,  1.3642e-01,\n",
            "           -2.9944e-01,  3.4865e-01],\n",
            "          [ 5.4646e-01, -4.7722e-01, -1.0720e+00,  ..., -1.6416e-01,\n",
            "            7.8502e-02, -3.4423e-01],\n",
            "          ...,\n",
            "          [ 2.3302e-01, -4.2383e-01,  3.9977e-02,  ..., -1.0183e+00,\n",
            "           -1.7274e-01,  5.0076e-01],\n",
            "          [-4.2957e-01,  3.3799e-02, -5.3069e-01,  ..., -9.7745e-02,\n",
            "           -4.2596e-01,  2.1775e-01],\n",
            "          [-4.3594e-01, -1.8232e-01,  5.0947e-01,  ...,  2.8919e-01,\n",
            "           -4.1436e-01, -1.7426e-01]],\n",
            "\n",
            "         [[-1.1506e-01, -1.9590e-01,  3.2688e-01,  ..., -2.0681e-01,\n",
            "            3.5426e-01,  2.2999e-01],\n",
            "          [-6.5038e-01,  8.1867e-01, -5.5155e-01,  ...,  2.9767e-01,\n",
            "           -3.0353e-01, -3.8228e-01],\n",
            "          [ 1.9857e-02, -1.4060e-01,  9.6262e-01,  ...,  6.4562e-01,\n",
            "            1.0851e-01,  1.2356e-01],\n",
            "          ...,\n",
            "          [-9.2957e-01,  3.7954e-01,  4.3835e-01,  ..., -3.7479e-01,\n",
            "            6.3581e-01,  2.4759e-01],\n",
            "          [ 1.6155e-01, -2.6386e-01, -7.1352e-01,  ..., -2.4750e-01,\n",
            "            5.5136e-02, -1.3186e-01],\n",
            "          [-3.1564e-01,  5.4025e-03,  4.5157e-01,  ...,  4.8790e-01,\n",
            "            1.5118e-01, -4.4062e-01]],\n",
            "\n",
            "         [[-2.7487e-01,  1.4723e-01, -4.2691e-01,  ..., -1.3307e-01,\n",
            "            3.0955e-01,  1.2161e-01],\n",
            "          [-1.6428e-01, -8.7447e-01, -7.7926e-01,  ..., -1.5890e-01,\n",
            "            2.6452e-01, -8.1088e-02],\n",
            "          [ 3.6404e-01,  3.4067e-01, -1.2203e-01,  ...,  2.5608e-01,\n",
            "            2.0424e-01, -7.0610e-01],\n",
            "          ...,\n",
            "          [ 2.5983e-01, -5.7116e-01,  1.1657e+00,  ..., -1.7267e-01,\n",
            "           -4.2192e-01,  4.1915e-01],\n",
            "          [ 3.0563e-01,  6.4393e-01,  4.5115e-03,  ...,  3.3766e-01,\n",
            "            1.8539e-01,  1.6842e-01],\n",
            "          [ 1.9399e-01,  5.1008e-01, -1.0678e-01,  ..., -9.0111e-01,\n",
            "            7.4115e-02,  1.1547e-01]]],\n",
            "\n",
            "\n",
            "        [[[ 3.3370e-01, -1.8597e-01, -1.1949e-01,  ...,  2.2289e-01,\n",
            "           -2.9467e-01, -1.3355e-01],\n",
            "          [-3.0118e-01, -3.7032e-01,  1.4737e-01,  ..., -1.0772e+00,\n",
            "           -5.2125e-01,  1.3839e-01],\n",
            "          [-2.0154e-01,  5.2728e-02, -8.3498e-01,  ..., -1.0038e-01,\n",
            "           -2.2626e-01,  4.6736e-02],\n",
            "          ...,\n",
            "          [-4.3681e-02,  5.1648e-01, -6.8420e-01,  ...,  5.1771e-01,\n",
            "            2.8424e-01, -1.2404e-01],\n",
            "          [-9.2810e-02,  1.0377e-01, -4.6452e-01,  ..., -8.9562e-01,\n",
            "            3.2695e-01,  5.5342e-01],\n",
            "          [-6.6477e-01, -2.1332e-01,  3.9687e-01,  ...,  3.6350e-02,\n",
            "            1.0048e-01, -4.2260e-01]],\n",
            "\n",
            "         [[-3.5986e-01, -8.4813e-02,  1.5738e-01,  ...,  2.8851e-01,\n",
            "           -5.5012e-02, -8.4952e-02],\n",
            "          [-2.8952e-01,  5.9893e-02, -1.7298e-01,  ..., -5.4784e-02,\n",
            "            1.3018e-01, -1.7544e-01],\n",
            "          [ 2.1709e-01,  9.6904e-01,  3.2060e-01,  ...,  5.0544e-01,\n",
            "           -4.2114e-01, -6.9798e-01],\n",
            "          ...,\n",
            "          [ 7.9101e-01, -2.6005e-01, -7.8587e-01,  ...,  2.8907e-01,\n",
            "           -1.0043e+00, -3.5251e-01],\n",
            "          [-4.3897e-01, -1.0479e-01, -1.9989e-01,  ..., -1.5020e-01,\n",
            "           -3.4106e-01,  2.0986e-01],\n",
            "          [-3.5712e-01, -5.0705e-01, -1.8071e-01,  ..., -1.2485e-01,\n",
            "           -2.5683e-01,  1.3596e-01]],\n",
            "\n",
            "         [[-5.7662e-02,  1.6020e-02,  1.6996e-02,  ..., -3.5045e-02,\n",
            "           -3.1012e-02,  8.2756e-02],\n",
            "          [-1.7815e-01,  1.8945e-01, -1.5638e-01,  ...,  9.4657e-01,\n",
            "           -2.3581e-01, -3.5591e-03],\n",
            "          [ 1.5043e-01,  9.0806e-02,  8.9370e-02,  ...,  2.5383e-01,\n",
            "            3.7266e-02, -5.9057e-01],\n",
            "          ...,\n",
            "          [-2.6090e-01,  7.6075e-01, -2.8298e-01,  ..., -6.7578e-02,\n",
            "           -4.5762e-01,  6.5287e-01],\n",
            "          [-7.6902e-02,  1.6089e-02, -1.6652e-01,  ..., -2.7343e-01,\n",
            "            3.7505e-01, -1.2706e-01],\n",
            "          [-2.8672e-01,  1.8012e+00, -4.6388e-01,  ..., -2.4107e-01,\n",
            "           -1.8005e-01, -6.0977e-01]],\n",
            "\n",
            "         ...,\n",
            "\n",
            "         [[-1.4727e-01, -1.4765e-01,  1.4726e-01,  ..., -8.7020e-02,\n",
            "            1.7409e-01, -4.3088e-02],\n",
            "          [ 2.0332e-01,  4.4371e-01,  1.2761e-01,  ...,  8.1571e-01,\n",
            "            4.7548e-01, -6.2853e-02],\n",
            "          [-8.7905e-01, -3.6717e-01,  5.9505e-01,  ...,  4.0698e-02,\n",
            "           -9.6852e-01,  1.8929e-01],\n",
            "          ...,\n",
            "          [-3.0911e-01, -2.1986e-01,  6.9459e-01,  ...,  9.2574e-01,\n",
            "            3.7327e-01, -6.7272e-01],\n",
            "          [ 2.6495e-01,  4.5860e-01, -2.7333e-02,  ..., -5.8669e-01,\n",
            "           -5.9937e-01, -4.7507e-01],\n",
            "          [-4.7032e-01,  4.2708e-01, -7.2176e-01,  ...,  4.6383e-01,\n",
            "           -4.5622e-01, -2.7106e-01]],\n",
            "\n",
            "         [[-2.0442e-01,  5.6819e-01,  2.7471e-01,  ..., -1.2079e-01,\n",
            "            2.8815e-01, -1.5019e-01],\n",
            "          [-4.6374e-02,  4.6247e-01, -2.1813e-01,  ..., -3.7947e-01,\n",
            "            3.5523e-02,  5.9769e-02],\n",
            "          [ 2.9230e-02, -5.4955e-01, -1.8543e-01,  ...,  1.0127e+00,\n",
            "           -6.2434e-02,  3.7997e-01],\n",
            "          ...,\n",
            "          [ 1.2247e+00,  1.0640e-01,  2.5649e-01,  ..., -2.2608e-01,\n",
            "            1.6677e-01,  7.3190e-02],\n",
            "          [-1.4437e-01,  7.0016e-02, -4.3010e-01,  ...,  4.9135e-01,\n",
            "            7.4830e-01,  8.2216e-01],\n",
            "          [ 1.0224e-01,  1.2534e-01,  1.2000e-01,  ...,  1.4522e-03,\n",
            "           -2.0261e-01, -8.6525e-01]],\n",
            "\n",
            "         [[ 7.2861e-02, -3.2916e-01,  9.8364e-02,  ...,  2.0526e-02,\n",
            "           -1.2428e-01, -4.1214e-01],\n",
            "          [ 2.4299e-01,  4.6233e-01,  7.1516e-03,  ...,  2.3030e-01,\n",
            "           -1.6290e-01, -2.4479e-02],\n",
            "          [-2.7128e-01, -5.5560e-01,  1.1465e+00,  ...,  5.9784e-01,\n",
            "            4.2603e-01, -9.7081e-01],\n",
            "          ...,\n",
            "          [ 5.3721e-01,  6.6112e-01,  1.0778e+00,  ..., -9.7185e-01,\n",
            "            3.4028e-01, -2.1053e-01],\n",
            "          [-3.6948e-01,  2.9523e-01,  1.9922e-01,  ..., -3.8757e-01,\n",
            "           -4.4894e-01,  2.3627e-01],\n",
            "          [ 6.9966e-02,  4.2118e-01,  9.8637e-02,  ..., -3.4853e-01,\n",
            "            5.1922e-01,  7.6674e-01]]],\n",
            "\n",
            "\n",
            "        [[[ 2.4004e-01, -5.6556e-02,  4.3904e-01,  ..., -1.1809e-01,\n",
            "            3.4640e-02, -4.0649e-02],\n",
            "          [-1.8512e-01,  3.4675e-01,  2.5157e-02,  ..., -3.9448e-01,\n",
            "            1.2099e-01, -4.7520e-01],\n",
            "          [-5.3571e-01, -9.1815e-01, -1.7768e-01,  ..., -4.9359e-01,\n",
            "            3.8168e-01,  2.8349e-01],\n",
            "          ...,\n",
            "          [-2.3444e-01, -3.0347e-01, -6.2177e-01,  ...,  3.4115e-01,\n",
            "            8.1336e-01,  2.7119e-01],\n",
            "          [ 6.5946e-01,  4.3826e-01,  5.8097e-01,  ..., -8.3043e-02,\n",
            "           -4.5056e-01, -2.1568e-01],\n",
            "          [-4.1854e-01, -5.7055e-01, -1.7126e-01,  ...,  3.0262e-02,\n",
            "            4.5579e-01,  1.1583e-01]],\n",
            "\n",
            "         [[ 1.6403e-01, -5.6942e-01, -4.2492e-01,  ...,  3.5978e-01,\n",
            "           -1.5339e-01, -1.9944e-01],\n",
            "          [ 8.2769e-02, -8.6500e-01, -3.2123e-01,  ...,  4.4397e-01,\n",
            "           -6.8729e-01,  3.9656e-01],\n",
            "          [ 3.0417e-01,  6.3532e-01,  1.6186e-01,  ...,  7.3452e-01,\n",
            "            8.1549e-01,  4.6439e-01],\n",
            "          ...,\n",
            "          [-2.3449e-01, -5.5185e-01, -2.4512e-01,  ..., -1.4146e+00,\n",
            "           -1.1077e+00, -2.0603e-01],\n",
            "          [ 2.1387e-01, -5.5616e-01,  4.2427e-02,  ...,  9.5490e-03,\n",
            "            1.2247e-01, -2.0787e-01],\n",
            "          [-6.4689e-02,  3.5906e-01, -1.2484e-01,  ...,  1.9429e-01,\n",
            "            8.0957e-02,  3.7931e-02]],\n",
            "\n",
            "         [[-6.7142e-02,  3.6544e-02,  2.5332e-01,  ..., -2.3055e-01,\n",
            "           -1.5435e-01, -3.8795e-02],\n",
            "          [ 5.5269e-01,  4.1390e-01,  5.0508e-01,  ..., -3.0287e-02,\n",
            "           -4.1030e-02,  2.3729e-01],\n",
            "          [-3.8120e-02,  1.6278e-01,  1.4326e+00,  ...,  2.1771e-01,\n",
            "            3.3513e-01, -8.2723e-02],\n",
            "          ...,\n",
            "          [ 3.2502e-01, -2.1432e-01, -3.1910e-01,  ..., -2.3433e-01,\n",
            "           -2.2333e-01,  3.4069e-02],\n",
            "          [ 2.7429e-01, -4.7638e-01,  9.2981e-01,  ...,  6.6000e-01,\n",
            "           -1.9367e-01,  3.5247e-01],\n",
            "          [-5.5932e-02, -3.2679e-01,  5.3975e-01,  ..., -2.4850e-01,\n",
            "           -2.4130e-01, -1.2263e-02]],\n",
            "\n",
            "         ...,\n",
            "\n",
            "         [[ 3.4315e-01,  1.1853e-01,  1.8117e-01,  ..., -2.1666e-02,\n",
            "            5.3121e-01, -1.4212e-02],\n",
            "          [-3.2364e-01, -1.6526e-01,  1.5439e-01,  ..., -8.4869e-01,\n",
            "           -1.3759e-01,  2.3889e-01],\n",
            "          [-5.9941e-01, -6.1205e-01,  2.1581e-01,  ...,  8.3503e-02,\n",
            "           -1.5296e-01, -4.7894e-03],\n",
            "          ...,\n",
            "          [ 8.8652e-01, -1.2671e-02,  2.3676e-01,  ...,  5.2843e-01,\n",
            "            1.5419e-02,  3.1405e-01],\n",
            "          [ 9.0474e-01,  2.0081e-01, -2.5458e-01,  ...,  2.5936e-02,\n",
            "           -6.0838e-01,  7.9355e-02],\n",
            "          [-4.8209e-01, -5.1637e-01,  1.3172e-01,  ...,  2.3218e-01,\n",
            "            1.6840e-01,  5.6114e-01]],\n",
            "\n",
            "         [[-3.7538e-01,  5.1274e-02,  2.0522e-01,  ...,  9.1146e-01,\n",
            "            8.9948e-02, -1.8320e-01],\n",
            "          [ 5.9650e-01,  3.8245e-01,  4.5236e-01,  ...,  1.8807e-01,\n",
            "            2.6650e-01, -7.0933e-01],\n",
            "          [-1.0558e-01,  3.5875e-01, -5.3525e-01,  ...,  6.4200e-01,\n",
            "            6.3108e-02,  7.1723e-01],\n",
            "          ...,\n",
            "          [-1.3441e-01, -5.5683e-01,  3.1449e-01,  ..., -2.7267e-01,\n",
            "           -2.1352e-01,  3.0318e-01],\n",
            "          [-4.0115e-01,  3.6516e-01, -5.5602e-01,  ..., -3.0161e-01,\n",
            "            3.7176e-01,  2.0901e-01],\n",
            "          [ 3.6988e-01,  3.1958e-01,  1.2729e+00,  ..., -6.1287e-01,\n",
            "           -4.4519e-01, -7.3979e-01]],\n",
            "\n",
            "         [[ 2.8555e-01,  6.5049e-02,  2.7902e-03,  ...,  5.7794e-02,\n",
            "           -9.0617e-02,  1.9400e-01],\n",
            "          [ 8.8830e-02,  1.7517e-01,  7.4938e-01,  ..., -2.2802e-01,\n",
            "           -3.5118e-01,  4.9268e-01],\n",
            "          [ 3.8643e-01, -1.6827e-01,  3.6180e-01,  ..., -6.2414e-01,\n",
            "           -1.6634e-01,  4.4285e-01],\n",
            "          ...,\n",
            "          [ 9.1315e-02, -4.0144e-02, -4.4515e-01,  ...,  7.3275e-01,\n",
            "            7.3029e-01, -5.1151e-01],\n",
            "          [-4.9484e-02, -5.2836e-02, -7.6558e-01,  ..., -3.1469e-01,\n",
            "            5.0309e-01, -6.2844e-01],\n",
            "          [-5.5191e-02,  1.5979e-02, -4.7235e-01,  ..., -5.3357e-03,\n",
            "           -2.0998e-01,  6.8225e-02]]],\n",
            "\n",
            "\n",
            "        ...,\n",
            "\n",
            "\n",
            "        [[[-1.6148e-01, -2.5254e-02, -2.2261e-01,  ..., -5.1327e-01,\n",
            "           -4.4116e-02, -1.6922e-01],\n",
            "          [-1.9970e-01,  4.9664e-01, -1.0448e-01,  ...,  1.4363e-01,\n",
            "            4.0963e-02, -4.9084e-01],\n",
            "          [-7.7719e-01, -2.6448e-01,  5.3391e-01,  ..., -2.6826e-01,\n",
            "            8.6221e-01, -2.4384e-01],\n",
            "          ...,\n",
            "          [-4.4582e-01, -7.9879e-02, -2.8366e-01,  ...,  1.1367e+00,\n",
            "            6.5630e-02, -1.7477e-04],\n",
            "          [ 1.1612e-01, -1.1922e-01, -1.3259e-02,  ..., -4.8540e-01,\n",
            "           -1.2041e-01, -2.0951e-01],\n",
            "          [-5.7275e-02, -6.6067e-01,  4.9415e-01,  ...,  8.9120e-02,\n",
            "            7.2078e-01,  7.2431e-01]],\n",
            "\n",
            "         [[ 6.7862e-01,  4.8231e-01,  1.1033e-01,  ..., -1.7626e-01,\n",
            "           -6.3328e-01,  9.3282e-02],\n",
            "          [-1.3983e-01, -4.0440e-01,  7.2186e-01,  ..., -1.9255e-01,\n",
            "            8.1699e-02,  1.9764e-01],\n",
            "          [-8.4372e-01,  3.4869e-01,  7.6039e-02,  ...,  2.6949e-01,\n",
            "           -2.9252e-01, -1.0275e+00],\n",
            "          ...,\n",
            "          [-2.9578e-01, -3.9638e-01, -4.6477e-01,  ...,  8.0217e-01,\n",
            "           -3.4589e-01, -8.1955e-02],\n",
            "          [-5.8256e-01, -8.3168e-01,  4.2836e-02,  ...,  1.0012e+00,\n",
            "            3.6129e-01, -5.6213e-01],\n",
            "          [-4.7022e-01, -6.7560e-01,  3.3394e-02,  ..., -6.4334e-02,\n",
            "            1.6620e-02, -1.7257e-01]],\n",
            "\n",
            "         [[-2.9563e-01,  2.3294e-01,  3.5556e-01,  ...,  6.2475e-01,\n",
            "            3.1477e-02,  2.8470e-02],\n",
            "          [ 5.9068e-02, -3.3297e-01,  6.0989e-01,  ...,  1.0634e-01,\n",
            "           -4.9543e-02, -1.6113e-01],\n",
            "          [ 1.3900e-01,  2.6466e-03,  2.5308e-01,  ..., -5.3898e-01,\n",
            "            1.5658e-01,  9.1381e-01],\n",
            "          ...,\n",
            "          [-2.9930e-01, -4.6428e-01, -6.7078e-01,  ..., -8.3033e-02,\n",
            "            1.0676e+00,  1.8776e-01],\n",
            "          [ 1.4940e-01, -2.5994e-01,  5.6780e-02,  ...,  3.9822e-01,\n",
            "           -8.7570e-01,  4.0187e-01],\n",
            "          [ 5.1070e-01, -1.4509e-01,  6.9349e-01,  ..., -5.3146e-01,\n",
            "            4.8236e-01, -8.7153e-02]],\n",
            "\n",
            "         ...,\n",
            "\n",
            "         [[-7.6078e-02,  1.4155e-01,  3.4392e-01,  ..., -3.0129e-01,\n",
            "           -2.7187e-01,  1.1820e-02],\n",
            "          [-7.5916e-02, -2.0046e-01,  5.4021e-02,  ...,  2.4765e-01,\n",
            "           -6.8689e-01,  1.0146e-01],\n",
            "          [ 5.4081e-01, -2.0379e-02, -1.4471e+00,  ..., -3.9708e-01,\n",
            "            9.8571e-02,  9.6684e-02],\n",
            "          ...,\n",
            "          [ 2.2017e-01,  2.2957e-01, -1.6866e-01,  ...,  7.8979e-01,\n",
            "           -6.8045e-01,  1.5491e-01],\n",
            "          [ 6.5887e-01,  6.7119e-01, -8.2698e-02,  ...,  1.8324e-01,\n",
            "           -4.3867e-01,  7.8768e-02],\n",
            "          [-3.8002e-01, -3.9338e-01, -6.8935e-01,  ..., -1.6225e-01,\n",
            "            4.9952e-01, -2.5532e-01]],\n",
            "\n",
            "         [[ 2.0176e-01, -8.7933e-02,  3.6475e-02,  ..., -8.4570e-03,\n",
            "           -2.1377e-02, -4.0248e-01],\n",
            "          [-2.7596e-01,  3.2237e-02, -5.0006e-02,  ...,  1.3782e-01,\n",
            "            3.7150e-01,  6.4640e-01],\n",
            "          [ 2.5639e-01, -8.1221e-02,  7.1151e-01,  ...,  2.7135e-01,\n",
            "            4.9264e-01, -1.4598e-01],\n",
            "          ...,\n",
            "          [-2.1752e-01, -8.0972e-01,  1.4988e-01,  ...,  3.8542e-01,\n",
            "           -3.2518e-01, -3.2582e-01],\n",
            "          [-2.0908e-01, -5.4913e-01, -6.6231e-01,  ...,  4.7660e-01,\n",
            "            2.9101e-01,  1.4579e-01],\n",
            "          [-8.2518e-01,  5.5530e-01, -4.2258e-01,  ..., -1.8123e-01,\n",
            "           -7.1769e-01, -1.6772e-01]],\n",
            "\n",
            "         [[-2.5290e-01,  1.8388e-01, -1.0672e-01,  ..., -1.6094e-01,\n",
            "           -2.8676e-01, -2.7568e-02],\n",
            "          [ 2.6991e-01, -5.3923e-01, -4.1898e-01,  ...,  5.0972e-01,\n",
            "            3.8642e-01,  1.7602e-01],\n",
            "          [-4.2690e-01, -1.2904e+00,  4.2927e-01,  ...,  1.0773e+00,\n",
            "           -5.9553e-02, -1.8261e-01],\n",
            "          ...,\n",
            "          [ 1.3282e-01, -6.8231e-01, -4.8608e-01,  ..., -9.3889e-01,\n",
            "           -7.1566e-01, -5.7289e-01],\n",
            "          [-2.0638e-01, -1.9372e-01,  5.5335e-01,  ...,  2.6135e-01,\n",
            "            7.5271e-02, -7.6664e-02],\n",
            "          [-2.6563e-01, -5.1406e-01, -4.2723e-01,  ..., -3.5733e-01,\n",
            "           -4.0705e-01,  3.8306e-01]]],\n",
            "\n",
            "\n",
            "        [[[-5.0175e-02,  1.0151e-01,  8.7079e-02,  ..., -8.5029e-01,\n",
            "           -5.6965e-01, -2.4139e-01],\n",
            "          [ 4.3922e-02, -8.9827e-03, -1.0036e+00,  ..., -1.5041e-01,\n",
            "            6.9184e-01,  5.1088e-01],\n",
            "          [ 2.9697e-01, -3.6875e-01, -5.3212e-01,  ..., -2.6376e-01,\n",
            "           -3.9871e-01,  5.0165e-01],\n",
            "          ...,\n",
            "          [-7.4552e-01, -3.8378e-01, -1.9326e-01,  ..., -4.0076e-01,\n",
            "            3.8000e-02, -7.6794e-01],\n",
            "          [ 3.2436e-01, -2.9218e-01,  2.8343e-01,  ..., -2.3160e-02,\n",
            "           -6.9663e-01,  1.6477e-01],\n",
            "          [ 3.0270e-01, -5.9407e-01, -1.7308e-01,  ..., -2.4486e-01,\n",
            "           -2.6565e-01, -3.2827e-01]],\n",
            "\n",
            "         [[ 3.9616e-02,  1.4648e-02, -1.2092e-01,  ...,  5.9120e-01,\n",
            "           -3.0229e-01, -4.5995e-01],\n",
            "          [ 1.8207e-01, -1.3019e-01,  3.6992e-01,  ..., -4.7196e-01,\n",
            "            3.6449e-01,  6.7860e-04],\n",
            "          [-1.9661e-01,  8.7491e-01,  5.1887e-03,  ..., -5.1186e-01,\n",
            "           -2.0460e-01, -3.4369e-01],\n",
            "          ...,\n",
            "          [-3.7775e-01,  5.0840e-01,  3.2351e-01,  ...,  5.9985e-01,\n",
            "           -4.3320e-01,  4.4551e-01],\n",
            "          [-1.5777e-02, -1.3253e-01,  4.0939e-04,  ...,  9.5588e-02,\n",
            "            2.0838e-01,  3.7787e-01],\n",
            "          [-1.7777e-01, -4.2830e-01, -2.4146e-01,  ...,  2.4830e-01,\n",
            "            1.2905e-02, -7.4011e-02]],\n",
            "\n",
            "         [[ 1.3367e-01, -2.6355e-01,  4.1131e-01,  ..., -2.9719e-01,\n",
            "            2.0859e-01,  5.4206e-01],\n",
            "          [ 4.5916e-01,  5.5115e-01, -3.0095e-01,  ...,  3.6928e-01,\n",
            "           -2.8035e-01, -5.6686e-02],\n",
            "          [-2.0368e-01, -8.1177e-01,  2.1944e-01,  ...,  1.4334e-01,\n",
            "            4.9254e-01,  9.9819e-01],\n",
            "          ...,\n",
            "          [-7.5991e-01,  2.5985e-01,  7.6632e-01,  ...,  1.7139e-01,\n",
            "            3.9174e-02,  6.7045e-01],\n",
            "          [ 8.3853e-02,  4.3355e-01,  4.7228e-01,  ...,  4.0693e-01,\n",
            "            5.0086e-01, -3.9861e-01],\n",
            "          [ 3.3357e-02,  2.6376e-01, -7.0560e-01,  ..., -6.8324e-01,\n",
            "            4.8773e-01,  6.1555e-01]],\n",
            "\n",
            "         ...,\n",
            "\n",
            "         [[ 2.8733e-02,  9.3505e-02, -1.5535e-01,  ...,  1.7089e-01,\n",
            "            4.9950e-01,  2.6989e-03],\n",
            "          [ 9.8394e-03, -9.7465e-02,  7.8912e-01,  ...,  3.0199e-01,\n",
            "           -3.9224e-01,  2.5966e-01],\n",
            "          [ 8.4070e-01, -8.5219e-01,  2.5846e-01,  ..., -2.2635e-01,\n",
            "           -6.2397e-01,  1.7086e-02],\n",
            "          ...,\n",
            "          [ 2.2162e-01, -4.3016e-02, -1.3382e-01,  ..., -8.9071e-02,\n",
            "           -2.1805e-01, -2.3205e-01],\n",
            "          [ 1.5583e-01,  6.0602e-01,  1.2886e-01,  ...,  4.3811e-02,\n",
            "           -8.8745e-02, -1.1280e+00],\n",
            "          [ 1.3666e-01,  4.2475e-01,  3.2784e-01,  ...,  8.7091e-01,\n",
            "           -8.8094e-02, -6.4430e-01]],\n",
            "\n",
            "         [[-3.2910e-01,  3.4326e-01, -9.2598e-02,  ..., -3.8991e-01,\n",
            "            7.5190e-02, -2.5828e-01],\n",
            "          [ 1.3510e-01, -2.2650e-01, -6.8484e-02,  ...,  1.3609e-01,\n",
            "           -1.5039e-01,  2.6271e-01],\n",
            "          [ 4.7044e-01, -1.7735e-01,  2.0464e-02,  ..., -3.1795e-01,\n",
            "            1.1774e-02,  2.4747e-02],\n",
            "          ...,\n",
            "          [-3.4521e-02, -3.5323e-01, -1.9203e-01,  ...,  1.6544e-01,\n",
            "            1.7083e-03,  5.2070e-01],\n",
            "          [-1.2241e-01, -4.1573e-01,  3.1854e-01,  ..., -3.1402e-01,\n",
            "           -5.2270e-01,  7.5176e-01],\n",
            "          [ 5.5048e-02, -6.6482e-01, -5.9699e-01,  ...,  2.1263e-01,\n",
            "            3.2567e-01, -5.5431e-01]],\n",
            "\n",
            "         [[ 8.5789e-02, -3.6435e-01,  5.7182e-01,  ...,  4.5761e-01,\n",
            "            1.6433e-01, -1.8246e-01],\n",
            "          [-3.4427e-01,  1.0041e-02,  7.9434e-01,  ...,  4.8290e-01,\n",
            "            4.3260e-01, -3.2683e-02],\n",
            "          [ 8.4326e-01,  2.3216e-01,  4.7781e-01,  ...,  2.9277e-01,\n",
            "            4.2043e-01,  9.2037e-02],\n",
            "          ...,\n",
            "          [ 3.0054e-01, -1.3409e-01,  1.8305e-02,  ...,  8.2137e-01,\n",
            "            8.5788e-01, -1.0680e-02],\n",
            "          [ 8.8680e-03,  6.0625e-01,  1.1024e+00,  ..., -3.8557e-01,\n",
            "           -3.1692e-01,  9.1510e-02],\n",
            "          [-4.6647e-01, -3.4737e-01,  1.3631e-01,  ...,  7.8867e-02,\n",
            "            1.8060e-01,  3.8924e-01]]],\n",
            "\n",
            "\n",
            "        [[[ 6.7636e-03, -5.8524e-01, -5.6124e-02,  ...,  4.2709e-02,\n",
            "           -6.5934e-01, -4.8564e-01],\n",
            "          [-4.4696e-01,  5.4848e-01, -7.6729e-01,  ...,  4.7226e-01,\n",
            "            3.4067e-02,  3.5314e-01],\n",
            "          [-2.6248e-01,  3.6461e-01,  2.6326e-01,  ..., -7.7484e-01,\n",
            "           -3.0814e-01,  8.1009e-01],\n",
            "          ...,\n",
            "          [ 7.0733e-01, -3.0780e-01,  1.6783e-01,  ..., -7.2228e-01,\n",
            "            1.2415e+00, -3.1079e-01],\n",
            "          [-1.2511e-01,  3.7369e-02, -3.4721e-01,  ...,  6.4643e-01,\n",
            "            3.5939e-01,  1.4209e+00],\n",
            "          [-5.3555e-01,  3.8112e-01, -5.5869e-02,  ..., -2.5063e-01,\n",
            "            1.2595e-02,  9.2729e-01]],\n",
            "\n",
            "         [[ 3.4773e-01, -5.2956e-01,  7.1978e-01,  ...,  9.6217e-01,\n",
            "           -9.6456e-02, -3.3526e-01],\n",
            "          [ 2.4886e-01, -2.9527e-02,  7.0992e-01,  ..., -1.2508e-01,\n",
            "           -2.0111e-01, -2.0567e-01],\n",
            "          [-6.2404e-01,  2.1450e-01, -7.3258e-01,  ...,  1.6422e-01,\n",
            "           -8.9969e-01, -4.2850e-01],\n",
            "          ...,\n",
            "          [-9.2993e-01, -2.0341e-03, -3.7719e-01,  ...,  5.8735e-01,\n",
            "           -8.8021e-02,  2.3505e-02],\n",
            "          [-2.1384e-01, -3.2503e-01,  1.3176e-01,  ...,  8.8724e-01,\n",
            "           -5.7123e-01, -9.3099e-01],\n",
            "          [ 7.1615e-02, -1.2136e-02,  2.0960e-01,  ..., -9.0462e-01,\n",
            "           -1.0618e-01,  4.1895e-01]],\n",
            "\n",
            "         [[-3.5123e-01, -3.6334e-01, -6.2054e-01,  ...,  5.5456e-02,\n",
            "            1.6880e-01,  1.4299e-01],\n",
            "          [ 1.0342e+00, -1.3818e-01,  5.3709e-01,  ...,  5.1673e-02,\n",
            "            4.3876e-01, -1.9912e-01],\n",
            "          [-1.6658e-01, -8.1328e-01, -8.0594e-02,  ...,  1.5330e+00,\n",
            "           -6.5107e-01,  1.0195e+00],\n",
            "          ...,\n",
            "          [-9.4000e-02, -3.0579e-01,  5.2556e-01,  ...,  3.3845e-02,\n",
            "           -6.1857e-01, -8.2422e-01],\n",
            "          [-1.9446e-01,  2.0263e-01, -2.5890e-01,  ...,  7.2168e-02,\n",
            "            2.3290e-02, -2.5560e-01],\n",
            "          [ 9.6533e-01, -6.4149e-01, -3.4196e-02,  ..., -1.1718e-01,\n",
            "            9.4268e-01, -7.0874e-03]],\n",
            "\n",
            "         ...,\n",
            "\n",
            "         [[-8.7330e-02,  5.1559e-02, -2.4152e-01,  ...,  1.2719e-01,\n",
            "            1.0227e-01,  4.9540e-01],\n",
            "          [-1.3840e-01,  2.7496e-01,  9.5873e-01,  ..., -7.8443e-02,\n",
            "            3.7609e-01, -1.3970e-01],\n",
            "          [ 2.5687e-01, -7.6977e-02, -6.7618e-01,  ..., -6.2639e-02,\n",
            "           -5.7184e-01,  9.3268e-01],\n",
            "          ...,\n",
            "          [-2.2707e-01, -4.1091e-01, -6.6778e-01,  ..., -4.7405e-01,\n",
            "            2.6946e-01,  6.0681e-01],\n",
            "          [-6.7734e-03, -5.8748e-01, -4.2053e-01,  ..., -1.6268e-02,\n",
            "            1.5847e-01, -8.1083e-01],\n",
            "          [-2.1779e-01, -6.8367e-01, -1.4194e-02,  ..., -7.3042e-01,\n",
            "            7.5481e-01, -1.9359e-01]],\n",
            "\n",
            "         [[ 1.8949e-01,  1.9718e-01,  1.2299e-01,  ..., -4.8124e-01,\n",
            "           -3.2789e-02, -5.9224e-02],\n",
            "          [-2.6056e-01,  4.0059e-01, -1.2174e+00,  ...,  1.7849e-01,\n",
            "           -5.1574e-01, -2.9568e-01],\n",
            "          [-5.2324e-01,  1.5890e-01, -2.6091e-01,  ..., -7.6241e-01,\n",
            "            1.0710e+00, -8.5245e-01],\n",
            "          ...,\n",
            "          [-3.4611e-01, -2.6333e-01,  4.2135e-01,  ..., -4.9148e-02,\n",
            "           -1.0862e+00,  7.0616e-01],\n",
            "          [-4.1891e-01, -1.7940e-01, -4.6079e-02,  ..., -3.5199e-01,\n",
            "           -4.2686e-02, -1.4782e-01],\n",
            "          [-3.2425e-03, -4.6364e-01,  4.3807e-01,  ...,  1.5699e-01,\n",
            "            6.5464e-01,  1.0162e+00]],\n",
            "\n",
            "         [[-2.4489e-01,  8.5470e-02, -1.2047e-01,  ..., -5.5653e-01,\n",
            "           -3.2426e-01,  1.2691e-01],\n",
            "          [-1.2023e-01,  3.6329e-01, -1.6043e-01,  ...,  1.1552e+00,\n",
            "           -5.1752e-01, -3.3824e-01],\n",
            "          [ 5.5973e-02,  6.1088e-01,  4.6958e-01,  ...,  2.4629e-01,\n",
            "            3.8912e-01,  7.5419e-01],\n",
            "          ...,\n",
            "          [ 6.6366e-01, -5.3705e-01, -5.2847e-01,  ..., -1.8983e-01,\n",
            "           -2.7986e-01,  1.9241e-01],\n",
            "          [-3.4874e-01, -5.0522e-01, -4.2885e-01,  ..., -5.6614e-01,\n",
            "           -1.4770e-01, -3.4891e-02],\n",
            "          [ 3.0952e-01,  1.0395e+00,  2.9558e-01,  ...,  5.2663e-01,\n",
            "           -7.9977e-01, -5.7481e-01]]]], grad_fn=<MkldnnConvolutionBackward0>)\n"
          ]
        }
      ]
    },
    {
      "cell_type": "code",
      "metadata": {
        "id": "RLqGbclbp3_N",
        "colab": {
          "base_uri": "https://localhost:8080/"
        },
        "outputId": "4a1f4e3d-9e88-448b-a374-fbf62ea73fce"
      },
      "source": [
        "print(input.shape)\n",
        "print(output.shape)"
      ],
      "execution_count": 74,
      "outputs": [
        {
          "output_type": "stream",
          "name": "stdout",
          "text": [
            "torch.Size([20, 16, 50, 100])\n",
            "torch.Size([20, 33, 26, 100])\n"
          ]
        }
      ]
    },
    {
      "cell_type": "markdown",
      "metadata": {
        "id": "CYeGAJEuneqW"
      },
      "source": [
        "### nn.functional 패키지\n",
        "\n",
        "- 가중치를 직접 선언하여 인자로 넣어줘야함\n",
        "\n",
        "- 예시)\n",
        "  - Convolution functions\n",
        "\n",
        "  - Pooling functions\n",
        "  \n",
        "  - Non-linear activation functions\n",
        "\n",
        "  - Normalization functions\n",
        "\n",
        "  - Linear functions\n",
        "\n",
        "  - Dropout functions\n",
        "  \n",
        "  - Sparse functions\n",
        "  \n",
        "  - Distance functions\n",
        "\n",
        "  - Loss functions\n",
        "  - ..\n",
        "\n",
        "- https://pytorch.org/docs/stable/nn.functional.html"
      ]
    },
    {
      "cell_type": "code",
      "metadata": {
        "id": "NpwbO9Dhpflm"
      },
      "source": [
        "import torch\n",
        "import torch.nn.functional as F"
      ],
      "execution_count": 75,
      "outputs": []
    },
    {
      "cell_type": "markdown",
      "metadata": {
        "id": "fUYaJ5aLqKed"
      },
      "source": [
        "- Convolution Layer 예시 (2)"
      ]
    },
    {
      "cell_type": "code",
      "metadata": {
        "id": "GAWLQE2GouHP"
      },
      "source": [
        "filters = torch.randn(8,4,3,3)"
      ],
      "execution_count": 76,
      "outputs": []
    },
    {
      "cell_type": "code",
      "metadata": {
        "id": "lWmSlFBrpms1",
        "colab": {
          "base_uri": "https://localhost:8080/"
        },
        "outputId": "e94d5742-5ee3-4174-a514-cf91820a469b"
      },
      "source": [
        "inputs = torch.randn(1,4,5,5)\n",
        "conv = F.conv2d(inputs, filters ,padding=1)\n",
        "print(conv.shape)"
      ],
      "execution_count": 77,
      "outputs": [
        {
          "output_type": "stream",
          "name": "stdout",
          "text": [
            "torch.Size([1, 8, 5, 5])\n"
          ]
        }
      ]
    },
    {
      "cell_type": "markdown",
      "metadata": {
        "id": "Wah4RsmgrRDP"
      },
      "source": [
        "## Torchvision\n",
        "\n",
        "- `transforms`: 전처리할 때 사용하는 메소드\n",
        "\n",
        "- `transforms`에서 제공하는 클래스 이외에  \n",
        "  일반적으로 클래스를 따로 만들어 전처리 단계를 진행\n",
        "  \n",
        "  - 아래의 코드에서 다양한 전처리 기술 확인  \n",
        "    https://pytorch.org/docs/stable/torchvision/transforms.html\n"
      ]
    },
    {
      "cell_type": "code",
      "metadata": {
        "id": "akvq4QWmqSil"
      },
      "source": [
        "import torch\n",
        "import torchvision\n",
        "import torchvision.transforms as transforms"
      ],
      "execution_count": 78,
      "outputs": []
    },
    {
      "cell_type": "markdown",
      "metadata": {
        "id": "PKu5mzyTs-Qj"
      },
      "source": [
        "- 예시)\n",
        "  - `DataLoader`의 인자로 들어갈 `transform`을 미리 정의할 수 있음\n",
        "\n",
        "  - `Compose`를 통해 리스트 안에 순서대로 전처리 진행\n",
        "\n",
        "  - 대표적인 예로, `ToTensor`()를 하는 이유는  \n",
        "   <u>torchvision이 PIL Image형태로만 입력을 받기 때문에</u> 데이터 처리를 위해서 Tensor형으로 변환해야함"
      ]
    },
    {
      "cell_type": "code",
      "metadata": {
        "id": "y6K7FH-Rs9my"
      },
      "source": [
        "transform = transforms.Compose([transforms.ToTensor(), \n",
        "                                transforms.Normalize(mean=(0.5,) ,std=(0.5,))])"
      ],
      "execution_count": 79,
      "outputs": []
    },
    {
      "cell_type": "markdown",
      "metadata": {
        "id": "I4l1GvIlslKa"
      },
      "source": [
        "## utils.data\n",
        "\n",
        "- `Dataset`에는 다양한 데이터셋이 존재  \n",
        "  - MNIST, CIFAR10, ...\n",
        "\n",
        "- `DataLoader`, `Dataset`을 통해  \n",
        "  `batch_size`, `train`여부, `transform`등을 인자로 넣어 데이터를 어떻게 load할 것인지 정해줄 수 있음"
      ]
    },
    {
      "cell_type": "code",
      "metadata": {
        "id": "1wsZKY7-s2Vv"
      },
      "source": [
        "import torch\n",
        "from torch.utils.data import Dataset, DataLoader\n",
        "\n",
        "import torchvision\n",
        "import torchvision.transforms as transforms"
      ],
      "execution_count": 80,
      "outputs": []
    },
    {
      "cell_type": "code",
      "metadata": {
        "id": "lldpI2lquBu3",
        "colab": {
          "base_uri": "https://localhost:8080/",
          "height": 441,
          "referenced_widgets": [
            "09f875f1f66f4928a8e3e2c80d7f2af6",
            "f169e0f11e59425ba0f50998eb6f71a2",
            "debc7cc06dc7426593c70e68d0f1eacc",
            "c23c664f070d4433826d71e458da1fce",
            "38545048d9734583ade4afcb927da586",
            "b46abcb6ef5342c7a965f70a6b133dd6",
            "92c883a8900b48dbb0acf4e495c559bd",
            "199d833adb0c451585f09a4b2428c1ed",
            "636f0744b20c4a66ab20df7015b0653c",
            "1be63a17bb9a4ad2b2ccdd9ea38b91bc",
            "ae1077b5305946c887ed69c010bed0bc",
            "7f6b8a0090f544eeb7ce655f864a17be",
            "859e895bb628488a94fe744e3cce2200",
            "85380c64b2854f8c9d6cd7a06c4ef92b",
            "c367e5e704ed41b884d854614c31cc56",
            "ee61b842f34f41fab271bd1d9be4f8e0",
            "42d6069d312348bbbb6b04baefc80da6",
            "8d9df57b0af0434295f55bdd50b7b84b",
            "1dd8d3dc01e74d3e9ac31be02f07301d",
            "4b5e7b5f17e7403d83f903aa3414d0b1",
            "9ab06fc136144a35bb075d737ad66f51",
            "fc3044e801d347f4af5388c88478e2f9",
            "400f85c07727425baa02f5e6098b71ef",
            "64511aac07994f90903603e098902fe3",
            "eaebb86d7ed24803aa6685592046f216",
            "f3e08b3afc4144f48c83ab45787d53c2",
            "42ebd41cd404446cb7e5b0b34c997180",
            "bc17b46c073c46e399c155ee9532ac0b",
            "5d815947d3154ebb98f65da9550d9dcc",
            "e0efdecbcf5243b99f5460a68ad0c30a",
            "5a9e8345fe0c461fb982913f9f46f1ad",
            "9c098dac585b4a6f82dd0325263248d6",
            "bc07bd5e7d77413b9e04189178cd63e7",
            "a68c1a52d3eb46cea87aa3611e15a9b6",
            "174fb4e596ae4b368609e57822263bc8",
            "e58a740b15904bcdb27cd8767f98b2ff",
            "9bcffda91779426f96b09a57fa46c7bb",
            "28b00f962b6849ae95f8ebda89cca9ce",
            "2f6f36735b4f4a8f9a44ebe22d3e656c",
            "73402c476b004b4c9b76395401ad8310",
            "8d8253abe4e747f580e8522587a66bc6",
            "b7ce94b8903b4a81b6f4037ad531d736",
            "0531b2fc34b44213842a0ae946c89e6a",
            "3f925b76f6604b5297969509dab5519e"
          ]
        },
        "outputId": "b2be383b-a053-4cc9-9d89-055be644b1df"
      },
      "source": [
        "trainset = torchvision.datasets.MNIST(root='/content/',\n",
        "                                      train=True,\n",
        "                                      download=True,\n",
        "                                      transform = transform\n",
        "                                      )\n",
        "\n",
        "testset = torchvision.datasets.MNIST(root='/content/',\n",
        "                                      train=False,\n",
        "                                      download=True,\n",
        "                                      transform = transform\n",
        "                                      )"
      ],
      "execution_count": 81,
      "outputs": [
        {
          "output_type": "stream",
          "name": "stdout",
          "text": [
            "Downloading http://yann.lecun.com/exdb/mnist/train-images-idx3-ubyte.gz\n",
            "Downloading http://yann.lecun.com/exdb/mnist/train-images-idx3-ubyte.gz to /content/MNIST/raw/train-images-idx3-ubyte.gz\n"
          ]
        },
        {
          "output_type": "display_data",
          "data": {
            "application/vnd.jupyter.widget-view+json": {
              "model_id": "09f875f1f66f4928a8e3e2c80d7f2af6",
              "version_minor": 0,
              "version_major": 2
            },
            "text/plain": [
              "  0%|          | 0/9912422 [00:00<?, ?it/s]"
            ]
          },
          "metadata": {}
        },
        {
          "output_type": "stream",
          "name": "stdout",
          "text": [
            "Extracting /content/MNIST/raw/train-images-idx3-ubyte.gz to /content/MNIST/raw\n",
            "\n",
            "Downloading http://yann.lecun.com/exdb/mnist/train-labels-idx1-ubyte.gz\n",
            "Downloading http://yann.lecun.com/exdb/mnist/train-labels-idx1-ubyte.gz to /content/MNIST/raw/train-labels-idx1-ubyte.gz\n"
          ]
        },
        {
          "output_type": "display_data",
          "data": {
            "application/vnd.jupyter.widget-view+json": {
              "model_id": "7f6b8a0090f544eeb7ce655f864a17be",
              "version_minor": 0,
              "version_major": 2
            },
            "text/plain": [
              "  0%|          | 0/28881 [00:00<?, ?it/s]"
            ]
          },
          "metadata": {}
        },
        {
          "output_type": "stream",
          "name": "stdout",
          "text": [
            "Extracting /content/MNIST/raw/train-labels-idx1-ubyte.gz to /content/MNIST/raw\n",
            "\n",
            "Downloading http://yann.lecun.com/exdb/mnist/t10k-images-idx3-ubyte.gz\n",
            "Downloading http://yann.lecun.com/exdb/mnist/t10k-images-idx3-ubyte.gz to /content/MNIST/raw/t10k-images-idx3-ubyte.gz\n"
          ]
        },
        {
          "output_type": "display_data",
          "data": {
            "application/vnd.jupyter.widget-view+json": {
              "model_id": "400f85c07727425baa02f5e6098b71ef",
              "version_minor": 0,
              "version_major": 2
            },
            "text/plain": [
              "  0%|          | 0/1648877 [00:00<?, ?it/s]"
            ]
          },
          "metadata": {}
        },
        {
          "output_type": "stream",
          "name": "stdout",
          "text": [
            "Extracting /content/MNIST/raw/t10k-images-idx3-ubyte.gz to /content/MNIST/raw\n",
            "\n",
            "Downloading http://yann.lecun.com/exdb/mnist/t10k-labels-idx1-ubyte.gz\n",
            "Downloading http://yann.lecun.com/exdb/mnist/t10k-labels-idx1-ubyte.gz to /content/MNIST/raw/t10k-labels-idx1-ubyte.gz\n"
          ]
        },
        {
          "output_type": "display_data",
          "data": {
            "application/vnd.jupyter.widget-view+json": {
              "model_id": "a68c1a52d3eb46cea87aa3611e15a9b6",
              "version_minor": 0,
              "version_major": 2
            },
            "text/plain": [
              "  0%|          | 0/4542 [00:00<?, ?it/s]"
            ]
          },
          "metadata": {}
        },
        {
          "output_type": "stream",
          "name": "stdout",
          "text": [
            "Extracting /content/MNIST/raw/t10k-labels-idx1-ubyte.gz to /content/MNIST/raw\n",
            "\n"
          ]
        }
      ]
    },
    {
      "cell_type": "code",
      "metadata": {
        "id": "fKddZnT1uQmT"
      },
      "source": [
        "train_loader = DataLoader(trainset, batch_size=8, shuffle=True, num_workers=2)\n",
        "test_loader = DataLoader(testset, batch_size = 8, shuffle=False, num_workers=2)"
      ],
      "execution_count": 82,
      "outputs": []
    },
    {
      "cell_type": "markdown",
      "metadata": {
        "id": "zrxymquLxeo8"
      },
      "source": [
        "- `batch_size`만큼 데이터를 하나씩 가져옴"
      ]
    },
    {
      "cell_type": "code",
      "metadata": {
        "id": "hvgMIyF6uUuU",
        "colab": {
          "base_uri": "https://localhost:8080/"
        },
        "outputId": "740435ab-aa1a-423e-e486-6b1d225c0a30"
      },
      "source": [
        "dataiter = iter(train_loader)\n",
        "images, labels = dataiter.next()\n",
        "images.shape, labels.shape"
      ],
      "execution_count": 83,
      "outputs": [
        {
          "output_type": "execute_result",
          "data": {
            "text/plain": [
              "(torch.Size([8, 1, 28, 28]), torch.Size([8]))"
            ]
          },
          "metadata": {},
          "execution_count": 83
        }
      ]
    },
    {
      "cell_type": "markdown",
      "metadata": {
        "id": "YPUC0a0aw6OM"
      },
      "source": [
        "<u>**(중요) torch에서는 channel(채널)이 앞에 옴**</u>\n",
        "\n",
        "- `channel first`\n",
        "\n",
        "- tensorflow, keras 등에서는 channel이 뒤에 옴(`channel last`)"
      ]
    },
    {
      "cell_type": "markdown",
      "metadata": {
        "id": "wuhylD3iyFYr"
      },
      "source": [
        "### 데이터 확인"
      ]
    },
    {
      "cell_type": "code",
      "metadata": {
        "id": "C9hAQmQlul8P"
      },
      "source": [
        "import matplotlib.pyplot as plt\n",
        "plt.style.use('seaborn-white')"
      ],
      "execution_count": 84,
      "outputs": []
    },
    {
      "cell_type": "code",
      "metadata": {
        "id": "zDcUY6o4xUQp",
        "colab": {
          "base_uri": "https://localhost:8080/"
        },
        "outputId": "acb2a56d-115b-440f-fc3d-e26cedc08d20"
      },
      "source": [
        "torch_image = torch.squeeze(images[0])\n",
        "torch_image.shape"
      ],
      "execution_count": 85,
      "outputs": [
        {
          "output_type": "execute_result",
          "data": {
            "text/plain": [
              "torch.Size([28, 28])"
            ]
          },
          "metadata": {},
          "execution_count": 85
        }
      ]
    },
    {
      "cell_type": "code",
      "metadata": {
        "id": "MZmPWiGbxoiW",
        "colab": {
          "base_uri": "https://localhost:8080/"
        },
        "outputId": "6712bd52-7c6f-4ba4-c954-e758fa9ac3d5"
      },
      "source": [
        "image = torch_image.numpy()\n",
        "image.shape"
      ],
      "execution_count": 86,
      "outputs": [
        {
          "output_type": "execute_result",
          "data": {
            "text/plain": [
              "(28, 28)"
            ]
          },
          "metadata": {},
          "execution_count": 86
        }
      ]
    },
    {
      "cell_type": "code",
      "metadata": {
        "id": "AUOdd4UaxaXO",
        "colab": {
          "base_uri": "https://localhost:8080/"
        },
        "outputId": "3f5c63ca-2292-4326-95df-b5f28eb8a3a9"
      },
      "source": [
        "label = labels[0].numpy()\n",
        "label.shape\n",
        "#결과값 하나 스칼라 이기 때문에 없음!!"
      ],
      "execution_count": 87,
      "outputs": [
        {
          "output_type": "execute_result",
          "data": {
            "text/plain": [
              "()"
            ]
          },
          "metadata": {},
          "execution_count": 87
        }
      ]
    },
    {
      "cell_type": "code",
      "metadata": {
        "id": "PDQfjw4wxr1z",
        "colab": {
          "base_uri": "https://localhost:8080/"
        },
        "outputId": "cf906b5b-a809-4385-8fbb-93ccff4e6564"
      },
      "source": [
        "label"
      ],
      "execution_count": 88,
      "outputs": [
        {
          "output_type": "execute_result",
          "data": {
            "text/plain": [
              "array(6)"
            ]
          },
          "metadata": {},
          "execution_count": 88
        }
      ]
    },
    {
      "cell_type": "code",
      "metadata": {
        "id": "JDCVw59ax3-A",
        "colab": {
          "base_uri": "https://localhost:8080/",
          "height": 276
        },
        "outputId": "0c9c37cb-d1d6-4462-b091-017ecb51a5b4"
      },
      "source": [
        "plt.title(label)\n",
        "plt.imshow(image, 'gray')\n",
        "plt.show()"
      ],
      "execution_count": 89,
      "outputs": [
        {
          "output_type": "display_data",
          "data": {
            "image/png": "[encoded data removed]",
            "text/plain": [
              "<Figure size 432x288 with 1 Axes>"
            ]
          },
          "metadata": {}
        }
      ]
    },
    {
      "cell_type": "markdown",
      "metadata": {
        "id": "JVcWQlxzihtS"
      },
      "source": [
        "## 각 Layer 설명"
      ]
    },
    {
      "cell_type": "code",
      "metadata": {
        "id": "IGXn1_weif5H"
      },
      "source": [
        "import torch\n",
        "import torch.nn as nn\n",
        "import torch.nn.functional as F\n",
        "import torch.optim as optim"
      ],
      "execution_count": 90,
      "outputs": []
    },
    {
      "cell_type": "markdown",
      "metadata": {
        "id": "73kJ3heBi26y"
      },
      "source": [
        "### nn.Conv2d\n",
        "\n",
        "- `in_channels`: channel의 갯수\n",
        "\n",
        "- `out_channels`: 출력 채널의 갯수\n",
        "\n",
        "- `kernel_size`: 커널(필터) 사이즈\n",
        "\n",
        "- 텐서플로우, 케라스와 다르게 레이어의 `input`인자에도 값을 집어 넣어줘야함"
      ]
    },
    {
      "cell_type": "code",
      "metadata": {
        "id": "RcHJguyFipTl",
        "colab": {
          "base_uri": "https://localhost:8080/"
        },
        "outputId": "89c65500-1134-4cd9-8c6d-386d6f8c3ab6"
      },
      "source": [
        "nn.Conv2d(in_channels=1, out_channels=20, kernel_size=5, stride=1)"
      ],
      "execution_count": 91,
      "outputs": [
        {
          "output_type": "execute_result",
          "data": {
            "text/plain": [
              "Conv2d(1, 20, kernel_size=(5, 5), stride=(1, 1))"
            ]
          },
          "metadata": {},
          "execution_count": 91
        }
      ]
    },
    {
      "cell_type": "code",
      "metadata": {
        "id": "iWiJbViHjFG0",
        "colab": {
          "base_uri": "https://localhost:8080/"
        },
        "outputId": "1bcc27c0-36ac-4718-9d2f-c3b3b98e45d2"
      },
      "source": [
        "layer = nn.Conv2d(1,20, 5,1).to(torch.device('cpu'))\n",
        "layer"
      ],
      "execution_count": 92,
      "outputs": [
        {
          "output_type": "execute_result",
          "data": {
            "text/plain": [
              "Conv2d(1, 20, kernel_size=(5, 5), stride=(1, 1))"
            ]
          },
          "metadata": {},
          "execution_count": 92
        }
      ]
    },
    {
      "cell_type": "markdown",
      "metadata": {
        "id": "GxWYFm2xjUeN"
      },
      "source": [
        "- `wegiht`확인"
      ]
    },
    {
      "cell_type": "code",
      "metadata": {
        "id": "za0enRbyjPzV",
        "colab": {
          "base_uri": "https://localhost:8080/"
        },
        "outputId": "30bf2be4-4bf7-4dba-dd31-0fa3de1bd56b"
      },
      "source": [
        "weight = layer.weight\n",
        "weight.shape"
      ],
      "execution_count": 93,
      "outputs": [
        {
          "output_type": "execute_result",
          "data": {
            "text/plain": [
              "torch.Size([20, 1, 5, 5])"
            ]
          },
          "metadata": {},
          "execution_count": 93
        }
      ]
    },
    {
      "cell_type": "markdown",
      "metadata": {
        "id": "MAZcTU2gjiCX"
      },
      "source": [
        "- `weight`는 `detach()`를 통해 꺼내줘야 `numpy()`변환이 가능"
      ]
    },
    {
      "cell_type": "code",
      "metadata": {
        "id": "9eN_oUBkjT85"
      },
      "source": [
        "weight = weight.detach()"
      ],
      "execution_count": 94,
      "outputs": []
    },
    {
      "cell_type": "code",
      "metadata": {
        "id": "kwso9tsijmz8",
        "colab": {
          "base_uri": "https://localhost:8080/"
        },
        "outputId": "6acb3de2-f9a3-4fbd-e994-ca48a00ba07f"
      },
      "source": [
        "weight = weight.numpy()\n",
        "weight.shape"
      ],
      "execution_count": 95,
      "outputs": [
        {
          "output_type": "execute_result",
          "data": {
            "text/plain": [
              "(20, 1, 5, 5)"
            ]
          },
          "metadata": {},
          "execution_count": 95
        }
      ]
    },
    {
      "cell_type": "code",
      "metadata": {
        "id": "mUegf6HPjdPl",
        "colab": {
          "base_uri": "https://localhost:8080/",
          "height": 262
        },
        "outputId": "48b96fbe-bd3b-46f0-a62b-00c3a3f424bd"
      },
      "source": [
        "plt.imshow(weight[0,0, :, :], 'jet')\n",
        "plt.colorbar()\n",
        "plt.show()"
      ],
      "execution_count": 96,
      "outputs": [
        {
          "output_type": "display_data",
          "data": {
            "image/png": "[encoded data removed]",
            "text/plain": [
              "<Figure size 432x288 with 2 Axes>"
            ]
          },
          "metadata": {}
        }
      ]
    },
    {
      "cell_type": "code",
      "metadata": {
        "id": "DMeTOqVmcdWa",
        "colab": {
          "base_uri": "https://localhost:8080/"
        },
        "outputId": "793acffd-a28e-46fb-f5e4-7626b8f1a487"
      },
      "source": [
        "print(images.shape)"
      ],
      "execution_count": 97,
      "outputs": [
        {
          "output_type": "stream",
          "name": "stdout",
          "text": [
            "torch.Size([8, 1, 28, 28])\n"
          ]
        }
      ]
    },
    {
      "cell_type": "code",
      "metadata": {
        "id": "cvolnNsscdHs"
      },
      "source": [
        "input_image = torch.unsqueeze(images[0], dim=0)"
      ],
      "execution_count": 98,
      "outputs": []
    },
    {
      "cell_type": "code",
      "metadata": {
        "id": "NLOAfD5mjup1"
      },
      "source": [
        "output_data = layer(input_image)"
      ],
      "execution_count": 99,
      "outputs": []
    },
    {
      "cell_type": "code",
      "metadata": {
        "id": "r50wFkl6j1sY"
      },
      "source": [
        "output = output_data.data"
      ],
      "execution_count": 100,
      "outputs": []
    },
    {
      "cell_type": "code",
      "metadata": {
        "id": "ZiIp-frJj2Hl",
        "colab": {
          "base_uri": "https://localhost:8080/"
        },
        "outputId": "f1515ebb-f63c-49d4-f17b-f976c0335263"
      },
      "source": [
        "output_arr = output.numpy()\n",
        "output_arr.shape"
      ],
      "execution_count": 101,
      "outputs": [
        {
          "output_type": "execute_result",
          "data": {
            "text/plain": [
              "(1, 20, 24, 24)"
            ]
          },
          "metadata": {},
          "execution_count": 101
        }
      ]
    },
    {
      "cell_type": "code",
      "metadata": {
        "id": "uOHMu-UQkW3a",
        "colab": {
          "base_uri": "https://localhost:8080/",
          "height": 324
        },
        "outputId": "6b26ca68-152c-469a-a1b0-bfdb1caba066"
      },
      "source": [
        "plt.figure(figsize=(15,30))\n",
        "\n",
        "plt.subplot(131)\n",
        "plt.title(\"Input\")\n",
        "plt.imshow(image, 'gray')\n",
        "plt.subplot(132)\n",
        "plt.title(\"Weight\")\n",
        "plt.imshow(weight[0,0,:,:], 'jet')\n",
        "plt.subplot(133)\n",
        "plt.title(\"Output\")\n",
        "plt.imshow(output_arr[0,0,:,:], 'gray')"
      ],
      "execution_count": 102,
      "outputs": [
        {
          "output_type": "execute_result",
          "data": {
            "text/plain": [
              "<matplotlib.image.AxesImage at 0x7f86e6c096d0>"
            ]
          },
          "metadata": {},
          "execution_count": 102
        },
        {
          "output_type": "display_data",
          "data": {
            "image/png": "[encoded data removed]",
            "text/plain": [
              "<Figure size 1080x2160 with 3 Axes>"
            ]
          },
          "metadata": {}
        }
      ]
    },
    {
      "cell_type": "markdown",
      "metadata": {
        "id": "6sCqGmH_kwHm"
      },
      "source": [
        "### Pooling\n",
        "- `F.max_pool2d` \n",
        "  - `stride`\n",
        "\n",
        "  - `kernel_size`\n",
        "\n",
        "- `torch.nn.MaxPool2d` 도 많이 사용"
      ]
    },
    {
      "cell_type": "code",
      "metadata": {
        "id": "AYqPrLH1kxQl",
        "colab": {
          "base_uri": "https://localhost:8080/"
        },
        "outputId": "1caa4cc9-69ad-4cf2-f07b-9d0b76aa8137"
      },
      "source": [
        "image.shape"
      ],
      "execution_count": 103,
      "outputs": [
        {
          "output_type": "execute_result",
          "data": {
            "text/plain": [
              "(28, 28)"
            ]
          },
          "metadata": {},
          "execution_count": 103
        }
      ]
    },
    {
      "cell_type": "code",
      "metadata": {
        "id": "tvI8W_8Yk81S",
        "colab": {
          "base_uri": "https://localhost:8080/"
        },
        "outputId": "eeea9dfc-f274-4ce3-9b77-495e8ed36a1a"
      },
      "source": [
        "pool = F.max_pool2d(output, 2,2)\n",
        "pool.shape"
      ],
      "execution_count": 105,
      "outputs": [
        {
          "output_type": "execute_result",
          "data": {
            "text/plain": [
              "torch.Size([1, 20, 12, 12])"
            ]
          },
          "metadata": {},
          "execution_count": 105
        }
      ]
    },
    {
      "cell_type": "markdown",
      "metadata": {
        "id": "aV3HK4FulCaJ"
      },
      "source": [
        "- MaxPool Layer는 weight가 없기 때문에 바로 `numpy()`변환 가능"
      ]
    },
    {
      "cell_type": "code",
      "metadata": {
        "id": "fseB_qlflBta",
        "colab": {
          "base_uri": "https://localhost:8080/"
        },
        "outputId": "7e0f909c-0b55-49fa-b80a-5cc27c182da7"
      },
      "source": [
        "pool_arr = pool.numpy()\n",
        "pool_arr.shape"
      ],
      "execution_count": 107,
      "outputs": [
        {
          "output_type": "execute_result",
          "data": {
            "text/plain": [
              "(1, 20, 12, 12)"
            ]
          },
          "metadata": {},
          "execution_count": 107
        }
      ]
    },
    {
      "cell_type": "code",
      "metadata": {
        "id": "6w8DQnNtlNCq",
        "colab": {
          "base_uri": "https://localhost:8080/",
          "height": 312
        },
        "outputId": "f9197d06-99d5-40c0-c527-50659136e005"
      },
      "source": [
        "plt.figure(figsize= (10,15))\n",
        "plt.subplot(121)\n",
        "plt.title(\"Input\")\n",
        "plt.imshow(image,'gray')\n",
        "plt.subplot(122)\n",
        "plt.title(\"Output\")\n",
        "plt.imshow(pool_arr[0,0, :, :], 'gray')\n",
        "plt.show()\n",
        "\n",
        "#max값만 가져와서 출력한 결과."
      ],
      "execution_count": 109,
      "outputs": [
        {
          "output_type": "display_data",
          "data": {
            "image/png": "[encoded data removed]",
            "text/plain": [
              "<Figure size 720x1080 with 2 Axes>"
            ]
          },
          "metadata": {}
        }
      ]
    },
    {
      "cell_type": "markdown",
      "metadata": {
        "id": "q7RVioKwlbH1"
      },
      "source": [
        "### Linear\n",
        "- 1d만 가능 `.view()`를 통해 1D로 펼쳐줘야함"
      ]
    },
    {
      "cell_type": "code",
      "metadata": {
        "id": "Kwcedadrlcbl",
        "colab": {
          "base_uri": "https://localhost:8080/"
        },
        "outputId": "45a0f2c6-b34a-47d8-e2d6-65228eebab8e"
      },
      "source": [
        "image = torch.from_numpy(image)\n",
        "image.shape"
      ],
      "execution_count": 110,
      "outputs": [
        {
          "output_type": "execute_result",
          "data": {
            "text/plain": [
              "torch.Size([28, 28])"
            ]
          },
          "metadata": {},
          "execution_count": 110
        }
      ]
    },
    {
      "cell_type": "code",
      "metadata": {
        "id": "_mYQy4I3lmAm",
        "colab": {
          "base_uri": "https://localhost:8080/"
        },
        "outputId": "909804a3-b413-416a-d55a-fb67751801b8"
      },
      "source": [
        "flatten = image.view(1,28*28)\n",
        "flatten.shape"
      ],
      "execution_count": 111,
      "outputs": [
        {
          "output_type": "execute_result",
          "data": {
            "text/plain": [
              "torch.Size([1, 784])"
            ]
          },
          "metadata": {},
          "execution_count": 111
        }
      ]
    },
    {
      "cell_type": "code",
      "metadata": {
        "id": "6wgSmY0Zlofk",
        "colab": {
          "base_uri": "https://localhost:8080/"
        },
        "outputId": "1752a9f0-731c-4d9c-db50-87eef8808c44"
      },
      "source": [
        "lin = nn.Linear(784, 10)(flatten)\n",
        "lin.shape"
      ],
      "execution_count": 113,
      "outputs": [
        {
          "output_type": "execute_result",
          "data": {
            "text/plain": [
              "torch.Size([1, 10])"
            ]
          },
          "metadata": {},
          "execution_count": 113
        }
      ]
    },
    {
      "cell_type": "code",
      "source": [
        "lin"
      ],
      "metadata": {
        "colab": {
          "base_uri": "https://localhost:8080/"
        },
        "id": "Ib5YsMtCq_CG",
        "outputId": "08fc5f41-eadd-4d7f-b15b-93418fc098bb"
      },
      "execution_count": 114,
      "outputs": [
        {
          "output_type": "execute_result",
          "data": {
            "text/plain": [
              "tensor([[ 0.6346, -0.0689,  0.6942,  0.3197, -0.5145,  0.5020,  1.1380, -0.0730,\n",
              "         -0.2222, -0.6966]], grad_fn=<AddmmBackward0>)"
            ]
          },
          "metadata": {},
          "execution_count": 114
        }
      ]
    },
    {
      "cell_type": "code",
      "metadata": {
        "id": "ewEpebSVluHz",
        "colab": {
          "base_uri": "https://localhost:8080/",
          "height": 248
        },
        "outputId": "6144ba50-7ddc-4d4d-bcce-5dcf3d6dc116"
      },
      "source": [
        "plt.imshow(lin.detach().numpy(), 'jet')\n",
        "plt.colorbar()\n",
        "plt.show()"
      ],
      "execution_count": 115,
      "outputs": [
        {
          "output_type": "display_data",
          "data": {
            "image/png": "[encoded data removed]",
            "text/plain": [
              "<Figure size 432x288 with 2 Axes>"
            ]
          },
          "metadata": {}
        }
      ]
    },
    {
      "cell_type": "markdown",
      "metadata": {
        "id": "0IjPKDKRl3CV"
      },
      "source": [
        "### Softmax"
      ]
    },
    {
      "cell_type": "code",
      "metadata": {
        "id": "obhBb3O-lzbs"
      },
      "source": [
        "with torch.no_grad():\n",
        "  flatten = image.view(1,28*28)\n",
        "  lin = nn.Linear(784, 10)(flatten)\n",
        "  softmax = F.softmax(lin, dim=1)"
      ],
      "execution_count": 117,
      "outputs": []
    },
    {
      "cell_type": "code",
      "metadata": {
        "id": "ljgOEyNMmBEE",
        "colab": {
          "base_uri": "https://localhost:8080/"
        },
        "outputId": "4718749f-17cc-4563-a1c3-90fee0140d89"
      },
      "source": [
        "softmax"
      ],
      "execution_count": 118,
      "outputs": [
        {
          "output_type": "execute_result",
          "data": {
            "text/plain": [
              "tensor([[0.0651, 0.0291, 0.1191, 0.0458, 0.0955, 0.2037, 0.1388, 0.1578, 0.1058,\n",
              "         0.0392]])"
            ]
          },
          "metadata": {},
          "execution_count": 118
        }
      ]
    },
    {
      "cell_type": "code",
      "metadata": {
        "id": "18ymFSRAmBo7",
        "colab": {
          "base_uri": "https://localhost:8080/"
        },
        "outputId": "21221bc9-8f3c-4497-8bc0-cf2aadf2b9c3"
      },
      "source": [
        "np.sum(softmax.numpy())"
      ],
      "execution_count": 119,
      "outputs": [
        {
          "output_type": "execute_result",
          "data": {
            "text/plain": [
              "0.9999999"
            ]
          },
          "metadata": {},
          "execution_count": 119
        }
      ]
    },
    {
      "cell_type": "markdown",
      "metadata": {
        "id": "bYh13Bnj5wEN"
      },
      "source": [
        "### F.relu\n",
        "\n",
        "- ReLU 함수를 적용하는 레이어\n",
        "\n",
        "- `nn.ReLU`로도 사용 가능"
      ]
    },
    {
      "cell_type": "code",
      "metadata": {
        "id": "D4VFePpR9_Ak",
        "colab": {
          "base_uri": "https://localhost:8080/"
        },
        "outputId": "7c2c0060-7710-4559-8278-4ea6740c226e"
      },
      "source": [
        "inputs = torch.randn(4,3,28,28).to(device)\n",
        "inputs.shape"
      ],
      "execution_count": 120,
      "outputs": [
        {
          "output_type": "execute_result",
          "data": {
            "text/plain": [
              "torch.Size([4, 3, 28, 28])"
            ]
          },
          "metadata": {},
          "execution_count": 120
        }
      ]
    },
    {
      "cell_type": "code",
      "metadata": {
        "id": "1lKlSiaY5wZW",
        "colab": {
          "base_uri": "https://localhost:8080/"
        },
        "outputId": "3b15c4ce-0925-4050-822f-04a722f1574a"
      },
      "source": [
        "layer = nn.Conv2d(3,20,5,1).to(device)\n",
        "output = F.relu(layer(inputs))\n",
        "output.shape\n",
        "\n",
        "# -> Conv2d를 통과한 layer가 Relu 함수를 통해 출력."
      ],
      "execution_count": 121,
      "outputs": [
        {
          "output_type": "execute_result",
          "data": {
            "text/plain": [
              "torch.Size([4, 20, 24, 24])"
            ]
          },
          "metadata": {},
          "execution_count": 121
        }
      ]
    },
    {
      "cell_type": "markdown",
      "metadata": {
        "id": "0yuABl4h-yye"
      },
      "source": [
        "## Optimizer\n",
        "\n",
        "- `import torch.optim as optim`\n",
        "\n",
        "- `model`의 파라미터를 업데이트\n",
        "\n",
        "- 예시)\n",
        "  ```python\n",
        "  optimizer = torch.optim.Adam(model.parameters(), lr=1e-4, weight_decay=1e-5)\n",
        "  optimizer = optim.SGD(model.parameters(), lr=0.001)\n",
        "  ```\n",
        "\n",
        "- `.zero_grad()`로 초기화\n",
        "- `.step()`으로 업데이트\n",
        "\n"
      ]
    }
  ]
}