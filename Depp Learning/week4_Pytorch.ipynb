{
 "cells": [
  {
   "cell_type": "markdown",
   "id": "2ed48b9e-712c-40ca-bbdf-c715cfa2314a",
   "metadata": {},
   "source": [
    "# Intro to Pytorch Tensors\n",
    "\n",
    "- 유용한강좌\n",
    "    - CS231 한글번역\n",
    "    - Scipy-lectures\n",
    "        - Numpy\n",
    "        - operations\n",
    "    - Pytorch tutorial\n",
    "        - 한글\n",
    "        - English\n",
    "        "
   ]
  },
  {
   "cell_type": "code",
   "execution_count": 7,
   "id": "514431ef-7208-47d4-8bb2-4edb5157ffde",
   "metadata": {},
   "outputs": [],
   "source": [
    "import numpy as np\n",
    "import torch #torch는 미분 게산 가능해야함.!"
   ]
  },
  {
   "cell_type": "code",
   "execution_count": 2,
   "id": "a07e6059-02ac-42c8-a49b-44e8c48e2f22",
   "metadata": {},
   "outputs": [
    {
     "data": {
      "text/plain": [
       "array([1, 2, 3])"
      ]
     },
     "execution_count": 2,
     "metadata": {},
     "output_type": "execute_result"
    }
   ],
   "source": [
    "a = np.array([1,2,3])\n",
    "a"
   ]
  },
  {
   "cell_type": "markdown",
   "id": "ac1fc5ab-f745-44ed-8611-a17f384c9074",
   "metadata": {},
   "source": [
    "- Torch Tensor([1,2,3])"
   ]
  },
  {
   "cell_type": "code",
   "execution_count": 4,
   "id": "6af3434d-d562-48b7-a19c-dc86914236ce",
   "metadata": {},
   "outputs": [
    {
     "data": {
      "text/plain": [
       "tensor([1, 2, 3])"
      ]
     },
     "execution_count": 4,
     "metadata": {},
     "output_type": "execute_result"
    }
   ],
   "source": [
    "b = torch.tensor([1,2,3])\n",
    "b"
   ]
  },
  {
   "cell_type": "code",
   "execution_count": 10,
   "id": "18cba6a2-b64f-429f-b117-04a5a0996066",
   "metadata": {},
   "outputs": [
    {
     "data": {
      "text/plain": [
       "(torch.Size([3]), 1)"
      ]
     },
     "execution_count": 10,
     "metadata": {},
     "output_type": "execute_result"
    }
   ],
   "source": [
    "b.shape, b.ndim"
   ]
  },
  {
   "cell_type": "code",
   "execution_count": 11,
   "id": "15f19ab0-77c3-4662-ada7-71455dcc56b6",
   "metadata": {},
   "outputs": [
    {
     "data": {
      "text/plain": [
       "2"
      ]
     },
     "execution_count": 11,
     "metadata": {},
     "output_type": "execute_result"
    }
   ],
   "source": [
    "b1 = torch.tensor([[1,2,3]])\n",
    "b1.ndim"
   ]
  },
  {
   "cell_type": "code",
   "execution_count": 12,
   "id": "55917150-2daf-4c5f-a122-968577b1f518",
   "metadata": {},
   "outputs": [
    {
     "data": {
      "text/plain": [
       "torch.Size([1, 3])"
      ]
     },
     "execution_count": 12,
     "metadata": {},
     "output_type": "execute_result"
    }
   ],
   "source": [
    "b1.shape"
   ]
  },
  {
   "cell_type": "code",
   "execution_count": 8,
   "id": "408cc4f4-8b45-46ea-bcfa-7cec4b7b36e2",
   "metadata": {},
   "outputs": [
    {
     "data": {
      "text/plain": [
       "tensor([1, 2, 3])"
      ]
     },
     "execution_count": 8,
     "metadata": {},
     "output_type": "execute_result"
    }
   ],
   "source": [
    "c = torch.from_numpy(a)\n",
    "c"
   ]
  },
  {
   "cell_type": "code",
   "execution_count": 9,
   "id": "3123fecd-d0ba-43b5-8f1a-f436b984974b",
   "metadata": {},
   "outputs": [
    {
     "data": {
      "text/plain": [
       "torch.Size([3])"
      ]
     },
     "execution_count": 9,
     "metadata": {},
     "output_type": "execute_result"
    }
   ],
   "source": [
    "c.shape"
   ]
  },
  {
   "cell_type": "markdown",
   "id": "2dc966b9-035b-4a42-9845-d3ce3d6b9932",
   "metadata": {},
   "source": [
    "## Vector의 표기 단위 차이 \n",
    "- 수학에서 벡터의 기본 표기 단위\n",
    "    - columns (열) vector로 표기하는 것이 관습임.\n",
    "    - 에제\n",
    "    $$ x = \\begin{bmatrix} x_1\\\\ x_2\\\\ x_3 \\end{bmatrix} \\in \\mathbb{R}^{3x1} $$\n",
    "    \n",
    "    - Pytorch에서 벡터의 기본 단위\n",
    "        - 다른 구조체와 메모리 구조상 Row(행) vector로 표기하는 것이 고나습\n",
    "        - 예\n",
    "        - `x = torch.tensor([1,2,3])`"
   ]
  },
  {
   "cell_type": "code",
   "execution_count": 13,
   "id": "d7832824-bb06-4664-9de3-2fb60b83079c",
   "metadata": {},
   "outputs": [
    {
     "data": {
      "text/plain": [
       "tensor([[1],\n",
       "        [3],\n",
       "        [4]])"
      ]
     },
     "execution_count": 13,
     "metadata": {},
     "output_type": "execute_result"
    }
   ],
   "source": [
    "d = torch.tensor([[1,3,4]]).reshape(-1,1)\n",
    "d"
   ]
  },
  {
   "cell_type": "code",
   "execution_count": 15,
   "id": "2019df89-60c8-478c-888d-aaf6c81fcbf5",
   "metadata": {},
   "outputs": [
    {
     "data": {
      "text/plain": [
       "tensor([[1, 3, 4]])"
      ]
     },
     "execution_count": 15,
     "metadata": {},
     "output_type": "execute_result"
    }
   ],
   "source": [
    "d.T"
   ]
  },
  {
   "cell_type": "markdown",
   "id": "0f0b2853-784e-4b76-a1eb-a805c4a2ca27",
   "metadata": {},
   "source": [
    "## Python에서 Matrix 생성하기.\n",
    "- 다음 $ x \\in \\mathbb{R}^{2x3} $ 행렬을 고려합시다.\n",
    "$$ x = \\begin{bmatrix} 5 & 6 & 8\\\\ 6 & 7 & 4 \\end{bmatrix} $$\n",
    "- 다음 x 행렬의 각 columnms (열)을 $ x^{(i)} \\in \\mathbb{R}^2 $ 이라고 하면. 즉\n",
    "$$  x = \\begin{bmatrix} x^{(1)} & x^{(2)} & x^{(3)} \\end{bmatrix} $$ 과 같이 표현됩니다.\n",
    "더 자세하게 한번 더 설명하자면\n",
    "$$  x^{(1)} = \\begin{bmatrix} 5\\\\6 \\end{bmatrix}  x^{(2)} = \\begin{bmatrix} 6\\\\7 \\end{bmatrix} \\\n",
    "   x^{(3)} = \\begin{bmatrix} 8\\\\4 \\end{bmatrix}$$ \n",
    "   \n",
    "- list에서 생성\n",
    "- indexing, slicing"
   ]
  },
  {
   "cell_type": "code",
   "execution_count": 17,
   "id": "29df15e7-feed-46da-90d7-d1a55e36868f",
   "metadata": {},
   "outputs": [
    {
     "data": {
      "text/plain": [
       "tensor([[5, 6, 8],\n",
       "        [6, 7, 4]])"
      ]
     },
     "execution_count": 17,
     "metadata": {},
     "output_type": "execute_result"
    }
   ],
   "source": [
    "x = torch.tensor([[5,6,8] ,[6,7,4]])\n",
    "x"
   ]
  },
  {
   "cell_type": "code",
   "execution_count": 18,
   "id": "19a78aec-7d90-4b60-b642-29c0d7282ae4",
   "metadata": {},
   "outputs": [
    {
     "data": {
      "text/plain": [
       "tensor([6, 7])"
      ]
     },
     "execution_count": 18,
     "metadata": {},
     "output_type": "execute_result"
    }
   ],
   "source": [
    "x[:,1]"
   ]
  },
  {
   "cell_type": "code",
   "execution_count": 20,
   "id": "7f224c01-0d8b-41b7-9980-900e8b80d11e",
   "metadata": {},
   "outputs": [
    {
     "data": {
      "text/plain": [
       "tensor([[6, 7]])"
      ]
     },
     "execution_count": 20,
     "metadata": {},
     "output_type": "execute_result"
    }
   ],
   "source": [
    "x[:,1].reshape(1,-1)"
   ]
  },
  {
   "cell_type": "markdown",
   "id": "bb9e0e9d-932c-4345-b6d5-05da6f46c657",
   "metadata": {},
   "source": [
    "- Tensor Attributes\n",
    "    - `ndim`\n",
    "    - `shape`\n",
    "    - `dtype`\n",
    "    - `device`"
   ]
  },
  {
   "cell_type": "code",
   "execution_count": 27,
   "id": "e2cd5794-0115-4ed2-a698-f44b0d9786e5",
   "metadata": {},
   "outputs": [
    {
     "data": {
      "text/plain": [
       "1"
      ]
     },
     "execution_count": 27,
     "metadata": {},
     "output_type": "execute_result"
    }
   ],
   "source": [
    "a = torch.tensor([12,3,4])\n",
    "a.ndim"
   ]
  },
  {
   "cell_type": "code",
   "execution_count": 30,
   "id": "44a0bdef-b8a8-4816-a043-cce973378b8c",
   "metadata": {},
   "outputs": [
    {
     "data": {
      "text/plain": [
       "(tensor([12.,  3.,  4.], dtype=torch.float64),\n",
       " torch.Size([3]),\n",
       " torch.float64,\n",
       " 1,\n",
       " device(type='cpu'))"
      ]
     },
     "execution_count": 30,
     "metadata": {},
     "output_type": "execute_result"
    }
   ],
   "source": [
    "a1 = torch.tensor([12,3,4], dtype = torch.float64)\n",
    "a1, a1.shape, a1.dtype, a1.ndim, a1.device"
   ]
  },
  {
   "cell_type": "code",
   "execution_count": 22,
   "id": "122e1946-2021-4b97-b85e-bb06d277ef65",
   "metadata": {},
   "outputs": [
    {
     "data": {
      "text/plain": [
       "torch.Size([3])"
      ]
     },
     "execution_count": 22,
     "metadata": {},
     "output_type": "execute_result"
    }
   ],
   "source": [
    "a.shape"
   ]
  },
  {
   "cell_type": "code",
   "execution_count": 23,
   "id": "8c868b63-71d6-4f68-850c-91a1cd92d37b",
   "metadata": {},
   "outputs": [
    {
     "data": {
      "text/plain": [
       "torch.int64"
      ]
     },
     "execution_count": 23,
     "metadata": {},
     "output_type": "execute_result"
    }
   ],
   "source": [
    "a.dtype"
   ]
  },
  {
   "cell_type": "code",
   "execution_count": 24,
   "id": "815230c6-20e7-4eef-8cf0-914762b10179",
   "metadata": {},
   "outputs": [
    {
     "data": {
      "text/plain": [
       "device(type='cpu')"
      ]
     },
     "execution_count": 24,
     "metadata": {},
     "output_type": "execute_result"
    }
   ],
   "source": [
    "a.device"
   ]
  },
  {
   "cell_type": "code",
   "execution_count": 34,
   "id": "7e77195b-8d3b-47c7-a730-d221100dc4e8",
   "metadata": {},
   "outputs": [
    {
     "data": {
      "text/plain": [
       "tensor([1., 2., 3., 4., 5.], dtype=torch.float64)"
      ]
     },
     "execution_count": 34,
     "metadata": {},
     "output_type": "execute_result"
    }
   ],
   "source": [
    "b = torch.tensor([1,2,3,4,5], dtype = torch.float64, device = 'cpu')\n",
    "b"
   ]
  },
  {
   "cell_type": "code",
   "execution_count": 26,
   "id": "8e4c4547-e8a3-4a2c-9a5e-8cab3346d8f0",
   "metadata": {},
   "outputs": [
    {
     "data": {
      "text/plain": [
       "tensor([12,  3,  4])"
      ]
     },
     "execution_count": 26,
     "metadata": {},
     "output_type": "execute_result"
    }
   ],
   "source": [
    "a = torch.tensor([12,3,4])\n",
    "a"
   ]
  },
  {
   "cell_type": "code",
   "execution_count": 31,
   "id": "26e04fcc-fe35-493f-a3ca-e3b10d197688",
   "metadata": {},
   "outputs": [
    {
     "data": {
      "text/plain": [
       "tensor([[12,  3,  4]])"
      ]
     },
     "execution_count": 31,
     "metadata": {},
     "output_type": "execute_result"
    }
   ],
   "source": [
    "b= torch.tensor([[12,3,4]])\n",
    "b"
   ]
  },
  {
   "cell_type": "code",
   "execution_count": 32,
   "id": "64eaba47-3f8b-4a3e-9ba9-01d32dd2dd57",
   "metadata": {},
   "outputs": [
    {
     "data": {
      "text/plain": [
       "(1, 2)"
      ]
     },
     "execution_count": 32,
     "metadata": {},
     "output_type": "execute_result"
    }
   ],
   "source": [
    "a.ndim, b.ndim"
   ]
  },
  {
   "cell_type": "markdown",
   "id": "2d425284-aa3f-4d07-9eb8-7e01bf000159",
   "metadata": {},
   "source": [
    "- `from_numpy`\n",
    "- `numpy()`"
   ]
  },
  {
   "cell_type": "code",
   "execution_count": 39,
   "id": "31020067-0525-4384-a3c3-b2bae0a3b58e",
   "metadata": {},
   "outputs": [
    {
     "data": {
      "text/plain": [
       "array([1., 2., 3.])"
      ]
     },
     "execution_count": 39,
     "metadata": {},
     "output_type": "execute_result"
    }
   ],
   "source": [
    "a = np.array([1.,2.,3.])\n",
    "a"
   ]
  },
  {
   "cell_type": "code",
   "execution_count": 40,
   "id": "e9989a50-2be1-470a-8d67-9a000af715c2",
   "metadata": {},
   "outputs": [
    {
     "data": {
      "text/plain": [
       "tensor([1., 2., 3.], dtype=torch.float64)"
      ]
     },
     "execution_count": 40,
     "metadata": {},
     "output_type": "execute_result"
    }
   ],
   "source": [
    "b = torch.from_numpy(a)\n",
    "b"
   ]
  },
  {
   "cell_type": "code",
   "execution_count": 43,
   "id": "6d09370e-ef23-4c29-9afa-b064d4e9e66b",
   "metadata": {},
   "outputs": [
    {
     "data": {
      "text/plain": [
       "array([1., 2., 3.])"
      ]
     },
     "execution_count": 43,
     "metadata": {},
     "output_type": "execute_result"
    }
   ],
   "source": [
    "c = b.numpy()\n",
    "c"
   ]
  },
  {
   "cell_type": "markdown",
   "id": "5ee2ae1d-f7a4-4647-a122-d52515e4939f",
   "metadata": {},
   "source": [
    "## (중요) Python에서의 Vector\n",
    "- 1-D vector\n",
    "    - row vector만 표현 가능\n",
    "\n",
    "- 2-D vector\n",
    "    - row, columns 모두 표현 가능.\n",
    "\n",
    "- 어떤 방식을 사용해야 하는가\n",
    "- vector 또는 행렬에 적용하는 함수에 return 방식을 알고 있어야 함."
   ]
  },
  {
   "cell_type": "markdown",
   "id": "73f4e47f-6e5c-4386-8b61-6e487e3b4d41",
   "metadata": {},
   "source": [
    "## (수학) 차원 확인 명령어\n",
    "   - $ x \\in \\mathbb{R}^{3x1} $\n",
    "   - `X.shape`"
   ]
  },
  {
   "cell_type": "code",
   "execution_count": 44,
   "id": "ce566b28-5d1a-493d-800d-f48c8dfded7f",
   "metadata": {},
   "outputs": [
    {
     "data": {
      "text/plain": [
       "tensor([[1],\n",
       "        [2],\n",
       "        [3]])"
      ]
     },
     "execution_count": 44,
     "metadata": {},
     "output_type": "execute_result"
    }
   ],
   "source": [
    "x = torch.tensor([[1], [2], [3]])\n",
    "x"
   ]
  },
  {
   "cell_type": "code",
   "execution_count": 45,
   "id": "3b4ff0f8-f420-4189-8927-0304faf2b4ce",
   "metadata": {},
   "outputs": [
    {
     "data": {
      "text/plain": [
       "torch.Size([3, 1])"
      ]
     },
     "execution_count": 45,
     "metadata": {},
     "output_type": "execute_result"
    }
   ],
   "source": [
    "x.shape"
   ]
  },
  {
   "cell_type": "code",
   "execution_count": 48,
   "id": "7eaf4952-6f71-4221-984b-10789c612e64",
   "metadata": {},
   "outputs": [
    {
     "data": {
      "text/plain": [
       "(tensor([1, 2, 3]), tensor([[1, 2, 3]]))"
      ]
     },
     "execution_count": 48,
     "metadata": {},
     "output_type": "execute_result"
    }
   ],
   "source": [
    "x.reshape(3), x.reshape(1,-1)"
   ]
  },
  {
   "cell_type": "markdown",
   "id": "52a7463c-17ff-4ae6-a9d5-58df86b6c3fd",
   "metadata": {},
   "source": [
    "## Matrix 연산자 |\n",
    "\n",
    "- Transpose (전치) $ X^T $\n",
    "- `reshape`"
   ]
  },
  {
   "cell_type": "code",
   "execution_count": 49,
   "id": "0c32392d-b218-4efa-81d4-43730caa6f76",
   "metadata": {},
   "outputs": [
    {
     "data": {
      "text/plain": [
       "tensor([[1., 2., 3.],\n",
       "        [4., 5., 6.]])"
      ]
     },
     "execution_count": 49,
     "metadata": {},
     "output_type": "execute_result"
    }
   ],
   "source": [
    "x = torch.tensor([[1., 2., 3.,], [4., 5., 6.]])\n",
    "x"
   ]
  },
  {
   "cell_type": "code",
   "execution_count": 50,
   "id": "cbd54076-0c3b-45f7-8c21-4810058c5b21",
   "metadata": {},
   "outputs": [
    {
     "data": {
      "text/plain": [
       "torch.Size([2, 3])"
      ]
     },
     "execution_count": 50,
     "metadata": {},
     "output_type": "execute_result"
    }
   ],
   "source": [
    "x.shape"
   ]
  },
  {
   "cell_type": "code",
   "execution_count": 51,
   "id": "5ae622ba-a39b-41f7-9798-64e5f5240288",
   "metadata": {},
   "outputs": [
    {
     "data": {
      "text/plain": [
       "tensor([[1., 4.],\n",
       "        [2., 5.],\n",
       "        [3., 6.]])"
      ]
     },
     "execution_count": 51,
     "metadata": {},
     "output_type": "execute_result"
    }
   ],
   "source": [
    "x.T"
   ]
  },
  {
   "cell_type": "code",
   "execution_count": 52,
   "id": "83104b54-b897-4e31-be1d-039d11a26af7",
   "metadata": {},
   "outputs": [
    {
     "data": {
      "text/plain": [
       "tensor([[1., 2.],\n",
       "        [3., 4.],\n",
       "        [5., 6.]])"
      ]
     },
     "execution_count": 52,
     "metadata": {},
     "output_type": "execute_result"
    }
   ],
   "source": [
    "x.reshape(3,2)"
   ]
  },
  {
   "cell_type": "code",
   "execution_count": 54,
   "id": "161679ad-6c90-4e97-9d83-005772f83b96",
   "metadata": {},
   "outputs": [
    {
     "data": {
      "text/plain": [
       "(tensor([1., 2., 3., 4., 5., 6.]),\n",
       " tensor([[1.],\n",
       "         [2.],\n",
       "         [3.],\n",
       "         [4.],\n",
       "         [5.],\n",
       "         [6.]]))"
      ]
     },
     "execution_count": 54,
     "metadata": {},
     "output_type": "execute_result"
    }
   ],
   "source": [
    "x.reshape(6), x.reshape(6,1)"
   ]
  },
  {
   "cell_type": "code",
   "execution_count": 55,
   "id": "e280a088-2374-46ab-b2f6-2378cb8ac4ae",
   "metadata": {},
   "outputs": [
    {
     "data": {
      "text/plain": [
       "tensor([[1., 2., 3.],\n",
       "        [4., 5., 6.]])"
      ]
     },
     "execution_count": 55,
     "metadata": {},
     "output_type": "execute_result"
    }
   ],
   "source": [
    "x"
   ]
  },
  {
   "cell_type": "code",
   "execution_count": 56,
   "id": "9007c6d9-3cc2-4f3c-a586-435fe941c420",
   "metadata": {},
   "outputs": [
    {
     "data": {
      "text/plain": [
       "tensor([[1.],\n",
       "        [2.],\n",
       "        [3.],\n",
       "        [4.],\n",
       "        [5.],\n",
       "        [6.]])"
      ]
     },
     "execution_count": 56,
     "metadata": {},
     "output_type": "execute_result"
    }
   ],
   "source": [
    "A = x.reshape(6,1)\n",
    "A"
   ]
  },
  {
   "cell_type": "code",
   "execution_count": 57,
   "id": "704999eb-3e18-46ff-bdc4-cee21f7af62a",
   "metadata": {},
   "outputs": [
    {
     "data": {
      "text/plain": [
       "(tensor([[1.],\n",
       "         [2.],\n",
       "         [3.],\n",
       "         [4.],\n",
       "         [5.],\n",
       "         [6.]]),\n",
       " tensor([[1., 2., 3.],\n",
       "         [4., 5., 6.]]))"
      ]
     },
     "execution_count": 57,
     "metadata": {},
     "output_type": "execute_result"
    }
   ],
   "source": [
    "A, x"
   ]
  },
  {
   "cell_type": "markdown",
   "id": "90841dac-790a-48f3-a065-833180795272",
   "metadata": {},
   "source": [
    "## Vector transpose 주의점\n",
    "    - (중요) transpose 연산자는 1D array는 변환하지 못한다.\n",
    "   "
   ]
  },
  {
   "cell_type": "code",
   "execution_count": 58,
   "id": "77519464-24e2-4538-998f-026663351935",
   "metadata": {},
   "outputs": [
    {
     "data": {
      "text/plain": [
       "tensor([1, 2, 3])"
      ]
     },
     "execution_count": 58,
     "metadata": {},
     "output_type": "execute_result"
    }
   ],
   "source": [
    "a = torch.tensor([1,2,3])\n",
    "a"
   ]
  },
  {
   "cell_type": "code",
   "execution_count": 59,
   "id": "ab239152-23c6-4041-b7b5-444eac4ddbf9",
   "metadata": {},
   "outputs": [
    {
     "data": {
      "text/plain": [
       "tensor([1, 2, 3])"
      ]
     },
     "execution_count": 59,
     "metadata": {},
     "output_type": "execute_result"
    }
   ],
   "source": [
    "a.T"
   ]
  },
  {
   "cell_type": "code",
   "execution_count": 60,
   "id": "7e56699d-0612-4ef9-b501-6bf01871f8f7",
   "metadata": {},
   "outputs": [
    {
     "data": {
      "text/plain": [
       "1"
      ]
     },
     "execution_count": 60,
     "metadata": {},
     "output_type": "execute_result"
    }
   ],
   "source": [
    "a.ndim"
   ]
  },
  {
   "cell_type": "code",
   "execution_count": 61,
   "id": "b803d4f9-011e-4df0-ad9d-73790ef33887",
   "metadata": {},
   "outputs": [
    {
     "data": {
      "text/plain": [
       "tensor([[1, 2, 3]])"
      ]
     },
     "execution_count": 61,
     "metadata": {},
     "output_type": "execute_result"
    }
   ],
   "source": [
    "b = torch.tensor([[1,2,3]])\n",
    "b"
   ]
  },
  {
   "cell_type": "code",
   "execution_count": 62,
   "id": "34b647ae-95a8-42ca-9b5a-83c730bfd4d1",
   "metadata": {},
   "outputs": [
    {
     "data": {
      "text/plain": [
       "tensor([[1],\n",
       "        [2],\n",
       "        [3]])"
      ]
     },
     "execution_count": 62,
     "metadata": {},
     "output_type": "execute_result"
    }
   ],
   "source": [
    "b.T"
   ]
  },
  {
   "cell_type": "code",
   "execution_count": 65,
   "id": "a1786139-ee0c-4fca-b209-16ee7e8b861e",
   "metadata": {},
   "outputs": [
    {
     "data": {
      "text/plain": [
       "tensor([[1],\n",
       "        [2],\n",
       "        [3]])"
      ]
     },
     "execution_count": 65,
     "metadata": {},
     "output_type": "execute_result"
    }
   ],
   "source": [
    "b.reshape(-1,1)"
   ]
  },
  {
   "cell_type": "markdown",
   "id": "da2c5d04-9aa4-4a8f-81dd-055bf711a755",
   "metadata": {},
   "source": [
    "- 다음 두개의 $ x^{(i)} \\in \\mathbb{R}^3 $ vector를 고려합시다.\n",
    "\n",
    "$$ x^{(1)} = \\begin{bmatrix} 5\\\\ 6\\\\ 8 \\end{bmatrix},  x^{(2)} = \\begin{bmatrix} 6\\\\ 7\\\\ 5 \\end{bmatrix}   $$\n",
    "\n",
    "- X 행렬의 각 row(행)을 $ (x^{(i)})T \\in \\mathbb{R}^{1x3} $ 이라고 하겠습니다. 즉,\n",
    "\n",
    "$$ X = \\begin{bmatrix}  (x^{(1)})T\\\\  (x^{(2)})T \\end{bmatrix} $$ \n",
    "과 같이 표현됩니다.\n",
    "- 즉 $ X \\in \\mathbb{R}^{2x3} $ 은 다음과 같다.\n",
    "$$ X = \\begin{bmatrix} 5 & 6 & 8\\\\  6 & 7 & 4  \\end{bmatrix}   $$\n"
   ]
  },
  {
   "cell_type": "code",
   "execution_count": 66,
   "id": "6483b2fb-f43f-41da-ace9-138019227b78",
   "metadata": {},
   "outputs": [
    {
     "name": "stdout",
     "output_type": "stream",
     "text": [
      "x1 =  tensor([[5],\n",
      "        [6],\n",
      "        [7]])\n",
      "x2 =  tensor([[6],\n",
      "        [7],\n",
      "        [4]])\n"
     ]
    }
   ],
   "source": [
    "x1 = torch.tensor([[5], [6], [7]])\n",
    "x2 = torch.tensor([[6], [7], [4]])\n",
    "print(\"x1 = \", x1)\n",
    "print(\"x2 = \", x2)"
   ]
  },
  {
   "cell_type": "code",
   "execution_count": 67,
   "id": "10adf308-9531-4f87-9b7b-af5232587e1e",
   "metadata": {},
   "outputs": [
    {
     "data": {
      "text/plain": [
       "torch.Size([3, 1])"
      ]
     },
     "execution_count": 67,
     "metadata": {},
     "output_type": "execute_result"
    }
   ],
   "source": [
    "x2.shape"
   ]
  },
  {
   "cell_type": "code",
   "execution_count": 68,
   "id": "ca029ba3-cda3-4bdb-9c97-851c8307d0c3",
   "metadata": {},
   "outputs": [
    {
     "name": "stdout",
     "output_type": "stream",
     "text": [
      "x1T =  tensor([[5, 6, 7]])\n",
      "x2T =  tensor([[6, 7, 4]])\n"
     ]
    }
   ],
   "source": [
    "x1T = x1.T\n",
    "x2T = x2.T\n",
    "print(\"x1T = \", x1T)\n",
    "print(\"x2T = \", x2T)"
   ]
  },
  {
   "cell_type": "code",
   "execution_count": 69,
   "id": "8b21eda4-e251-41e2-b138-a78c555dcba9",
   "metadata": {},
   "outputs": [
    {
     "data": {
      "text/plain": [
       "tensor([[5, 6, 7]])"
      ]
     },
     "execution_count": 69,
     "metadata": {},
     "output_type": "execute_result"
    }
   ],
   "source": [
    "x1TT = x1.reshape(1,3)\n",
    "x1TT"
   ]
  },
  {
   "cell_type": "markdown",
   "id": "606433d7-2fdc-44d4-a311-49a737ac5e6c",
   "metadata": {},
   "source": [
    "- `vstack` : vertical (수직) , stack(쌓다)"
   ]
  },
  {
   "cell_type": "code",
   "execution_count": 71,
   "id": "e6623b93-49a9-40f3-8673-2836e548239e",
   "metadata": {},
   "outputs": [
    {
     "data": {
      "text/plain": [
       "tensor([[5, 6, 7],\n",
       "        [6, 7, 4]])"
      ]
     },
     "execution_count": 71,
     "metadata": {},
     "output_type": "execute_result"
    }
   ],
   "source": [
    "x = torch.vstack([x1.T, x2.T])\n",
    "x"
   ]
  },
  {
   "cell_type": "markdown",
   "id": "116adbe7-ad49-4ac2-9401-8c6339e49ab5",
   "metadata": {},
   "source": [
    "- `hstack` : horizontal(수평), stack(쌓다)"
   ]
  },
  {
   "cell_type": "code",
   "execution_count": 72,
   "id": "933f2a20-6cd4-499b-b13f-c808e5b79e25",
   "metadata": {},
   "outputs": [
    {
     "data": {
      "text/plain": [
       "tensor([[5, 6, 7, 6, 7, 4]])"
      ]
     },
     "execution_count": 72,
     "metadata": {},
     "output_type": "execute_result"
    }
   ],
   "source": [
    "xHstack = torch.hstack([x1T, x2T])\n",
    "xHstack"
   ]
  },
  {
   "cell_type": "code",
   "execution_count": 73,
   "id": "2968262b-1441-4d83-8182-e340cf36ac94",
   "metadata": {},
   "outputs": [
    {
     "data": {
      "text/plain": [
       "tensor([[5, 6],\n",
       "        [6, 7],\n",
       "        [7, 4]])"
      ]
     },
     "execution_count": 73,
     "metadata": {},
     "output_type": "execute_result"
    }
   ],
   "source": [
    "xHstack2 = torch.hstack([x1, x2])\n",
    "xHstack2"
   ]
  },
  {
   "cell_type": "markdown",
   "id": "36012906-5949-47a4-afaf-159db37b36c0",
   "metadata": {},
   "source": [
    "- Sequential Generation\n",
    "    - `ones`\n",
    "    - `zeros`\n",
    "    - `arange`\n",
    "    - `linspace`"
   ]
  },
  {
   "cell_type": "code",
   "execution_count": 74,
   "id": "29b7456d-292b-4be7-a7a7-04515f492d02",
   "metadata": {},
   "outputs": [
    {
     "data": {
      "text/plain": [
       "tensor([[0., 0., 0.]])"
      ]
     },
     "execution_count": 74,
     "metadata": {},
     "output_type": "execute_result"
    }
   ],
   "source": [
    "zvec = torch.zeros((1,3))\n",
    "zvec"
   ]
  },
  {
   "cell_type": "code",
   "execution_count": 75,
   "id": "7acda984-5b68-4c9c-98ec-7eca88d34a17",
   "metadata": {},
   "outputs": [
    {
     "data": {
      "text/plain": [
       "tensor([0, 1, 2, 3, 4, 5, 6, 7, 8, 9])"
      ]
     },
     "execution_count": 75,
     "metadata": {},
     "output_type": "execute_result"
    }
   ],
   "source": [
    "torch.arange(0,10,1)"
   ]
  },
  {
   "cell_type": "code",
   "execution_count": 76,
   "id": "ae1e910b-f8f3-4a2a-b863-a2d2a447c3fd",
   "metadata": {},
   "outputs": [
    {
     "name": "stdout",
     "output_type": "stream",
     "text": [
      "tensor(0)\n",
      "tensor(1)\n",
      "tensor(2)\n",
      "tensor(3)\n",
      "tensor(4)\n",
      "tensor(5)\n",
      "tensor(6)\n",
      "tensor(7)\n",
      "tensor(8)\n",
      "tensor(9)\n"
     ]
    }
   ],
   "source": [
    "for i in torch.arange(10):\n",
    "    print(i)"
   ]
  },
  {
   "cell_type": "code",
   "execution_count": 77,
   "id": "52dee0fe-0835-431e-abcc-2eb7e7dd2201",
   "metadata": {},
   "outputs": [
    {
     "data": {
      "text/plain": [
       "tensor([0.0000, 0.1000, 0.2000, 0.3000, 0.4000, 0.5000, 0.6000, 0.7000, 0.8000,\n",
       "        0.9000, 1.0000, 1.1000, 1.2000, 1.3000, 1.4000, 1.5000, 1.6000, 1.7000,\n",
       "        1.8000, 1.9000, 2.0000, 2.1000, 2.2000, 2.3000, 2.4000, 2.5000, 2.6000,\n",
       "        2.7000, 2.8000, 2.9000, 3.0000, 3.1000, 3.2000, 3.3000, 3.4000, 3.5000,\n",
       "        3.6000, 3.7000, 3.8000, 3.9000, 4.0000, 4.1000, 4.2000, 4.3000, 4.4000,\n",
       "        4.5000, 4.6000, 4.7000, 4.8000, 4.9000, 5.0000, 5.1000, 5.2000, 5.3000,\n",
       "        5.4000, 5.5000, 5.6000, 5.7000, 5.8000, 5.9000, 6.0000, 6.1000, 6.2000,\n",
       "        6.3000, 6.4000, 6.5000, 6.6000, 6.7000, 6.8000, 6.9000, 7.0000, 7.1000,\n",
       "        7.2000, 7.3000, 7.4000, 7.5000, 7.6000, 7.7000, 7.8000, 7.9000, 8.0000,\n",
       "        8.1000, 8.2000, 8.3000, 8.4000, 8.5000, 8.6000, 8.7000, 8.8000, 8.9000,\n",
       "        9.0000, 9.1000, 9.2000, 9.3000, 9.4000, 9.5000, 9.6000, 9.7000, 9.8000,\n",
       "        9.9000])"
      ]
     },
     "execution_count": 77,
     "metadata": {},
     "output_type": "execute_result"
    }
   ],
   "source": [
    "torch.arange(0,10, 0.1)"
   ]
  },
  {
   "cell_type": "code",
   "execution_count": 80,
   "id": "2a14ee21-5de7-400f-bb6e-ce3a5e19b9b6",
   "metadata": {},
   "outputs": [
    {
     "data": {
      "text/plain": [
       "tensor([0.0000, 0.4444, 0.8889, 1.3333, 1.7778, 2.2222, 2.6667, 3.1111, 3.5556,\n",
       "        4.0000])"
      ]
     },
     "execution_count": 80,
     "metadata": {},
     "output_type": "execute_result"
    }
   ],
   "source": [
    "a = torch.linspace(0,4,10)\n",
    "a"
   ]
  },
  {
   "cell_type": "code",
   "execution_count": 81,
   "id": "66c99f3f-46ce-421c-983a-2c390c8701bf",
   "metadata": {},
   "outputs": [
    {
     "data": {
      "text/plain": [
       "torch.Size([10])"
      ]
     },
     "execution_count": 81,
     "metadata": {},
     "output_type": "execute_result"
    }
   ],
   "source": [
    "a.shape"
   ]
  },
  {
   "cell_type": "markdown",
   "id": "8ca42e9b-31b4-42ea-a98d-49b6619d61ec",
   "metadata": {},
   "source": [
    "- Random Generation\n",
    "- `torch.rand`"
   ]
  },
  {
   "cell_type": "code",
   "execution_count": 82,
   "id": "884f4040-3a81-4a32-8521-19cf37270f22",
   "metadata": {},
   "outputs": [
    {
     "data": {
      "text/plain": [
       "tensor([[0.1908, 0.0337, 0.3507, 0.8574, 0.7377, 0.8907, 0.3795, 0.2191, 0.2299,\n",
       "         0.3975]])"
      ]
     },
     "execution_count": 82,
     "metadata": {},
     "output_type": "execute_result"
    }
   ],
   "source": [
    "d = torch.rand(1,10)\n",
    "d"
   ]
  },
  {
   "attachments": {
    "90851daf-2be9-4d6d-a23e-3063ef20fa8d.png": {
     "image/png": "[encoded data removed]"
    }
   },
   "cell_type": "markdown",
   "id": "c75b01f7-942d-4370-84df-6e8aa297872c",
   "metadata": {},
   "source": [
    "- Gaussian (Normal) random generation\n",
    "    - pdf\n",
    "    ![image.png](attachment:90851daf-2be9-4d6d-a23e-3063ef20fa8d.png)\n",
    "    - 정규분포 mean = 1, variance = 0, 생성 명령어 : `torch.randn`\n",
    "    "
   ]
  },
  {
   "cell_type": "code",
   "execution_count": 84,
   "id": "f2e8273d-ecc1-454c-985e-c1e48cd0104b",
   "metadata": {},
   "outputs": [
    {
     "data": {
      "text/plain": [
       "1.4142135623730951"
      ]
     },
     "execution_count": 84,
     "metadata": {},
     "output_type": "execute_result"
    }
   ],
   "source": [
    "np.sqrt(2)"
   ]
  },
  {
   "cell_type": "code",
   "execution_count": 86,
   "id": "70ad9369-b621-43be-9689-05458e71bdc3",
   "metadata": {},
   "outputs": [
    {
     "data": {
      "text/plain": [
       "tensor([[ 0.7737, -1.7881,  0.1611, -1.1005],\n",
       "        [ 1.3927, -0.8464, -0.3707, -0.0579],\n",
       "        [-0.2661,  0.0038, -0.5933,  1.2284]])"
      ]
     },
     "execution_count": 86,
     "metadata": {},
     "output_type": "execute_result"
    }
   ],
   "source": [
    "e = torch.randn(3,4)\n",
    "e"
   ]
  },
  {
   "cell_type": "code",
   "execution_count": 88,
   "id": "f1933ac0-d409-43f8-a79b-85b93fb1608e",
   "metadata": {},
   "outputs": [
    {
     "data": {
      "text/plain": [
       "tensor([[ 1.7459,  2.6289,  2.4190,  ...,  1.4902, -0.2554,  1.0227],\n",
       "        [ 3.1685,  2.1087,  1.4473,  ...,  1.0215,  0.3215,  2.7470],\n",
       "        [ 3.2402,  1.3262,  2.7969,  ...,  2.3883,  2.0442,  2.2738],\n",
       "        ...,\n",
       "        [ 2.3641,  0.4762,  0.5298,  ...,  3.1157,  1.0936,  2.3085],\n",
       "        [ 2.8819,  1.4846,  0.4414,  ...,  1.0381,  2.2339,  2.1688],\n",
       "        [ 2.2010,  2.5694,  3.3882,  ...,  2.2540,  3.4094,  2.4120]])"
      ]
     },
     "execution_count": 88,
     "metadata": {},
     "output_type": "execute_result"
    }
   ],
   "source": [
    "e1= torch.randn(30,40)+2\n",
    "e1"
   ]
  },
  {
   "cell_type": "code",
   "execution_count": 90,
   "id": "a29e0d25-11f4-4cea-a5d2-3e8f0fa4dc7e",
   "metadata": {},
   "outputs": [
    {
     "data": {
      "text/plain": [
       "tensor([[-0.9714,  1.4049,  0.5292,  ...,  1.0716,  0.5221, -0.0166],\n",
       "        [ 0.6018,  0.6757, -1.4811,  ...,  1.4253,  1.0777, -1.2387],\n",
       "        [-1.2461, -0.0346, -0.2614,  ..., -1.2846,  0.7213, -1.4508],\n",
       "        ...,\n",
       "        [ 0.1226,  0.7171,  0.3948,  ...,  0.0045, -1.7187,  2.1749],\n",
       "        [ 2.2715, -1.3773,  1.8653,  ...,  1.5066, -0.1343, -1.6297],\n",
       "        [ 0.6225,  0.0161, -1.0436,  ..., -2.0341, -0.5395, -1.0272]])"
      ]
     },
     "execution_count": 90,
     "metadata": {},
     "output_type": "execute_result"
    }
   ],
   "source": [
    "e2 = torch.randn(30,40) * np.sqrt(2)\n",
    "e2"
   ]
  },
  {
   "cell_type": "code",
   "execution_count": 93,
   "id": "7b59a7f5-d872-4151-a8ce-ae067238eb83",
   "metadata": {},
   "outputs": [
    {
     "data": {
      "text/plain": [
       "tensor(1.9977)"
      ]
     },
     "execution_count": 93,
     "metadata": {},
     "output_type": "execute_result"
    }
   ],
   "source": [
    "torch.var(e2)"
   ]
  },
  {
   "cell_type": "code",
   "execution_count": 89,
   "id": "42d3d922-37d7-45e2-8534-98aea425e5a2",
   "metadata": {},
   "outputs": [
    {
     "data": {
      "text/plain": [
       "tensor(2.0057)"
      ]
     },
     "execution_count": 89,
     "metadata": {},
     "output_type": "execute_result"
    }
   ],
   "source": [
    "torch.mean(e1)"
   ]
  },
  {
   "cell_type": "code",
   "execution_count": 94,
   "id": "4304119c-9764-483f-988f-df105e3c610e",
   "metadata": {},
   "outputs": [
    {
     "data": {
      "text/plain": [
       "tensor([1.7321])"
      ]
     },
     "execution_count": 94,
     "metadata": {},
     "output_type": "execute_result"
    }
   ],
   "source": [
    "torch.sqrt(torch.tensor([3]))"
   ]
  },
  {
   "cell_type": "code",
   "execution_count": 87,
   "id": "5e8bafd2-b2f8-426c-8c6e-fe0523dc4416",
   "metadata": {},
   "outputs": [
    {
     "data": {
      "text/plain": [
       "tensor([ 0.0000e+00,  3.2470e-01,  6.1421e-01,  8.3717e-01,  9.6940e-01,\n",
       "         9.9658e-01,  9.1577e-01,  7.3572e-01,  4.7595e-01,  1.6459e-01,\n",
       "        -1.6459e-01, -4.7595e-01, -7.3572e-01, -9.1577e-01, -9.9658e-01,\n",
       "        -9.6940e-01, -8.3717e-01, -6.1421e-01, -3.2470e-01,  1.7485e-07])"
      ]
     },
     "execution_count": 87,
     "metadata": {},
     "output_type": "execute_result"
    }
   ],
   "source": [
    "a = 2*np.pi*torch.linspace(0,1,20)\n",
    "s = torch.sin(a)\n",
    "s"
   ]
  },
  {
   "cell_type": "code",
   "execution_count": 99,
   "id": "38185519-b7c5-4582-b920-1aa09d4b5dda",
   "metadata": {},
   "outputs": [],
   "source": [
    "import matplotlib.pyplot as plt"
   ]
  },
  {
   "cell_type": "code",
   "execution_count": 100,
   "id": "718945d5-b3ba-4e18-ba03-299aece7f5a1",
   "metadata": {},
   "outputs": [
    {
     "data": {
      "text/plain": [
       "[<matplotlib.lines.Line2D at 0x7fa7280e73a0>]"
      ]
     },
     "execution_count": 100,
     "metadata": {},
     "output_type": "execute_result"
    },
    {
     "data": {
      "image/png": "[encoded data removed]",
      "text/plain": [
       "<Figure size 432x288 with 1 Axes>"
      ]
     },
     "metadata": {
      "needs_background": "light"
     },
     "output_type": "display_data"
    }
   ],
   "source": [
    "plt.plot(a,s)"
   ]
  },
  {
   "cell_type": "code",
   "execution_count": 103,
   "id": "bc56b8fc-be52-4f34-b9af-dd359994637b",
   "metadata": {},
   "outputs": [
    {
     "data": {
      "image/png": "[encoded data removed]",
      "text/plain": [
       "<Figure size 432x288 with 1 Axes>"
      ]
     },
     "metadata": {
      "needs_background": "light"
     },
     "output_type": "display_data"
    }
   ],
   "source": [
    "anp = a.numpy()\n",
    "snp  = s.numpy()\n",
    "plt.plot(anp,snp)\n",
    "plt.grid()"
   ]
  },
  {
   "cell_type": "markdown",
   "id": "f51a7e5e-5191-4e1a-a918-612708749773",
   "metadata": {},
   "source": [
    "- 차원축소\n",
    "- `squeeze()`"
   ]
  },
  {
   "cell_type": "code",
   "execution_count": 96,
   "id": "57253617-9971-482c-bdbe-8da8714d92bc",
   "metadata": {},
   "outputs": [
    {
     "data": {
      "text/plain": [
       "tensor([[1, 2, 3, 4]])"
      ]
     },
     "execution_count": 96,
     "metadata": {},
     "output_type": "execute_result"
    }
   ],
   "source": [
    "f = torch.tensor([[1,2,3,4]])\n",
    "f"
   ]
  },
  {
   "cell_type": "code",
   "execution_count": 97,
   "id": "1bc27d0a-ab8c-489a-abcc-e1d730086084",
   "metadata": {},
   "outputs": [
    {
     "data": {
      "text/plain": [
       "torch.Size([1, 4])"
      ]
     },
     "execution_count": 97,
     "metadata": {},
     "output_type": "execute_result"
    }
   ],
   "source": [
    "f.shape"
   ]
  },
  {
   "cell_type": "code",
   "execution_count": 98,
   "id": "1d9acd1e-66a9-4615-97d4-251b50242935",
   "metadata": {},
   "outputs": [
    {
     "data": {
      "text/plain": [
       "torch.Size([4])"
      ]
     },
     "execution_count": 98,
     "metadata": {},
     "output_type": "execute_result"
    }
   ],
   "source": [
    "f.squeeze().shape"
   ]
  },
  {
   "cell_type": "markdown",
   "id": "26702b4e-4474-4355-b2eb-11e082aaff73",
   "metadata": {},
   "source": [
    "- Matrix multiplication\n",
    "    - `matmul`\n",
    "    - Generate $ A \\in \\mathbb{R}^{3x2}, a^{(i)} = \\mathbb{R}^3 $\n",
    "        $$ A = \\begin{bmatrix} a^{(1)} & a^{(2)} \\end{bmatrix} $$\n",
    "        - Example\n",
    "        $$ a^{(1)} = \\begin{bmatrix} 3\\\\ 4\\\\ 5 \\end{bmatrix} $$\n",
    "\n",
    "    - Generate $ B \\in \\mathbb{R}^{3x4} $\n",
    "        $$ B = \\begin{bmatrix} b^{(1)} & b^{(2)} & b^{(3)} & b^{(4)} \\end{bmatrix} $$\n",
    "\n",
    "    - $ (a^{(1)})^T · b^{(2)} $"
   ]
  },
  {
   "cell_type": "code",
   "execution_count": 104,
   "id": "58ebcdb1-fcab-4de9-aa31-434e8ec8769d",
   "metadata": {},
   "outputs": [
    {
     "data": {
      "text/plain": [
       "tensor([[0, 1],\n",
       "        [2, 3],\n",
       "        [4, 5]])"
      ]
     },
     "execution_count": 104,
     "metadata": {},
     "output_type": "execute_result"
    }
   ],
   "source": [
    "A = torch.arange(0,6).reshape(3,2)\n",
    "A"
   ]
  },
  {
   "cell_type": "code",
   "execution_count": 105,
   "id": "48bcd6a3-b50c-4d12-858d-857473b6672f",
   "metadata": {},
   "outputs": [
    {
     "data": {
      "text/plain": [
       "tensor([[ 0.3591, -0.0868],\n",
       "        [-0.7358, -0.7188],\n",
       "        [ 1.0030, -0.6456]])"
      ]
     },
     "execution_count": 105,
     "metadata": {},
     "output_type": "execute_result"
    }
   ],
   "source": [
    "B = torch.randn(3,2)\n",
    "B"
   ]
  },
  {
   "cell_type": "code",
   "execution_count": 106,
   "id": "2d5e71e9-178e-4ceb-97ee-42fc5811ab5f",
   "metadata": {},
   "outputs": [
    {
     "data": {
      "text/plain": [
       "tensor([[0.3591, 0.9132],\n",
       "        [1.2642, 2.2812],\n",
       "        [5.0030, 4.3544]])"
      ]
     },
     "execution_count": 106,
     "metadata": {},
     "output_type": "execute_result"
    }
   ],
   "source": [
    "A+B"
   ]
  },
  {
   "cell_type": "code",
   "execution_count": 111,
   "id": "3ebec99f-dd61-418e-90c0-5e8ea64cc166",
   "metadata": {},
   "outputs": [
    {
     "data": {
      "text/plain": [
       "torch.int64"
      ]
     },
     "execution_count": 111,
     "metadata": {},
     "output_type": "execute_result"
    }
   ],
   "source": [
    "a1 = A[:, 0].reshape(3,1)\n",
    "a1.dtype "
   ]
  },
  {
   "cell_type": "code",
   "execution_count": 115,
   "id": "7333af07-49cc-40f8-93e1-1dd6e535d90d",
   "metadata": {},
   "outputs": [
    {
     "data": {
      "text/plain": [
       "tensor([[0.],\n",
       "        [2.],\n",
       "        [4.]])"
      ]
     },
     "execution_count": 115,
     "metadata": {},
     "output_type": "execute_result"
    }
   ],
   "source": [
    "a2 = a1.type(torch.float32)\n",
    "a2"
   ]
  },
  {
   "cell_type": "code",
   "execution_count": 108,
   "id": "640ebcfa-e3bd-4bd0-af79-cd81a1119ae0",
   "metadata": {},
   "outputs": [
    {
     "data": {
      "text/plain": [
       "tensor([[ 0.3591, -0.0868],\n",
       "        [-0.7358, -0.7188],\n",
       "        [ 1.0030, -0.6456]])"
      ]
     },
     "execution_count": 108,
     "metadata": {},
     "output_type": "execute_result"
    }
   ],
   "source": [
    "B"
   ]
  },
  {
   "cell_type": "code",
   "execution_count": 112,
   "id": "ecc966fb-9a42-41b7-a922-a359513ebb29",
   "metadata": {},
   "outputs": [
    {
     "data": {
      "text/plain": [
       "torch.float32"
      ]
     },
     "execution_count": 112,
     "metadata": {},
     "output_type": "execute_result"
    }
   ],
   "source": [
    "b2 = B[:, 1].reshape(-1,1)\n",
    "b2.dtype"
   ]
  },
  {
   "cell_type": "code",
   "execution_count": 110,
   "id": "b0cba423-29bc-4666-9d50-95d654393e63",
   "metadata": {},
   "outputs": [
    {
     "data": {
      "text/plain": [
       "tensor([[-4.0198]], dtype=torch.float64)"
      ]
     },
     "execution_count": 110,
     "metadata": {},
     "output_type": "execute_result"
    }
   ],
   "source": [
    "np.matmul(a1.T, b2)"
   ]
  },
  {
   "cell_type": "code",
   "execution_count": 116,
   "id": "66f5a543-9a70-4e17-b3a5-132897c8729b",
   "metadata": {
    "tags": []
   },
   "outputs": [
    {
     "data": {
      "text/plain": [
       "tensor([[-4.0198]])"
      ]
     },
     "execution_count": 116,
     "metadata": {},
     "output_type": "execute_result"
    }
   ],
   "source": [
    "np.matmul(a2.T, b2)"
   ]
  },
  {
   "cell_type": "code",
   "execution_count": 118,
   "id": "d351bc6b-f9aa-43e4-a79b-0e431ea13b6a",
   "metadata": {},
   "outputs": [
    {
     "data": {
      "text/plain": [
       "[<matplotlib.lines.Line2D at 0x7fa7080788e0>]"
      ]
     },
     "execution_count": 118,
     "metadata": {},
     "output_type": "execute_result"
    },
    {
     "data": {
      "image/png": "[encoded data removed]",
      "text/plain": [
       "<Figure size 432x288 with 1 Axes>"
      ]
     },
     "metadata": {
      "needs_background": "light"
     },
     "output_type": "display_data"
    }
   ],
   "source": [
    "x = torch.linspace(-10,1,20)\n",
    "y = torch.exp(x)\n",
    "\n",
    "plt.plot(x,y)"
   ]
  },
  {
   "cell_type": "markdown",
   "id": "11d04f26-1358-4083-ae60-8aaac885c140",
   "metadata": {},
   "source": [
    "- Matrix operation\n",
    "    - sum(axis)"
   ]
  },
  {
   "cell_type": "code",
   "execution_count": 119,
   "id": "7cbcbb37-3a28-4685-be3b-a12bc578a6f5",
   "metadata": {},
   "outputs": [
    {
     "data": {
      "text/plain": [
       "tensor([[-0.3327, -1.7611,  0.6193],\n",
       "        [-0.3788,  1.2261,  0.6759],\n",
       "        [ 1.1060,  0.9342, -1.4612]])"
      ]
     },
     "execution_count": 119,
     "metadata": {},
     "output_type": "execute_result"
    }
   ],
   "source": [
    "C = torch.randn(3,3)\n",
    "C"
   ]
  },
  {
   "cell_type": "code",
   "execution_count": 120,
   "id": "7565563d-3118-4a9d-a309-d6b7cec0b375",
   "metadata": {},
   "outputs": [
    {
     "data": {
      "text/plain": [
       "tensor([[ 0.4729, -1.9597, -0.3379],\n",
       "        [-1.0803, -0.0928, -1.5666],\n",
       "        [-1.0440,  0.1206, -0.6973]])"
      ]
     },
     "execution_count": 120,
     "metadata": {},
     "output_type": "execute_result"
    }
   ],
   "source": [
    "D = torch.randn(3,3)\n",
    "D"
   ]
  },
  {
   "cell_type": "code",
   "execution_count": 121,
   "id": "efa05f25-0471-49d6-9173-bebb95b23dec",
   "metadata": {},
   "outputs": [],
   "source": [
    "c1 = C[0,:]\n",
    "d1 = D[0, :]"
   ]
  },
  {
   "cell_type": "code",
   "execution_count": 122,
   "id": "a9d096a7-3640-4a99-9ac4-36e5648fb718",
   "metadata": {},
   "outputs": [
    {
     "data": {
      "text/plain": [
       "tensor([2., 2., 2., 2.])"
      ]
     },
     "execution_count": 122,
     "metadata": {},
     "output_type": "execute_result"
    }
   ],
   "source": [
    "a = torch.tensor([1,2,3,4])\n",
    "b = 2*torch.ones(4)\n",
    "b"
   ]
  },
  {
   "cell_type": "code",
   "execution_count": 123,
   "id": "b0d10fea-5b2d-4302-8efa-bb5b9cbd96fb",
   "metadata": {},
   "outputs": [
    {
     "data": {
      "text/plain": [
       "tensor([1, 2, 3, 4])"
      ]
     },
     "execution_count": 123,
     "metadata": {},
     "output_type": "execute_result"
    }
   ],
   "source": [
    "a"
   ]
  },
  {
   "cell_type": "code",
   "execution_count": 124,
   "id": "ee985fa8-3b4c-4476-976c-a1707e44c539",
   "metadata": {},
   "outputs": [
    {
     "data": {
      "text/plain": [
       "tensor([2., 4., 6., 8.])"
      ]
     },
     "execution_count": 124,
     "metadata": {},
     "output_type": "execute_result"
    }
   ],
   "source": [
    "c = a*b\n",
    "c"
   ]
  },
  {
   "cell_type": "markdown",
   "id": "eff0628b-e012-45cf-875d-8ee7bbb2db70",
   "metadata": {},
   "source": [
    "- `sum`"
   ]
  },
  {
   "cell_type": "code",
   "execution_count": 125,
   "id": "d487c467-b55d-49f0-9a48-b6e092f65045",
   "metadata": {},
   "outputs": [
    {
     "data": {
      "text/plain": [
       "tensor(20.)"
      ]
     },
     "execution_count": 125,
     "metadata": {},
     "output_type": "execute_result"
    }
   ],
   "source": [
    "torch.sum(a*b)"
   ]
  },
  {
   "cell_type": "code",
   "execution_count": 128,
   "id": "a98a288d-562f-44da-9499-3cd939ec845c",
   "metadata": {},
   "outputs": [
    {
     "data": {
      "text/plain": [
       "(torch.float32,\n",
       " tensor([[2.],\n",
       "         [2.],\n",
       "         [2.],\n",
       "         [2.]]))"
      ]
     },
     "execution_count": 128,
     "metadata": {},
     "output_type": "execute_result"
    }
   ],
   "source": [
    "b.reshape(-1,1).dtype, b.reshape(-1,1)"
   ]
  },
  {
   "cell_type": "code",
   "execution_count": 129,
   "id": "0cd2ac54-7bc0-4e07-ae14-7532281615d6",
   "metadata": {},
   "outputs": [
    {
     "data": {
      "text/plain": [
       "tensor([20.])"
      ]
     },
     "execution_count": 129,
     "metadata": {},
     "output_type": "execute_result"
    }
   ],
   "source": [
    "torch.matmul(a.type(torch.float), b.reshape(-1,1))"
   ]
  },
  {
   "cell_type": "code",
   "execution_count": 142,
   "id": "f1092423-5919-4e31-bcdf-4cf77ee7c536",
   "metadata": {},
   "outputs": [
    {
     "data": {
      "text/plain": [
       "tensor([[ 3,  4,  5,  6],\n",
       "        [ 7,  8,  9, 10]])"
      ]
     },
     "execution_count": 142,
     "metadata": {},
     "output_type": "execute_result"
    }
   ],
   "source": [
    "A = torch.arange(3,11,1).reshape(2,4)\n",
    "A"
   ]
  },
  {
   "cell_type": "code",
   "execution_count": 132,
   "id": "171e175c-464b-47ed-a892-4dc61b610824",
   "metadata": {},
   "outputs": [
    {
     "data": {
      "text/plain": [
       "tensor([[18],\n",
       "        [34]])"
      ]
     },
     "execution_count": 132,
     "metadata": {},
     "output_type": "execute_result"
    }
   ],
   "source": [
    "c = torch.sum(A,axis =1).reshape(-1,1)\n",
    "c"
   ]
  },
  {
   "cell_type": "code",
   "execution_count": 133,
   "id": "3b6ad1e3-c945-49f1-a860-e2f33d36afcc",
   "metadata": {},
   "outputs": [
    {
     "data": {
      "text/plain": [
       "tensor([[18, 34]])"
      ]
     },
     "execution_count": 133,
     "metadata": {},
     "output_type": "execute_result"
    }
   ],
   "source": [
    "c.T"
   ]
  },
  {
   "cell_type": "code",
   "execution_count": 138,
   "id": "b5453504-8bdf-432b-890e-9d15b1697d68",
   "metadata": {},
   "outputs": [
    {
     "data": {
      "text/plain": [
       "tensor([[10, 12, 14, 16]])"
      ]
     },
     "execution_count": 138,
     "metadata": {},
     "output_type": "execute_result"
    }
   ],
   "source": [
    "c2 = torch.sum(A,axis=0).reshape(1,-1)\n",
    "c2"
   ]
  },
  {
   "cell_type": "code",
   "execution_count": 144,
   "id": "34610fdd-1465-4362-9516-d3078e3cdb80",
   "metadata": {},
   "outputs": [
    {
     "data": {
      "text/plain": [
       "tensor([[18., 34.]])"
      ]
     },
     "execution_count": 144,
     "metadata": {},
     "output_type": "execute_result"
    }
   ],
   "source": [
    "c2 = torch.sum(A.type(torch.float),axis=1).reshape(1,-1)\n",
    "c2"
   ]
  },
  {
   "cell_type": "code",
   "execution_count": 146,
   "id": "14fc35b9-339e-49e9-99bc-b8fb9a36e642",
   "metadata": {},
   "outputs": [
    {
     "data": {
      "text/plain": [
       "tensor([[ 360., 5040.]])"
      ]
     },
     "execution_count": 146,
     "metadata": {},
     "output_type": "execute_result"
    }
   ],
   "source": [
    "c2 = torch.prod(A.type(torch.float),axis=1).reshape(1,-1) #곱하기는 prod\n",
    "c2"
   ]
  },
  {
   "cell_type": "code",
   "execution_count": 139,
   "id": "5c1c9538-58e1-41ed-9136-a07ec183ee87",
   "metadata": {},
   "outputs": [
    {
     "data": {
      "text/plain": [
       "tensor([[10],\n",
       "        [12],\n",
       "        [14],\n",
       "        [16]])"
      ]
     },
     "execution_count": 139,
     "metadata": {},
     "output_type": "execute_result"
    }
   ],
   "source": [
    "c2.T"
   ]
  },
  {
   "cell_type": "code",
   "execution_count": 149,
   "id": "d6fca598-53b4-438b-8e4e-275e26169c27",
   "metadata": {},
   "outputs": [
    {
     "data": {
      "text/plain": [
       "tensor([[ 0.1569, -0.6784,  1.8324],\n",
       "        [-0.2113, -1.7816, -0.1434],\n",
       "        [-1.0746,  2.2935, -1.4836],\n",
       "        [ 1.5176,  1.6843, -1.3591]])"
      ]
     },
     "execution_count": 149,
     "metadata": {},
     "output_type": "execute_result"
    }
   ],
   "source": [
    "A = torch.randn(4,3)\n",
    "A"
   ]
  },
  {
   "cell_type": "code",
   "execution_count": 150,
   "id": "32f58450-0304-43ea-8622-29f238600dd5",
   "metadata": {},
   "outputs": [
    {
     "data": {
      "text/plain": [
       "tensor([[1.],\n",
       "        [1.],\n",
       "        [1.],\n",
       "        [1.]])"
      ]
     },
     "execution_count": 150,
     "metadata": {},
     "output_type": "execute_result"
    }
   ],
   "source": [
    "B = torch.ones((4,1))\n",
    "B"
   ]
  },
  {
   "cell_type": "code",
   "execution_count": 151,
   "id": "7fd25eab-f4cf-4c46-b831-64507249f38c",
   "metadata": {},
   "outputs": [
    {
     "data": {
      "text/plain": [
       "tensor([[ 1.1569,  0.3216,  2.8324],\n",
       "        [ 0.7887, -0.7816,  0.8566],\n",
       "        [-0.0746,  3.2935, -0.4836],\n",
       "        [ 2.5176,  2.6843, -0.3591]])"
      ]
     },
     "execution_count": 151,
     "metadata": {},
     "output_type": "execute_result"
    }
   ],
   "source": [
    "A+B"
   ]
  },
  {
   "cell_type": "code",
   "execution_count": null,
   "id": "a1112048-191b-4c33-8652-8ac79b68fa2e",
   "metadata": {},
   "outputs": [],
   "source": []
  }
 ],
 "metadata": {
  "kernelspec": {
   "display_name": "Python 3 (ipykernel)",
   "language": "python",
   "name": "python3"
  },
  "language_info": {
   "codemirror_mode": {
    "name": "ipython",
    "version": 3
   },
   "file_extension": ".py",
   "mimetype": "text/x-python",
   "name": "python",
   "nbconvert_exporter": "python",
   "pygments_lexer": "ipython3",
   "version": "3.9.7"
  }
 },
 "nbformat": 4,
 "nbformat_minor": 5
}
