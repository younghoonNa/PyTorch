{
 "cells": [
  {
   "cell_type": "markdown",
   "id": "d6b31365-8be6-4e43-abd7-c2bd205a229f",
   "metadata": {},
   "source": [
    "# Python & Numpy review\n",
    "\n",
    "- 유용한 강좌\n",
    "- CS231 Python tutorial 한글 번역\n",
    "- Scipy-lctures\n",
    "    - Numpy\n",
    "    - Operation"
   ]
  },
  {
   "cell_type": "code",
   "execution_count": 2,
   "id": "8f6f9430-8875-4932-9945-fc3fff559307",
   "metadata": {},
   "outputs": [],
   "source": [
    "import numpy as np"
   ]
  },
  {
   "cell_type": "code",
   "execution_count": 3,
   "id": "857e8b63-0638-4e91-9cc0-1bd8ba973b96",
   "metadata": {},
   "outputs": [],
   "source": [
    "a = np.array([1,2,3])"
   ]
  },
  {
   "cell_type": "code",
   "execution_count": 4,
   "id": "1388c244-dd39-47a1-ac73-d2fc26f30e08",
   "metadata": {},
   "outputs": [
    {
     "data": {
      "text/plain": [
       "array([1, 2, 3])"
      ]
     },
     "execution_count": 4,
     "metadata": {},
     "output_type": "execute_result"
    }
   ],
   "source": [
    "a"
   ]
  },
  {
   "cell_type": "markdown",
   "id": "4251baf2-dacc-40b6-9da1-f847a5a28cdb",
   "metadata": {},
   "source": [
    "List 와 indexing"
   ]
  },
  {
   "cell_type": "code",
   "execution_count": 5,
   "id": "88e00af7-c27a-4f7c-a70f-e3a12019958b",
   "metadata": {},
   "outputs": [],
   "source": [
    "A = [1, 'b', 'c']"
   ]
  },
  {
   "cell_type": "code",
   "execution_count": 6,
   "id": "45667f45-560f-4254-a7d8-64ffc0045f92",
   "metadata": {},
   "outputs": [
    {
     "data": {
      "text/plain": [
       "('b', 'c')"
      ]
     },
     "execution_count": 6,
     "metadata": {},
     "output_type": "execute_result"
    }
   ],
   "source": [
    "A[1], A[2]"
   ]
  },
  {
   "cell_type": "code",
   "execution_count": 7,
   "id": "5886c172-f38c-4e0c-931d-cc200fb7edaa",
   "metadata": {},
   "outputs": [
    {
     "data": {
      "text/plain": [
       "'cc'"
      ]
     },
     "execution_count": 7,
     "metadata": {},
     "output_type": "execute_result"
    }
   ],
   "source": [
    "A[2] + 'c'"
   ]
  },
  {
   "cell_type": "code",
   "execution_count": 8,
   "id": "1354533f-da94-455e-ae99-f3940762acfa",
   "metadata": {},
   "outputs": [
    {
     "data": {
      "text/plain": [
       "11"
      ]
     },
     "execution_count": 8,
     "metadata": {},
     "output_type": "execute_result"
    }
   ],
   "source": [
    "A[0] + 10"
   ]
  },
  {
   "cell_type": "code",
   "execution_count": 9,
   "id": "fc82d87a-33e2-4ba6-9f53-2cdd483d9d3c",
   "metadata": {},
   "outputs": [
    {
     "data": {
      "text/plain": [
       "(list, int, str)"
      ]
     },
     "execution_count": 9,
     "metadata": {},
     "output_type": "execute_result"
    }
   ],
   "source": [
    "type(A), type(A[0]), type(A[1])"
   ]
  },
  {
   "cell_type": "code",
   "execution_count": 10,
   "id": "78f0e44e-70fe-460f-a3c6-4a2ca41648b9",
   "metadata": {},
   "outputs": [
    {
     "data": {
      "text/plain": [
       "[1, 'b']"
      ]
     },
     "execution_count": 10,
     "metadata": {},
     "output_type": "execute_result"
    }
   ],
   "source": [
    "A[0:2]"
   ]
  },
  {
   "cell_type": "code",
   "execution_count": 11,
   "id": "48c92907-14cb-4222-9dab-0210182650d4",
   "metadata": {},
   "outputs": [],
   "source": [
    "B = [1,2,3,4,5,6]"
   ]
  },
  {
   "cell_type": "code",
   "execution_count": 12,
   "id": "e5e0a3a4-ed2b-4617-9d1b-9dea98a0c258",
   "metadata": {},
   "outputs": [
    {
     "data": {
      "text/plain": [
       "(list, list)"
      ]
     },
     "execution_count": 12,
     "metadata": {},
     "output_type": "execute_result"
    }
   ],
   "source": [
    "type(B[1:4]), type(B)"
   ]
  },
  {
   "cell_type": "code",
   "execution_count": 13,
   "id": "08bd286c-694e-40fc-baf6-99639da4cb87",
   "metadata": {},
   "outputs": [
    {
     "data": {
      "text/plain": [
       "[2, 3]"
      ]
     },
     "execution_count": 13,
     "metadata": {},
     "output_type": "execute_result"
    }
   ],
   "source": [
    "B[1:3] # 1 이상부터 3 미만까지, 파이썬에서 시퀀스의 마지막은 항상 미만임."
   ]
  },
  {
   "cell_type": "code",
   "execution_count": 14,
   "id": "398e440e-7e37-4966-99fb-aa966d118517",
   "metadata": {},
   "outputs": [
    {
     "data": {
      "text/plain": [
       "array([1, 2, 3])"
      ]
     },
     "execution_count": 14,
     "metadata": {},
     "output_type": "execute_result"
    }
   ],
   "source": [
    "np.arange(1,4)"
   ]
  },
  {
   "cell_type": "code",
   "execution_count": 15,
   "id": "37766d2d-2712-49ff-9829-a64121ab8fea",
   "metadata": {},
   "outputs": [],
   "source": [
    "B_2 = [10,20,30,40,50,60]"
   ]
  },
  {
   "cell_type": "code",
   "execution_count": 16,
   "id": "d0065966-0fec-471f-a293-89772d8e2734",
   "metadata": {},
   "outputs": [
    {
     "data": {
      "text/plain": [
       "[20, 30, 40]"
      ]
     },
     "execution_count": 16,
     "metadata": {},
     "output_type": "execute_result"
    }
   ],
   "source": [
    "B_2[1:4]"
   ]
  },
  {
   "cell_type": "code",
   "execution_count": 17,
   "id": "e1e49fd6-19c0-4137-ba1f-071b2426301b",
   "metadata": {},
   "outputs": [
    {
     "data": {
      "text/plain": [
       "[20, 40]"
      ]
     },
     "execution_count": 17,
     "metadata": {},
     "output_type": "execute_result"
    }
   ],
   "source": [
    "B_2[1:4:2]"
   ]
  },
  {
   "cell_type": "code",
   "execution_count": 18,
   "id": "845372ca-0e89-4e3e-87d3-c6a08a53675b",
   "metadata": {},
   "outputs": [
    {
     "data": {
      "text/plain": [
       "(list, type)"
      ]
     },
     "execution_count": 18,
     "metadata": {},
     "output_type": "execute_result"
    }
   ],
   "source": [
    "type(B_2), type(type)"
   ]
  },
  {
   "cell_type": "code",
   "execution_count": 19,
   "id": "30b391cb-c0b1-4e67-9578-47914dba0866",
   "metadata": {},
   "outputs": [],
   "source": [
    "Blist = B_2[1:4]"
   ]
  },
  {
   "cell_type": "code",
   "execution_count": 20,
   "id": "f443c86a-38b1-4088-8899-2b3c29de2ee8",
   "metadata": {},
   "outputs": [
    {
     "data": {
      "text/plain": [
       "(30, 30)"
      ]
     },
     "execution_count": 20,
     "metadata": {},
     "output_type": "execute_result"
    }
   ],
   "source": [
    "Blist[1], B_2[1:4][1]"
   ]
  },
  {
   "cell_type": "markdown",
   "id": "f1110fad-d624-44c6-a26e-ba55033774fd",
   "metadata": {},
   "source": [
    "- List in List"
   ]
  },
  {
   "cell_type": "code",
   "execution_count": 21,
   "id": "adaef43f-193f-42a8-84c1-8b09f2ee74c6",
   "metadata": {},
   "outputs": [],
   "source": [
    "C = [1,2,'c', [1,3,4]]"
   ]
  },
  {
   "cell_type": "code",
   "execution_count": 22,
   "id": "579328d3-1d00-470a-877e-7da737276ac4",
   "metadata": {},
   "outputs": [],
   "source": [
    "List_C = C[3]"
   ]
  },
  {
   "cell_type": "code",
   "execution_count": 23,
   "id": "44494768-8271-41c8-9351-0cf301f24ccf",
   "metadata": {},
   "outputs": [
    {
     "data": {
      "text/plain": [
       "[1, 3, 4]"
      ]
     },
     "execution_count": 23,
     "metadata": {},
     "output_type": "execute_result"
    }
   ],
   "source": [
    "List_C"
   ]
  },
  {
   "cell_type": "code",
   "execution_count": 24,
   "id": "7585bd31-b7d6-405e-ae9b-39eb2b8958c0",
   "metadata": {},
   "outputs": [
    {
     "data": {
      "text/plain": [
       "(list, ['c', [1, 3, 4]])"
      ]
     },
     "execution_count": 24,
     "metadata": {},
     "output_type": "execute_result"
    }
   ],
   "source": [
    "type(C[2:4]), C[2:4]"
   ]
  },
  {
   "cell_type": "code",
   "execution_count": 25,
   "id": "1791b0c2-fbaa-4a1e-bb29-700ae143fe9f",
   "metadata": {},
   "outputs": [],
   "source": [
    "D = [[1,2,3,4], [3,[12,4,5,65], 'c', 10], 'a']"
   ]
  },
  {
   "cell_type": "code",
   "execution_count": 26,
   "id": "6bffedb5-0a49-4d71-8728-fd833845fdd1",
   "metadata": {},
   "outputs": [
    {
     "data": {
      "text/plain": [
       "[1, 2, 3, 4]"
      ]
     },
     "execution_count": 26,
     "metadata": {},
     "output_type": "execute_result"
    }
   ],
   "source": [
    "D[0]"
   ]
  },
  {
   "cell_type": "code",
   "execution_count": 27,
   "id": "8ba1fca6-8d76-4022-9f27-48a0019acc32",
   "metadata": {},
   "outputs": [
    {
     "data": {
      "text/plain": [
       "[3, [12, 4, 5, 65], 'c', 10]"
      ]
     },
     "execution_count": 27,
     "metadata": {},
     "output_type": "execute_result"
    }
   ],
   "source": [
    "D[1]"
   ]
  },
  {
   "cell_type": "code",
   "execution_count": 28,
   "id": "e48ce5cc-f937-4b02-8f80-1a1aa6a79b96",
   "metadata": {},
   "outputs": [
    {
     "data": {
      "text/plain": [
       "'a'"
      ]
     },
     "execution_count": 28,
     "metadata": {},
     "output_type": "execute_result"
    }
   ],
   "source": [
    "D[2]"
   ]
  },
  {
   "cell_type": "code",
   "execution_count": 29,
   "id": "aa319091-5520-4d17-a012-b0b8c1306bd2",
   "metadata": {},
   "outputs": [
    {
     "data": {
      "text/plain": [
       "3"
      ]
     },
     "execution_count": 29,
     "metadata": {},
     "output_type": "execute_result"
    }
   ],
   "source": [
    "D[1][0]"
   ]
  },
  {
   "cell_type": "code",
   "execution_count": 30,
   "id": "a8449927-45bd-45e7-811b-f49875464483",
   "metadata": {},
   "outputs": [
    {
     "data": {
      "text/plain": [
       "[12, 4, 5, 65]"
      ]
     },
     "execution_count": 30,
     "metadata": {},
     "output_type": "execute_result"
    }
   ],
   "source": [
    "D[1][1]"
   ]
  },
  {
   "cell_type": "code",
   "execution_count": 31,
   "id": "f0232464-c312-4dd3-8b0e-6895bf1b0ea8",
   "metadata": {},
   "outputs": [
    {
     "data": {
      "text/plain": [
       "(5, int, 35)"
      ]
     },
     "execution_count": 31,
     "metadata": {},
     "output_type": "execute_result"
    }
   ],
   "source": [
    "D[1][1][2], type(D[1][1][2]), D[1][1][2] + 30"
   ]
  },
  {
   "cell_type": "markdown",
   "id": "274dcd89-e09b-443c-984a-d9eb5b01521b",
   "metadata": {},
   "source": [
    "# Vector의 표기 단위 차이\n",
    "- 수학에서 벡터의 기본 표기 단위\n",
    "    - Columns (월) vector로 표기하는 것이 관습임.\n",
    "    - 예제\n",
    "       \n",
    "$$ x= \\begin{bmatrix} x1\\\\ x2\\\\ x3\\\\  \\end{bmatrix} \\in \\mathbb{R}^{3x1}  $$\n",
    "\n",
    "- 코딩 (Python) 에서의 벡터의 기본 단위\n",
    "    - 다른 구조체와 메모리 구조상 Row(행) vector로 표기하는 것이 관습.\n",
    "    - 예\n",
    "    - x = `np.array([1,2,3])`"
   ]
  },
  {
   "cell_type": "code",
   "execution_count": null,
   "id": "28afb25a-10cc-42f2-9d75-67ff51c76fb2",
   "metadata": {},
   "outputs": [],
   "source": []
  },
  {
   "cell_type": "markdown",
   "id": "66f1d983-3463-482a-970b-21390cd997a6",
   "metadata": {},
   "source": [
    "<b> Python에서 Matrix 생성하기. </b>\n",
    "- 다음 $ X \\in \\mathbb{R}^{2x3} $ 행렬을 고려합시다.\n",
    "\n",
    "$$ X = \\begin{bmatrix} 5\\ 6\\ 8\\\\ 6\\ 7\\ 4 \\end{bmatrix} $$\n",
    "\n",
    "- X 행렬의 각 Column(열)을 $ x^{(i)} \\in \\mathbb{R}^2 $ 이라고 할 때. 즉.\n",
    "$$ X = \\begin{bmatrix} x^{(1)}\\ x^{(2)}\\ x^{(3)} \\end{bmatrix} $$ 와 같이 표현됩니다. \n",
    "\n",
    "자세하게 설명하면 다음과 같습니다.\n",
    "\n",
    "$$ x^{(1)} = \\begin{bmatrix} 5\\\\ 6 \\end{bmatrix}, x^{(2)} = \\begin{bmatrix} 6\\\\ 7 \\end{bmatrix},\n",
    "    x^{(3)} = \\begin{bmatrix} 8\\\\ 4 \\end{bmatrix}  $$\n",
    "    \n",
    "- list 에서 생성\n",
    "- indexing, slicing"
   ]
  },
  {
   "cell_type": "code",
   "execution_count": 32,
   "id": "a4dafc6e-ea62-4edd-9a0f-e3968057556e",
   "metadata": {},
   "outputs": [
    {
     "data": {
      "text/plain": [
       "array([[5],\n",
       "       [6]])"
      ]
     },
     "execution_count": 32,
     "metadata": {},
     "output_type": "execute_result"
    }
   ],
   "source": [
    "x1 = np.array([[5], [6]])\n",
    "x1"
   ]
  },
  {
   "cell_type": "code",
   "execution_count": 33,
   "id": "9f443d76-b91d-4b35-a66f-29c22f0ffda0",
   "metadata": {},
   "outputs": [
    {
     "data": {
      "text/plain": [
       "2"
      ]
     },
     "execution_count": 33,
     "metadata": {},
     "output_type": "execute_result"
    }
   ],
   "source": [
    "x1.ndim"
   ]
  },
  {
   "cell_type": "code",
   "execution_count": 34,
   "id": "19a3410f",
   "metadata": {},
   "outputs": [],
   "source": [
    "X = np.array([[5,6,8], [6,7,4]])"
   ]
  },
  {
   "cell_type": "code",
   "execution_count": 35,
   "id": "c9a6d2c1-f84e-4d29-ab70-83008575a655",
   "metadata": {},
   "outputs": [
    {
     "data": {
      "text/plain": [
       "array([[5, 6, 8],\n",
       "       [6, 7, 4]])"
      ]
     },
     "execution_count": 35,
     "metadata": {},
     "output_type": "execute_result"
    }
   ],
   "source": [
    "X"
   ]
  },
  {
   "cell_type": "code",
   "execution_count": 36,
   "id": "6f9c076a-df0e-4aba-a6f8-d2bc755dbc18",
   "metadata": {},
   "outputs": [
    {
     "name": "stderr",
     "output_type": "stream",
     "text": [
      "/var/folders/hp/zz_v74bx3912w8s2fz07537r0000gn/T/ipykernel_3211/192070935.py:1: VisibleDeprecationWarning: Creating an ndarray from ragged nested sequences (which is a list-or-tuple of lists-or-tuples-or ndarrays with different lengths or shapes) is deprecated. If you meant to do this, you must specify 'dtype=object' when creating the ndarray.\n",
      "  X1 = np.array([[5,6,8], [6,7]])\n"
     ]
    }
   ],
   "source": [
    "X1 = np.array([[5,6,8], [6,7]])"
   ]
  },
  {
   "cell_type": "code",
   "execution_count": 37,
   "id": "13e86a06-89da-41be-891a-d919d6b6e6b0",
   "metadata": {},
   "outputs": [
    {
     "data": {
      "text/plain": [
       "1"
      ]
     },
     "execution_count": 37,
     "metadata": {},
     "output_type": "execute_result"
    }
   ],
   "source": [
    "X2 = np.array([4,5,7])\n",
    "X2.ndim"
   ]
  },
  {
   "cell_type": "markdown",
   "id": "043d25d5-4f50-4474-a1c0-57dfda80c985",
   "metadata": {},
   "source": [
    "- check dimension -> 차원을 확인하는 방법은?\n",
    "- `ndim`"
   ]
  },
  {
   "cell_type": "code",
   "execution_count": 38,
   "id": "cd9a61f8-2452-4af9-8880-3d5f45795e83",
   "metadata": {},
   "outputs": [
    {
     "data": {
      "text/plain": [
       "2"
      ]
     },
     "execution_count": 38,
     "metadata": {},
     "output_type": "execute_result"
    }
   ],
   "source": [
    "X.ndim"
   ]
  },
  {
   "cell_type": "markdown",
   "id": "48757be9-ca1c-4900-a992-722a15a49ec0",
   "metadata": {},
   "source": [
    "- check type\n",
    "- `dtype`"
   ]
  },
  {
   "cell_type": "code",
   "execution_count": 39,
   "id": "ffbc54e2-f9aa-413a-9465-20b1128dc920",
   "metadata": {},
   "outputs": [
    {
     "data": {
      "text/plain": [
       "(dtype('int64'), numpy.ndarray)"
      ]
     },
     "execution_count": 39,
     "metadata": {},
     "output_type": "execute_result"
    }
   ],
   "source": [
    "X.dtype, type(X)"
   ]
  },
  {
   "cell_type": "markdown",
   "id": "6e1f5ae9-5e57-422a-a6ca-77155142dd44",
   "metadata": {},
   "source": [
    "### (중요) Python에서의 Vector\n",
    "- 1 Dim-vector\n",
    "    - row vector 행행행벡터 만 표현 가능\n",
    "    \n",
    "- 2 Dim-vector\n",
    "    - row, column vector 모두 표현가능\n",
    "- 어떤 방식을 사용해야 하는가?\n",
    "- vector 또는 행렬에 적용하는 함수에 return 방식을 알고 있어야함.!!"
   ]
  },
  {
   "cell_type": "markdown",
   "id": "0070e580-89f7-41c7-8d14-1f110913d449",
   "metadata": {},
   "source": [
    "#### (수학) 차원 확인 명령어\n",
    "- $ X \\in \\mathbb{R}^{2x3} $\n",
    "- `x.shape`"
   ]
  },
  {
   "cell_type": "markdown",
   "id": "8b598bc1-fe64-4a29-946f-0b0bf4fa1dc0",
   "metadata": {},
   "source": [
    "다음 $ X \\in \\mathbb{R}^{2x3} $ 행렬을 고려합시다.\n",
    "\n",
    "$$ X = \\begin{bmatrix} 5\\ 6\\ 8\\\\ 6\\ 7\\ 4 \\end{bmatrix} $$"
   ]
  },
  {
   "cell_type": "code",
   "execution_count": 40,
   "id": "52a6afe7-49c6-4c5b-be9a-4c0f11951553",
   "metadata": {},
   "outputs": [],
   "source": [
    "X = np.array([[1., 2., 3.] , [4., 5., 6.,]])\n",
    "Y = np.array([[1., 2., 3.], [4., 5., 6.], [7., 8., 9.]])"
   ]
  },
  {
   "cell_type": "code",
   "execution_count": 41,
   "id": "6af2ff60-9a6e-407d-9f5e-77cee99ef60d",
   "metadata": {},
   "outputs": [
    {
     "data": {
      "text/plain": [
       "((2, 3), (3, 3))"
      ]
     },
     "execution_count": 41,
     "metadata": {},
     "output_type": "execute_result"
    }
   ],
   "source": [
    "X.shape, Y.shape"
   ]
  },
  {
   "cell_type": "code",
   "execution_count": 42,
   "id": "a4c87128-b298-4488-892d-016722fb054c",
   "metadata": {},
   "outputs": [
    {
     "data": {
      "text/plain": [
       "(numpy.ndarray, dtype('float64'))"
      ]
     },
     "execution_count": 42,
     "metadata": {},
     "output_type": "execute_result"
    }
   ],
   "source": [
    "type(X), X.dtype"
   ]
  },
  {
   "cell_type": "markdown",
   "id": "ad86af59-9608-4c03-95f1-20c28dd40c9b",
   "metadata": {},
   "source": [
    "#### Matrix 연산자 1.\n",
    "\n",
    "- Transpose (전치). $X^T$\n",
    "    - `X.T`\n",
    "- `reshape`"
   ]
  },
  {
   "cell_type": "code",
   "execution_count": 43,
   "id": "745126be-f978-417d-b71f-b1a089d4b376",
   "metadata": {},
   "outputs": [
    {
     "data": {
      "text/plain": [
       "(2, 3)"
      ]
     },
     "execution_count": 43,
     "metadata": {},
     "output_type": "execute_result"
    }
   ],
   "source": [
    "X = np.array([[1., 2., 3.] , \n",
    "            [4., 5., 6.]])\n",
    "X.shape"
   ]
  },
  {
   "cell_type": "code",
   "execution_count": 44,
   "id": "8960fdd6-18b3-4719-ada9-7b08e91dc8d1",
   "metadata": {},
   "outputs": [
    {
     "data": {
      "text/plain": [
       "array([[1., 4.],\n",
       "       [2., 5.],\n",
       "       [3., 6.]])"
      ]
     },
     "execution_count": 44,
     "metadata": {},
     "output_type": "execute_result"
    }
   ],
   "source": [
    "X.T"
   ]
  },
  {
   "cell_type": "code",
   "execution_count": 45,
   "id": "d7139050-93cf-40c4-90cc-176e31b9f4ba",
   "metadata": {},
   "outputs": [
    {
     "data": {
      "text/plain": [
       "array([[1., 2., 3.],\n",
       "       [4., 5., 6.]])"
      ]
     },
     "execution_count": 45,
     "metadata": {},
     "output_type": "execute_result"
    }
   ],
   "source": [
    "X.reshape(2,3)"
   ]
  },
  {
   "cell_type": "code",
   "execution_count": 46,
   "id": "50b912b2-fcb7-440e-8c5b-35f3cea9e95a",
   "metadata": {},
   "outputs": [
    {
     "data": {
      "text/plain": [
       "array([[1.],\n",
       "       [2.],\n",
       "       [3.],\n",
       "       [4.],\n",
       "       [5.],\n",
       "       [6.]])"
      ]
     },
     "execution_count": 46,
     "metadata": {},
     "output_type": "execute_result"
    }
   ],
   "source": [
    "X.reshape(6,1)"
   ]
  },
  {
   "cell_type": "code",
   "execution_count": 47,
   "id": "43380c05-7808-4f03-9e87-b57f23f7eaaf",
   "metadata": {},
   "outputs": [
    {
     "data": {
      "text/plain": [
       "array([[1., 2., 3., 4., 5., 6.]])"
      ]
     },
     "execution_count": 47,
     "metadata": {},
     "output_type": "execute_result"
    }
   ],
   "source": [
    "X.reshape(1,-1)"
   ]
  },
  {
   "cell_type": "markdown",
   "id": "63cdfb86-e968-44d1-b95e-64826f0f82dc",
   "metadata": {},
   "source": [
    "#### Vector transpose 주의할 점.\n",
    "- (중요) transpose 연산자는 1D Array는 계산하지 못한다."
   ]
  },
  {
   "cell_type": "code",
   "execution_count": 48,
   "id": "98d63d7a-436d-4052-9d57-f627a7d62b51",
   "metadata": {},
   "outputs": [],
   "source": [
    "a = np.array([1,2,3])"
   ]
  },
  {
   "cell_type": "code",
   "execution_count": 49,
   "id": "22561aef-8257-43a9-a825-cf34b71e2ef4",
   "metadata": {},
   "outputs": [
    {
     "data": {
      "text/plain": [
       "array([1, 2, 3])"
      ]
     },
     "execution_count": 49,
     "metadata": {},
     "output_type": "execute_result"
    }
   ],
   "source": [
    "a.T\n",
    "#아무런 변화 없음"
   ]
  },
  {
   "cell_type": "code",
   "execution_count": 50,
   "id": "37b905b5-5c99-4dd4-b949-7a617e576a1c",
   "metadata": {},
   "outputs": [],
   "source": [
    "b = np.array([[1,2,3]])"
   ]
  },
  {
   "cell_type": "code",
   "execution_count": 51,
   "id": "f32fcaff-b503-4577-9fa4-1eb0918256fb",
   "metadata": {},
   "outputs": [
    {
     "data": {
      "text/plain": [
       "array([[1],\n",
       "       [2],\n",
       "       [3]])"
      ]
     },
     "execution_count": 51,
     "metadata": {},
     "output_type": "execute_result"
    }
   ],
   "source": [
    "b.T"
   ]
  },
  {
   "cell_type": "code",
   "execution_count": 52,
   "id": "dac02679-0314-4a46-aabc-f5f44a04ab1a",
   "metadata": {},
   "outputs": [
    {
     "data": {
      "text/plain": [
       "array([[1],\n",
       "       [2],\n",
       "       [3]])"
      ]
     },
     "execution_count": 52,
     "metadata": {},
     "output_type": "execute_result"
    }
   ],
   "source": [
    "a.reshape(-1, 1)"
   ]
  },
  {
   "cell_type": "markdown",
   "id": "684116b6-c402-48bc-990c-b83d883a8391",
   "metadata": {},
   "source": [
    "- 다음 두개의 $ x^{(i)} \\in \\mathbb{R}^3 $ vector를 고려합시다.\n",
    "\n",
    "$$ x^{(1)} = \\begin{bmatrix} 5\\\\ 6\\\\ 8\\\\ \\end{bmatrix} , x^{(2)} = \\begin{bmatrix} 6\\\\ 7\\\\ 5\\\\ \\end{bmatrix} $$\n",
    "\n",
    "- X 행렬의 각 row(행)을 $ (x^{(i)})^T \\in \\mathbb{R}^{1x3} $ 이라 할 때. 즉,\n",
    "$$ X = \\begin{bmatrix} (x^{(1)})^T\\\\ (x^{(2)})^T \\end{bmatrix} $$ 과 같이 표현\n",
    "\n",
    "- 즉 $ X \\in \\mathbb{R}^{2x3} $ 은 다음과 같다.\n",
    "\n",
    "$$ X = \\begin{bmatrix} 5\\ 6\\ 8\\\\ 6\\ 7\\ 4 \\end{bmatrix} $$\n",
    "\n",
    "- Sequential Generation\n",
    "    - ones\n",
    "    - zeros\n",
    "    - arange\n",
    "    - linspace"
   ]
  },
  {
   "cell_type": "code",
   "execution_count": 53,
   "id": "d80995a0-04f5-4101-a46e-029fb0143d83",
   "metadata": {},
   "outputs": [
    {
     "name": "stdout",
     "output_type": "stream",
     "text": [
      "X1 =  [[5]\n",
      " [6]\n",
      " [7]]\n",
      "X2 =  [[6]\n",
      " [7]\n",
      " [5]]\n"
     ]
    }
   ],
   "source": [
    "x1 = np.array([[5], [6], [7]])\n",
    "x2 = np.array([[6], [7], [5]])\n",
    "\n",
    "print(\"X1 = \", x1)\n",
    "print(\"X2 = \", x2)"
   ]
  },
  {
   "cell_type": "code",
   "execution_count": 54,
   "id": "d2107ccb-8764-4735-9d48-63db41c8ab0f",
   "metadata": {},
   "outputs": [
    {
     "data": {
      "text/plain": [
       "((3, 1), (3, 1))"
      ]
     },
     "execution_count": 54,
     "metadata": {},
     "output_type": "execute_result"
    }
   ],
   "source": [
    "x1.shape , x2.shape"
   ]
  },
  {
   "cell_type": "code",
   "execution_count": 55,
   "id": "d1e53c8e-1b0a-4ce3-87b6-9b7597b1399e",
   "metadata": {},
   "outputs": [
    {
     "name": "stdout",
     "output_type": "stream",
     "text": [
      "x1T =  [[5 6 7]]\n",
      "x2T =  [[6 7 5]]\n"
     ]
    }
   ],
   "source": [
    "x1T = x1.T\n",
    "x2T = x2.T\n",
    "print(\"x1T = \", x1T)\n",
    "print(\"x2T = \", x2T)"
   ]
  },
  {
   "cell_type": "code",
   "execution_count": 56,
   "id": "66c8cb36-92ab-4fef-9099-3d1832c1c96f",
   "metadata": {},
   "outputs": [
    {
     "data": {
      "text/plain": [
       "array([[5, 6, 7]])"
      ]
     },
     "execution_count": 56,
     "metadata": {},
     "output_type": "execute_result"
    }
   ],
   "source": [
    "x1TT = x1.reshape(1,-1)\n",
    "x1TT"
   ]
  },
  {
   "cell_type": "markdown",
   "id": "fbe5f27e-aa15-401b-be7d-647615c377d5",
   "metadata": {},
   "source": [
    "* `vstack` (vertical(수직), stack(쌓다))"
   ]
  },
  {
   "cell_type": "code",
   "execution_count": 57,
   "id": "c4ee609d-20cd-4d53-b0f9-503d3cc8df5d",
   "metadata": {},
   "outputs": [
    {
     "data": {
      "text/plain": [
       "array([[5, 6, 7],\n",
       "       [6, 7, 5]])"
      ]
     },
     "execution_count": 57,
     "metadata": {},
     "output_type": "execute_result"
    }
   ],
   "source": [
    "X = np.vstack([x1.T, x2.T])\n",
    "X"
   ]
  },
  {
   "cell_type": "markdown",
   "id": "fa4dd3bd-7c31-449f-8346-215405446918",
   "metadata": {},
   "source": [
    "* `hstack` (horizontal(수평) stack(쌓다))"
   ]
  },
  {
   "cell_type": "code",
   "execution_count": 58,
   "id": "6b3f481a-cb1a-4998-96a6-fab3e9be1036",
   "metadata": {},
   "outputs": [
    {
     "data": {
      "text/plain": [
       "array([[5, 6, 7, 6, 7, 5]])"
      ]
     },
     "execution_count": 58,
     "metadata": {},
     "output_type": "execute_result"
    }
   ],
   "source": [
    "X2 = np.hstack([x1.T, x2.T])\n",
    "X2"
   ]
  },
  {
   "cell_type": "code",
   "execution_count": 59,
   "id": "37480b97-a898-4306-b434-211e6cb6e987",
   "metadata": {},
   "outputs": [
    {
     "data": {
      "text/plain": [
       "array([[5, 6],\n",
       "       [6, 7],\n",
       "       [7, 5]])"
      ]
     },
     "execution_count": 59,
     "metadata": {},
     "output_type": "execute_result"
    }
   ],
   "source": [
    "x2t = np.hstack([x1, x2])\n",
    "x2t"
   ]
  },
  {
   "cell_type": "markdown",
   "id": "8059d675-34fb-43ac-bc46-5a1dac352935",
   "metadata": {},
   "source": [
    "- Sequential Generation\n",
    "    - ones\n",
    "    - zeros\n",
    "    - arange\n",
    "    - linspace"
   ]
  },
  {
   "cell_type": "code",
   "execution_count": 60,
   "id": "125e5002-f979-48ee-8d4e-451bfc289327",
   "metadata": {},
   "outputs": [
    {
     "data": {
      "text/plain": [
       "array([[1],\n",
       "       [1],\n",
       "       [1]])"
      ]
     },
     "execution_count": 60,
     "metadata": {},
     "output_type": "execute_result"
    }
   ],
   "source": [
    "oncevec = np.ones((3,1), int)\n",
    "oncevec"
   ]
  },
  {
   "cell_type": "code",
   "execution_count": 61,
   "id": "a31a60ec-9aa0-410d-8e09-19a053b2365c",
   "metadata": {},
   "outputs": [
    {
     "data": {
      "text/plain": [
       "array([[1.],\n",
       "       [1.],\n",
       "       [1.]])"
      ]
     },
     "execution_count": 61,
     "metadata": {},
     "output_type": "execute_result"
    }
   ],
   "source": [
    "oncevec = np.ones((3,1), float)\n",
    "oncevec"
   ]
  },
  {
   "cell_type": "code",
   "execution_count": 62,
   "id": "c2668010-2d92-4435-80a5-b628c7cd2a10",
   "metadata": {},
   "outputs": [
    {
     "data": {
      "text/plain": [
       "array([[1, 1, 1]])"
      ]
     },
     "execution_count": 62,
     "metadata": {},
     "output_type": "execute_result"
    }
   ],
   "source": [
    "oncevec = np.ones((1,3), int)\n",
    "oncevec"
   ]
  },
  {
   "cell_type": "code",
   "execution_count": 63,
   "id": "496425b5-846d-4dcf-8408-2073e9c839f0",
   "metadata": {},
   "outputs": [
    {
     "data": {
      "text/plain": [
       "array([[1],\n",
       "       [1],\n",
       "       [1]])"
      ]
     },
     "execution_count": 63,
     "metadata": {},
     "output_type": "execute_result"
    }
   ],
   "source": [
    "oncevec.reshape(-1,1)"
   ]
  },
  {
   "cell_type": "code",
   "execution_count": 64,
   "id": "c5ac4690-5023-404e-99ad-eab517c0703f",
   "metadata": {},
   "outputs": [
    {
     "data": {
      "text/plain": [
       "array([[0, 0, 0]])"
      ]
     },
     "execution_count": 64,
     "metadata": {},
     "output_type": "execute_result"
    }
   ],
   "source": [
    "zerovec = np.zeros((1,3), int)\n",
    "zerovec"
   ]
  },
  {
   "cell_type": "code",
   "execution_count": 65,
   "id": "54190824-7c7c-4dc3-bb5b-032102a1f102",
   "metadata": {},
   "outputs": [
    {
     "data": {
      "text/plain": [
       "array([0, 1, 2])"
      ]
     },
     "execution_count": 65,
     "metadata": {},
     "output_type": "execute_result"
    }
   ],
   "source": [
    "np.arange(0,3)"
   ]
  },
  {
   "cell_type": "code",
   "execution_count": 66,
   "id": "ffa6cc5e-dcbc-4eb7-9c64-026033490491",
   "metadata": {},
   "outputs": [
    {
     "data": {
      "text/plain": [
       "array([0. , 0.5, 1. , 1.5, 2. , 2.5])"
      ]
     },
     "execution_count": 66,
     "metadata": {},
     "output_type": "execute_result"
    }
   ],
   "source": [
    "np.arange(0, 3, 0.5)"
   ]
  },
  {
   "cell_type": "code",
   "execution_count": 67,
   "id": "15130dab-3d0b-40ac-b480-572de50b18bc",
   "metadata": {},
   "outputs": [
    {
     "data": {
      "text/plain": [
       "array([0, 1, 2, 3, 4, 5, 6, 7, 8, 9])"
      ]
     },
     "execution_count": 67,
     "metadata": {},
     "output_type": "execute_result"
    }
   ],
   "source": [
    "np.arange(0,10)"
   ]
  },
  {
   "cell_type": "markdown",
   "id": "d885ca50-af81-400c-9d50-cd1ab800ef2f",
   "metadata": {},
   "source": [
    "- np.arange(0, 3, 0.5) -> 0이상 3미만 0.5씩 증가."
   ]
  },
  {
   "cell_type": "code",
   "execution_count": 68,
   "id": "fec3457d-6a6f-484f-b54a-76e248a7a70a",
   "metadata": {},
   "outputs": [
    {
     "name": "stdout",
     "output_type": "stream",
     "text": [
      "0\n",
      "1\n",
      "2\n"
     ]
    }
   ],
   "source": [
    "for i in np.arange(3):\n",
    "    print(i)"
   ]
  },
  {
   "cell_type": "code",
   "execution_count": 69,
   "id": "3a54c31c-320e-4c2c-b85e-ae0a492f202e",
   "metadata": {},
   "outputs": [
    {
     "data": {
      "text/plain": [
       "array([0., 1., 2., 3., 4.])"
      ]
     },
     "execution_count": 69,
     "metadata": {},
     "output_type": "execute_result"
    }
   ],
   "source": [
    "np.linspace(0,4,5)"
   ]
  },
  {
   "cell_type": "markdown",
   "id": "358933ac-3c5a-45d3-bf85-9f8aee616942",
   "metadata": {},
   "source": [
    "- np.linspace(0,4,5) 0에서 4까지 5개의 균등한 분배."
   ]
  },
  {
   "cell_type": "markdown",
   "id": "97bc46dc-6bbc-421e-916b-2461b0770a0e",
   "metadata": {},
   "source": [
    "- Random Generation\n",
    "- `random.rand`\n",
    "\n",
    "- 0과 1시이의 값을 랜덤하게 뽑음.\n",
    "\n",
    "- `random.rand(1,10)` : 0부터 1사이 10개\n",
    "\n",
    "- 0부터 2까지 -> 그냥 위에다가 x2 하면 댐"
   ]
  },
  {
   "cell_type": "code",
   "execution_count": 70,
   "id": "0aae4643-9e3c-49f1-bea8-a2b2ffd6e4ec",
   "metadata": {},
   "outputs": [
    {
     "data": {
      "text/plain": [
       "array([[0.11127229, 0.86130841, 0.51045119]])"
      ]
     },
     "execution_count": 70,
     "metadata": {},
     "output_type": "execute_result"
    }
   ],
   "source": [
    "d = np.random.rand(1,3)\n",
    "d"
   ]
  },
  {
   "cell_type": "code",
   "execution_count": 71,
   "id": "6a29a274-0913-4f8a-b9f4-aa57679ac2e3",
   "metadata": {},
   "outputs": [
    {
     "data": {
      "text/plain": [
       "array([[0.9585008 , 0.55461015, 0.54812065, 1.32319852, 0.71262027,\n",
       "        0.63691924, 0.4093111 , 0.22242194, 1.40183113, 0.07255636]])"
      ]
     },
     "execution_count": 71,
     "metadata": {},
     "output_type": "execute_result"
    }
   ],
   "source": [
    "d = np.random.rand(1,10) * 2\n",
    "d"
   ]
  },
  {
   "attachments": {
    "365a9fac-993f-4fb2-869b-7c6c6ef0ddb4.png": {
     "image/png": "[encoded data removed]"
    }
   },
   "cell_type": "markdown",
   "id": "bfcfc837-0039-4d27-91e9-46c1409493d3",
   "metadata": {},
   "source": [
    "- Gaussian random generation \n",
    "    - pdf\n",
    "    - ![image.png](attachment:365a9fac-993f-4fb2-869b-7c6c6ef0ddb4.png)\n",
    "    \n",
    "    - 정규분포 : mean = 0, variance = 1, 생성 명령어 `np.random.randn()`"
   ]
  },
  {
   "cell_type": "code",
   "execution_count": 72,
   "id": "c0270627-a7e3-4b40-87d5-5ce407cb1205",
   "metadata": {},
   "outputs": [
    {
     "data": {
      "text/plain": [
       "array([[ 0.56582629, -0.69949828,  0.90851167,  1.5132039 ],\n",
       "       [ 0.502478  ,  0.8859844 , -0.13291503,  1.16627937],\n",
       "       [ 0.31945395, -0.10437668, -1.78020285,  1.65022517]])"
      ]
     },
     "execution_count": 72,
     "metadata": {},
     "output_type": "execute_result"
    }
   ],
   "source": [
    "e = np.random.randn(3,4) # 평균 0 분산 1인 가우시안 분포를 3 by 4 행렬에 넣어줌.\n",
    "e"
   ]
  },
  {
   "cell_type": "code",
   "execution_count": 73,
   "id": "6d620331-a616-4bb9-a8db-f47ccc88c90d",
   "metadata": {},
   "outputs": [
    {
     "data": {
      "text/plain": [
       "array([[-6.2375569 , -4.35056394, -5.46879888, -0.72963551],\n",
       "       [-8.02723246,  3.45019184,  1.36450218,  7.54888414],\n",
       "       [-0.7656235 , -2.11547032,  4.82747219,  1.02158269]])"
      ]
     },
     "execution_count": 73,
     "metadata": {},
     "output_type": "execute_result"
    }
   ],
   "source": [
    "e_var10 = np.sqrt(10) * np.random.randn(3,4) #분산이 10이길 원할 때\n",
    "e_var10"
   ]
  },
  {
   "cell_type": "code",
   "execution_count": 74,
   "id": "ce00ecd7-804e-47a0-8ee9-147c0d967a0c",
   "metadata": {},
   "outputs": [
    {
     "data": {
      "text/plain": [
       "array([[ 1.20732993,  2.84667815,  2.89111841,  0.76819001],\n",
       "       [ 1.35837372,  1.95516241, -0.44271481,  2.74766397],\n",
       "       [ 3.02477474,  0.13436212,  1.24453372,  3.33215281]])"
      ]
     },
     "execution_count": 74,
     "metadata": {},
     "output_type": "execute_result"
    }
   ],
   "source": [
    "e_mean_plus2 = np.random.randn(3,4) + 2\n",
    "e_mean_plus2"
   ]
  },
  {
   "cell_type": "markdown",
   "id": "3cd1a18d-229e-479f-b85e-71f12bb1327e",
   "metadata": {},
   "source": [
    "### 차원축소\n",
    "\n",
    "- 차원축소\n",
    "- `squeeze()"
   ]
  },
  {
   "cell_type": "code",
   "execution_count": 80,
   "id": "afcb31e1-609e-4610-8370-b6dc043bebf7",
   "metadata": {},
   "outputs": [],
   "source": [
    "f = np.array([[1,2,3,4]])"
   ]
  },
  {
   "cell_type": "code",
   "execution_count": 81,
   "id": "c08dd24c-73e4-49c4-8b89-a6e8394dde75",
   "metadata": {},
   "outputs": [
    {
     "data": {
      "text/plain": [
       "array([[1, 2, 3, 4]])"
      ]
     },
     "execution_count": 81,
     "metadata": {},
     "output_type": "execute_result"
    }
   ],
   "source": [
    "f"
   ]
  },
  {
   "cell_type": "code",
   "execution_count": 82,
   "id": "ef2a852c-51ce-42d9-80d7-b828529343ef",
   "metadata": {},
   "outputs": [
    {
     "data": {
      "text/plain": [
       "2"
      ]
     },
     "execution_count": 82,
     "metadata": {},
     "output_type": "execute_result"
    }
   ],
   "source": [
    "f.ndim"
   ]
  },
  {
   "cell_type": "code",
   "execution_count": 83,
   "id": "e18ed388-d4f5-4b8d-bd39-9f4e13ce1e91",
   "metadata": {},
   "outputs": [
    {
     "data": {
      "text/plain": [
       "(1, 4)"
      ]
     },
     "execution_count": 83,
     "metadata": {},
     "output_type": "execute_result"
    }
   ],
   "source": [
    "f.shape"
   ]
  },
  {
   "cell_type": "code",
   "execution_count": 84,
   "id": "07aea073-5cd2-461a-991c-82e441727aa9",
   "metadata": {},
   "outputs": [
    {
     "data": {
      "text/plain": [
       "array([1, 2, 3, 4])"
      ]
     },
     "execution_count": 84,
     "metadata": {},
     "output_type": "execute_result"
    }
   ],
   "source": [
    "f.squeeze()"
   ]
  },
  {
   "cell_type": "markdown",
   "id": "9f6677ef-a1f2-4041-9159-824d5ae61806",
   "metadata": {},
   "source": [
    "- Matrix multiplication\n",
    "    - `matmul`\n",
    "    - Generate $ A \\in \\mathbb{R}^{3x2}, a^{(i)} = \\mathbb{R}^3 $\n",
    "        $$ A = \\begin{bmatrix} a^{(1)} & a^{(2)} & a^{(3)} \\end{bmatrix} $$\n",
    "        - Example\n",
    "        $$ a^{(1)} = \\begin{bmatrix} 3\\\\ 4\\\\ 5 \\end{bmatrix} $$\n",
    "\n",
    "    - Generate $ B \\in \\mathbb{R}^{3x4} $\n",
    "        $$ B = \\begin{bmatrix} b^{(1)} & b^{(2)} & b^{(3)} & b^{(4)} \\end{bmatrix} $$\n",
    "\n",
    "    - $ (a^{(1)})^T · b^{(2)} $"
   ]
  },
  {
   "cell_type": "code",
   "execution_count": 85,
   "id": "e3c82ed0-68b3-46d3-a033-1d3d3e85ef06",
   "metadata": {},
   "outputs": [],
   "source": [
    "A = np.arange(0,6)"
   ]
  },
  {
   "cell_type": "code",
   "execution_count": 93,
   "id": "7790107c-c7f9-4654-af37-ed2ea070d4dc",
   "metadata": {},
   "outputs": [
    {
     "data": {
      "text/plain": [
       "(array([0, 1, 2, 3, 4, 5]), (6,))"
      ]
     },
     "execution_count": 93,
     "metadata": {},
     "output_type": "execute_result"
    }
   ],
   "source": [
    "A, A.shape"
   ]
  },
  {
   "cell_type": "code",
   "execution_count": 94,
   "id": "0aac7c70-039c-4922-b5f3-9c250d05f3cf",
   "metadata": {},
   "outputs": [],
   "source": [
    "A = A.reshape(2,3)"
   ]
  },
  {
   "cell_type": "code",
   "execution_count": 95,
   "id": "39080b2b-1d85-43f6-b914-6e2075344e08",
   "metadata": {},
   "outputs": [
    {
     "data": {
      "text/plain": [
       "array([[-0.25438039, -0.03706716, -1.35719052, -0.32336849],\n",
       "       [ 1.32733422, -0.37797366,  2.00397271,  0.08688125],\n",
       "       [-1.1645475 ,  0.79744853, -1.73589409,  1.90789073]])"
      ]
     },
     "execution_count": 95,
     "metadata": {},
     "output_type": "execute_result"
    }
   ],
   "source": [
    "B = np.random.randn(3,4)\n",
    "B"
   ]
  },
  {
   "cell_type": "code",
   "execution_count": 96,
   "id": "6e06cbf4-b5db-44dc-8e35-452126ba922f",
   "metadata": {},
   "outputs": [
    {
     "data": {
      "text/plain": [
       "array([[-1.00176078,  1.2169234 , -1.46781547,  3.90266271],\n",
       "       [-1.27654181,  2.36414653, -4.73515117,  8.91687321]])"
      ]
     },
     "execution_count": 96,
     "metadata": {},
     "output_type": "execute_result"
    }
   ],
   "source": [
    "np.matmul(A,B)"
   ]
  },
  {
   "cell_type": "code",
   "execution_count": 97,
   "id": "fba181de-13de-407b-b862-3931288ebdf5",
   "metadata": {},
   "outputs": [
    {
     "data": {
      "text/plain": [
       "array([[-1.00176078,  1.2169234 , -1.46781547,  3.90266271],\n",
       "       [-1.27654181,  2.36414653, -4.73515117,  8.91687321]])"
      ]
     },
     "execution_count": 97,
     "metadata": {},
     "output_type": "execute_result"
    }
   ],
   "source": [
    "np.dot(A,B)"
   ]
  },
  {
   "cell_type": "code",
   "execution_count": 98,
   "id": "d005ce2e-8f3c-4d1e-a3c9-137c59f94562",
   "metadata": {},
   "outputs": [
    {
     "data": {
      "text/plain": [
       "array([[-1.00176078,  1.2169234 , -1.46781547,  3.90266271],\n",
       "       [-1.27654181,  2.36414653, -4.73515117,  8.91687321]])"
      ]
     },
     "execution_count": 98,
     "metadata": {},
     "output_type": "execute_result"
    }
   ],
   "source": [
    "A@B"
   ]
  },
  {
   "cell_type": "code",
   "execution_count": 103,
   "id": "815dd221-6481-4c22-920a-2b9a8d2a6bfd",
   "metadata": {},
   "outputs": [
    {
     "data": {
      "text/plain": [
       "(array([0., 2., 4., 6.]), (4,))"
      ]
     },
     "execution_count": 103,
     "metadata": {},
     "output_type": "execute_result"
    }
   ],
   "source": [
    "a = np.linspace(0,6,4)\n",
    "a, a.shape"
   ]
  },
  {
   "cell_type": "code",
   "execution_count": 100,
   "id": "8b684806-2706-434a-9098-6eb61e4eeb4f",
   "metadata": {},
   "outputs": [
    {
     "data": {
      "text/plain": [
       "array([[1.],\n",
       "       [1.],\n",
       "       [1.],\n",
       "       [1.]])"
      ]
     },
     "execution_count": 100,
     "metadata": {},
     "output_type": "execute_result"
    }
   ],
   "source": [
    "b = np.ones((4,1))\n",
    "b"
   ]
  },
  {
   "cell_type": "code",
   "execution_count": 106,
   "id": "07acbeaa-8a18-4333-bfd2-b51748187478",
   "metadata": {},
   "outputs": [
    {
     "data": {
      "text/plain": [
       "array([12.])"
      ]
     },
     "execution_count": 106,
     "metadata": {},
     "output_type": "execute_result"
    }
   ],
   "source": [
    "np.matmul(a,b)"
   ]
  },
  {
   "cell_type": "code",
   "execution_count": 108,
   "id": "00b95a09-6154-4ca8-92d8-91b5f3365fb5",
   "metadata": {},
   "outputs": [
    {
     "data": {
      "text/plain": [
       "numpy.ndarray"
      ]
     },
     "execution_count": 108,
     "metadata": {},
     "output_type": "execute_result"
    }
   ],
   "source": [
    "type(np.matmul(a,b)) # scaler가 반환되는 것이 아닌, return 값은 np.ndarray()"
   ]
  },
  {
   "cell_type": "code",
   "execution_count": 109,
   "id": "44f8fbec-ef00-4bb3-9ee2-8d14d737bf09",
   "metadata": {},
   "outputs": [],
   "source": [
    "a = a.reshape(1,4)"
   ]
  },
  {
   "cell_type": "code",
   "execution_count": 112,
   "id": "8bac2c11-8f6e-4d2d-9b84-d6917c672113",
   "metadata": {},
   "outputs": [
    {
     "data": {
      "text/plain": [
       "(array([[12.]]), numpy.ndarray, (1, 1))"
      ]
     },
     "execution_count": 112,
     "metadata": {},
     "output_type": "execute_result"
    }
   ],
   "source": [
    "np.matmul(a,b), type(np.matmul(a,b)), np.matmul(a,b).shape"
   ]
  },
  {
   "cell_type": "code",
   "execution_count": 114,
   "id": "6201cf59-73b3-4ecf-b059-e0e54149c50d",
   "metadata": {},
   "outputs": [
    {
     "data": {
      "text/plain": [
       "array(12.)"
      ]
     },
     "execution_count": 114,
     "metadata": {},
     "output_type": "execute_result"
    }
   ],
   "source": [
    "np.matmul(a,b).squeeze()"
   ]
  },
  {
   "cell_type": "code",
   "execution_count": 115,
   "id": "2ef57eee-ebf5-419a-9d8c-f349cdcf6533",
   "metadata": {},
   "outputs": [
    {
     "data": {
      "text/plain": [
       "12.0"
      ]
     },
     "execution_count": 115,
     "metadata": {},
     "output_type": "execute_result"
    }
   ],
   "source": [
    "np.matmul(a,b)[0][0]"
   ]
  },
  {
   "cell_type": "markdown",
   "id": "001bd0a6-2c33-4ac3-942e-2a476a24a5c7",
   "metadata": {},
   "source": [
    "- Matrix multiplication\n",
    "    - `matmul`\n",
    "    - Generate $ A \\in \\mathbb{R}^{3x2}, a^{(i)} = \\mathbb{R}^3 $\n",
    "        $$ A = \\begin{bmatrix} a^{(1)} & a^{(2)} \\end{bmatrix} $$\n",
    "        - Example\n",
    "        $$ a^{(1)} = \\begin{bmatrix} 3\\\\ 4\\\\ 5 \\end{bmatrix} $$\n",
    "\n",
    "    - Generate $ B \\in \\mathbb{R}^{3x4} $\n",
    "        $$ B = \\begin{bmatrix} b^{(1)} & b^{(2)} & b^{(3)} & b^{(4)} \\end{bmatrix} $$\n",
    "\n",
    "    - $ (a^{(1)})^T · b^{(2)} $"
   ]
  },
  {
   "cell_type": "code",
   "execution_count": 116,
   "id": "32e437d0-3f33-410c-a55d-9ba5c67c6cc0",
   "metadata": {},
   "outputs": [
    {
     "data": {
      "text/plain": [
       "array([[0, 1],\n",
       "       [2, 3],\n",
       "       [4, 5]])"
      ]
     },
     "execution_count": 116,
     "metadata": {},
     "output_type": "execute_result"
    }
   ],
   "source": [
    "A = np.arange(0,6).reshape(3,2)\n",
    "A"
   ]
  },
  {
   "cell_type": "code",
   "execution_count": 117,
   "id": "95901783-02be-42ea-a822-daf434153540",
   "metadata": {},
   "outputs": [
    {
     "data": {
      "text/plain": [
       "array([[ 1.59503019,  2.47312224,  0.55675058, -0.66981385],\n",
       "       [ 0.64737114, -0.05148443, -0.3347632 , -0.2534085 ],\n",
       "       [-0.74719583,  1.5362391 , -1.47090389,  0.68278854]])"
      ]
     },
     "execution_count": 117,
     "metadata": {},
     "output_type": "execute_result"
    }
   ],
   "source": [
    "B = np.random.randn(3,4)\n",
    "B"
   ]
  },
  {
   "cell_type": "markdown",
   "id": "7bdaf286-1599-4f62-abbe-b2188be41d91",
   "metadata": {},
   "source": [
    "### Numpy에서의 리스트 뽑기.\n",
    "\n",
    "- Row 뽑기 : A[0], A[1:3]\n",
    "- Columns 뽑기     : A[:,0]\n",
    "- A[0][1] == A[0,1], A[1][0] == A[1,0]"
   ]
  },
  {
   "cell_type": "code",
   "execution_count": 121,
   "id": "620016da-5af6-41d0-8d1b-59c6c946198a",
   "metadata": {},
   "outputs": [
    {
     "data": {
      "text/plain": [
       "(array([0, 1]),\n",
       " array([[2, 3],\n",
       "        [4, 5]]))"
      ]
     },
     "execution_count": 121,
     "metadata": {},
     "output_type": "execute_result"
    }
   ],
   "source": [
    "A[0], A[1:3]"
   ]
  },
  {
   "cell_type": "code",
   "execution_count": 122,
   "id": "6be82059-5412-4149-b2a0-f025a39ca382",
   "metadata": {},
   "outputs": [
    {
     "data": {
      "text/plain": [
       "(array([0, 2, 4]), array([1, 3, 5]))"
      ]
     },
     "execution_count": 122,
     "metadata": {},
     "output_type": "execute_result"
    }
   ],
   "source": [
    "A[:,0], A[:,1]"
   ]
  },
  {
   "cell_type": "code",
   "execution_count": 136,
   "id": "444ffc84-5bc2-44b0-8f51-2fe3a67b30aa",
   "metadata": {},
   "outputs": [
    {
     "data": {
      "text/plain": [
       "array([0, 2, 4])"
      ]
     },
     "execution_count": 136,
     "metadata": {},
     "output_type": "execute_result"
    }
   ],
   "source": [
    "a1 = A[:,0] #A 행렬의 0번째 Columns 벡터를 뽑기 위해 `A[:,0]` 을 하면 문제가 생김.;; why 자동으로 squeeze를 하기 때문에...\n",
    "a1 #그렇다면 어떻게 Columns 벡터로 바꿀까? -> reshape(-1, 1)"
   ]
  },
  {
   "cell_type": "code",
   "execution_count": 137,
   "id": "878fa21d-341c-42b2-8b23-746ed125cf38",
   "metadata": {},
   "outputs": [
    {
     "data": {
      "text/plain": [
       "(3, 1)"
      ]
     },
     "execution_count": 137,
     "metadata": {},
     "output_type": "execute_result"
    }
   ],
   "source": [
    "a1 = a1.reshape(3, -1)\n",
    "a1.shape"
   ]
  },
  {
   "cell_type": "code",
   "execution_count": 138,
   "id": "feec8150-b9d0-4674-bbe6-4b09f5578329",
   "metadata": {},
   "outputs": [
    {
     "data": {
      "text/plain": [
       "array([[ 2.47312224],\n",
       "       [-0.05148443],\n",
       "       [ 1.5362391 ]])"
      ]
     },
     "execution_count": 138,
     "metadata": {},
     "output_type": "execute_result"
    }
   ],
   "source": [
    "b1 = B[:,1].reshape(-1, 1)\n",
    "b1"
   ]
  },
  {
   "cell_type": "code",
   "execution_count": 140,
   "id": "ca914f85-3cee-4607-9955-7119c8d99951",
   "metadata": {},
   "outputs": [
    {
     "data": {
      "text/plain": [
       "6.0419875124716516"
      ]
     },
     "execution_count": 140,
     "metadata": {},
     "output_type": "execute_result"
    }
   ],
   "source": [
    "np.matmul(a1.T, b1)[0,0]"
   ]
  },
  {
   "cell_type": "markdown",
   "id": "a5abc65d-cf12-42a9-a600-1762d02d2cd7",
   "metadata": {},
   "source": [
    "- Matrix operations\n",
    "    - sum(axis)\n",
    "   "
   ]
  },
  {
   "cell_type": "code",
   "execution_count": 142,
   "id": "06acca7c-2ffe-47c4-bc9f-57dd80b6d6a2",
   "metadata": {},
   "outputs": [
    {
     "data": {
      "text/plain": [
       "array([[-0.06170929, -0.06079384, -0.38211954],\n",
       "       [ 1.35557276,  2.14684461,  1.53930748],\n",
       "       [ 0.99936623,  1.79117737,  0.06225706]])"
      ]
     },
     "execution_count": 142,
     "metadata": {},
     "output_type": "execute_result"
    }
   ],
   "source": [
    "C = np.random.randn(3,3)\n",
    "C"
   ]
  },
  {
   "cell_type": "code",
   "execution_count": 143,
   "id": "87476419-8256-4619-99f8-f35a533c15d3",
   "metadata": {},
   "outputs": [
    {
     "data": {
      "text/plain": [
       "array([[ 1.33336645, -0.11300726, -1.34512987],\n",
       "       [-2.37743753, -0.06536233, -0.06471369],\n",
       "       [-2.08456097,  1.1727299 ,  0.3963274 ]])"
      ]
     },
     "execution_count": 143,
     "metadata": {},
     "output_type": "execute_result"
    }
   ],
   "source": [
    "D = np.random.randn(3,3)\n",
    "D"
   ]
  },
  {
   "cell_type": "code",
   "execution_count": 144,
   "id": "fc7f9e6d-44aa-4249-8452-6d466eed170e",
   "metadata": {},
   "outputs": [
    {
     "data": {
      "text/plain": [
       "array([[ 1.27165716, -0.17380111, -1.72724941],\n",
       "       [-1.02186478,  2.08148228,  1.47459378],\n",
       "       [-1.08519474,  2.96390727,  0.45858446]])"
      ]
     },
     "execution_count": 144,
     "metadata": {},
     "output_type": "execute_result"
    }
   ],
   "source": [
    "C+D"
   ]
  },
  {
   "cell_type": "code",
   "execution_count": 146,
   "id": "7aea6649-d149-44dd-a529-3210cad1d1af",
   "metadata": {},
   "outputs": [
    {
     "data": {
      "text/plain": [
       "array([ 1.27165716, -0.17380111, -1.72724941])"
      ]
     },
     "execution_count": 146,
     "metadata": {},
     "output_type": "execute_result"
    }
   ],
   "source": [
    "c1 = C[0,:]\n",
    "d1 = D[0,:]\n",
    "\n",
    "c1+d1"
   ]
  },
  {
   "cell_type": "code",
   "execution_count": 148,
   "id": "a05e6247-56d3-4e86-8fdb-d9f696fff560",
   "metadata": {},
   "outputs": [
    {
     "data": {
      "text/plain": [
       "array([2., 2., 2., 2.])"
      ]
     },
     "execution_count": 148,
     "metadata": {},
     "output_type": "execute_result"
    }
   ],
   "source": [
    "a = np.array([1,2,3,4])\n",
    "b = 2 * np.ones(4)\n",
    "b"
   ]
  },
  {
   "cell_type": "code",
   "execution_count": 149,
   "id": "f9762a66-1fb0-437b-a61d-46d1382a2759",
   "metadata": {},
   "outputs": [
    {
     "data": {
      "text/plain": [
       "array([2., 4., 6., 8.])"
      ]
     },
     "execution_count": 149,
     "metadata": {},
     "output_type": "execute_result"
    }
   ],
   "source": [
    "c = a*b\n",
    "c"
   ]
  },
  {
   "cell_type": "code",
   "execution_count": 152,
   "id": "2df361cd-9aa4-4f20-8507-4bcea5ab8f49",
   "metadata": {},
   "outputs": [
    {
     "data": {
      "text/plain": [
       "20.0"
      ]
     },
     "execution_count": 152,
     "metadata": {},
     "output_type": "execute_result"
    }
   ],
   "source": [
    "np.sum(a*b) #1D Array일 땐 다 더함."
   ]
  },
  {
   "cell_type": "code",
   "execution_count": 151,
   "id": "0d2eb96f-ce93-49b4-9882-400327c95f81",
   "metadata": {},
   "outputs": [
    {
     "data": {
      "text/plain": [
       "array([20.])"
      ]
     },
     "execution_count": 151,
     "metadata": {},
     "output_type": "execute_result"
    }
   ],
   "source": [
    "np.matmul(a,b.reshape(-1,1))"
   ]
  },
  {
   "cell_type": "code",
   "execution_count": 153,
   "id": "5bea7a87-9273-4b3a-9415-02cd8f851869",
   "metadata": {},
   "outputs": [
    {
     "data": {
      "text/plain": [
       "array([[ 3,  4,  5,  6],\n",
       "       [ 7,  8,  9, 10]])"
      ]
     },
     "execution_count": 153,
     "metadata": {},
     "output_type": "execute_result"
    }
   ],
   "source": [
    "A = np.arange(3,11,1).reshape(2,4)\n",
    "A"
   ]
  },
  {
   "cell_type": "code",
   "execution_count": 157,
   "id": "3675107e-ec58-4694-9660-3ed47f476415",
   "metadata": {},
   "outputs": [
    {
     "data": {
      "text/plain": [
       "(52, array([10, 12, 14, 16]), array([18, 34]))"
      ]
     },
     "execution_count": 157,
     "metadata": {},
     "output_type": "execute_result"
    }
   ],
   "source": [
    "np.sum(A), np.sum(A, axis = 0), np.sum(A, axis =1)"
   ]
  },
  {
   "cell_type": "code",
   "execution_count": 159,
   "id": "d7fee25d-dad9-487a-b241-a88b2de51363",
   "metadata": {},
   "outputs": [
    {
     "data": {
      "text/plain": [
       "array([[18],\n",
       "       [34]])"
      ]
     },
     "execution_count": 159,
     "metadata": {},
     "output_type": "execute_result"
    }
   ],
   "source": [
    "np.sum(A, axis = 1).reshape(-1,1) #2차원 모양을 그대로 유지하고 싶다면?"
   ]
  },
  {
   "cell_type": "markdown",
   "id": "5317a120-0b47-4a93-b7d5-d21c722b36d8",
   "metadata": {},
   "source": [
    "- Broadcasting"
   ]
  },
  {
   "cell_type": "code",
   "execution_count": 160,
   "id": "90b64215-8f8f-419a-abb9-a71add233d1c",
   "metadata": {},
   "outputs": [
    {
     "data": {
      "text/plain": [
       "array([[-2.45608578,  1.00280302, -1.66864164],\n",
       "       [-1.21701686,  0.05633688,  0.45000388],\n",
       "       [ 2.58396938,  0.05604298, -2.41235549],\n",
       "       [ 0.55022609,  1.11928211, -2.1225607 ]])"
      ]
     },
     "execution_count": 160,
     "metadata": {},
     "output_type": "execute_result"
    }
   ],
   "source": [
    "A = np.random.randn(4,3)\n",
    "A"
   ]
  },
  {
   "cell_type": "code",
   "execution_count": 161,
   "id": "8bd85eaf-df42-46ba-be60-ee8128da6310",
   "metadata": {},
   "outputs": [
    {
     "data": {
      "text/plain": [
       "array([[1.],\n",
       "       [1.],\n",
       "       [1.],\n",
       "       [1.]])"
      ]
     },
     "execution_count": 161,
     "metadata": {},
     "output_type": "execute_result"
    }
   ],
   "source": [
    "B = np.ones((4,1))\n",
    "B"
   ]
  },
  {
   "cell_type": "code",
   "execution_count": 162,
   "id": "f029e1b5-7a52-4cb4-bc2b-b731dd229510",
   "metadata": {},
   "outputs": [
    {
     "data": {
      "text/plain": [
       "array([[-1.45608578,  2.00280302, -0.66864164],\n",
       "       [-0.21701686,  1.05633688,  1.45000388],\n",
       "       [ 3.58396938,  1.05604298, -1.41235549],\n",
       "       [ 1.55022609,  2.11928211, -1.1225607 ]])"
      ]
     },
     "execution_count": 162,
     "metadata": {},
     "output_type": "execute_result"
    }
   ],
   "source": [
    "A+B"
   ]
  },
  {
   "cell_type": "code",
   "execution_count": 167,
   "id": "09fd2b0a-85f8-4cb7-90f4-dd372c8af866",
   "metadata": {},
   "outputs": [
    {
     "data": {
      "text/plain": [
       "array([[ 0.40179834],\n",
       "       [-0.39259328],\n",
       "       [-0.40866665],\n",
       "       [ 0.45971338]])"
      ]
     },
     "execution_count": 167,
     "metadata": {},
     "output_type": "execute_result"
    }
   ],
   "source": [
    "A = np.random.randn(4,1)\n",
    "A"
   ]
  },
  {
   "cell_type": "code",
   "execution_count": 168,
   "id": "7eb25e8b-ead0-4a7e-a6cb-1f2c86f41764",
   "metadata": {},
   "outputs": [
    {
     "data": {
      "text/plain": [
       "array([[3., 3., 3.]])"
      ]
     },
     "execution_count": 168,
     "metadata": {},
     "output_type": "execute_result"
    }
   ],
   "source": [
    "B = np.ones((1,3))*3\n",
    "B"
   ]
  },
  {
   "cell_type": "code",
   "execution_count": 169,
   "id": "952f8fe8-c2cf-4d0b-a583-809d5141bafc",
   "metadata": {},
   "outputs": [
    {
     "data": {
      "text/plain": [
       "array([[3.40179834, 3.40179834, 3.40179834],\n",
       "       [2.60740672, 2.60740672, 2.60740672],\n",
       "       [2.59133335, 2.59133335, 2.59133335],\n",
       "       [3.45971338, 3.45971338, 3.45971338]])"
      ]
     },
     "execution_count": 169,
     "metadata": {},
     "output_type": "execute_result"
    }
   ],
   "source": [
    "A+B"
   ]
  },
  {
   "cell_type": "code",
   "execution_count": 170,
   "id": "f43444e3-9ec3-4b57-bc82-be815d5be519",
   "metadata": {},
   "outputs": [
    {
     "data": {
      "text/plain": [
       "array([[ 1.20539503,  1.20539503,  1.20539503],\n",
       "       [-1.17777983, -1.17777983, -1.17777983],\n",
       "       [-1.22599995, -1.22599995, -1.22599995],\n",
       "       [ 1.37914014,  1.37914014,  1.37914014]])"
      ]
     },
     "execution_count": 170,
     "metadata": {},
     "output_type": "execute_result"
    }
   ],
   "source": [
    "A*B"
   ]
  },
  {
   "cell_type": "code",
   "execution_count": null,
   "id": "8907bc7b-1c4f-4ff4-80a7-a9839fc163ee",
   "metadata": {},
   "outputs": [],
   "source": []
  }
 ],
 "metadata": {
  "kernelspec": {
   "display_name": "Python 3 (ipykernel)",
   "language": "python",
   "name": "python3"
  },
  "language_info": {
   "codemirror_mode": {
    "name": "ipython",
    "version": 3
   },
   "file_extension": ".py",
   "mimetype": "text/x-python",
   "name": "python",
   "nbconvert_exporter": "python",
   "pygments_lexer": "ipython3",
   "version": "3.9.7"
  }
 },
 "nbformat": 4,
 "nbformat_minor": 5
}
