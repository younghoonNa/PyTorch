{
 "cells": [
  {
   "cell_type": "markdown",
   "metadata": {},
   "source": [
    "# Loading MNIST DATA\n",
    "\n",
    "- 학번 :  20185124\n",
    "- 전공 :  빅데이터 전공\n",
    "- 이름 :  나영훈"
   ]
  },
  {
   "cell_type": "code",
   "execution_count": 260,
   "metadata": {},
   "outputs": [],
   "source": [
    "import torch\n",
    "from torch import nn\n",
    "import torch.nn.functional as F\n",
    "from torchvision import datasets, transforms\n",
    "import numpy as np\n",
    "import matplotlib.pyplot as plt\n",
    "%matplotlib inline"
   ]
  },
  {
   "cell_type": "code",
   "execution_count": 261,
   "metadata": {},
   "outputs": [],
   "source": [
    "# Define a transform to normalize the data\n",
    "transform = transforms.Compose([transforms.ToTensor()])\n",
    "# Download and load the training data\n",
    "trainset = datasets.MNIST('~/.pytorch/MNIST_data/', download=True, train=True, transform=transform)\n",
    "trainloader = torch.utils.data.DataLoader(trainset, batch_size=1000, shuffle=True)"
   ]
  },
  {
   "cell_type": "code",
   "execution_count": 262,
   "metadata": {},
   "outputs": [],
   "source": [
    "images, labels = next(iter(trainloader))"
   ]
  },
  {
   "cell_type": "code",
   "execution_count": 263,
   "metadata": {},
   "outputs": [
    {
     "data": {
      "text/plain": [
       "torch.Size([1000, 1, 28, 28])"
      ]
     },
     "execution_count": 263,
     "metadata": {},
     "output_type": "execute_result"
    }
   ],
   "source": [
    "images.shape #1000개의 배치 사이즈, 1은 흑백이기 때문에!"
   ]
  },
  {
   "cell_type": "code",
   "execution_count": 264,
   "metadata": {},
   "outputs": [
    {
     "data": {
      "text/plain": [
       "tensor(0.1298)"
      ]
     },
     "execution_count": 264,
     "metadata": {},
     "output_type": "execute_result"
    }
   ],
   "source": [
    "torch.mean(images) # torch.mean(images[0]) 1, 2, 컬러면 이렇게 RGB 별로 떼서 사용."
   ]
  },
  {
   "cell_type": "code",
   "execution_count": 265,
   "metadata": {},
   "outputs": [
    {
     "data": {
      "text/plain": [
       "tensor(0.3071)"
      ]
     },
     "execution_count": 265,
     "metadata": {},
     "output_type": "execute_result"
    }
   ],
   "source": [
    "torch.std(images)"
   ]
  },
  {
   "cell_type": "code",
   "execution_count": 266,
   "metadata": {},
   "outputs": [],
   "source": [
    "# Define a transform to normalize the data\n",
    "transform = transforms.Compose([transforms.ToTensor(),\n",
    "                                transforms.Normalize((0.13), (0.3)), #원래는 이거 RGB 별로 해야하는데.. 흑백이라서 하나!\n",
    "                              ])\n",
    "# Download and load the training data\n",
    "trainset = datasets.MNIST('~/.pytorch/MNIST_data/', download=True, train=True, transform=transform)\n",
    "trainloader = torch.utils.data.DataLoader(trainset, batch_size=64, shuffle=True)"
   ]
  },
  {
   "cell_type": "code",
   "execution_count": 267,
   "metadata": {},
   "outputs": [],
   "source": [
    "images, labels = next(iter(trainloader))"
   ]
  },
  {
   "cell_type": "code",
   "execution_count": 268,
   "metadata": {},
   "outputs": [
    {
     "data": {
      "text/plain": [
       "torch.Size([64, 1, 28, 28])"
      ]
     },
     "execution_count": 268,
     "metadata": {},
     "output_type": "execute_result"
    }
   ],
   "source": [
    "images.shape"
   ]
  },
  {
   "cell_type": "code",
   "execution_count": 269,
   "metadata": {},
   "outputs": [],
   "source": [
    "Xsample = images.reshape(images.shape[0], -1)\n",
    "# 이미지를 64 * 784 형태의 2차원 shape로 만듬. \n",
    "# 784인 이유? 28 * 28 이니까"
   ]
  },
  {
   "cell_type": "code",
   "execution_count": 270,
   "metadata": {},
   "outputs": [
    {
     "data": {
      "text/plain": [
       "784"
      ]
     },
     "execution_count": 270,
     "metadata": {},
     "output_type": "execute_result"
    }
   ],
   "source": [
    "28*28"
   ]
  },
  {
   "cell_type": "code",
   "execution_count": 271,
   "metadata": {},
   "outputs": [
    {
     "data": {
      "text/plain": [
       "torch.Size([64, 784])"
      ]
     },
     "execution_count": 271,
     "metadata": {},
     "output_type": "execute_result"
    }
   ],
   "source": [
    "Xsample.shape"
   ]
  },
  {
   "cell_type": "markdown",
   "metadata": {},
   "source": [
    "### Problem 1: Constructing the network model\n",
    "\n",
    "`FNC` class를 정의하고 `model`을 생성하세요:\n",
    "\n",
    "- input layer\n",
    "  - number of input features를 hidden unit 128개로 선형변환 및 ReLU activation function\n",
    "- Hidden layer\n",
    "  - 128 hidden unit을 64개 hidden unit으로 선형변환 및 ReLU\n",
    "- Output layer\n",
    "  - 64개 hidden unit을 10개 class로 분류하기 위한 output layer\n",
    "  - 최종 layer의 activation은 없음 (linear layer)"
   ]
  },
  {
   "cell_type": "code",
   "execution_count": 272,
   "metadata": {},
   "outputs": [],
   "source": [
    "class FCN(nn.Module):\n",
    "    # 답작성\n",
    "    def __init__(self):\n",
    "        super().__init__()\n",
    "        self.seq =  nn.Sequential(\n",
    "                    nn.Linear(Xsample.shape[1], 128),\n",
    "                    nn.ReLU(True),\n",
    "                    nn.Linear(128, 64),\n",
    "                    nn.ReLU(True),\n",
    "                    nn.Linear(64,10)\n",
    "        )\n",
    "    \n",
    "    def forward(self,x):\n",
    "        return self.seq(x)"
   ]
  },
  {
   "cell_type": "code",
   "execution_count": 273,
   "metadata": {},
   "outputs": [
    {
     "data": {
      "text/plain": [
       "FCN(\n",
       "  (seq): Sequential(\n",
       "    (0): Linear(in_features=784, out_features=128, bias=True)\n",
       "    (1): ReLU(inplace=True)\n",
       "    (2): Linear(in_features=128, out_features=64, bias=True)\n",
       "    (3): ReLU(inplace=True)\n",
       "    (4): Linear(in_features=64, out_features=10, bias=True)\n",
       "  )\n",
       ")"
      ]
     },
     "execution_count": 273,
     "metadata": {},
     "output_type": "execute_result"
    }
   ],
   "source": [
    "model = FCN()\n",
    "model"
   ]
  },
  {
   "cell_type": "markdown",
   "metadata": {
    "tags": []
   },
   "source": [
    "## Loss Functions in PyTorch\n",
    "\n",
    "* 다음 과정으로, Pytorch에서 loss를 어떻게 연산하는지 배워보죠\n",
    "* `nn` module에서 다양한 loss function을 제공하는데, 예를 들면 `nn.CrossEntropyLoss`와 같은 함수가 있습니다\n",
    "    * 보통 관습적으로 loss function은 `critertion`이라는 변수로 받습니다 (`loss_function`등도 당연히 사용 가능합니다)\n",
    "* 지난 시간에 MNIST 문제는 확률 분포를 output으로 받는 것이 필요하다고 (또는 자연스러운 선택 임을) 학습했습니다 \n",
    "* 이런 확률 분포를 output으로 받는 경우 대응되는 좋은 loss function이 cross entropy입니다 (이론 강의에서 cross entropy가 무엇을 의미하는지 설명한 부분을 복습 해보세요)\n",
    "\n",
    "* Cross entropy의 정의는 \n",
    "\\begin{align*}\n",
    " J(\\theta) &=-\\frac{1}{m}\\sum_{i=1}^m P(y^{(i)}|x^{(i)})\\log(Q(y^{(i)}|x^{(i)}))\n",
    "\\end{align*}\n",
    "* 위 식은 두 확률 분포의 \"거리\"를 표현하는 식이라고 배웠습니다\n",
    "* 위에서 $P(y|x)$는 $y$의 label을 one hot coding 한 vector이고 $Q(y|x)$는 softmax를 취한 network output입니다\n",
    "* One hot coding은 label이 1이면 첫번째 자리만 '1'이고 나머지는 영인 벡터, label이 $k$이면 $k$ 번째 자리만 '1'이고 나머지는 0인 벡터입니다\n",
    "\n",
    "* 예를들어서 label이 2에 대한 one hot encoding\n",
    "\\begin{align*}\n",
    "y_\\textrm{one_hot}(2) &= \\begin{array}{cccccc}\n",
    "[0 & 0 & 1 & \\cdots & 0]\n",
    "\\end{array}\n",
    "\\end{align*}\n",
    "\n",
    "* 위 cross entropy 식에 대응 하는 방식은, label이 2라고 가정했을 때 분포는:\n",
    "\\begin{align*}\n",
    "P(y|x) = y_\\textrm{one_hot}(2), \\quad P(2|x) = (y_\\textrm{one_hot}(2))_2\n",
    "\\end{align*}\n",
    "\n",
    "* 또한, neural network의 마지막 linear layer의 output 값이 $z$라고 할때,\n",
    "\\begin{align*}\n",
    "Q(y=2|x) = \\sigma(z_2) = \\cfrac{\\exp(z_2)}{\\sum_k^K{\\exp(z_k)}}\n",
    "\\end{align*}\n",
    "\n",
    "![Classnote](https://drive.google.com/uc?export=download&id=17hcl4RJne65Vd17gKM8XKUTjYlqyFIY5)\n",
    "\n",
    "* pytorch에서 이를 수행하기 위해서 criterion을 `nn.CrossEntropyLoss`로 생성하고, network의 예측 값과, 실제 label 값을 입력으로 loss를 계산합니다\n",
    "  * 본 과정은 차근차근 설명하겠습니다\n",
    "* 그 전에 Pytorch에서 cross entropy 함수를 어떻게 적용하는지 먼저 이해할 필요가 있습니다 (중요합니다!!!)\n",
    "  * [Pytorch.org `nn.CrossEntropyLoss`](https://pytorch.org/docs/stable/nn.html#torch.nn.CrossEntropyLoss)를 살펴보면\n",
    "\n",
    "> This criterion combines nn.LogSoftmax() and nn.NLLLoss() in one single class.\n",
    ">\n",
    "> The input is expected to contain scores for each class.\n",
    "\n",
    "* `nn.CrossEntropyLoss`는 `nn.LogSoftmax()`와 `nn.NLLLoss()` 하나의 class에서 수행한다고 되어 있습니다. \n",
    "* 두번째 줄에서 NLLLoss 는 negative log likelihood loss 입니다 \n",
    "\n",
    "* 이게 의미하는 바가 무엇이냐면, network의 output을 softmax function을 적용하여 출력하지 말고, softmax는 loss function에서 계산한다는 뜻입니다\n",
    "* 이렇게 구현한 이유는, 확률값이 작을 수 있어서 computation precision error를 방지하기 위해서 그냥 raw output 값을 받고, loss function에서 log(prob) 형태로 연산하도록 모듈을 구성하였습니다\n",
    "\n",
    "* 아래 코드를 보면 조금 더 이해가 될 것이라고 생각합니다\n"
   ]
  },
  {
   "cell_type": "code",
   "execution_count": 274,
   "metadata": {},
   "outputs": [
    {
     "name": "stdout",
     "output_type": "stream",
     "text": [
      "tensor(2.2853, grad_fn=<NllLossBackward0>)\n"
     ]
    }
   ],
   "source": [
    "criterion = nn.CrossEntropyLoss()\n",
    "# Get our data\n",
    "images, labels = next(iter(trainloader))\n",
    "# Flatten images\n",
    "images = images.reshape(images.shape[0], -1)\n",
    "\n",
    "# Forward pass, get our log-probabilities\n",
    "logits = model(images)\n",
    "# Calculate the loss with the logps and the labels\n",
    "loss = criterion(logits, labels)\n",
    "\n",
    "print(loss)"
   ]
  },
  {
   "cell_type": "markdown",
   "metadata": {},
   "source": [
    "### Problem 2: Implement softmax\n",
    "\n",
    "다음 `softmax` 함수를 만드세요\n",
    "\n",
    "- `softmax(x)`\n",
    "- `input`: (batchsize, num_class)의 최종 linear layer output\n",
    "- `output`: `softmax` 취한 output이 (batchsize, softmaxoutput) 차원으로 정렬\n",
    "\n",
    "- 유용할 수 있는 함수:\n",
    "    - `torch.sum`\n",
    "    - `torch.exp`\n",
    "    - broadcasting 사용 (reshape)"
   ]
  },
  {
   "cell_type": "code",
   "execution_count": 275,
   "metadata": {},
   "outputs": [
    {
     "data": {
      "text/plain": [
       "torch.Size([64, 10])"
      ]
     },
     "execution_count": 275,
     "metadata": {},
     "output_type": "execute_result"
    }
   ],
   "source": [
    "logits.shape"
   ]
  },
  {
   "cell_type": "code",
   "execution_count": 276,
   "metadata": {},
   "outputs": [
    {
     "data": {
      "text/plain": [
       "tensor([2, 9, 1, 8, 2, 1, 4, 0, 6, 4, 9, 9, 3, 7, 8, 6, 0, 8, 4, 8, 9, 8, 2, 5,\n",
       "        2, 4, 6, 9, 3, 0, 5, 7, 3, 6, 1, 1, 4, 0, 4, 5, 3, 7, 8, 2, 5, 3, 9, 6,\n",
       "        2, 6, 4, 9, 8, 9, 6, 5, 4, 7, 0, 4, 1, 3, 6, 7])"
      ]
     },
     "execution_count": 276,
     "metadata": {},
     "output_type": "execute_result"
    }
   ],
   "source": [
    "labels"
   ]
  },
  {
   "cell_type": "code",
   "execution_count": 277,
   "metadata": {},
   "outputs": [],
   "source": [
    "# F.softmax(logits, dim = 1) #원래 답과 비교."
   ]
  },
  {
   "cell_type": "code",
   "execution_count": 278,
   "metadata": {},
   "outputs": [],
   "source": [
    "# torch.sum(torch.exp(logits), axis = 1)"
   ]
  },
  {
   "cell_type": "code",
   "execution_count": 279,
   "metadata": {},
   "outputs": [],
   "source": [
    "# 답작성\n",
    "def softmax(x):\n",
    "    return torch.exp(x)/torch.sum(torch.exp(x), axis = 1).reshape(-1,1)\n",
    "    "
   ]
  },
  {
   "cell_type": "code",
   "execution_count": 280,
   "metadata": {},
   "outputs": [
    {
     "data": {
      "text/plain": [
       "tensor([[0.0795, 0.0988, 0.0920, 0.0908, 0.1025, 0.1156, 0.1267, 0.0869, 0.1086,\n",
       "         0.0984],\n",
       "        [0.0858, 0.1065, 0.0906, 0.0885, 0.1046, 0.1132, 0.1144, 0.0840, 0.1119,\n",
       "         0.1006],\n",
       "        [0.0906, 0.1034, 0.0913, 0.0911, 0.1085, 0.1157, 0.1130, 0.0884, 0.1032,\n",
       "         0.0949],\n",
       "        [0.0866, 0.0963, 0.0891, 0.0889, 0.1079, 0.1229, 0.1197, 0.0766, 0.1191,\n",
       "         0.0931],\n",
       "        [0.0890, 0.0977, 0.0967, 0.0899, 0.1063, 0.1133, 0.1046, 0.0957, 0.1054,\n",
       "         0.1014],\n",
       "        [0.0886, 0.1025, 0.0957, 0.0927, 0.1122, 0.1129, 0.1191, 0.0790, 0.1040,\n",
       "         0.0935],\n",
       "        [0.0772, 0.1181, 0.1058, 0.0959, 0.1114, 0.1080, 0.1129, 0.0789, 0.1004,\n",
       "         0.0914],\n",
       "        [0.0911, 0.0868, 0.0910, 0.0932, 0.1064, 0.1221, 0.1035, 0.0968, 0.1081,\n",
       "         0.1009],\n",
       "        [0.0819, 0.0937, 0.1051, 0.0903, 0.1091, 0.1159, 0.1227, 0.0797, 0.1054,\n",
       "         0.0963],\n",
       "        [0.0870, 0.0987, 0.1024, 0.0910, 0.1086, 0.1143, 0.1103, 0.0858, 0.1159,\n",
       "         0.0860],\n",
       "        [0.0887, 0.1072, 0.0984, 0.0857, 0.1005, 0.1098, 0.1110, 0.0852, 0.1091,\n",
       "         0.1044],\n",
       "        [0.0856, 0.1001, 0.0927, 0.0994, 0.1177, 0.1115, 0.1143, 0.0789, 0.1113,\n",
       "         0.0884],\n",
       "        [0.0892, 0.0917, 0.0899, 0.0898, 0.1079, 0.1183, 0.1071, 0.0967, 0.1097,\n",
       "         0.0997],\n",
       "        [0.1045, 0.0993, 0.0799, 0.0877, 0.0964, 0.1087, 0.1024, 0.1037, 0.1158,\n",
       "         0.1016],\n",
       "        [0.0873, 0.0931, 0.0943, 0.0891, 0.1023, 0.1197, 0.1118, 0.0881, 0.1202,\n",
       "         0.0942],\n",
       "        [0.0862, 0.0970, 0.0974, 0.0809, 0.1151, 0.1215, 0.1154, 0.0868, 0.1012,\n",
       "         0.0985],\n",
       "        [0.0926, 0.0911, 0.0928, 0.0928, 0.1006, 0.1229, 0.1164, 0.0854, 0.1056,\n",
       "         0.0997],\n",
       "        [0.0931, 0.0975, 0.1032, 0.0928, 0.0943, 0.1224, 0.1214, 0.0809, 0.1048,\n",
       "         0.0898],\n",
       "        [0.0854, 0.1087, 0.0931, 0.0972, 0.1151, 0.1048, 0.1043, 0.0901, 0.1092,\n",
       "         0.0921],\n",
       "        [0.0883, 0.0999, 0.0995, 0.0917, 0.1044, 0.1089, 0.1041, 0.0958, 0.1043,\n",
       "         0.1031],\n",
       "        [0.0862, 0.1068, 0.0947, 0.0917, 0.1113, 0.1084, 0.1189, 0.0791, 0.1120,\n",
       "         0.0910],\n",
       "        [0.0859, 0.1039, 0.0939, 0.0853, 0.1049, 0.1172, 0.1146, 0.0884, 0.1108,\n",
       "         0.0951],\n",
       "        [0.0830, 0.0913, 0.0871, 0.0794, 0.1039, 0.1241, 0.1331, 0.0826, 0.1123,\n",
       "         0.1031],\n",
       "        [0.0867, 0.1050, 0.0937, 0.0891, 0.1154, 0.1116, 0.1206, 0.0784, 0.1067,\n",
       "         0.0928],\n",
       "        [0.0785, 0.0966, 0.0957, 0.0845, 0.1086, 0.1296, 0.1221, 0.0785, 0.1140,\n",
       "         0.0921],\n",
       "        [0.0923, 0.1033, 0.1029, 0.0911, 0.1076, 0.1074, 0.1081, 0.0830, 0.1052,\n",
       "         0.0991],\n",
       "        [0.0940, 0.0969, 0.0881, 0.0858, 0.1037, 0.1185, 0.1138, 0.0977, 0.1071,\n",
       "         0.0945],\n",
       "        [0.0899, 0.1080, 0.0907, 0.0962, 0.1072, 0.1113, 0.1062, 0.0905, 0.1090,\n",
       "         0.0910],\n",
       "        [0.0963, 0.1006, 0.0860, 0.0872, 0.0982, 0.1208, 0.1179, 0.0895, 0.1113,\n",
       "         0.0921],\n",
       "        [0.0970, 0.0851, 0.0969, 0.0856, 0.1006, 0.1169, 0.1096, 0.0897, 0.1249,\n",
       "         0.0937],\n",
       "        [0.0871, 0.0975, 0.0917, 0.0904, 0.1116, 0.1086, 0.1211, 0.0823, 0.1176,\n",
       "         0.0920],\n",
       "        [0.0996, 0.0956, 0.0963, 0.0897, 0.0985, 0.1181, 0.1041, 0.0958, 0.1092,\n",
       "         0.0931],\n",
       "        [0.0939, 0.0968, 0.0912, 0.0894, 0.1117, 0.1160, 0.1221, 0.0832, 0.1016,\n",
       "         0.0941],\n",
       "        [0.0859, 0.0945, 0.0904, 0.0845, 0.1060, 0.1250, 0.1182, 0.0866, 0.1127,\n",
       "         0.0962],\n",
       "        [0.0872, 0.1050, 0.0881, 0.0953, 0.1134, 0.1124, 0.1269, 0.0783, 0.1005,\n",
       "         0.0929],\n",
       "        [0.0899, 0.1013, 0.0932, 0.0895, 0.1150, 0.1142, 0.1074, 0.0895, 0.1057,\n",
       "         0.0943],\n",
       "        [0.0867, 0.0927, 0.0899, 0.0910, 0.1095, 0.1247, 0.1096, 0.0835, 0.1190,\n",
       "         0.0935],\n",
       "        [0.0871, 0.0954, 0.0883, 0.0917, 0.1042, 0.1157, 0.1196, 0.0844, 0.1103,\n",
       "         0.1033],\n",
       "        [0.0892, 0.1089, 0.1009, 0.0868, 0.1055, 0.1110, 0.1135, 0.0808, 0.1136,\n",
       "         0.0898],\n",
       "        [0.0893, 0.0967, 0.0964, 0.0950, 0.1015, 0.1150, 0.1210, 0.0817, 0.1112,\n",
       "         0.0922],\n",
       "        [0.0985, 0.0924, 0.0901, 0.0960, 0.0970, 0.1267, 0.1190, 0.0781, 0.1088,\n",
       "         0.0933],\n",
       "        [0.0900, 0.0996, 0.0936, 0.1015, 0.1050, 0.1128, 0.0994, 0.0838, 0.1173,\n",
       "         0.0970],\n",
       "        [0.0884, 0.0998, 0.0896, 0.0903, 0.1109, 0.1143, 0.1082, 0.0900, 0.1118,\n",
       "         0.0967],\n",
       "        [0.0842, 0.0997, 0.1001, 0.0836, 0.1040, 0.1197, 0.1196, 0.0902, 0.0993,\n",
       "         0.0995],\n",
       "        [0.0929, 0.0986, 0.0966, 0.0906, 0.0974, 0.1129, 0.1223, 0.0831, 0.1121,\n",
       "         0.0935],\n",
       "        [0.0977, 0.0975, 0.0965, 0.0900, 0.1061, 0.1120, 0.1095, 0.0875, 0.1068,\n",
       "         0.0964],\n",
       "        [0.0916, 0.1032, 0.0908, 0.0866, 0.1078, 0.1163, 0.1113, 0.0907, 0.1107,\n",
       "         0.0911],\n",
       "        [0.0843, 0.1008, 0.1003, 0.0949, 0.1092, 0.1186, 0.1085, 0.0824, 0.1029,\n",
       "         0.0981],\n",
       "        [0.0809, 0.0998, 0.1013, 0.0842, 0.1074, 0.1097, 0.1352, 0.0769, 0.1082,\n",
       "         0.0964],\n",
       "        [0.0905, 0.0865, 0.0925, 0.0893, 0.1041, 0.1155, 0.1133, 0.0949, 0.1131,\n",
       "         0.1004],\n",
       "        [0.0828, 0.0932, 0.1000, 0.0854, 0.1154, 0.1134, 0.1085, 0.0897, 0.1140,\n",
       "         0.0977],\n",
       "        [0.0910, 0.0929, 0.0991, 0.0926, 0.1093, 0.1183, 0.1033, 0.0875, 0.1136,\n",
       "         0.0923],\n",
       "        [0.0927, 0.0988, 0.0963, 0.0901, 0.1049, 0.1179, 0.1169, 0.0709, 0.1050,\n",
       "         0.1066],\n",
       "        [0.0796, 0.1044, 0.0989, 0.0952, 0.1144, 0.1116, 0.1173, 0.0852, 0.1033,\n",
       "         0.0900],\n",
       "        [0.0852, 0.1045, 0.1041, 0.0924, 0.1092, 0.1153, 0.1090, 0.0835, 0.1107,\n",
       "         0.0862],\n",
       "        [0.0951, 0.0952, 0.0936, 0.0931, 0.0976, 0.1199, 0.1052, 0.0903, 0.1116,\n",
       "         0.0986],\n",
       "        [0.0932, 0.1004, 0.0933, 0.0849, 0.1053, 0.1149, 0.1114, 0.0844, 0.1142,\n",
       "         0.0981],\n",
       "        [0.0875, 0.1124, 0.0905, 0.1047, 0.1117, 0.1060, 0.1008, 0.0844, 0.1128,\n",
       "         0.0893],\n",
       "        [0.0916, 0.1002, 0.0929, 0.0984, 0.0965, 0.1193, 0.1120, 0.0822, 0.1144,\n",
       "         0.0925],\n",
       "        [0.0894, 0.0977, 0.0978, 0.0883, 0.1095, 0.1168, 0.0989, 0.0888, 0.1115,\n",
       "         0.1013],\n",
       "        [0.0909, 0.1029, 0.0908, 0.0887, 0.1124, 0.1151, 0.1189, 0.0859, 0.1035,\n",
       "         0.0910],\n",
       "        [0.0880, 0.1102, 0.1008, 0.0897, 0.0962, 0.1120, 0.1170, 0.0812, 0.1116,\n",
       "         0.0932],\n",
       "        [0.0893, 0.0956, 0.0948, 0.0835, 0.1016, 0.1256, 0.1267, 0.0791, 0.1082,\n",
       "         0.0954],\n",
       "        [0.0932, 0.1053, 0.0923, 0.0930, 0.1072, 0.1136, 0.1073, 0.0833, 0.1120,\n",
       "         0.0928]], grad_fn=<DivBackward0>)"
      ]
     },
     "execution_count": 280,
     "metadata": {},
     "output_type": "execute_result"
    }
   ],
   "source": [
    "ps = softmax(logits)\n",
    "ps"
   ]
  },
  {
   "cell_type": "markdown",
   "metadata": {
    "tags": []
   },
   "source": [
    "### Problem 3: Finding the Highest probability index\n",
    "\n",
    "Sample별 예측 확률값을 통하여 가장 높은 확률 값 예측 받는 함수를 작성하세요.\n",
    "\n",
    "`get_pred(ps)`\n",
    "- `input`: sample 별 확률값을 (batchsize, class probabilities) 로 받음\n",
    "- `output`: sample 별로 가장 높은 확률값의 index를 return\n",
    "\n",
    "- 유용할 수 있는 함수\n",
    "  - `torch.argmax`\n",
    "\n"
   ]
  },
  {
   "cell_type": "code",
   "execution_count": 281,
   "metadata": {},
   "outputs": [],
   "source": [
    "def get_pred(ps):\n",
    "    return torch.argmax(ps, axis = 1)\n",
    "    "
   ]
  },
  {
   "cell_type": "code",
   "execution_count": 282,
   "metadata": {},
   "outputs": [
    {
     "data": {
      "text/plain": [
       "tensor([6, 6, 5, 5, 5, 6, 1, 5, 6, 8, 6, 4, 5, 8, 8, 5, 5, 5, 4, 5, 6, 5, 6, 6,\n",
       "        5, 6, 5, 5, 5, 8, 6, 5, 6, 5, 6, 4, 5, 6, 8, 6, 5, 8, 5, 5, 6, 5, 5, 5,\n",
       "        6, 5, 4, 5, 5, 6, 5, 5, 5, 8, 5, 5, 6, 6, 6, 5])"
      ]
     },
     "execution_count": 282,
     "metadata": {},
     "output_type": "execute_result"
    }
   ],
   "source": [
    "pred = get_pred(ps)\n",
    "pred"
   ]
  },
  {
   "cell_type": "markdown",
   "metadata": {
    "tags": []
   },
   "source": [
    "# Calculating Gradients\n",
    "\n",
    "- loss.`backward()`"
   ]
  },
  {
   "cell_type": "code",
   "execution_count": 283,
   "metadata": {},
   "outputs": [
    {
     "name": "stdout",
     "output_type": "stream",
     "text": [
      "Before backward pass: \n",
      " None\n",
      "After backward pass: \n",
      " tensor([[ 0.0005,  0.0005,  0.0005,  ...,  0.0005,  0.0005,  0.0005],\n",
      "        [-0.0003, -0.0003, -0.0003,  ..., -0.0003, -0.0003, -0.0003],\n",
      "        [ 0.0014,  0.0014,  0.0014,  ...,  0.0014,  0.0014,  0.0014],\n",
      "        ...,\n",
      "        [ 0.0003,  0.0003,  0.0003,  ...,  0.0003,  0.0003,  0.0003],\n",
      "        [-0.0005, -0.0005, -0.0005,  ..., -0.0005, -0.0005, -0.0005],\n",
      "        [ 0.0007,  0.0007,  0.0007,  ...,  0.0007,  0.0007,  0.0007]])\n"
     ]
    }
   ],
   "source": [
    "print('Before backward pass: \\n', model.seq[0].weight.grad)\n",
    "\n",
    "loss.backward()\n",
    "\n",
    "print('After backward pass: \\n', model.seq[0].weight.grad)"
   ]
  },
  {
   "cell_type": "code",
   "execution_count": 284,
   "metadata": {},
   "outputs": [
    {
     "data": {
      "text/plain": [
       "torch.Size([128, 784])"
      ]
     },
     "execution_count": 284,
     "metadata": {},
     "output_type": "execute_result"
    }
   ],
   "source": [
    "model.seq[0].weight.shape\n",
    "#grad의 위치는 바뀌지 않음 각자의 위치에서 개선된 값을 적용시킬뿐."
   ]
  },
  {
   "cell_type": "code",
   "execution_count": 285,
   "metadata": {},
   "outputs": [
    {
     "data": {
      "text/plain": [
       "torch.Size([128, 784])"
      ]
     },
     "execution_count": 285,
     "metadata": {},
     "output_type": "execute_result"
    }
   ],
   "source": [
    "model.seq[0].weight.grad.shape"
   ]
  },
  {
   "cell_type": "markdown",
   "metadata": {},
   "source": [
    "## Training the network!\n",
    "\n",
    "\n",
    "* 자, 그럼 network parameter에 대한 loss function의 gradient를 구했으니, 이제 최적화를 할 수 있습니다\n",
    "* 최적화 기법은 SGD 이외에도 많으며 (SGD의 변형들임) [`optim` package](https://pytorch.org/docs/stable/optim.html)에서 찾아서 사용할 수 있습니다\n",
    "* 예를 들어서 SGD는 `optim.SGD`를 통해서 불러올 수 있습니다\n",
    "* 아래 예를 보죠"
   ]
  },
  {
   "cell_type": "code",
   "execution_count": 286,
   "metadata": {},
   "outputs": [],
   "source": [
    "from torch import optim\n",
    "\n",
    "# Optimizers require the parameters to optimize and a learning rate\n",
    "# 모델의 파라메타 넣고 learning rate 넣기.\n",
    "optimizer = optim.SGD(model.parameters(), lr=0.1)"
   ]
  },
  {
   "cell_type": "markdown",
   "metadata": {},
   "source": [
    "* model.parameters()는 우리 network의 모든 training parameter이며, lr는 learning rate 입니다\n",
    "* 자, 이제 traning에 필요한 모든 부분이 준비되었습니다\n",
    "* 전체 데이터에 대한 training은 숙제로 하고, 한 batch만 수행하는 과정을 살펴보죠\n",
    "* Pytorch에서 training의 전체 흐름은 다음과 같습니다:\n",
    "\n",
    "1. Network에서 forward pass\n",
    "2. Foward pass를 통해서 얻은 output을 활용하여 loss를 구한다\n",
    "3. Gradient를 구하기 위해서 `loss.backward()`를 실행한다\n",
    "4. Optimizer에서 weight를 한번 update 한다 (SGD의 경우 gradient에 대해서 한번 update)\n",
    "\n",
    "**[중요]**\n",
    "* 한가지 주의할 점은, 한 Parameter들에 대해서 gradient를 여러개 구해야하는 경우, (예, batch 처리) gradient 값들은 계속 추가적으로 저장됩니다\n",
    "* 한번 parameter update가 끝났으면, gradient 값을 초기화해야, 새로운 batch에 대한 새 gradient 값을 계산 합니다\n",
    "* 이를 위해서 batch 시작시에 `optimizer.zero_grad()`를 실행해줘야합니다"
   ]
  },
  {
   "cell_type": "code",
   "execution_count": 287,
   "metadata": {},
   "outputs": [
    {
     "name": "stdout",
     "output_type": "stream",
     "text": [
      "Initial weights -  Parameter containing:\n",
      "tensor([[-0.0224,  0.0335, -0.0222,  ..., -0.0146, -0.0262,  0.0227],\n",
      "        [-0.0259,  0.0014,  0.0350,  ...,  0.0175,  0.0046, -0.0150],\n",
      "        [-0.0128, -0.0329, -0.0118,  ..., -0.0260, -0.0004,  0.0264],\n",
      "        ...,\n",
      "        [-0.0357,  0.0005,  0.0338,  ..., -0.0116,  0.0159, -0.0218],\n",
      "        [-0.0305, -0.0165,  0.0262,  ..., -0.0235, -0.0333, -0.0247],\n",
      "        [-0.0252, -0.0080,  0.0261,  ...,  0.0113, -0.0006, -0.0176]],\n",
      "       requires_grad=True)\n",
      "Gradient - Parameter containing:\n",
      "tensor([[-0.0225,  0.0335, -0.0223,  ..., -0.0147, -0.0262,  0.0226],\n",
      "        [-0.0258,  0.0014,  0.0350,  ...,  0.0175,  0.0046, -0.0149],\n",
      "        [-0.0127, -0.0329, -0.0118,  ..., -0.0260, -0.0003,  0.0265],\n",
      "        ...,\n",
      "        [-0.0358,  0.0004,  0.0337,  ..., -0.0117,  0.0159, -0.0219],\n",
      "        [-0.0306, -0.0166,  0.0261,  ..., -0.0236, -0.0334, -0.0248],\n",
      "        [-0.0251, -0.0078,  0.0262,  ...,  0.0114, -0.0005, -0.0175]],\n",
      "       requires_grad=True)\n"
     ]
    }
   ],
   "source": [
    "print('Initial weights - ', model.seq[0].weight)\n",
    "\n",
    "images, labels = next(iter(trainloader))\n",
    "images = images.reshape(images.shape[0], -1) #이미지의 input값에 따라 달라지기 때문에 \n",
    "\n",
    "# Clear the gradients, do this because gradients are accumulated\n",
    "optimizer.zero_grad() # update가 끝난 후 다시 계산을 해서 update를 해야 하기 때문! \n",
    "# 업데이트 안하면 계속 같은 값을 가지고 업데이트 하려나..? -> 이거는 case by case니까 찾아봐야겠다.\n",
    "\n",
    "# Forward pass, then backward pass, then update weights\n",
    "output = model(images) # Input이미지를 모델에 넣음.\n",
    "loss = criterion(output, labels) # 1차적으로 모델의 CE를 게산함. -> for문이 아니기 때문에 대신 이 셀을 반복 실행하면 여러번 돌리는 것과 같겠지?\n",
    "loss.backward() # backward를 통해 Gradient를 update함.\n",
    "optimizer.step() #step을 통해 update된 gradient와 learning rate를 활용하여 적용한다.\n",
    "\n",
    "\n",
    "print('Gradient -', model.seq[0].weight)"
   ]
  },
  {
   "cell_type": "code",
   "execution_count": 288,
   "metadata": {},
   "outputs": [
    {
     "name": "stdout",
     "output_type": "stream",
     "text": [
      "------ Starting epoch: 0 --------\n",
      "Training loss: 0.7698633656827117\n",
      "Training acc: 0.8062366843223572\n",
      "------ Starting epoch: 1 --------\n",
      "Training loss: 0.31710633139874633\n",
      "Training acc: 0.9074326753616333\n",
      "------ Starting epoch: 2 --------\n",
      "Training loss: 0.2608218531348685\n",
      "Training acc: 0.9240738153457642\n",
      "------ Starting epoch: 3 --------\n",
      "Training loss: 0.22209677630777297\n",
      "Training acc: 0.9355343580245972\n",
      "------ Starting epoch: 4 --------\n",
      "Training loss: 0.19260408198719087\n",
      "Training acc: 0.9443796873092651\n",
      "------ Starting epoch: 5 --------\n",
      "Training loss: 0.1692448194537844\n",
      "Training acc: 0.9519090056419373\n",
      "------ Starting epoch: 6 --------\n",
      "Training loss: 0.1503729875197511\n",
      "Training acc: 0.956773042678833\n",
      "------ Starting epoch: 7 --------\n",
      "Training loss: 0.13515364472815858\n",
      "Training acc: 0.9612040519714355\n",
      "------ Starting epoch: 8 --------\n",
      "Training loss: 0.12195252052553968\n",
      "Training acc: 0.9653018116950989\n",
      "------ Starting epoch: 9 --------\n",
      "Training loss: 0.11121897033846645\n",
      "Training acc: 0.9686000943183899\n",
      "------ Starting epoch: 10 --------\n",
      "Training loss: 0.10173224770267413\n",
      "Training acc: 0.9710654020309448\n",
      "------ Starting epoch: 11 --------\n",
      "Training loss: 0.09377687611678706\n",
      "Training acc: 0.9733808636665344\n",
      "------ Starting epoch: 12 --------\n",
      "Training loss: 0.08673060176445287\n",
      "Training acc: 0.9756296873092651\n",
      "------ Starting epoch: 13 --------\n",
      "Training loss: 0.07999518764084146\n",
      "Training acc: 0.977295458316803\n",
      "------ Starting epoch: 14 --------\n",
      "Training loss: 0.07456167652678769\n",
      "Training acc: 0.9788779020309448\n",
      "------ Starting epoch: 15 --------\n",
      "Training loss: 0.06937811071468172\n",
      "Training acc: 0.9803271293640137\n",
      "------ Starting epoch: 16 --------\n",
      "Training loss: 0.06519498472719558\n",
      "Training acc: 0.9816597700119019\n",
      "------ Starting epoch: 17 --------\n",
      "Training loss: 0.06066538322158952\n",
      "Training acc: 0.9830923676490784\n",
      "------ Starting epoch: 18 --------\n",
      "Training loss: 0.057208035983689336\n",
      "Training acc: 0.983941912651062\n",
      "------ Starting epoch: 19 --------\n",
      "Training loss: 0.05344051659615563\n",
      "Training acc: 0.9852911829948425\n"
     ]
    }
   ],
   "source": [
    "criterion = nn.CrossEntropyLoss() #엔트로피 로스 조사\n",
    "optimizer = optim.SGD(model.parameters(), lr=0.01)\n",
    "\n",
    "epochs = 20\n",
    "loss_epoch = [] # Loss -> 예측값과 원래 data의 값의 차이 CE\n",
    "acc_epoch = [] # 성공률 추적\n",
    "\n",
    "for e in range(epochs):\n",
    "    print(f\"------ Starting epoch: {e} --------\")\n",
    "    running_loss = 0\n",
    "    running_acc = 0\n",
    "\n",
    "    for images, labels in trainloader: # iterator를 for문으로 돌림.\n",
    "        images = images.reshape(images.shape[0], -1)\n",
    "    \n",
    "        logits = model(images)\n",
    "        loss = criterion(logits, labels)\n",
    "        \n",
    "        optimizer.zero_grad()\n",
    "        loss.backward()\n",
    "        optimizer.step()\n",
    "\n",
    "        running_loss += loss.item()\n",
    "        ps = softmax(logits)\n",
    "        pred = get_pred(ps)\n",
    "        running_acc += torch.sum(pred==labels)/labels.shape[0] \n",
    "        \n",
    "               \n",
    "    acc_epoch.append(running_acc/len(trainloader))    \n",
    "    loss_epoch.append(running_loss/len(trainloader))\n",
    "    print(f\"Training loss: {loss_epoch[e]}\")\n",
    "    print(f\"Training acc: {acc_epoch[e]}\")"
   ]
  },
  {
   "cell_type": "code",
   "execution_count": 289,
   "metadata": {},
   "outputs": [
    {
     "data": {
      "image/png": "[encoded data removed]",
      "text/plain": [
       "<Figure size 432x288 with 1 Axes>"
      ]
     },
     "metadata": {
      "needs_background": "light"
     },
     "output_type": "display_data"
    }
   ],
   "source": [
    "plt.plot(range(epochs), loss_epoch)\n",
    "plt.xlabel('epoch')\n",
    "plt.ylabel('loss')\n",
    "plt.grid()"
   ]
  },
  {
   "cell_type": "code",
   "execution_count": 290,
   "metadata": {},
   "outputs": [
    {
     "data": {
      "image/png": "[encoded data removed]",
      "text/plain": [
       "<Figure size 432x288 with 1 Axes>"
      ]
     },
     "metadata": {
      "needs_background": "light"
     },
     "output_type": "display_data"
    }
   ],
   "source": [
    "plt.plot(range(epochs), acc_epoch)\n",
    "plt.xlabel('epoch')\n",
    "plt.ylabel('accuracy')\n",
    "plt.grid()"
   ]
  },
  {
   "cell_type": "code",
   "execution_count": 291,
   "metadata": {},
   "outputs": [],
   "source": [
    "def view_classify(img, ps, version=\"MNIST\"):\n",
    "    ''' Function for viewing an image and it's predicted classes.\n",
    "    '''\n",
    "    ps = ps.data.numpy().squeeze()\n",
    "\n",
    "    fig, (ax1, ax2) = plt.subplots(figsize=(6,9), ncols=2)\n",
    "    ax1.imshow(img.resize_(1, 28, 28).numpy().squeeze())\n",
    "    ax1.axis('off')\n",
    "    ax2.barh(np.arange(10), ps)\n",
    "    ax2.set_aspect(0.1)\n",
    "    ax2.set_yticks(np.arange(10))\n",
    "    if version == \"MNIST\":\n",
    "        ax2.set_yticklabels(np.arange(10))\n",
    "    elif version == \"Fashion\":\n",
    "        ax2.set_yticklabels(['T-shirt/top',\n",
    "                            'Trouser',\n",
    "                            'Pullover',\n",
    "                            'Dress',\n",
    "                            'Coat',\n",
    "                            'Sandal',\n",
    "                            'Shirt',\n",
    "                            'Sneaker',\n",
    "                            'Bag',\n",
    "                            'Ankle Boot'], size='small');\n",
    "    ax2.set_title('Class Probability')\n",
    "    ax2.set_xlim(0, 1.1)\n",
    "\n",
    "    plt.tight_layout()"
   ]
  },
  {
   "cell_type": "markdown",
   "metadata": {},
   "source": [
    "### 틀릭 예측 발견하기\n",
    "이건 아무리 봐도 6인데.. 2라뇨... 이건 어쩔수 없었다.."
   ]
  },
  {
   "cell_type": "code",
   "execution_count": 373,
   "metadata": {},
   "outputs": [
    {
     "data": {
      "image/png": "[encoded data removed]",
      "text/plain": [
       "<Figure size 432x648 with 2 Axes>"
      ]
     },
     "metadata": {
      "needs_background": "light"
     },
     "output_type": "display_data"
    }
   ],
   "source": [
    "images, labels = next(iter(trainloader))\n",
    "\n",
    "img = images[0].view(1, 784)\n",
    "# Turn off gradients to speed up this part\n",
    "with torch.no_grad():\n",
    "    logps = model(img)\n",
    "\n",
    "# Output of the network are log-probabilities, need to take exponential for probabilities\n",
    "ps = softmax(logps)\n",
    "view_classify(img.view(1, 28, 28), ps)"
   ]
  },
  {
   "cell_type": "code",
   "execution_count": 376,
   "metadata": {},
   "outputs": [
    {
     "data": {
      "text/plain": [
       "tensor(2)"
      ]
     },
     "execution_count": 376,
     "metadata": {},
     "output_type": "execute_result"
    }
   ],
   "source": [
    "labels[0]"
   ]
  },
  {
   "cell_type": "code",
   "execution_count": null,
   "metadata": {},
   "outputs": [],
   "source": []
  }
 ],
 "metadata": {
  "kernelspec": {
   "display_name": "Python 3 (ipykernel)",
   "language": "python",
   "name": "python3"
  },
  "language_info": {
   "codemirror_mode": {
    "name": "ipython",
    "version": 3
   },
   "file_extension": ".py",
   "mimetype": "text/x-python",
   "name": "python",
   "nbconvert_exporter": "python",
   "pygments_lexer": "ipython3",
   "version": "3.9.7"
  }
 },
 "nbformat": 4,
 "nbformat_minor": 4
}
