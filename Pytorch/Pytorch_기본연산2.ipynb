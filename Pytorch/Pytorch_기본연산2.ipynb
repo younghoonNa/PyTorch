{
  "nbformat": 4,
  "nbformat_minor": 0,
  "metadata": {
    "colab": {
      "name": "Pytorch_기본연산2.ipynb",
      "provenance": [],
      "authorship_tag": "ABX9TyOeL9miGyN+nF4WyMWU5aHc",
      "include_colab_link": true
    },
    "kernelspec": {
      "name": "python3",
      "display_name": "Python 3"
    },
    "language_info": {
      "name": "python"
    }
  },
  "cells": [
    {
      "cell_type": "markdown",
      "metadata": {
        "id": "view-in-github",
        "colab_type": "text"
      },
      "source": [
        "<a href=\"https://colab.research.google.com/github/younghoonNa/PyTorch/blob/main/Pytorch/Pytorch_%EA%B8%B0%EB%B3%B8%EC%97%B0%EC%82%B02.ipynb\" target=\"_parent\"><img src=\"https://colab.research.google.com/assets/colab-badge.svg\" alt=\"Open In Colab\"/></a>"
      ]
    },
    {
      "cell_type": "code",
      "execution_count": 1,
      "metadata": {
        "id": "EAWCOa6Y9czK"
      },
      "outputs": [],
      "source": [
        "import numpy as np\n",
        "import torch"
      ]
    },
    {
      "cell_type": "markdown",
      "source": [
        "## View (numpy에서 reshape)"
      ],
      "metadata": {
        "id": "5zYjiuvXAe_w"
      }
    },
    {
      "cell_type": "code",
      "source": [
        "t = np.array([[[0,1,2] , \n",
        "               [3,4,5]] ,\n",
        "              \n",
        "              [[6,7,8],\n",
        "              [9,10,11]]])\n",
        "\n",
        "ft = torch.Tensor(t)\n",
        "print(ft)\n",
        "print(ft.shape)"
      ],
      "metadata": {
        "colab": {
          "base_uri": "https://localhost:8080/"
        },
        "id": "CsDekCtL-_m7",
        "outputId": "1ab377d4-a486-4a9d-da05-efc556f878a9"
      },
      "execution_count": 3,
      "outputs": [
        {
          "output_type": "stream",
          "name": "stdout",
          "text": [
            "tensor([[[ 0.,  1.,  2.],\n",
            "         [ 3.,  4.,  5.]],\n",
            "\n",
            "        [[ 6.,  7.,  8.],\n",
            "         [ 9., 10., 11.]]])\n",
            "torch.Size([2, 2, 3])\n"
          ]
        }
      ]
    },
    {
      "cell_type": "code",
      "source": [
        "# view -> np에서 reshape() 와 같음.\n",
        "print(ft.view([-1,3]))\n",
        "print(ft.view([-1,3]).shape)"
      ],
      "metadata": {
        "colab": {
          "base_uri": "https://localhost:8080/"
        },
        "id": "lnJ0Tyrb_Uss",
        "outputId": "c2d1a299-00e3-4da8-d291-32f4087ae237"
      },
      "execution_count": 4,
      "outputs": [
        {
          "output_type": "stream",
          "name": "stdout",
          "text": [
            "tensor([[ 0.,  1.,  2.],\n",
            "        [ 3.,  4.,  5.],\n",
            "        [ 6.,  7.,  8.],\n",
            "        [ 9., 10., 11.]])\n",
            "torch.Size([4, 3])\n"
          ]
        }
      ]
    },
    {
      "cell_type": "code",
      "source": [
        "print(ft.view([-1,1,3]))\n",
        "print(ft.view([-1,1,3]).shape)"
      ],
      "metadata": {
        "colab": {
          "base_uri": "https://localhost:8080/"
        },
        "id": "mfQ2_yav_ft9",
        "outputId": "eef0e2a9-75e3-4be3-8457-4a6ed761ded6"
      },
      "execution_count": 5,
      "outputs": [
        {
          "output_type": "stream",
          "name": "stdout",
          "text": [
            "tensor([[[ 0.,  1.,  2.]],\n",
            "\n",
            "        [[ 3.,  4.,  5.]],\n",
            "\n",
            "        [[ 6.,  7.,  8.]],\n",
            "\n",
            "        [[ 9., 10., 11.]]])\n",
            "torch.Size([4, 1, 3])\n"
          ]
        }
      ]
    },
    {
      "cell_type": "markdown",
      "source": [
        "## Squeeze"
      ],
      "metadata": {
        "id": "cdkk6_GGAMD7"
      }
    },
    {
      "cell_type": "code",
      "source": [
        "ft = torch.Tensor([[0], [1], [2]])\n",
        "print(ft)\n",
        "print(ft.shape)"
      ],
      "metadata": {
        "colab": {
          "base_uri": "https://localhost:8080/"
        },
        "id": "o4ouyE7n_mwp",
        "outputId": "fd52d206-8616-4e20-cb61-a38e171a233f"
      },
      "execution_count": 7,
      "outputs": [
        {
          "output_type": "stream",
          "name": "stdout",
          "text": [
            "tensor([[0.],\n",
            "        [1.],\n",
            "        [2.]])\n",
            "torch.Size([3, 1])\n"
          ]
        }
      ]
    },
    {
      "cell_type": "code",
      "source": [
        "print(ft.squeeze())\n",
        "print(ft.squeeze().shape)"
      ],
      "metadata": {
        "colab": {
          "base_uri": "https://localhost:8080/"
        },
        "id": "9YbrGRQlATD1",
        "outputId": "a0f3ec77-278c-4034-da4c-c9bfcc5c3cf2"
      },
      "execution_count": 8,
      "outputs": [
        {
          "output_type": "stream",
          "name": "stdout",
          "text": [
            "tensor([0., 1., 2.])\n",
            "torch.Size([3])\n"
          ]
        }
      ]
    },
    {
      "cell_type": "code",
      "source": [
        "# squeeze(dim = ? ) -> 해당 dim에 해당하는 열이 0 일경우 삭제를 진행함. if dim=3 인 경우 삭제 안하구 그냥 넘어감."
      ],
      "metadata": {
        "id": "Of6YOTzUAa9d"
      },
      "execution_count": 9,
      "outputs": []
    },
    {
      "cell_type": "markdown",
      "source": [
        "## Unsqueeze"
      ],
      "metadata": {
        "id": "ykzuPhDQA6k6"
      }
    },
    {
      "cell_type": "code",
      "source": [
        "ft = torch.Tensor([0,1,2])\n",
        "print(ft.shape)"
      ],
      "metadata": {
        "colab": {
          "base_uri": "https://localhost:8080/"
        },
        "id": "QqZP-d9EA6Zt",
        "outputId": "df2c2971-0887-4f9b-ca5b-5fd7ad88b95d"
      },
      "execution_count": 10,
      "outputs": [
        {
          "output_type": "stream",
          "name": "stdout",
          "text": [
            "torch.Size([3])\n"
          ]
        }
      ]
    },
    {
      "cell_type": "code",
      "source": [
        "print(ft.unsqueeze(0))\n",
        "print(ft.unsqueeze(0).shape)\n",
        "\n",
        "#unsqueeze(0) 일 경우 0번 째 인덱스인 행에 대하여  //  dim = 0 과 같음 , squeeze(1)은 dim(1) 과 같다.\n",
        "print(\"=================\")\n",
        "#unsqueeze(1) 일 경우 1번 째 인덱스인 열에 대하여 차원 증가.\n",
        "\n",
        "print(ft.unsqueeze(1))\n",
        "print(ft.unsqueeze(1).shape)"
      ],
      "metadata": {
        "colab": {
          "base_uri": "https://localhost:8080/"
        },
        "id": "CBSyUCt5A546",
        "outputId": "be78c216-1f23-4942-ea40-91d3603571fe"
      },
      "execution_count": 17,
      "outputs": [
        {
          "output_type": "stream",
          "name": "stdout",
          "text": [
            "tensor([[0., 1., 2.]])\n",
            "torch.Size([1, 3])\n",
            "=================\n",
            "tensor([[0.],\n",
            "        [1.],\n",
            "        [2.]])\n",
            "torch.Size([3, 1])\n"
          ]
        }
      ]
    },
    {
      "cell_type": "code",
      "source": [
        "print(ft.view(1,-1))\n",
        "print(ft.view(1,-1).shape)"
      ],
      "metadata": {
        "colab": {
          "base_uri": "https://localhost:8080/"
        },
        "id": "OOLDgMgmBGP6",
        "outputId": "d0c629d4-bc61-4b34-d816-efcba7ad9b9c"
      },
      "execution_count": 19,
      "outputs": [
        {
          "output_type": "stream",
          "name": "stdout",
          "text": [
            "tensor([[0., 1., 2.]])\n",
            "torch.Size([1, 3])\n"
          ]
        }
      ]
    },
    {
      "cell_type": "code",
      "source": [
        "print(ft.unsqueeze(1))\n",
        "print(ft.unsqueeze(1).shape)"
      ],
      "metadata": {
        "colab": {
          "base_uri": "https://localhost:8080/"
        },
        "id": "3vAQJR7kBgto",
        "outputId": "980fcaf3-121e-4cb0-8258-6d83df0af30d"
      },
      "execution_count": 20,
      "outputs": [
        {
          "output_type": "stream",
          "name": "stdout",
          "text": [
            "tensor([[0.],\n",
            "        [1.],\n",
            "        [2.]])\n",
            "torch.Size([3, 1])\n"
          ]
        }
      ]
    },
    {
      "cell_type": "code",
      "source": [
        "print(ft.unsqueeze(-1))\n",
        "print(ft.unsqueeze(-1).shape)\n",
        "# dim = -1 일 경우 -> 마지막 dimension에 대해서"
      ],
      "metadata": {
        "colab": {
          "base_uri": "https://localhost:8080/"
        },
        "id": "V-hkCEyYBp3n",
        "outputId": "7ad379eb-60eb-44c7-bbf6-24867a1553eb"
      },
      "execution_count": 22,
      "outputs": [
        {
          "output_type": "stream",
          "name": "stdout",
          "text": [
            "tensor([[0.],\n",
            "        [1.],\n",
            "        [2.]])\n",
            "torch.Size([3, 1])\n"
          ]
        }
      ]
    },
    {
      "cell_type": "markdown",
      "source": [
        "## Type Casting"
      ],
      "metadata": {
        "id": "ykRkehfTCTNH"
      }
    },
    {
      "cell_type": "code",
      "source": [
        "lt = torch.LongTensor([1,2,3,4])\n",
        "print(lt)"
      ],
      "metadata": {
        "colab": {
          "base_uri": "https://localhost:8080/"
        },
        "id": "PlpxSjNOBuqk",
        "outputId": "99ddd213-200a-4fc9-ec9b-ec3c24b87f5a"
      },
      "execution_count": 23,
      "outputs": [
        {
          "output_type": "stream",
          "name": "stdout",
          "text": [
            "tensor([1, 2, 3, 4])\n"
          ]
        }
      ]
    },
    {
      "cell_type": "code",
      "source": [
        "print(lt.float())"
      ],
      "metadata": {
        "colab": {
          "base_uri": "https://localhost:8080/"
        },
        "id": "V11ZUMRDCY31",
        "outputId": "03de8cec-a39b-47a8-d1f2-9b1d9dac0f9f"
      },
      "execution_count": 24,
      "outputs": [
        {
          "output_type": "stream",
          "name": "stdout",
          "text": [
            "tensor([1., 2., 3., 4.])\n"
          ]
        }
      ]
    },
    {
      "cell_type": "code",
      "source": [
        "bt = torch.ByteTensor([True, False, False, True])\n",
        "print(bt)"
      ],
      "metadata": {
        "colab": {
          "base_uri": "https://localhost:8080/"
        },
        "id": "rhPaNSY0CaG6",
        "outputId": "ceb05f16-fe28-409d-dddd-67e9b706ea40"
      },
      "execution_count": 25,
      "outputs": [
        {
          "output_type": "stream",
          "name": "stdout",
          "text": [
            "tensor([1, 0, 0, 1], dtype=torch.uint8)\n"
          ]
        }
      ]
    },
    {
      "cell_type": "code",
      "source": [
        "print(bt.long())\n",
        "print(bt.float())"
      ],
      "metadata": {
        "colab": {
          "base_uri": "https://localhost:8080/"
        },
        "id": "E9tJFF0GCfct",
        "outputId": "cbaa995c-4218-4890-b802-ecfe40605d99"
      },
      "execution_count": 27,
      "outputs": [
        {
          "output_type": "stream",
          "name": "stdout",
          "text": [
            "tensor([1, 0, 0, 1])\n",
            "tensor([1., 0., 0., 1.])\n"
          ]
        }
      ]
    },
    {
      "cell_type": "markdown",
      "source": [
        "## Concatenate"
      ],
      "metadata": {
        "id": "DZ_TNVd1CvfV"
      }
    },
    {
      "cell_type": "code",
      "source": [
        "x = torch.Tensor([[1,2], [3,4]])\n",
        "y = torch.Tensor([[5,6], [7,8]])"
      ],
      "metadata": {
        "id": "0unVi5FLChz-"
      },
      "execution_count": 28,
      "outputs": []
    },
    {
      "cell_type": "code",
      "source": [
        "print(torch.cat([x,y], dim=0)) # dim = 0일 경우 행으로 늘림 밑으로 = 이렇게 \n",
        "print(torch.cat([x,y], dim=1)) # dim = 1일 경우 열으로 늘림.  ||| 이렇게"
      ],
      "metadata": {
        "colab": {
          "base_uri": "https://localhost:8080/"
        },
        "id": "VZMEWjWXCzzx",
        "outputId": "30e1ca02-a311-414f-e5f6-88c242ffbda5"
      },
      "execution_count": 30,
      "outputs": [
        {
          "output_type": "stream",
          "name": "stdout",
          "text": [
            "tensor([[1., 2.],\n",
            "        [3., 4.],\n",
            "        [5., 6.],\n",
            "        [7., 8.]])\n",
            "tensor([[1., 2., 5., 6.],\n",
            "        [3., 4., 7., 8.]])\n"
          ]
        }
      ]
    },
    {
      "cell_type": "markdown",
      "source": [
        "## Stacking -> Concatenate를 더 편리하게"
      ],
      "metadata": {
        "id": "nRqo0IEhDcle"
      }
    },
    {
      "cell_type": "code",
      "source": [
        "x = torch.Tensor([1,4])\n",
        "y = torch.Tensor([2,5])\n",
        "z = torch.Tensor([3,6])"
      ],
      "metadata": {
        "id": "Qbp-F2j5CzoH"
      },
      "execution_count": 31,
      "outputs": []
    },
    {
      "cell_type": "code",
      "source": [
        "print(torch.stack([x,y,z])) #default는 dim = 0 즉 밑으로 쌓음\n",
        "print(torch.stack([x,y,z], dim = 1)) #dim = 1 선언하게 되면 옆으로 쌓음."
      ],
      "metadata": {
        "colab": {
          "base_uri": "https://localhost:8080/"
        },
        "id": "DXNaoWJGDl0w",
        "outputId": "3731e764-c5ab-4b2b-9239-065a8791af0b"
      },
      "execution_count": 32,
      "outputs": [
        {
          "output_type": "stream",
          "name": "stdout",
          "text": [
            "tensor([[1., 4.],\n",
            "        [2., 5.],\n",
            "        [3., 6.]])\n",
            "tensor([[1., 2., 3.],\n",
            "        [4., 5., 6.]])\n"
          ]
        }
      ]
    },
    {
      "cell_type": "code",
      "source": [
        "print(torch.cat([x.unsqueeze(0), y.unsqueeze(0), z.unsqueeze(0)], dim = 0))"
      ],
      "metadata": {
        "colab": {
          "base_uri": "https://localhost:8080/"
        },
        "id": "Bk_i64iNDrUd",
        "outputId": "350465fa-080f-40ce-cdba-1bf6a70f08ed"
      },
      "execution_count": 33,
      "outputs": [
        {
          "output_type": "stream",
          "name": "stdout",
          "text": [
            "tensor([[1., 4.],\n",
            "        [2., 5.],\n",
            "        [3., 6.]])\n"
          ]
        }
      ]
    },
    {
      "cell_type": "code",
      "source": [
        "print(torch.cat([x,y,z]))"
      ],
      "metadata": {
        "colab": {
          "base_uri": "https://localhost:8080/"
        },
        "id": "6yVWwoiBDyxo",
        "outputId": "413a40e7-f7bb-4e0d-9c76-2d024d65a6d9"
      },
      "execution_count": 38,
      "outputs": [
        {
          "output_type": "stream",
          "name": "stdout",
          "text": [
            "tensor([1., 4., 2., 5., 3., 6.])\n"
          ]
        }
      ]
    },
    {
      "cell_type": "markdown",
      "source": [
        "## Ones and Zeros"
      ],
      "metadata": {
        "id": "KO1j4xYsE8CB"
      }
    },
    {
      "cell_type": "code",
      "source": [
        "x = torch.Tensor([[0,1,2], [2,1,0]])\n",
        "print(x)"
      ],
      "metadata": {
        "colab": {
          "base_uri": "https://localhost:8080/"
        },
        "id": "sxZtCU42EFJ2",
        "outputId": "992bbe35-f30f-44bb-a973-3dc3cb318919"
      },
      "execution_count": 40,
      "outputs": [
        {
          "output_type": "stream",
          "name": "stdout",
          "text": [
            "tensor([[0., 1., 2.],\n",
            "        [2., 1., 0.]])\n"
          ]
        }
      ]
    },
    {
      "cell_type": "code",
      "source": [
        "print(torch.ones_like(x))\n",
        "print(torch.zeros_like(x))\n",
        "\n",
        "# device에도 똑같이 적용. \n",
        "#즉 cpu에서 텐서를 만들고 gpu의 텐서와 병합을 할 때 오류가 발생하는데\n",
        "# ones/zeros를 사용할 경우 같은 device에 선언해줌."
      ],
      "metadata": {
        "colab": {
          "base_uri": "https://localhost:8080/"
        },
        "id": "D21s-F-AFCsL",
        "outputId": "86e849d7-d811-4a0b-b996-e20136c39465"
      },
      "execution_count": 41,
      "outputs": [
        {
          "output_type": "stream",
          "name": "stdout",
          "text": [
            "tensor([[1., 1., 1.],\n",
            "        [1., 1., 1.]])\n",
            "tensor([[0., 0., 0.],\n",
            "        [0., 0., 0.]])\n"
          ]
        }
      ]
    },
    {
      "cell_type": "markdown",
      "source": [
        "## Inplace Operation\n",
        "- mul_ , add_ 등 과 같이 `_`  을 붙일 경우 대체 가능.\n",
        "- but Pytorch의 Garbage Collector가 매우 잘 구현되어 있어 성능상의 차이는 별로 없다고 함."
      ],
      "metadata": {
        "id": "tV0r6ajMFczl"
      }
    },
    {
      "cell_type": "code",
      "source": [
        "x = torch.Tensor([[1,2], [3,4]])\n",
        "print(\"x * 2\")\n",
        "print(x.mul(2.))\n",
        "print(\"X is ?? : \")\n",
        "print(x)\n",
        "print(\"x * 2\")\n",
        "print(x.mul_(2.))\n",
        "print(\"x is changed\")\n",
        "print(x)"
      ],
      "metadata": {
        "colab": {
          "base_uri": "https://localhost:8080/"
        },
        "id": "wuNVjk3pFIWH",
        "outputId": "49c73985-5ce2-4eaa-c9f0-9e32080a1630"
      },
      "execution_count": 44,
      "outputs": [
        {
          "output_type": "stream",
          "name": "stdout",
          "text": [
            "x * 2\n",
            "tensor([[2., 4.],\n",
            "        [6., 8.]])\n",
            "X is ?? : \n",
            "tensor([[1., 2.],\n",
            "        [3., 4.]])\n",
            "x * 2\n",
            "tensor([[2., 4.],\n",
            "        [6., 8.]])\n",
            "x is changed\n",
            "tensor([[2., 4.],\n",
            "        [6., 8.]])\n"
          ]
        }
      ]
    }
  ]
}