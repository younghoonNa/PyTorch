{
  "nbformat": 4,
  "nbformat_minor": 0,
  "metadata": {
    "colab": {
      "name": "_10 파이토치 신경망 생성.ipynb의 사본",
      "provenance": [],
      "collapsed_sections": []
    },
    "kernelspec": {
      "name": "python3",
      "display_name": "Python 3"
    }
  },
  "cells": [
    {
      "cell_type": "markdown",
      "metadata": {
        "id": "cNIhNfg44knT"
      },
      "source": [
        "# 신경망 생성\n",
        "- `torch.nn` 패키지 사용\n",
        "\n",
        "- `nn.Module`을 상속받고, 해당 모듈은 계층과 `output`을 반환하는 `forward`메소드를 포함\n",
        "\n",
        "- 파이토치에서 신경망 생성을 위한 기본 틀\n",
        "\n",
        "-> 상속을 했기 때문에 초기화. 필요.\n",
        "\n",
        "      1. class Net(nn.Module):\n",
        "\n",
        "           def __init__(self):\n",
        "               super(Net, self).__init__()\n",
        "\n",
        "      2. class MyModel(nn.Module):\n",
        "\n",
        "            def __init__(self):\n",
        "                super(MyModel, self).__init__()\n",
        "\n",
        "- `conv2d` 레이어를 쌓을 때, 필터의 갯수를 계산하고 `in_channels`에 넣어줘야함\n",
        "\n",
        "        "
      ]
    },
    {
      "cell_type": "markdown",
      "metadata": {
        "id": "vVP0IKPG5XCl"
      },
      "source": [
        "## 신경망 정의"
      ]
    },
    {
      "cell_type": "code",
      "metadata": {
        "id": "EtObfSjK4gzu"
      },
      "source": [
        "import torch\n",
        "import torch.nn as nn\n",
        "import torch.nn.functional as F"
      ],
      "execution_count": 13,
      "outputs": []
    },
    {
      "cell_type": "code",
      "metadata": {
        "id": "TrkSO0qj5aWu",
        "colab": {
          "base_uri": "https://localhost:8080/"
        },
        "outputId": "afa8ca81-9660-452b-91f2-17e210140f44"
      },
      "source": [
        "class Net(nn.Module):\n",
        "  ##nn에 모듈을 상속 받은 후 초기화 까지\n",
        "  def __init__(self):\n",
        "    super (Net, self).__init__()\n",
        "\n",
        "    self.conv1 = nn.Conv2d(1,6,3)\n",
        "    self.conv2 = nn.Conv2d(6,16,3)\n",
        "    self.fc1 = nn.Linear(16 * 6 * 6, 120) # 6*6은 이미지 16은 위의 층의 크기\n",
        "    self.fc2 = nn.Linear(120,84) # 이거는 크기 줄이기\n",
        "    self.fc3 = nn.Linear(84,10) # 이거도 크기 줄이기. -> 최종 output 은 10\n",
        "\n",
        "  def forward(self, x):\n",
        "    x = F.max_pool2d(F.relu(self.conv1(x)), (2,2))\n",
        "    x = F.max_pool2d(F.relu(self.conv2(x)), 2)\n",
        "    x = x.view(-1, self.num_flat_features(x))\n",
        "    x = F.relu(self.fc1(x))\n",
        "    x = F.relu(self.fc2(x))\n",
        "    x = self.fc3(x)\n",
        "    return x\n",
        "\n",
        "  def num_flat_features(self , x):\n",
        "    size = x.size()[1:]\n",
        "    num_features = 1\n",
        "    for s in size:\n",
        "      num_features *= s\n",
        "\n",
        "    return num_features\n",
        "\n",
        "net = Net()\n",
        "print(net)\n"
      ],
      "execution_count": 18,
      "outputs": [
        {
          "output_type": "stream",
          "name": "stdout",
          "text": [
            "Net(\n",
            "  (conv1): Conv2d(1, 6, kernel_size=(3, 3), stride=(1, 1))\n",
            "  (conv2): Conv2d(6, 16, kernel_size=(3, 3), stride=(1, 1))\n",
            "  (fc1): Linear(in_features=576, out_features=120, bias=True)\n",
            "  (fc2): Linear(in_features=120, out_features=84, bias=True)\n",
            "  (fc3): Linear(in_features=84, out_features=10, bias=True)\n",
            ")\n"
          ]
        }
      ]
    },
    {
      "cell_type": "markdown",
      "metadata": {
        "id": "D_pSqGTjN4Ey"
      },
      "source": [
        "# 선형회귀(Linear Regression) 모델 생성\n",
        "- 코드 출처 : https://yceffort.kr/2019/02/19/pytorch-02-linear-regression/"
      ]
    },
    {
      "cell_type": "markdown",
      "metadata": {
        "id": "yFV6Qz3wSqOY"
      },
      "source": [
        "## modules import"
      ]
    },
    {
      "cell_type": "code",
      "metadata": {
        "id": "9Pp_ZXMgN48N"
      },
      "source": [
        "import torch\n",
        "import torch.nn as nn\n",
        "import torch.optim as optim\n",
        "\n",
        "import numpy as np\n",
        "import matplotlib.pyplot as plt\n",
        "plt.style.use('seaborn-white')"
      ],
      "execution_count": 19,
      "outputs": []
    },
    {
      "cell_type": "markdown",
      "metadata": {
        "id": "JApiW41-TQbA"
      },
      "source": [
        "## 데이터 생성 및 회귀식 설정"
      ]
    },
    {
      "cell_type": "code",
      "metadata": {
        "id": "DReJzgyCXGxq",
        "colab": {
          "base_uri": "https://localhost:8080/",
          "height": 280
        },
        "outputId": "a691be02-b34d-414a-8164-737e52675c1e"
      },
      "source": [
        "X = torch.randn(100, 1)*10\n",
        "Y = X+3 * torch.randn(100,1)\n",
        "\n",
        "plt.plot(X.numpy(), Y.numpy() , 'o')"
      ],
      "execution_count": 20,
      "outputs": [
        {
          "output_type": "execute_result",
          "data": {
            "text/plain": [
              "[<matplotlib.lines.Line2D at 0x7feef3341e50>]"
            ]
          },
          "metadata": {},
          "execution_count": 20
        },
        {
          "output_type": "display_data",
          "data": {
            "image/png": "[encoded data removed]",
            "text/plain": [
              "<Figure size 432x288 with 1 Axes>"
            ]
          },
          "metadata": {}
        }
      ]
    },
    {
      "cell_type": "markdown",
      "metadata": {
        "id": "GaEsvoUHSM9p"
      },
      "source": [
        "## 신경망 구성"
      ]
    },
    {
      "cell_type": "code",
      "metadata": {
        "id": "v8K_nLImN43l"
      },
      "source": [
        "class LinearRegressionModel(nn.Module):\n",
        "  def __init__(self):\n",
        "    super(LinearRegressionModel, self).__init__()\n",
        "    self.linear = nn.Linear(1,1)\n",
        "\n",
        "  def forward(self, x):\n",
        "    pred = self.linear(x)\n",
        "    return pred"
      ],
      "execution_count": 22,
      "outputs": []
    },
    {
      "cell_type": "markdown",
      "metadata": {
        "id": "gWHJoDoOSPKD"
      },
      "source": [
        "## 모델 생성 및 파라미터 확인"
      ]
    },
    {
      "cell_type": "code",
      "metadata": {
        "id": "lFWWRmfkN405",
        "colab": {
          "base_uri": "https://localhost:8080/"
        },
        "outputId": "22aa5c37-f369-4fa4-cade-3aee9d5e00de"
      },
      "source": [
        "torch.manual_seed(111)\n",
        "model = LinearRegressionModel()\n",
        "print(model)"
      ],
      "execution_count": 23,
      "outputs": [
        {
          "output_type": "stream",
          "name": "stdout",
          "text": [
            "LinearRegressionModel(\n",
            "  (linear): Linear(in_features=1, out_features=1, bias=True)\n",
            ")\n"
          ]
        }
      ]
    },
    {
      "cell_type": "code",
      "metadata": {
        "id": "-7vBaKDhQWGO",
        "colab": {
          "base_uri": "https://localhost:8080/"
        },
        "outputId": "1d725539-bc00-46a9-8bd4-065da5cc1be6"
      },
      "source": [
        "print(list(model.parameters()))"
      ],
      "execution_count": 26,
      "outputs": [
        {
          "output_type": "stream",
          "name": "stdout",
          "text": [
            "[Parameter containing:\n",
            "tensor([[0.4311]], requires_grad=True), Parameter containing:\n",
            "tensor([0.8280], requires_grad=True)]\n"
          ]
        }
      ]
    },
    {
      "cell_type": "code",
      "metadata": {
        "id": "wpvOJTwXPaqg",
        "colab": {
          "base_uri": "https://localhost:8080/",
          "height": 262
        },
        "outputId": "fc8f0339-3098-495f-85a8-fae923fd28ae"
      },
      "source": [
        "w, b = model.parameters()\n",
        "\n",
        "def get_params():\n",
        "  #weight 와 bios 값 가져오기.\n",
        "  return w[0][0].item(), b[0].item()\n",
        "\n",
        "\n",
        "def plot_fit(title):\n",
        "  plt.title = title\n",
        "  w1, b1 = get_params()\n",
        "  x1 = np.array([-30, 30])\n",
        "  y1 = w1 * x1 + b1\n",
        "  plt.plot(x1,y1, 'r')\n",
        "  plt.scatter(X,Y)\n",
        "  plt.show()\n",
        "\n",
        "plot_fit(\"Inital Model\")"
      ],
      "execution_count": 30,
      "outputs": [
        {
          "output_type": "display_data",
          "data": {
            "image/png": "[encoded data removed]",
            "text/plain": [
              "<Figure size 432x288 with 1 Axes>"
            ]
          },
          "metadata": {}
        }
      ]
    },
    {
      "cell_type": "markdown",
      "metadata": {
        "id": "Z9H7zLFWSGhX"
      },
      "source": [
        "## 손실함수와 옵티마이저"
      ]
    },
    {
      "cell_type": "code",
      "metadata": {
        "id": "iW4WHvMOPgtX"
      },
      "source": [
        "criterion = nn.MSELoss()\n",
        "optimizer = optim.SGD(model.parameters() , lr = 0.001)"
      ],
      "execution_count": 33,
      "outputs": []
    },
    {
      "cell_type": "markdown",
      "metadata": {
        "id": "ogojTAwDSRrW"
      },
      "source": [
        "## 모델 학습"
      ]
    },
    {
      "cell_type": "code",
      "metadata": {
        "id": "UkDTmErfQdiU",
        "colab": {
          "base_uri": "https://localhost:8080/"
        },
        "outputId": "477ca1e8-4311-4929-c589-b2731fa852e9"
      },
      "source": [
        "epochs = 100\n",
        "losses = []\n",
        "\n",
        "for epoch in range (epochs):\n",
        "  optimizer.zero_grad()\n",
        "\n",
        "  y_pred = model(Y)\n",
        "  loss = criterion(y_pred, Y)\n",
        "  losses.append(loss)\n",
        "  loss.backward()\n",
        "\n",
        "  optimizer.step()\n",
        "\n",
        "  if epoch % 10 == 0:\n",
        "    print(\"Epoch : {:3d}\\tloss:{:.4f}\".format(epoch+1, loss))"
      ],
      "execution_count": 34,
      "outputs": [
        {
          "output_type": "stream",
          "name": "stdout",
          "text": [
            "Epoch :   1\tloss:42.0200\n",
            "Epoch :  11\tloss:0.7755\n",
            "Epoch :  21\tloss:0.6297\n",
            "Epoch :  31\tloss:0.6046\n",
            "Epoch :  41\tloss:0.5809\n",
            "Epoch :  51\tloss:0.5582\n",
            "Epoch :  61\tloss:0.5363\n",
            "Epoch :  71\tloss:0.5153\n",
            "Epoch :  81\tloss:0.4951\n",
            "Epoch :  91\tloss:0.4757\n"
          ]
        }
      ]
    },
    {
      "cell_type": "markdown",
      "metadata": {
        "id": "1aYA45MxSeux"
      },
      "source": [
        "## 시각화"
      ]
    },
    {
      "cell_type": "code",
      "metadata": {
        "id": "2tihOUtGQdl0",
        "colab": {
          "base_uri": "https://localhost:8080/",
          "height": 294
        },
        "outputId": "23b903da-6aa4-4d77-cf08-b18394f0b1bc"
      },
      "source": [
        "plt.plot(range(epochs), losses)\n",
        "plt.ylabel('Loss')\n",
        "plt.xlabel(\"Epoch\")"
      ],
      "execution_count": 35,
      "outputs": [
        {
          "output_type": "execute_result",
          "data": {
            "text/plain": [
              "Text(0.5, 0, 'Epoch')"
            ]
          },
          "metadata": {},
          "execution_count": 35
        },
        {
          "output_type": "display_data",
          "data": {
            "image/png": "[encoded data removed]",
            "text/plain": [
              "<Figure size 432x288 with 1 Axes>"
            ]
          },
          "metadata": {}
        }
      ]
    },
    {
      "cell_type": "code",
      "metadata": {
        "id": "8TofKjJDQdx7",
        "colab": {
          "base_uri": "https://localhost:8080/",
          "height": 262
        },
        "outputId": "cfa83055-9375-4ffa-e54a-a5bdf5f71a41"
      },
      "source": [
        "plot_fit(\"Trained Mdel\")"
      ],
      "execution_count": 36,
      "outputs": [
        {
          "output_type": "display_data",
          "data": {
            "image/png": "[encoded data removed]",
            "text/plain": [
              "<Figure size 432x288 with 1 Axes>"
            ]
          },
          "metadata": {}
        }
      ]
    },
    {
      "cell_type": "code",
      "source": [
        ""
      ],
      "metadata": {
        "id": "yyd2o0PI1YkX"
      },
      "execution_count": null,
      "outputs": []
    }
  ]
}